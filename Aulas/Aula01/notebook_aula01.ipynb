{
 "cells": [
  {
   "cell_type": "markdown",
   "metadata": {
    "id": "TCltJbrPWtqT"
   },
   "source": [
    "# Disciplina: Ciência de Dados (DCA-0131)\n",
    "Prof. Luiz Affonso Guedes\n",
    "\n",
    "Departamento de Engenharia de Computação e Automação - DCA\n",
    "\n",
    "UFRN -  2025\n",
    "\n",
    "*OBS: Favor fazer cópia do notebook antes de alterá-lo."
   ]
  },
  {
   "cell_type": "markdown",
   "metadata": {
    "id": "8aBKG2iUWtqa"
   },
   "source": [
    "# Aula 1- Introdução à Linguagem Python\n",
    "\n",
    "Objetivo: apresentação das funcionalidades básicas da linguagem Python\n",
    "\n",
    "\n",
    "Conteúdo:\n",
    "- Caracterização da Linguagem Python\n",
    "- Vantagens\n",
    "- Entrada e saída de dados\n",
    "- Variáveis básicas\n",
    "- Cálculos básicos\n",
    "- Variável tipo lista\n",
    "- Funções e Classes\n",
    "- Importação de pacotes"
   ]
  },
  {
   "cell_type": "markdown",
   "metadata": {
    "id": "ZwGg2YRmWtqc"
   },
   "source": [
    "- Python é uma linguagem de propósito geral - às vezes referida como utilitária - que é projetada para ser simples de ler e escrever. O seu objetivo é ser uma linguagem simples, porém completa.\n",
    "- É uma linguagem interpretada não tipada.\n",
    "- É uma liguagem estruturada, mas possui suporte a orientação a objetos.\n"
   ]
  },
  {
   "cell_type": "markdown",
   "metadata": {
    "id": "8yf95fqwWtqe"
   },
   "source": [
    "Uma introdução aos conceitos básicos de Python. Saiba como usar o Python de forma interativa e através de um script. Crie suas primeiras variáveis e familiarize-se com os tipos básicos de dados do Python."
   ]
  },
  {
   "cell_type": "markdown",
   "metadata": {
    "id": "bvJ3kBLoO0jt"
   },
   "source": [
    "## Entrada e Saída de Dados em Python\n",
    "\n",
    "print (......)\n",
    "\n",
    "input()\n"
   ]
  },
  {
   "cell_type": "code",
   "metadata": {
    "colab": {
     "base_uri": "https://localhost:8080/"
    },
    "executionInfo": {
     "elapsed": 1007,
     "status": "ok",
     "timestamp": 1611664223807,
     "user": {
      "displayName": "Luiz Affonso H Guedes de Oliveira",
      "photoUrl": "https://lh3.googleusercontent.com/a-/AOh14Gi-j_30n-0eRqio7t2hV7W6QYvDnHPAS4QDlpjBzg=s64",
      "userId": "10475189423049571002"
     },
     "user_tz": 180
    },
    "id": "93GQJAx1Wtqg",
    "outputId": "43d8fb8c-963e-4424-d11d-5a5f891b45af",
    "ExecuteTime": {
     "end_time": "2025-04-02T18:18:35.223407Z",
     "start_time": "2025-04-02T18:18:35.219125Z"
    }
   },
   "source": [
    "# Comentário em Python\n",
    "# Imprimir mensagem em Python\n",
    "print(\"Alô, mundo! Estou aqui\")"
   ],
   "outputs": [
    {
     "name": "stdout",
     "output_type": "stream",
     "text": [
      "Alô, mundo! Estou aqui\n"
     ]
    }
   ],
   "execution_count": 38
  },
  {
   "cell_type": "code",
   "metadata": {
    "colab": {
     "base_uri": "https://localhost:8080/"
    },
    "executionInfo": {
     "elapsed": 959,
     "status": "ok",
     "timestamp": 1611664227270,
     "user": {
      "displayName": "Luiz Affonso H Guedes de Oliveira",
      "photoUrl": "https://lh3.googleusercontent.com/a-/AOh14Gi-j_30n-0eRqio7t2hV7W6QYvDnHPAS4QDlpjBzg=s64",
      "userId": "10475189423049571002"
     },
     "user_tz": 180
    },
    "id": "aBytQrmlFdRZ",
    "outputId": "1d69da57-4ee2-4ba9-9722-f8fca01d5aea",
    "ExecuteTime": {
     "end_time": "2025-04-02T18:18:35.281631Z",
     "start_time": "2025-04-02T18:18:35.278360Z"
    }
   },
   "source": [
    "print(\"Quem é esta aluna que acabou de chegar?\")\n",
    "print(\"É a Juliana.\")"
   ],
   "outputs": [
    {
     "name": "stdout",
     "output_type": "stream",
     "text": [
      "Quem é esta aluna que acabou de chegar?\n",
      "É a Juliana.\n"
     ]
    }
   ],
   "execution_count": 39
  },
  {
   "cell_type": "markdown",
   "metadata": {
    "id": "xNas9M98P0AK"
   },
   "source": [
    "### Crie um programa que:\n",
    "- pegunte o nome da pessoa e sua profissão.\n",
    "\n",
    "- responda com uma mensagem positiva.\n",
    "\n",
    "Exemplo: João, a profissão de Professor é muito importante"
   ]
  },
  {
   "cell_type": "code",
   "metadata": {
    "id": "GFpO_KPVQiBa",
    "ExecuteTime": {
     "end_time": "2025-04-02T18:18:45.997930Z",
     "start_time": "2025-04-02T18:18:35.336251Z"
    }
   },
   "source": [
    "# Escreva o codigo aqui:\n",
    "\n",
    "print(\"Qual é o seu nome?\")\n",
    "nome = input()\n",
    "print(\"Qual é a sua profissão?\")\n",
    "profissao = input()\n",
    "print(nome + \", a tua profissão de \" + profissao + \" é muito importante\")\n",
    "\n",
    "\n"
   ],
   "outputs": [
    {
     "name": "stdout",
     "output_type": "stream",
     "text": [
      "Qual é o seu nome?\n",
      "Qual é a sua profissão?\n",
      "RAPHAEL, a tua profissão de RAPHAEL é muito importante\n"
     ]
    }
   ],
   "execution_count": 40
  },
  {
   "cell_type": "markdown",
   "metadata": {
    "id": "nJZUVSz1rarN"
   },
   "source": [
    "### Exercício 01:\n",
    " Escreva um programa baseado na anterior que pergunte o nome e sobrenome do usário, além do seu hobby. Então responda com um comentário positivo."
   ]
  },
  {
   "cell_type": "code",
   "metadata": {
    "id": "wRKYoOmUIyIg",
    "ExecuteTime": {
     "end_time": "2025-04-02T18:18:51.853154Z",
     "start_time": "2025-04-02T18:18:46.034734Z"
    }
   },
   "source": [
    "# Exercício 01 - Escreva o código aqui\n",
    "\n",
    "name = input(\"Qual o seu nome?\")\n",
    "lastName = input(\"Qual o seu sobrenome?\")\n",
    "hobby = input(\"Qual o seu hobby?\")\n",
    "print(name + \" \" + lastName + \", o seu hobby \" + hobby + \" é interessante\")"
   ],
   "outputs": [
    {
     "name": "stdout",
     "output_type": "stream",
     "text": [
      "RAPHAEL RAAMOS, o seu hobby LER é interessante\n"
     ]
    }
   ],
   "execution_count": 41
  },
  {
   "cell_type": "markdown",
   "metadata": {
    "id": "DzNprIBE61XA"
   },
   "source": [
    "### Usando Python com uma calculadora\n",
    "- basta escrever as operações."
   ]
  },
  {
   "cell_type": "code",
   "metadata": {
    "id": "XzbL-SxpWtqw",
    "ExecuteTime": {
     "end_time": "2025-04-02T18:18:51.905955Z",
     "start_time": "2025-04-02T18:18:51.900592Z"
    }
   },
   "source": [
    "a = 2\n",
    "a"
   ],
   "outputs": [
    {
     "data": {
      "text/plain": [
       "2"
      ]
     },
     "execution_count": 42,
     "metadata": {},
     "output_type": "execute_result"
    }
   ],
   "execution_count": 42
  },
  {
   "cell_type": "code",
   "metadata": {
    "id": "WaR81ydLWtq8",
    "ExecuteTime": {
     "end_time": "2025-04-02T18:18:51.971560Z",
     "start_time": "2025-04-02T18:18:51.967517Z"
    }
   },
   "source": [
    "a = 2/3\n",
    "a"
   ],
   "outputs": [
    {
     "data": {
      "text/plain": [
       "0.6666666666666666"
      ]
     },
     "execution_count": 43,
     "metadata": {},
     "output_type": "execute_result"
    }
   ],
   "execution_count": 43
  },
  {
   "cell_type": "code",
   "metadata": {
    "id": "Ejy6y0OF7FYh",
    "ExecuteTime": {
     "end_time": "2025-04-02T18:18:52.034205Z",
     "start_time": "2025-04-02T18:18:52.029250Z"
    }
   },
   "source": [
    "print(5 / 8)\n",
    "print(3 * 5)\n",
    "print(7 + 10)\n",
    "5 -2"
   ],
   "outputs": [
    {
     "name": "stdout",
     "output_type": "stream",
     "text": [
      "0.625\n",
      "15\n",
      "17\n"
     ]
    },
    {
     "data": {
      "text/plain": [
       "3"
      ]
     },
     "execution_count": 44,
     "metadata": {},
     "output_type": "execute_result"
    }
   ],
   "execution_count": 44
  },
  {
   "cell_type": "code",
   "metadata": {
    "id": "oVKopYtSKLus",
    "ExecuteTime": {
     "end_time": "2025-04-02T18:18:52.094430Z",
     "start_time": "2025-04-02T18:18:52.089006Z"
    }
   },
   "source": [
    "(4+2*2)/8"
   ],
   "outputs": [
    {
     "data": {
      "text/plain": [
       "1.0"
      ]
     },
     "execution_count": 45,
     "metadata": {},
     "output_type": "execute_result"
    }
   ],
   "execution_count": 45
  },
  {
   "cell_type": "markdown",
   "metadata": {
    "id": "vARjMusYWtrC"
   },
   "source": [
    "## Operadores Lógicos:\n",
    "    - AND --> &  and\n",
    "    - OR --> | or\n",
    "    - not"
   ]
  },
  {
   "cell_type": "code",
   "metadata": {
    "id": "z9D_eKS1WtrE",
    "ExecuteTime": {
     "end_time": "2025-04-02T18:18:52.167014Z",
     "start_time": "2025-04-02T18:18:52.162009Z"
    }
   },
   "source": [
    "# Exemplo de uso de operadores lógicos\n",
    "\n",
    "a = True\n",
    "b = False\n",
    "print(a and b)\n",
    "print (a & b)\n",
    "print (a or b)\n",
    "print (a | b)\n",
    "print(not a)"
   ],
   "outputs": [
    {
     "name": "stdout",
     "output_type": "stream",
     "text": [
      "False\n",
      "False\n",
      "True\n",
      "True\n",
      "False\n"
     ]
    }
   ],
   "execution_count": 46
  },
  {
   "cell_type": "code",
   "metadata": {
    "id": "0PJytMztLiRI",
    "ExecuteTime": {
     "end_time": "2025-04-02T18:18:52.241916Z",
     "start_time": "2025-04-02T18:18:52.237981Z"
    }
   },
   "source": [
    "# Outro exemplo\n",
    "print(True and True)\n",
    "print(True and False)\n",
    "print(False and True)\n",
    "print(False and False)\n"
   ],
   "outputs": [
    {
     "name": "stdout",
     "output_type": "stream",
     "text": [
      "True\n",
      "False\n",
      "False\n",
      "False\n"
     ]
    }
   ],
   "execution_count": 47
  },
  {
   "cell_type": "code",
   "metadata": {
    "id": "wCFd8ht2Nc-R",
    "ExecuteTime": {
     "end_time": "2025-04-02T18:18:52.304301Z",
     "start_time": "2025-04-02T18:18:52.300801Z"
    }
   },
   "source": [
    "# Outro exemplo\n",
    "print(True or True)\n",
    "print(True or False)\n",
    "print(False or True)\n",
    "print(False or False)"
   ],
   "outputs": [
    {
     "name": "stdout",
     "output_type": "stream",
     "text": [
      "True\n",
      "True\n",
      "True\n",
      "False\n"
     ]
    }
   ],
   "execution_count": 48
  },
  {
   "cell_type": "code",
   "metadata": {
    "id": "FYgNHwpHN8Gy",
    "ExecuteTime": {
     "end_time": "2025-04-02T18:18:52.363601Z",
     "start_time": "2025-04-02T18:18:52.359972Z"
    }
   },
   "source": [
    "print(not True)\n",
    "print(not False)\n",
    "print(not not False)\n",
    "print(not not not False)\n",
    "print(not not not not False)\n",
    "print(not not not not not False)"
   ],
   "outputs": [
    {
     "name": "stdout",
     "output_type": "stream",
     "text": [
      "False\n",
      "True\n",
      "False\n",
      "True\n",
      "False\n",
      "True\n"
     ]
    }
   ],
   "execution_count": 49
  },
  {
   "cell_type": "code",
   "metadata": {
    "id": "YuxDw9zPPaKW",
    "ExecuteTime": {
     "end_time": "2025-04-02T18:18:52.423871Z",
     "start_time": "2025-04-02T18:18:52.420397Z"
    }
   },
   "source": [
    "a= True\n",
    "b = False\n",
    "c = True\n",
    "\n",
    "resposta = (a or b) and c\n",
    "print(resposta)"
   ],
   "outputs": [
    {
     "name": "stdout",
     "output_type": "stream",
     "text": [
      "True\n"
     ]
    }
   ],
   "execution_count": 50
  },
  {
   "cell_type": "code",
   "metadata": {
    "id": "AgzcLPIVQn7k",
    "ExecuteTime": {
     "end_time": "2025-04-02T18:18:52.483438Z",
     "start_time": "2025-04-02T18:18:52.479180Z"
    }
   },
   "source": [
    "# Desafio\n",
    "a= True\n",
    "b = False\n",
    "c = True\n",
    "d= True\n",
    "e = True\n",
    "resposta = (a or b) and ((c and d) or e)\n",
    "print(resposta)\n"
   ],
   "outputs": [
    {
     "name": "stdout",
     "output_type": "stream",
     "text": [
      "True\n"
     ]
    }
   ],
   "execution_count": 51
  },
  {
   "cell_type": "code",
   "metadata": {
    "id": "eQaY6GhzBnMN",
    "ExecuteTime": {
     "end_time": "2025-04-02T18:18:52.555711Z",
     "start_time": "2025-04-02T18:18:52.547330Z"
    }
   },
   "source": [
    "# Exemplo de uso de operadores lógicos\n",
    "# Escolha do namorado(a) ideal\n",
    "\n",
    "nome = \"Raphael\"\n",
    "# nome = \"Maria\"\n",
    "alto = True\n",
    "bonito = True\n",
    "malhado = True\n",
    "rico = True\n",
    "divertido = True\n",
    "careca = True\n",
    "\n",
    "namorado_ideal = alto and bonito and malhado and rico and divertido and not careca\n",
    "\n",
    "print(nome, \"é um namorado ideal?\")\n",
    "print(\"resposta: \", namorado_ideal)\n",
    "\n",
    "# construa a sua lógica de namorado(a) possível\n",
    "\n",
    "namorado_possivel = rico and careca\n",
    "print(nome, \"é um namorado possível?\")\n",
    "print(\"resposta: \", namorado_possivel)"
   ],
   "outputs": [
    {
     "name": "stdout",
     "output_type": "stream",
     "text": [
      "Raphael é um namorado ideal?\n",
      "resposta:  False\n",
      "Raphael é um namorado possível?\n",
      "resposta:  True\n"
     ]
    }
   ],
   "execution_count": 52
  },
  {
   "cell_type": "code",
   "metadata": {
    "id": "TIvAFDAzWtrM",
    "ExecuteTime": {
     "end_time": "2025-04-02T18:18:52.620294Z",
     "start_time": "2025-04-02T18:18:52.613833Z"
    }
   },
   "source": [
    "# Exemplo de uso do print - outra maneira\n",
    "print (\"a = %d b = %d\" % (10 ,20))\n",
    "print(\"alô, mundo\", \"Estou estudando Python\", \"tenho\", 24, \"anos\")"
   ],
   "outputs": [
    {
     "name": "stdout",
     "output_type": "stream",
     "text": [
      "a = 10 b = 20\n",
      "alô, mundo Estou estudando Python tenho 24 anos\n"
     ]
    }
   ],
   "execution_count": 53
  },
  {
   "cell_type": "markdown",
   "metadata": {
    "id": "lg0_6RP0WtrU"
   },
   "source": [
    "O Python é perfeitamente adequado para fazer cálculos básicos. Além da adição, subtração, multiplicação e divisão, também há suporte para operações mais avançadas, tais como:\n",
    "- Exponenciação: **.\n",
    "   - Este operador eleva o número à esquerda para o poder do número à sua direita. Por exemplo, 4 ** 2 dará 16.\n",
    "- Modulo:%. Este operador retorna o restante da divisão do número à esquerda pelo número à direita. Por exemplo, 18% 7 é igual a 4.\n",
    "- Divisão inteira: //\n",
    "   - 3/2, dará 1."
   ]
  },
  {
   "cell_type": "code",
   "metadata": {
    "id": "FW1j-ixcWtrW",
    "ExecuteTime": {
     "end_time": "2025-04-02T18:18:52.674262Z",
     "start_time": "2025-04-02T18:18:52.670749Z"
    }
   },
   "source": [
    "# Exemplo de uso da Exponenciação\n",
    "print(4 ** 2)\n",
    "\n",
    "\n",
    "\n",
    "# Exemplo de Divisão Inteira\n",
    "print((19+1) // 4)\n",
    "\n",
    "# Exemplo de resto da divisão\n",
    "print((19+1) % 4)\n",
    "\n"
   ],
   "outputs": [
    {
     "name": "stdout",
     "output_type": "stream",
     "text": [
      "16\n",
      "5\n",
      "0\n"
     ]
    }
   ],
   "execution_count": 54
  },
  {
   "cell_type": "code",
   "metadata": {
    "id": "EWG-R2vGWtrf",
    "ExecuteTime": {
     "end_time": "2025-04-02T18:18:52.738594Z",
     "start_time": "2025-04-02T18:18:52.734563Z"
    }
   },
   "source": [
    "# Exemplo de uso de operadores\n",
    "print(\"Se você tomou um empréstimo de R$1.000,00 com taxa de juros de 20% ao ano, após 04 anos qual é o valor de sua dívida?\")\n",
    "emprestimo = 1000.0\n",
    "taxa = 0.2\n",
    "anos = 4\n",
    "divida = emprestimo *(1+taxa)**anos\n",
    "print(\"Minha dívida é de \", divida, \"reais, depois de \", anos,\"anos.\" )"
   ],
   "outputs": [
    {
     "name": "stdout",
     "output_type": "stream",
     "text": [
      "Se você tomou um empréstimo de R$1.000,00 com taxa de juros de 20% ao ano, após 04 anos qual é o valor de sua dívida?\n",
      "Minha dívida é de  2073.6 reais, depois de  4 anos.\n"
     ]
    }
   ],
   "execution_count": 55
  },
  {
   "cell_type": "code",
   "metadata": {
    "id": "DxKTSL1yWtrt",
    "ExecuteTime": {
     "end_time": "2025-04-02T18:18:52.794628Z",
     "start_time": "2025-04-02T18:18:52.790571Z"
    }
   },
   "source": [
    "# Exercício 02: escreva o código aqui\n",
    "# O aluno João Medeiros, aplicou R$2.0000,00 na bolsa de valores durante 03 anos.\n",
    "# No primeiro ano ele teve um lucro de 20%.\n",
    "# No segundo ano ele teve um prejuízo de 8%\n",
    "# No terceiro ano ele teve um lucro de 4%\n",
    "# Calcule o valor em reais que ele obteve no final do terceiro ano.\n",
    "\n",
    "\n",
    "valor_inicial = 2000\n",
    "valor_ano1 = valor_inicial * (1 + 1.20)\n",
    "valor_ano2 = valor_ano1 * (1 - 0.08)\n",
    "valor_ano3 = valor_ano2 * (1 + 0.04)\n",
    "lucro = valor_ano3 - valor_inicial\n",
    "print(lucro)"
   ],
   "outputs": [
    {
     "name": "stdout",
     "output_type": "stream",
     "text": [
      "2209.92\n"
     ]
    }
   ],
   "execution_count": 56
  },
  {
   "cell_type": "markdown",
   "metadata": {
    "id": "rHFpj7jGWtr1"
   },
   "source": [
    "## Variáveis e Tipos em Python\n",
    "- Em Python, uma variável permite que você se refira a um valor com um nome. Para atribuir um valor a  uma variável use =, como este exemplo:\n",
    "\n",
    "x = 5\n",
    "\n",
    "Agora você pode usar o nome dessa variável, x, em vez do valor real, 5.\n",
    "\n",
    "Lembre-se, = em Python significa atribuição, não igualdade!"
   ]
  },
  {
   "cell_type": "code",
   "metadata": {
    "id": "_f7iSQckWtr2",
    "ExecuteTime": {
     "end_time": "2025-04-02T18:18:52.853414Z",
     "start_time": "2025-04-02T18:18:52.850302Z"
    }
   },
   "source": [
    "x=5\n",
    "print(x)\n",
    "y = 3\n",
    "print(y)\n"
   ],
   "outputs": [
    {
     "name": "stdout",
     "output_type": "stream",
     "text": [
      "5\n",
      "3\n"
     ]
    }
   ],
   "execution_count": 57
  },
  {
   "cell_type": "code",
   "metadata": {
    "id": "aalFUTUIWtsA",
    "ExecuteTime": {
     "end_time": "2025-04-02T18:18:52.914501Z",
     "start_time": "2025-04-02T18:18:52.910779Z"
    }
   },
   "source": [
    "x = 5\n",
    "print(x)\n",
    "X = 10\n",
    "print(X)\n",
    "valor = 10\n",
    "Valor = 11\n",
    "vAlor = 12\n",
    "VALOR = 13\n",
    "print(\"\\t\", valor,\"\\n\", \"\\n\",Valor, \"\\n\",vAlor, \"\\n\", VALOR)\n"
   ],
   "outputs": [
    {
     "name": "stdout",
     "output_type": "stream",
     "text": [
      "5\n",
      "10\n",
      "\t 10 \n",
      " \n",
      " 11 \n",
      " 12 \n",
      " 13\n"
     ]
    }
   ],
   "execution_count": 58
  },
  {
   "cell_type": "code",
   "metadata": {
    "id": "SxEz4XMtWtsH",
    "ExecuteTime": {
     "end_time": "2025-04-02T18:18:52.971779Z",
     "start_time": "2025-04-02T18:18:52.968656Z"
    }
   },
   "source": [
    "# Diferença entre atribuição e comparação\n",
    "x = 6 +1\n",
    "print( x == 6)\n",
    "\n"
   ],
   "outputs": [
    {
     "name": "stdout",
     "output_type": "stream",
     "text": [
      "False\n"
     ]
    }
   ],
   "execution_count": 59
  },
  {
   "cell_type": "code",
   "metadata": {
    "id": "LWDgI7rvWtsL",
    "ExecuteTime": {
     "end_time": "2025-04-02T18:18:53.034970Z",
     "start_time": "2025-04-02T18:18:53.031674Z"
    }
   },
   "source": [
    "#Exemplo - Diferença entre maiúsculo e minúsculo\n",
    "x = 1\n",
    "X = 2\n",
    "\n",
    "print(\"Python diferencia entre letras maiúsculas e minúsculas?\")\n",
    "print(\"Qual é o valor da variável x?\")\n",
    "print(\"A variável x é igual a \", x)\n",
    "print(\"Qual é o valor da variável X?\")\n",
    "print(\"A variável X é igual a \", X)"
   ],
   "outputs": [
    {
     "name": "stdout",
     "output_type": "stream",
     "text": [
      "Python diferencia entre letras maiúsculas e minúsculas?\n",
      "Qual é o valor da variável x?\n",
      "A variável x é igual a  1\n",
      "Qual é o valor da variável X?\n",
      "A variável X é igual a  2\n"
     ]
    }
   ],
   "execution_count": 60
  },
  {
   "cell_type": "code",
   "metadata": {
    "id": "n7IuseK8WtsT",
    "ExecuteTime": {
     "end_time": "2025-04-02T18:18:53.091823Z",
     "start_time": "2025-04-02T18:18:53.088653Z"
    }
   },
   "source": [
    "# Exercício 03\n",
    "# print(\"Reescreva o Exercício 02, considerando que a dívida será paga mensalmente em parcelas fixas\")\n",
    "# valor =\n",
    "# taxa_juros =\n",
    "# meses =\n",
    "# dívida =\n",
    "# prestacao =\n",
    "# print(\"Prestação mensal = \" , prestacao)"
   ],
   "outputs": [],
   "execution_count": 61
  },
  {
   "cell_type": "code",
   "metadata": {
    "id": "PWxgWvwhWtsa",
    "ExecuteTime": {
     "end_time": "2025-04-02T18:19:00.263178Z",
     "start_time": "2025-04-02T18:18:53.138264Z"
    }
   },
   "source": [
    "# Exercício 04\n",
    "# Verifique a fómula do IMC na Internet\n",
    "\n",
    "print(\"Calcule o Índice de Massa Copórea (IMC)\")\n",
    "\n",
    "# Entre com o valor do peso do usuário\n",
    "weight = float(input(\"Qual seu peso?\"))\n",
    "\n",
    "# Entre com o valor da altura em metros do usuário\n",
    "height = float(input(\"Qual sua altura?\"))\n",
    "\n",
    "# cálculo do IMC\n",
    "IMC = weight/(height * height)\n",
    "\n",
    "print(\"O Seu IMC é: \" + str(IMC))"
   ],
   "outputs": [
    {
     "name": "stdout",
     "output_type": "stream",
     "text": [
      "Calcule o Índice de Massa Copórea (IMC)\n",
      "O Seu IMC é: 29.365763350250564\n"
     ]
    }
   ],
   "execution_count": 62
  },
  {
   "cell_type": "markdown",
   "metadata": {
    "id": "CEuO14piWtsi"
   },
   "source": [
    "### Tipos de vaiáveis em Python\n",
    "\n",
    "Os tipos das variáveis são definidos dinamicamente em Python.\n",
    "- Tipos Básicos em Python\n",
    "    - int --> Inteiro\n",
    "    - flot --> ponto flutuante\n",
    "    - str --> String\n",
    "    - bool --> Booleano (True, False)"
   ]
  },
  {
   "cell_type": "code",
   "metadata": {
    "id": "se2Qt05GWtsj",
    "ExecuteTime": {
     "end_time": "2025-04-02T18:19:00.297204Z",
     "start_time": "2025-04-02T18:19:00.293103Z"
    }
   },
   "source": [
    "# Exercício 05\n",
    "Nome_aluno = \"Isabel da Silva\"\n",
    "nota = 9.8\n",
    "bom_aluno = True\n",
    "idade = 21\n",
    "\n",
    "print(\"Escreva no console os valores dessas variáveis\")\n",
    "# escreva o restante do programa ....\n",
    "\n",
    "print(\"A aluna \", Nome_aluno,\" tem \", idade,\"de idade e tirou \", nota, \"em programação Python.\\n\")\n"
   ],
   "outputs": [
    {
     "name": "stdout",
     "output_type": "stream",
     "text": [
      "Escreva no console os valores dessas variáveis\n",
      "A aluna  Isabel da Silva  tem  21 de idade e tirou  9.8 em programação Python.\n",
      "\n"
     ]
    }
   ],
   "execution_count": 63
  },
  {
   "metadata": {
    "id": "5g5mu0KRWtss",
    "ExecuteTime": {
     "end_time": "2025-04-02T18:19:00.355395Z",
     "start_time": "2025-04-02T18:19:00.352184Z"
    }
   },
   "cell_type": "code",
   "source": [
    "# Exercício 06\n",
    "# Analise a resposta desse programa e tire suas conclusões\n",
    "print(\"O que ocorre se se somar um int com um float?\")\n",
    "a = 2\n",
    "b = 1.1\n",
    "c = a+b\n",
    "print(c)"
   ],
   "outputs": [
    {
     "name": "stdout",
     "output_type": "stream",
     "text": [
      "O que ocorre se se somar um int com um float?\n",
      "3.1\n"
     ]
    }
   ],
   "execution_count": 64
  },
  {
   "metadata": {
    "ExecuteTime": {
     "end_time": "2025-04-02T18:19:00.422200Z",
     "start_time": "2025-04-02T18:19:00.418198Z"
    }
   },
   "cell_type": "code",
   "source": [
    "# Observação. Divisão inteira (//) com casting implicito para float\n",
    "a = 6.0 // 3\n",
    "type(a)"
   ],
   "outputs": [
    {
     "data": {
      "text/plain": [
       "float"
      ]
     },
     "execution_count": 65,
     "metadata": {},
     "output_type": "execute_result"
    }
   ],
   "execution_count": 65
  },
  {
   "metadata": {
    "id": "VYyS1Tm5Wts8",
    "ExecuteTime": {
     "end_time": "2025-04-02T18:19:00.476157Z",
     "start_time": "2025-04-02T18:19:00.471806Z"
    }
   },
   "cell_type": "code",
   "source": [
    "# Exercício 07\n",
    "# Analise a resposta desse programa e tire suas conclusões\n",
    "print(\"O que ocorre se se somar duas strings?\")\n",
    "# R: elas são concatenadas\n",
    "Nome = \"Nathalie\" + \" \" + \"Rose\"\n",
    "Sobrenome = \"Araújo\"\n",
    "Nome_Completo = Nome + \" \" + Sobrenome\n",
    "print(Nome_Completo)\n",
    "Nome_Completo"
   ],
   "outputs": [
    {
     "name": "stdout",
     "output_type": "stream",
     "text": [
      "O que ocorre se se somar duas strings?\n",
      "Nathalie Rose Araújo\n"
     ]
    },
    {
     "data": {
      "text/plain": [
       "'Nathalie Rose Araújo'"
      ]
     },
     "execution_count": 66,
     "metadata": {},
     "output_type": "execute_result"
    }
   ],
   "execution_count": 66
  },
  {
   "metadata": {
    "id": "X_b-itdLWttE",
    "ExecuteTime": {
     "end_time": "2025-04-02T18:19:00.535043Z",
     "start_time": "2025-04-02T18:19:00.531364Z"
    }
   },
   "cell_type": "code",
   "source": [
    "# Exercício 08\n",
    "# Analise a resposta desse programa e tire suas conclusões\n",
    "\n",
    "print(\"É possível somar um int com um str?\")\n",
    "try:\n",
    "    Nome = \"Maria\"\n",
    "    Idade = 18\n",
    "    Nome + Idade\n",
    "except:\n",
    "    print(\"Nao eh possivel\")"
   ],
   "outputs": [
    {
     "name": "stdout",
     "output_type": "stream",
     "text": [
      "É possível somar um int com um str?\n",
      "Nao eh possivel\n"
     ]
    }
   ],
   "execution_count": 67
  },
  {
   "metadata": {
    "id": "vTpPpFk2WttP",
    "ExecuteTime": {
     "end_time": "2025-04-02T18:19:00.596202Z",
     "start_time": "2025-04-02T18:19:00.590545Z"
    }
   },
   "cell_type": "code",
   "source": [
    "# Exercício 09\n",
    "# Use a função type(variavel) para obter o tipo da variável.\n",
    "x1 = 1\n",
    "x2 = \"aeiou\"\n",
    "x3 = False\n",
    "print(type(x1))\n",
    "print(type(x2))\n",
    "type(x3)"
   ],
   "outputs": [
    {
     "name": "stdout",
     "output_type": "stream",
     "text": [
      "<class 'int'>\n",
      "<class 'str'>\n"
     ]
    },
    {
     "data": {
      "text/plain": [
       "bool"
      ]
     },
     "execution_count": 68,
     "metadata": {},
     "output_type": "execute_result"
    }
   ],
   "execution_count": 68
  },
  {
   "cell_type": "markdown",
   "metadata": {
    "id": "F7KSKwVVWtta"
   },
   "source": [
    "### Dica:\n",
    "Para se converter tipos em outros, em Python se utiliza as seguintes funções:\n",
    "- str(variavel) <-- converte variavel para string\n",
    "- int(variavel) <-- converte variavel para inteiro\n",
    "- float(variavel) <-- converte variavel para ponto flutuante\n",
    "- bool((variavel) <-- converte variavel para booleano"
   ]
  },
  {
   "cell_type": "code",
   "metadata": {
    "id": "LH3BBBMdWttc",
    "ExecuteTime": {
     "end_time": "2025-04-02T18:19:00.656164Z",
     "start_time": "2025-04-02T18:19:00.652470Z"
    }
   },
   "source": [
    "# Exercício 10\n",
    "# Escreva um programa que converta uma variável \"idade\" que é inteiro  em string.\n",
    "Idade = 22\n",
    "Nome = \"João\"\n",
    "# A saída de ser --> João tem 22 anos.\n",
    "print(Nome + \" tem \" + str(Idade) + \" anos\")"
   ],
   "outputs": [
    {
     "name": "stdout",
     "output_type": "stream",
     "text": [
      "João tem 22 anos\n"
     ]
    }
   ],
   "execution_count": 69
  },
  {
   "cell_type": "markdown",
   "metadata": {
    "id": "7uBNZr89pBxb"
   },
   "source": [
    "### Pergunta:\n",
    "Quando se lê uma variável via teclado, qual é o seu tipo?"
   ]
  },
  {
   "cell_type": "code",
   "metadata": {
    "id": "MV22YSjWpLR2",
    "ExecuteTime": {
     "end_time": "2025-04-02T18:19:04.832798Z",
     "start_time": "2025-04-02T18:19:00.763185Z"
    }
   },
   "source": [
    "# Exemplo\n",
    "# Analise a resposta desse programa e tire suas conclusões\n",
    "\n",
    "print(\"entre com uma dado: \")\n",
    "variavel = input()\n",
    "print(variavel)\n",
    "type(variavel)\n"
   ],
   "outputs": [
    {
     "name": "stdout",
     "output_type": "stream",
     "text": [
      "entre com uma dado: \n",
      "12\n"
     ]
    },
    {
     "data": {
      "text/plain": [
       "str"
      ]
     },
     "execution_count": 70,
     "metadata": {},
     "output_type": "execute_result"
    }
   ],
   "execution_count": 70
  },
  {
   "cell_type": "code",
   "metadata": {
    "id": "_GWuMoAnpuNv",
    "ExecuteTime": {
     "end_time": "2025-04-02T18:19:04.853561Z",
     "start_time": "2025-04-02T18:19:04.848463Z"
    }
   },
   "source": [
    "# convertendo a variavel para inteiro\n",
    "\n",
    "variavel = int(variavel)\n",
    "type(variavel)"
   ],
   "outputs": [
    {
     "data": {
      "text/plain": [
       "int"
      ]
     },
     "execution_count": 71,
     "metadata": {},
     "output_type": "execute_result"
    }
   ],
   "execution_count": 71
  },
  {
   "cell_type": "markdown",
   "metadata": {
    "id": "kdovl8_vRD8g"
   },
   "source": [
    "### Programa desafio 1:\n",
    "\n",
    "Escreva um programa que solicite por antrada de teclado os seguintes valores de variáveis:\n",
    "- nome\n",
    "- altura\n",
    "-peso\n",
    "\n",
    "Entao, forneça como saída o nome e o IMC correspondente.\n",
    "\n",
    "Exemplo:\n",
    "Maria seu IMC é de 1.62"
   ]
  },
  {
   "cell_type": "code",
   "metadata": {
    "id": "yVSqPbw7RqG4",
    "ExecuteTime": {
     "end_time": "2025-04-02T18:19:15.586509Z",
     "start_time": "2025-04-02T18:19:04.923676Z"
    }
   },
   "source": [
    "# Programa Desafio 1\n",
    "# Escreva o código aqui código\n",
    "\n",
    "print(\"Por obséquio, forneça o seu nome? \")\n",
    "nome = input(\"Qual o seu nome\")\n",
    "\n",
    "print(\"Se não for inoportuno, foneça o seu peso? Prometo manter essa informação em sigilo\")\n",
    "peso = float(input(\"Qual o seu peso?\"))\n",
    "\n",
    "\n",
    "print(\"Qual é a sua altura? \")\n",
    "altura = float(input(\"Qual a sua altura?\"))\n",
    "\n",
    "# Cálculo do IMC\n",
    "IMC = peso /altura**2\n",
    "\n",
    "# Saída do programa\n",
    "print(nome, \" o seu IMC é \", IMC)\n",
    "\n"
   ],
   "outputs": [
    {
     "name": "stdout",
     "output_type": "stream",
     "text": [
      "Por obséquio, forneça o seu nome? \n",
      "Se não for inoportuno, foneça o seu peso? Prometo manter essa informação em sigilo\n",
      "Qual é a sua altura? \n",
      "RAPHAEL  o seu IMC é  0.6128507133965335\n"
     ]
    }
   ],
   "execution_count": 72
  },
  {
   "cell_type": "code",
   "metadata": {
    "id": "BxJ7uWykWtth",
    "ExecuteTime": {
     "end_time": "2025-04-02T18:19:15.610610Z",
     "start_time": "2025-04-02T18:19:15.605764Z"
    }
   },
   "source": [
    "# Curiosidade - execute este programa\n",
    "\"Eu sou \" + (\"ga\")*3 + \"go\"\n"
   ],
   "outputs": [
    {
     "data": {
      "text/plain": [
       "'Eu sou gagagago'"
      ]
     },
     "execution_count": 73,
     "metadata": {},
     "output_type": "execute_result"
    }
   ],
   "execution_count": 73
  },
  {
   "cell_type": "code",
   "metadata": {
    "id": "lwvGuxSsWttn",
    "ExecuteTime": {
     "end_time": "2025-04-02T18:19:15.685392Z",
     "start_time": "2025-04-02T18:19:15.681519Z"
    }
   },
   "source": [
    "# Curiosidade\n",
    "print(\"Teste essas opções abaixo que estão em comentário\")\n",
    "# False + True\n",
    "# True + True\n",
    "# True * 10\n",
    "False - True"
   ],
   "outputs": [
    {
     "name": "stdout",
     "output_type": "stream",
     "text": [
      "Teste essas opções abaixo que estão em comentário\n"
     ]
    },
    {
     "data": {
      "text/plain": [
       "-1"
      ]
     },
     "execution_count": 74,
     "metadata": {},
     "output_type": "execute_result"
    }
   ],
   "execution_count": 74
  },
  {
   "cell_type": "markdown",
   "metadata": {
    "id": "ewO5jUBzWtts"
   },
   "source": [
    "### Variável do tipo list\n",
    "- tipo complexo, que representa uma lista de outras variáveis, não necessariamente de mesmo tipo.\n",
    "- As variáveis podem ser listas. No caso, teremos listas de listas\n",
    "\n",
    "Exemplo:\n",
    "\n",
    "lista1 = [1,2,3]\n",
    "\n",
    "lista2 = [\"Maria\", \"1.66\", 22, True]  #[Nome, Altura, Idade, Boa_estudante]"
   ]
  },
  {
   "cell_type": "code",
   "metadata": {
    "id": "DZsgCGWPB0UI",
    "ExecuteTime": {
     "end_time": "2025-04-02T18:19:15.741121Z",
     "start_time": "2025-04-02T18:19:15.736941Z"
    }
   },
   "source": [
    "lista2 = [\"Maria\", \"1.66\", 22, True]\n",
    "lista2"
   ],
   "outputs": [
    {
     "data": {
      "text/plain": [
       "['Maria', '1.66', 22, True]"
      ]
     },
     "execution_count": 75,
     "metadata": {},
     "output_type": "execute_result"
    }
   ],
   "execution_count": 75
  },
  {
   "cell_type": "code",
   "metadata": {
    "colab": {
     "base_uri": "https://localhost:8080/"
    },
    "executionInfo": {
     "elapsed": 955,
     "status": "ok",
     "timestamp": 1611665839509,
     "user": {
      "displayName": "Luiz Affonso H Guedes de Oliveira",
      "photoUrl": "https://lh3.googleusercontent.com/a-/AOh14Gi-j_30n-0eRqio7t2hV7W6QYvDnHPAS4QDlpjBzg=s64",
      "userId": "10475189423049571002"
     },
     "user_tz": 180
    },
    "id": "_A9medfmWttt",
    "outputId": "957e6d87-d558-4097-b5e7-98052951e043",
    "ExecuteTime": {
     "end_time": "2025-04-02T18:19:15.806265Z",
     "start_time": "2025-04-02T18:19:15.802152Z"
    }
   },
   "source": [
    "# Lista com variáveis de mesmo tipo\n",
    "# Áreas dos cômodos de uma casa (em metros quadrados)\n",
    "hall = 11.25\n",
    "kit = 18.0\n",
    "liv = 20.0\n",
    "bed = 10.75\n",
    "bath = 9.50\n",
    "\n",
    "# Criação da lista areas\n",
    "areas = [hall, kit, liv, bed, bath]\n",
    "\n",
    "# Print areas\n",
    "print(type(areas))\n",
    "print(areas)"
   ],
   "outputs": [
    {
     "name": "stdout",
     "output_type": "stream",
     "text": [
      "<class 'list'>\n",
      "[11.25, 18.0, 20.0, 10.75, 9.5]\n"
     ]
    }
   ],
   "execution_count": 76
  },
  {
   "cell_type": "code",
   "metadata": {
    "colab": {
     "base_uri": "https://localhost:8080/"
    },
    "executionInfo": {
     "elapsed": 659,
     "status": "ok",
     "timestamp": 1611665843271,
     "user": {
      "displayName": "Luiz Affonso H Guedes de Oliveira",
      "photoUrl": "https://lh3.googleusercontent.com/a-/AOh14Gi-j_30n-0eRqio7t2hV7W6QYvDnHPAS4QDlpjBzg=s64",
      "userId": "10475189423049571002"
     },
     "user_tz": 180
    },
    "id": "3BrTc6sZWttz",
    "outputId": "12cf0bd7-a225-4df0-9b72-4c7525e4a2c9",
    "ExecuteTime": {
     "end_time": "2025-04-02T18:19:15.860944Z",
     "start_time": "2025-04-02T18:19:15.857262Z"
    }
   },
   "source": [
    "# Lista com variáveis de diferentes tipos\n",
    "# Áreas dos cômodos de uma casa (em metros quadrados)\n",
    "hall = 11.25\n",
    "kit = 18.0\n",
    "liv = 20.0\n",
    "bed = 10.75\n",
    "bath = 9.50\n",
    "\n",
    "# Criação da lista areas\n",
    "areas = [\"hallway\", hall, \"kitchen\", kit, \"living room\", liv, \"bedroom\", bed, \"bathroom\", bath]\n",
    "\n",
    "# Print areas\n",
    "print(areas)\n"
   ],
   "outputs": [
    {
     "name": "stdout",
     "output_type": "stream",
     "text": [
      "['hallway', 11.25, 'kitchen', 18.0, 'living room', 20.0, 'bedroom', 10.75, 'bathroom', 9.5]\n"
     ]
    }
   ],
   "execution_count": 77
  },
  {
   "cell_type": "code",
   "metadata": {
    "colab": {
     "base_uri": "https://localhost:8080/"
    },
    "executionInfo": {
     "elapsed": 847,
     "status": "ok",
     "timestamp": 1611665903083,
     "user": {
      "displayName": "Luiz Affonso H Guedes de Oliveira",
      "photoUrl": "https://lh3.googleusercontent.com/a-/AOh14Gi-j_30n-0eRqio7t2hV7W6QYvDnHPAS4QDlpjBzg=s64",
      "userId": "10475189423049571002"
     },
     "user_tz": 180
    },
    "id": "VXNk5gNsWtt7",
    "outputId": "4e0fa322-a859-4789-881d-eaf940d94d3d",
    "ExecuteTime": {
     "end_time": "2025-04-02T18:19:15.921095Z",
     "start_time": "2025-04-02T18:19:15.917479Z"
    }
   },
   "source": [
    "# Lista de Lista\n",
    "# Áreas dos cômodos de uma casa (em metro quadrado)\n",
    "hall = 11.25\n",
    "kit = 18.0\n",
    "liv = 20.0\n",
    "bed = 10.75\n",
    "bath = 9.50\n",
    "\n",
    "# informação sobre metragem da casa como lista de lista\n",
    "house = [[\"hallway\", hall],\n",
    "         [\"kitchen\", kit],\n",
    "         [\"living room\", liv],\n",
    "         [\"bedroom\", bed],\n",
    "         [\"bathroom\", bath]\n",
    "         ]\n",
    "\n",
    "# Print a variaável house\n",
    "\n",
    "print(house)\n",
    "\n",
    "# Print o tipo da variável house\n",
    "\n",
    "print(type(house))"
   ],
   "outputs": [
    {
     "name": "stdout",
     "output_type": "stream",
     "text": [
      "[['hallway', 11.25], ['kitchen', 18.0], ['living room', 20.0], ['bedroom', 10.75], ['bathroom', 9.5]]\n",
      "<class 'list'>\n"
     ]
    }
   ],
   "execution_count": 78
  },
  {
   "cell_type": "code",
   "metadata": {
    "id": "IBJ34-nOWtuD",
    "ExecuteTime": {
     "end_time": "2025-04-02T18:24:18.358275Z",
     "start_time": "2025-04-02T18:24:18.353252Z"
    }
   },
   "source": [
    "# Exercício 11\n",
    "# Crie 01 lista Familia, que é composta por 04 listas: Pai, Mae, Filho, Filha.\n",
    "# Essas listas têm as variáveis Nome (str), Idade (int), Peso (float), Altura (float)\n",
    "# sexo (bool) True-feminino, False-Masculino\n",
    "Pai = [\"João\", 45, 85.5, 1.80, False]\n",
    "Mae = [\"Maria\", 40, 70.0, 1.65, True]\n",
    "Filho = [\"William\", 18, 70.0, 1.75, False]\n",
    "Filha = [\"Fernanda\", 15, 55.0, 1.60, True]\n",
    "\n",
    "Familia = [Mae, Pai,Filho,Filha]\n",
    "print(Familia)"
   ],
   "outputs": [
    {
     "name": "stdout",
     "output_type": "stream",
     "text": [
      "[['Maria', 40, 70.0, 1.65, True], ['João', 45, 85.5, 1.8, False], ['William', 18, 70.0, 1.75, False], ['Fernanda', 15, 55.0, 1.6, True]]\n"
     ]
    }
   ],
   "execution_count": 95
  },
  {
   "cell_type": "code",
   "metadata": {
    "id": "ebBimdA9Db6c",
    "ExecuteTime": {
     "end_time": "2025-04-02T18:19:16.051655Z",
     "start_time": "2025-04-02T18:19:16.047398Z"
    }
   },
   "source": [
    "# Execute esse prgrama e analise a sua resposta.\n",
    "\n",
    "print(Pai[0])\n",
    "print(Filha[2])\n",
    "print(Familia[0])\n",
    "print(Familia[0][1])\n",
    "print(Familia[1][3])\n",
    "\n",
    "Nomes = [Familia[0][0], Familia[1][0], Familia[2][0],Familia[3][0]]\n",
    "Sexos = [Familia[0][-1], Familia[1][-1], Familia[2][-1],Familia[3][-1]]\n",
    "print(Nomes)\n",
    "print(Sexos)\n",
    "Soma_da_Idades = Familia[0][4] + Familia[1][4] + Familia[2][4] + Familia[3][4]\n",
    "print(Soma_da_Idades)\n",
    "\n",
    "\n"
   ],
   "outputs": [
    {
     "name": "stdout",
     "output_type": "stream",
     "text": [
      "João\n",
      "55.0\n",
      "['Maria', 40, 70.0, 1.65, True]\n",
      "40\n",
      "1.8\n",
      "['Maria', 'João', 'William', 'Fernanda']\n",
      "[True, False, False, True]\n",
      "2\n"
     ]
    }
   ],
   "execution_count": 80
  },
  {
   "cell_type": "markdown",
   "metadata": {
    "id": "d1n1FsUyWtuK"
   },
   "source": [
    "Explicação - Acessado elementos de uma lista\n",
    "- list[n]  --> retorna a variável da posição n. O primeiro índice é o ZERO\n",
    "- list[n1:n2] --> retorna uma sub-lista da posição n1 até a posição n2-1\n",
    "- list[:n] --> retorna uma sub-lista da posição ZERO até n-1\n",
    "- list[n:] --> retorna uma sub-lista da posição n até o final da lista"
   ]
  },
  {
   "cell_type": "code",
   "metadata": {
    "id": "4f4tiyZfWtuN",
    "ExecuteTime": {
     "end_time": "2025-04-02T18:19:16.111674Z",
     "start_time": "2025-04-02T18:19:16.107241Z"
    }
   },
   "source": [
    "# Exemplos de acesso a elementos de listas\n",
    "# Rode o programa e analise as suas respostas.\n",
    "lista = [0,1,2,3,4,5]\n",
    "print(lista[0])\n",
    "print(lista[2])\n",
    "#print(lista[7])\n",
    "print(lista[-1])\n",
    "print(lista[-2])\n",
    "print(lista[1:3])\n",
    "print(lista[1:4])\n",
    "print(lista[1:2])\n",
    "print(lista[:3])\n",
    "print(lista[:])\n",
    "print(lista[-5:3])\n",
    "print(lista[-5:1])"
   ],
   "outputs": [
    {
     "name": "stdout",
     "output_type": "stream",
     "text": [
      "0\n",
      "2\n",
      "5\n",
      "4\n",
      "[1, 2]\n",
      "[1, 2, 3]\n",
      "[1]\n",
      "[0, 1, 2]\n",
      "[0, 1, 2, 3, 4, 5]\n",
      "[1, 2]\n",
      "[]\n"
     ]
    }
   ],
   "execution_count": 81
  },
  {
   "cell_type": "code",
   "metadata": {
    "id": "i9HgHM-9WtuX",
    "ExecuteTime": {
     "end_time": "2025-04-02T18:19:16.171587Z",
     "start_time": "2025-04-02T18:19:16.167537Z"
    }
   },
   "source": [
    "#Exercício 12\n",
    "\n",
    "# Criação da lista areas\n",
    "areas = [\"hallway\", 11.25, \"kitchen\", 18.0, \"living room\", 20.0, \"bedroom\", 10.75, \"bathroom\", 9.50]\n",
    "\n",
    "# Print o segundo elemento da lista\n",
    "print(areas[1])\n",
    "\n",
    "# Print o valor do último elemnto da lista\n",
    "print(areas[-1])\n",
    "\n",
    "# Print o valor da área do living room\n",
    "print(areas[5])\n",
    "\n",
    "# Print o valor da área total da casa\n",
    "print(sum([area for area in areas if type(area) == float]))"
   ],
   "outputs": [
    {
     "name": "stdout",
     "output_type": "stream",
     "text": [
      "11.25\n",
      "9.5\n",
      "20.0\n",
      "69.5\n"
     ]
    }
   ],
   "execution_count": 82
  },
  {
   "cell_type": "code",
   "metadata": {
    "id": "bIaW7WSbWtud",
    "ExecuteTime": {
     "end_time": "2025-04-02T18:19:16.232938Z",
     "start_time": "2025-04-02T18:19:16.228095Z"
    }
   },
   "source": [
    "# Dica\n",
    "x = [[\"a\", \"b\", \"c\"],\n",
    "     [\"d\", \"e\", \"f\"],\n",
    "     [\"g\", \"h\", \"i\"]]\n",
    "print(x[2][0])\n",
    "print(x[2][:2])\n",
    "print(x[0][-1],x[1][:2])\n",
    "x[0][2]+x[0][0]+x[1][0]+x[1][1]"
   ],
   "outputs": [
    {
     "name": "stdout",
     "output_type": "stream",
     "text": [
      "g\n",
      "['g', 'h']\n",
      "c ['d', 'e']\n"
     ]
    },
    {
     "data": {
      "text/plain": [
       "'cade'"
      ]
     },
     "execution_count": 83,
     "metadata": {},
     "output_type": "execute_result"
    }
   ],
   "execution_count": 83
  },
  {
   "cell_type": "code",
   "metadata": {
    "id": "It25Np4hWtuk",
    "ExecuteTime": {
     "end_time": "2025-04-02T18:19:16.292180Z",
     "start_time": "2025-04-02T18:19:16.287587Z"
    }
   },
   "source": [
    "#Exercício 13 -\n",
    "# Dado o Exercício 11.\n",
    "# Crie uma lista denominada de Nomes que contenha os nomes do Pai, Mae, Filho e Filha da lista Familia\n",
    "\n",
    "nomes = [membro[0] for membro in Familia]\n",
    "nomes"
   ],
   "outputs": [
    {
     "data": {
      "text/plain": [
       "['Maria', 'João', 'William', 'Fernanda']"
      ]
     },
     "execution_count": 84,
     "metadata": {},
     "output_type": "execute_result"
    }
   ],
   "execution_count": 84
  },
  {
   "cell_type": "code",
   "metadata": {
    "id": "qEdJQD1pWtur",
    "ExecuteTime": {
     "end_time": "2025-04-02T18:19:16.351552Z",
     "start_time": "2025-04-02T18:19:16.347351Z"
    }
   },
   "source": [
    "#Exercício 14 -\n",
    "# Dado o Exercício 11.\n",
    "# Crie uma lista denominada de Filhos que contenha apenas as informações de Filho e Filha da lista Familia\n",
    "Filhos = [Familia[-1], Familia[-2]]\n",
    "Filhos"
   ],
   "outputs": [
    {
     "data": {
      "text/plain": [
       "[['Fernanda', 15, 55.0, 1.6, True], ['William', 18, 70.0, 1.75, False]]"
      ]
     },
     "execution_count": 85,
     "metadata": {},
     "output_type": "execute_result"
    }
   ],
   "execution_count": 85
  },
  {
   "cell_type": "code",
   "metadata": {
    "id": "jYzv1ZNRWtux",
    "ExecuteTime": {
     "end_time": "2025-04-02T18:19:16.411530Z",
     "start_time": "2025-04-02T18:19:16.407039Z"
    }
   },
   "source": [
    "#Exercício 15 -\n",
    "# Dado o Exercício 11.\n",
    "# Calcule IMC das pessoas da lista Familia.\n",
    "# Armazene esses valores numa lista denominada de valor_IMC\n",
    "\n",
    "# Observacao. Nos vetores de Familia, a altura esta no indice -2, e o peso no -3\n",
    "valor_IMC = [round(membro[-3]/(membro[-2]**2),1) for membro in Familia]\n",
    "valor_IMC"
   ],
   "outputs": [
    {
     "data": {
      "text/plain": [
       "[25.7, 26.4, 22.9, 21.5]"
      ]
     },
     "execution_count": 86,
     "metadata": {},
     "output_type": "execute_result"
    }
   ],
   "execution_count": 86
  },
  {
   "cell_type": "markdown",
   "metadata": {
    "id": "0SqbqnesWtvB"
   },
   "source": [
    "Modificar elementos de uma lista\n",
    "- lista[elemento] = novo_valor\n",
    "\n",
    "Incluir elementos em lista (concatenar duas ou mais listas)\n",
    "- lista3 = lista1 + lista3\n",
    "\n",
    "Remover Elementos em Lista\n",
    "- del(lista[elemento])"
   ]
  },
  {
   "cell_type": "code",
   "metadata": {
    "id": "uCB0VcoYVAhV",
    "ExecuteTime": {
     "end_time": "2025-04-02T18:19:16.472093Z",
     "start_time": "2025-04-02T18:19:16.466919Z"
    }
   },
   "source": [
    "# Exemplo com listas\n",
    "lista1 = [1,1,1]\n",
    "lista2 =[2,2,2]\n",
    "lista3 = lista1 + lista2\n",
    "\n",
    "# Concatecao de listas\n",
    "lista3\n"
   ],
   "outputs": [
    {
     "data": {
      "text/plain": [
       "[1, 1, 1, 2, 2, 2]"
      ]
     },
     "execution_count": 87,
     "metadata": {},
     "output_type": "execute_result"
    }
   ],
   "execution_count": 87
  },
  {
   "cell_type": "code",
   "metadata": {
    "id": "maCwgIELVeC0",
    "ExecuteTime": {
     "end_time": "2025-04-02T18:19:16.531737Z",
     "start_time": "2025-04-02T18:19:16.528364Z"
    }
   },
   "source": [
    "# Exemplo com lista - continuação\n",
    "print(\"lista3: \", lista3)\n",
    "print(\"lista3[2]: \", lista3[2])\n",
    "\n",
    "# remover um elemento da lista3\n",
    "del(lista3[2:4])\n",
    "print(\"lista3: \", lista3)\n",
    "print(\"lista3[2]: \", lista3[2])"
   ],
   "outputs": [
    {
     "name": "stdout",
     "output_type": "stream",
     "text": [
      "lista3:  [1, 1, 1, 2, 2, 2]\n",
      "lista3[2]:  1\n",
      "lista3:  [1, 1, 2, 2]\n",
      "lista3[2]:  2\n"
     ]
    }
   ],
   "execution_count": 88
  },
  {
   "cell_type": "code",
   "metadata": {
    "id": "bBMdNeavWtvR",
    "ExecuteTime": {
     "end_time": "2025-04-02T18:19:16.590592Z",
     "start_time": "2025-04-02T18:19:16.587330Z"
    }
   },
   "source": [
    "# Exercício 16\n",
    "# Remova pela ordem a string \"poolhouse\" e o valor de sua área\n",
    "areas = [\"hallway\", 11.25, \"kitchen\", 18.0,\n",
    "        \"child zone\", 20.0, \"bedroom\", 10.75,\n",
    "         \"bathroom\", 10.50, \"poolhouse\", 24.5,\n",
    "         \"garage\", 15.45]\n",
    "del(areas[10:12])\n",
    "print(areas)"
   ],
   "outputs": [
    {
     "name": "stdout",
     "output_type": "stream",
     "text": [
      "['hallway', 11.25, 'kitchen', 18.0, 'child zone', 20.0, 'bedroom', 10.75, 'bathroom', 10.5, 'garage', 15.45]\n"
     ]
    }
   ],
   "execution_count": 89
  },
  {
   "cell_type": "code",
   "metadata": {
    "id": "Yxc9vMtzWtvD",
    "ExecuteTime": {
     "end_time": "2025-04-02T18:19:16.651403Z",
     "start_time": "2025-04-02T18:19:16.647081Z"
    }
   },
   "source": [
    "# Exercício 17\n",
    "# Dado o Exercício 11\n",
    "# Inclua mais um filho, denominado Filho2 na lista Familia\n",
    "\n",
    "Filho2 = [\"Lucas\", 10, 40.0, 1.40, False]\n",
    "Familia = Familia + [Filho2]\n",
    "\n",
    "print(Familia)"
   ],
   "outputs": [
    {
     "name": "stdout",
     "output_type": "stream",
     "text": [
      "[['Maria', 40, 70.0, 1.65, True], ['João', 45, 85.5, 1.8, False], ['William', 18, 70.0, 1.75, False], ['Fernanda', 15, 55.0, 1.6, True], ['Lucas', 10, 40.0, 1.4, False]]\n"
     ]
    }
   ],
   "execution_count": 90
  },
  {
   "cell_type": "code",
   "metadata": {
    "id": "z_w1bQqyWtvM",
    "ExecuteTime": {
     "end_time": "2025-04-02T18:19:16.791375Z",
     "start_time": "2025-04-02T18:19:16.787483Z"
    }
   },
   "source": [
    "# Exercício 18\n",
    "# Dado o Exercício 11\n",
    "# Remova Filho da lista Familia\n",
    "# O que ocorre com os índices da lista Familia?\n",
    "del(Familia[-3])\n",
    "print(Familia)"
   ],
   "outputs": [
    {
     "name": "stdout",
     "output_type": "stream",
     "text": [
      "[['Maria', 40, 70.0, 1.65, True], ['João', 45, 85.5, 1.8, False], ['Fernanda', 15, 55.0, 1.6, True], ['Lucas', 10, 40.0, 1.4, False]]\n"
     ]
    }
   ],
   "execution_count": 91
  },
  {
   "cell_type": "code",
   "metadata": {
    "id": "sbRECfP2XVwc",
    "ExecuteTime": {
     "end_time": "2025-04-02T18:24:23.645591Z",
     "start_time": "2025-04-02T18:24:23.640928Z"
    }
   },
   "source": [
    "#Exercício 19\n",
    "# Dado o Exercício 11.\n",
    "# Calcule IMC das pessoas da lista Familia, e inclua essa informação na lista Família\n",
    "\n",
    "calcImc = lambda peso, altura : round(peso/(altura**2),1)\n",
    "\n",
    "copyFamilia = Familia[:]\n",
    "Familia = [[*membro, calcImc(membro[-3], membro[-2])] for membro in copyFamilia]\n",
    "Familia"
   ],
   "outputs": [
    {
     "data": {
      "text/plain": [
       "[['Maria', 40, 70.0, 1.65, True, 25.7],\n",
       " ['João', 45, 85.5, 1.8, False, 26.4],\n",
       " ['William', 18, 70.0, 1.75, False, 22.9],\n",
       " ['Fernanda', 15, 55.0, 1.6, True, 21.5]]"
      ]
     },
     "execution_count": 96,
     "metadata": {},
     "output_type": "execute_result"
    }
   ],
   "execution_count": 96
  },
  {
   "cell_type": "markdown",
   "metadata": {
    "id": "zxq1iF5pWc3B"
   },
   "source": [
    "### Atenção\n",
    " - Há difença entre atribuição e cópia de listas."
   ]
  },
  {
   "cell_type": "code",
   "metadata": {
    "id": "-UH1Hy5LWtvb",
    "ExecuteTime": {
     "end_time": "2025-04-02T18:26:18.392274Z",
     "start_time": "2025-04-02T18:26:18.388660Z"
    }
   },
   "source": [
    "# Cópia de lista: diferença entre atribuição e cópia de listas\n",
    "# Criação de lista\n",
    "# Rode a analise os resultados deste programa\n",
    "\n",
    "lista1 = [11.25, 18.0, 20.0, 10.75, 9.50]\n",
    "\n",
    "# Atribuição e copia de listas\n",
    "\n",
    "# lista2 recebe uma referencia para lista1 (portanto ao modificar lista2, tambem modificamos lista1)\n",
    "# lista2 = lista1\n",
    "\n",
    "# lista2 recebe uma cópia de lista1 (portanto ao modificar lista2, nao acontece nada com lista1)\n",
    "# lista2 = list(lista1)\n",
    "# lista2 = lista1[:]\n",
    "lista2 = lista1.copy()\n",
    "\n",
    "# Modificação na lista\n",
    "lista2[0] = 5.0\n",
    "\n",
    "# Print lista1\n",
    "print(lista1)"
   ],
   "outputs": [
    {
     "name": "stdout",
     "output_type": "stream",
     "text": [
      "[11.25, 18.0, 20.0, 10.75, 9.5]\n"
     ]
    }
   ],
   "execution_count": 100
  },
  {
   "cell_type": "markdown",
   "metadata": {
    "id": "rbT0GXsDWtvk"
   },
   "source": [
    "## Usando Função em Python\n",
    "- Há diversas funções úteis já disponíveis em Python\n",
    "    - type(variavel)\n",
    "    - print(variavel)\n",
    "    - str(variavel); float(variavel); ...\n",
    "    - max(variavel)\n",
    "    - min(variavel)\n",
    "    - mean(variavel)\n",
    "    - round(valor,precisao), round(valor)\n",
    "    - complex(valor)\n",
    "    - sorted(iterable, key, reverse)\n",
    "    - help(funcao)"
   ]
  },
  {
   "cell_type": "code",
   "metadata": {
    "id": "9jnsakiiWtvm",
    "ExecuteTime": {
     "end_time": "2025-04-02T18:26:42.398924Z",
     "start_time": "2025-04-02T18:26:42.395182Z"
    }
   },
   "source": [
    "# Exemplos de uso de funções\n",
    "# Criar variáveis var1 e var2\n",
    "var1 = [1, 2, 3, 4]\n",
    "var2 = True\n",
    "\n",
    "# Print tipo (type) de var1\n",
    "print(type(var1))\n",
    "\n",
    "# Print o tamanho de var1\n",
    "print(len(var1))\n",
    "\n",
    "# Print o máximo var1\n",
    "print(max(var1))\n",
    "\n",
    "# Print o mínimo var1\n",
    "print(min(var1))\n",
    "\n",
    "# Print a soma var1\n",
    "print(sum(var1))\n",
    "\n",
    "# Print média var1\n",
    "print(sum(var1)/len(var1))\n",
    "\n",
    "# Converter var2 para um inteiro: out2\n",
    "out2 = int(var2)"
   ],
   "outputs": [
    {
     "name": "stdout",
     "output_type": "stream",
     "text": [
      "<class 'list'>\n",
      "4\n",
      "4\n",
      "1\n",
      "10\n",
      "2.5\n"
     ]
    }
   ],
   "execution_count": 101
  },
  {
   "cell_type": "code",
   "execution_count": 9,
   "metadata": {
    "id": "v2dxg-PtWtvu"
   },
   "outputs": [
    {
     "name": "stdout",
     "output_type": "stream",
     "text": [
      "Help on built-in function min in module builtins:\n",
      "\n",
      "min(...)\n",
      "    min(iterable, *[, default=obj, key=func]) -> value\n",
      "    min(arg1, arg2, *args, *[, key=func]) -> value\n",
      "\n",
      "    With a single iterable argument, return its smallest item. The\n",
      "    default keyword-only argument specifies an object to return if\n",
      "    the provided iterable is empty.\n",
      "    With two or more arguments, return the smallest argument.\n",
      "\n"
     ]
    }
   ],
   "source": [
    "help(min)"
   ]
  },
  {
   "cell_type": "code",
   "execution_count": 10,
   "metadata": {
    "id": "uVkGXITqWtv2"
   },
   "outputs": [
    {
     "name": "stdout",
     "output_type": "stream",
     "text": [
      "\u001B[31mDocstring:\u001B[39m\n",
      "max(iterable, *[, default=obj, key=func]) -> value\n",
      "max(arg1, arg2, *args, *[, key=func]) -> value\n",
      "\n",
      "With a single iterable argument, return its biggest item. The\n",
      "default keyword-only argument specifies an object to return if\n",
      "the provided iterable is empty.\n",
      "With two or more arguments, return the largest argument.\n",
      "\u001B[31mType:\u001B[39m      builtin_function_or_method"
     ]
    }
   ],
   "source": [
    "?max"
   ]
  },
  {
   "cell_type": "code",
   "execution_count": 11,
   "metadata": {
    "id": "2E6SnXewWtwB"
   },
   "outputs": [
    {
     "data": {
      "text/plain": [
       "(1+2j)"
      ]
     },
     "execution_count": 11,
     "metadata": {},
     "output_type": "execute_result"
    }
   ],
   "source": [
    "# Teste essas opções e conclua com funciona o número complexo\n",
    "complex()\n",
    "complex(1)\n",
    "complex(1,2)"
   ]
  },
  {
   "cell_type": "code",
   "execution_count": 12,
   "metadata": {
    "id": "fTkMoZc0WtwH"
   },
   "outputs": [
    {
     "name": "stdout",
     "output_type": "stream",
     "text": [
      "Help on built-in function sorted in module builtins:\n",
      "\n",
      "sorted(iterable, /, *, key=None, reverse=False)\n",
      "    Return a new list containing all items from the iterable in ascending order.\n",
      "\n",
      "    A custom key function can be supplied to customize the sort order, and the\n",
      "    reverse flag can be set to request the result in descending order.\n",
      "\n"
     ]
    }
   ],
   "source": [
    "# Execute o comando help()\n",
    "help(sorted)"
   ]
  },
  {
   "cell_type": "code",
   "metadata": {
    "id": "sKdxe_c0WtwS",
    "ExecuteTime": {
     "end_time": "2025-04-02T18:26:55.284750Z",
     "start_time": "2025-04-02T18:26:55.280388Z"
    }
   },
   "source": [
    "# Exemplo\n",
    "# Criar duas listas: first e second\n",
    "first = [11.25, 18.0, 20.0]\n",
    "second = [10.75, 9.50]\n",
    "\n",
    "# Unir as duas listas na lista full\n",
    "full = first + second\n",
    "print(full)\n",
    "\n",
    "# Ordenar a lista full em ordem decrscente e armazenar o resultado na lista full_sorted\n",
    "# full_sorted = sorted(full, reverse = True)\n",
    "full_sorted = sorted(full)\n",
    "\n",
    "# Print a lista full_sorted\n",
    "print(full_sorted)\n",
    "\n",
    "# Investigue o que ocorre se não for utilizado o parâmetro reverse\n",
    "\n",
    "# Qual é a utilidade do parâmetro key? define a regra de ordenacao do array"
   ],
   "outputs": [
    {
     "name": "stdout",
     "output_type": "stream",
     "text": [
      "[11.25, 18.0, 20.0, 10.75, 9.5]\n",
      "[9.5, 10.75, 11.25, 18.0, 20.0]\n"
     ]
    }
   ],
   "execution_count": 102
  },
  {
   "metadata": {},
   "cell_type": "markdown",
   "source": "Na ordenação de vetores, o parametro key é util para ordenar listas de estruturas"
  },
  {
   "metadata": {
    "ExecuteTime": {
     "end_time": "2025-04-02T18:47:46.993163Z",
     "start_time": "2025-04-02T18:47:46.988388Z"
    }
   },
   "cell_type": "code",
   "source": [
    "# Exemplo\n",
    "# Ordene os seguintes objetos pela data de nascimento de cada pessoa\n",
    "\n",
    "from datetime import datetime\n",
    "\n",
    "people = [\n",
    "    {'name': 'Raphael Ramos', 'age': 24, 'birthDate': '2001-04-25'},\n",
    "    {'name': 'Poliana Araújo', 'age': 23, 'birthDate': '2001-01-26'},\n",
    "    {'name': 'Gabriel Ramos', 'age': 12, 'birthDate': '2012-05-25'},\n",
    "]\n",
    "\n",
    "sorted(people, key=lambda person : datetime.strptime(person['birthDate'], '%Y-%m-%d'))\n",
    "people"
   ],
   "outputs": [
    {
     "data": {
      "text/plain": [
       "[{'name': 'Raphael Ramos', 'age': 24, 'birthDate': '2001-04-25'},\n",
       " {'name': 'Poliana Araújo', 'age': 23, 'birthDate': '2001-01-26'},\n",
       " {'name': 'Gabriel Ramos', 'age': 12, 'birthDate': '2012-05-25'}]"
      ]
     },
     "execution_count": 130,
     "metadata": {},
     "output_type": "execute_result"
    }
   ],
   "execution_count": 130
  },
  {
   "cell_type": "markdown",
   "metadata": {
    "id": "AU8CIrdHWtwd"
   },
   "source": [
    "### Lembrete:\n",
    "Em Python, todos os tipos de variáveis são classe.\n",
    "- As variáveis são objetos de classes específicas\n",
    "\n",
    "Assim, todas as variáveis possuem métodos específicos.\n",
    "- Os métodos são funções pertencentes a objetos\n",
    "\n",
    "Para acessar métodos, devemos utilizar a seguinte sintase:\n",
    "- variavel.metodo(parametros)"
   ]
  },
  {
   "cell_type": "markdown",
   "metadata": {
    "id": "J4hnxQzXWtwi"
   },
   "source": [
    "Métodos da classe String\n",
    "\n",
    "- As strings possuem com um monte de métodos específicos.\n",
    "- Para verificar mais detalhadamente, você sempre pode digitar help (str) no IPython Shell."
   ]
  },
  {
   "cell_type": "code",
   "metadata": {
    "id": "e_Z-QSufWtwl",
    "ExecuteTime": {
     "end_time": "2025-04-02T18:49:54.815535Z",
     "start_time": "2025-04-02T18:49:54.812020Z"
    }
   },
   "source": [
    "# Exemplo\n",
    "# string room\n",
    "room = \"poolhouse\"\n",
    "\n",
    "# Use o método upper() sobre a string room. Armazene a resposta em room_up\n",
    "room_up = room.upper()\n",
    "\n",
    "# Print as strings room e room_up\n",
    "print(room)\n",
    "print(room_up)\n",
    "\n",
    "# Print o número de ocorrência da letra \"o\" na string room\n",
    "print(room.count(\"o\"))"
   ],
   "outputs": [
    {
     "name": "stdout",
     "output_type": "stream",
     "text": [
      "poolhouse\n",
      "POOLHOUSE\n",
      "3\n"
     ]
    }
   ],
   "execution_count": 131
  },
  {
   "cell_type": "markdown",
   "metadata": {
    "id": "2sjTdmfy04ky"
   },
   "source": [
    "### Exemplos de alguns métodos de Listas\n",
    "- lista.index(parametro)\n",
    "- lista(count(parametro))\n",
    "- append()\n",
    "- remove(), remove o primeiro elemento da lista que casa com o parâmetro\n",
    "- reversed(), reverte a ordem dos elementos"
   ]
  },
  {
   "cell_type": "code",
   "metadata": {
    "id": "4G0rf8EsWtww",
    "ExecuteTime": {
     "end_time": "2025-04-02T18:50:24.244917Z",
     "start_time": "2025-04-02T18:50:24.241724Z"
    }
   },
   "source": [
    "# Exemplo de uso de operação com listas\n",
    "frase = \"socorram me subi no onibus em marrocos\"\n",
    "print(frase[::-1])\n",
    "frase1 = \"o po de cocaina mata maniaco cedo po\"\n",
    "print(frase1[::-1])\n",
    "\n",
    "# Alternativa aplicando o metodo join no array invertido\n",
    "# print(''.join(reversed(frase1)))"
   ],
   "outputs": [
    {
     "name": "stdout",
     "output_type": "stream",
     "text": [
      "socorram me subino on ibus em marrocos\n",
      "op odec ocainam atam aniacoc ed op o\n"
     ]
    }
   ],
   "execution_count": 135
  },
  {
   "cell_type": "code",
   "metadata": {
    "id": "ImPbsFJXWtwy",
    "ExecuteTime": {
     "end_time": "2025-04-02T18:51:07.841574Z",
     "start_time": "2025-04-02T18:51:07.837551Z"
    }
   },
   "source": [
    "# Exemplo de operação com listas\n",
    "# Criar a lista areas\n",
    "areas = [11.25, 18.0, 20.0, 10.75, 9.50]\n",
    "\n",
    "# Print o índice do elemento 20.0 na lista\n",
    "print(areas.index(20.0))\n",
    "\n",
    "# Print a quantidade de vezes que 14.5 aparece em areas\n",
    "\n",
    "print(areas.count(14.5))"
   ],
   "outputs": [
    {
     "name": "stdout",
     "output_type": "stream",
     "text": [
      "2\n",
      "0\n"
     ]
    }
   ],
   "execution_count": 137
  },
  {
   "cell_type": "code",
   "metadata": {
    "id": "UzSK-0_bWtw-",
    "ExecuteTime": {
     "end_time": "2025-04-02T18:51:14.388887Z",
     "start_time": "2025-04-02T18:51:14.385188Z"
    }
   },
   "source": [
    "# Exercício 19\n",
    "#Criar a lista areas\n",
    "areas = [11.25, 18.0, 20.0, 10.75, 9.50]\n",
    "\n",
    "# Use o método append duas vezes para incluir os valores 24.5 e 15.45 no final da lista areas\n",
    "\n",
    "areas.append(24.5)\n",
    "areas.append(15.45)\n",
    "\n",
    "# Print a lista areas\n",
    "print(areas)\n",
    "\n",
    "# Invera a ordem dos elementos na lista areas via o método reserve\n",
    "areas.reverse()\n",
    "\n",
    "# Print a lista areas\n",
    "print(areas)"
   ],
   "outputs": [
    {
     "name": "stdout",
     "output_type": "stream",
     "text": [
      "[11.25, 18.0, 20.0, 10.75, 9.5, 24.5, 15.45]\n",
      "[15.45, 24.5, 9.5, 10.75, 20.0, 18.0, 11.25]\n"
     ]
    }
   ],
   "execution_count": 138
  },
  {
   "cell_type": "markdown",
   "metadata": {
    "id": "MzdUF61uWtxE"
   },
   "source": [
    "## Módulos em Python\n",
    "- Modulos agrupam funções, métodos e tipos específicos\n",
    "\n",
    "Pacotes são implementações Módulos disponíveis em Python\n",
    "- Há centenas de pacotes disponíveis em Python.\n",
    "\n",
    "Importação de Pacotes em Python (importa todo o pacote)\n",
    "- import pacote_desejado\n",
    "- import math\n",
    "\n",
    "Para usar funções do pacotes:\n",
    "- pacote_desejado.metodo_desejado(parametros)\n",
    "- pacote_desejado.variavel_desejada\n",
    "- math.pi\n",
    "\n",
    "Para importar apenas um módulo específico de um pacote, utilizamos:\n",
    "- from pacote_desejado import modulo_desejado\n",
    "\n",
    "Exemplo: importa só o pacote sqrt do pacote math\n",
    "\n",
    "- from math import sqrt    \n",
    "- print(sqrt(25))\n",
    "\n",
    "Ao utilizar \"from package import item\", o item pode ser um subpacote, submódulo, classe, função ou variável."
   ]
  },
  {
   "cell_type": "code",
   "execution_count": 31,
   "metadata": {
    "id": "GPjXmEEKWtxF"
   },
   "outputs": [
    {
     "name": "stdout",
     "output_type": "stream",
     "text": [
      "Circunferência: 2.701769682087222\n",
      "Área:  0.5808804816487527\n"
     ]
    }
   ],
   "source": [
    "# Exemplo\n",
    "# Importar pacote math\n",
    "import math\n",
    "\n",
    "# Definição de raio\n",
    "r = 0.43\n",
    "\n",
    "\n",
    "# Cálculo de C\n",
    "C = 2 * r * math.pi\n",
    "\n",
    "# Cálculo de A\n",
    "A = math.pi * r ** 2\n",
    "\n",
    "# print valores da Circunferência e Área\n",
    "print(\"Circunferência: \" + str(C))\n",
    "print(\"Área: \" , A)"
   ]
  },
  {
   "cell_type": "code",
   "execution_count": 32,
   "metadata": {
    "id": "-iKw2qgxWtxJ"
   },
   "outputs": [
    {
     "data": {
      "text/plain": [
       "['__doc__',\n",
       " '__loader__',\n",
       " '__name__',\n",
       " '__package__',\n",
       " '__spec__',\n",
       " 'acos',\n",
       " 'acosh',\n",
       " 'asin',\n",
       " 'asinh',\n",
       " 'atan',\n",
       " 'atan2',\n",
       " 'atanh',\n",
       " 'cbrt',\n",
       " 'ceil',\n",
       " 'comb',\n",
       " 'copysign',\n",
       " 'cos',\n",
       " 'cosh',\n",
       " 'degrees',\n",
       " 'dist',\n",
       " 'e',\n",
       " 'erf',\n",
       " 'erfc',\n",
       " 'exp',\n",
       " 'exp2',\n",
       " 'expm1',\n",
       " 'fabs',\n",
       " 'factorial',\n",
       " 'floor',\n",
       " 'fmod',\n",
       " 'frexp',\n",
       " 'fsum',\n",
       " 'gamma',\n",
       " 'gcd',\n",
       " 'hypot',\n",
       " 'inf',\n",
       " 'isclose',\n",
       " 'isfinite',\n",
       " 'isinf',\n",
       " 'isnan',\n",
       " 'isqrt',\n",
       " 'lcm',\n",
       " 'ldexp',\n",
       " 'lgamma',\n",
       " 'log',\n",
       " 'log10',\n",
       " 'log1p',\n",
       " 'log2',\n",
       " 'modf',\n",
       " 'nan',\n",
       " 'nextafter',\n",
       " 'perm',\n",
       " 'pi',\n",
       " 'pow',\n",
       " 'prod',\n",
       " 'radians',\n",
       " 'remainder',\n",
       " 'sin',\n",
       " 'sinh',\n",
       " 'sqrt',\n",
       " 'sumprod',\n",
       " 'tan',\n",
       " 'tanh',\n",
       " 'tau',\n",
       " 'trunc',\n",
       " 'ulp']"
      ]
     },
     "execution_count": 32,
     "metadata": {},
     "output_type": "execute_result"
    }
   ],
   "source": [
    "dir(math)"
   ]
  },
  {
   "cell_type": "code",
   "execution_count": 33,
   "metadata": {
    "id": "VBsdcA05WtxO"
   },
   "outputs": [
    {
     "name": "stdout",
     "output_type": "stream",
     "text": [
      "40317.10572106901\n"
     ]
    }
   ],
   "source": [
    "# Exemplo de uso do pacote Math\n",
    "# Definição do raio\n",
    "r = 192500\n",
    "\n",
    "# Importar apenas a função radians do pacote math\n",
    "from math import radians\n",
    "\n",
    "# Calcular o arco correspondente a 12 graus.\n",
    "\n",
    "arco = r* radians(12)\n",
    "\n",
    "# Print o valor de arco\n",
    "print(arco)"
   ]
  },
  {
   "cell_type": "code",
   "execution_count": 34,
   "metadata": {
    "id": "_aUREtLMWtxX"
   },
   "outputs": [
    {
     "name": "stdout",
     "output_type": "stream",
     "text": [
      "40317.10572106901\n"
     ]
    }
   ],
   "source": [
    "# Exemplo de uso do pacote Math\n",
    "# Definição do raio\n",
    "r = 192500\n",
    "\n",
    "# Importar apenas a função radians do pacote math, redefinindo o nome da função\n",
    "from math import radians as francisco\n",
    "\n",
    "# Calcular o arco correspondente a 12 graus.\n",
    "\n",
    "arco = r * francisco(12)\n",
    "\n",
    "# Print o valor de arco\n",
    "print(arco)"
   ]
  },
  {
   "cell_type": "markdown",
   "metadata": {
    "id": "vRZhUmX1Wtxd"
   },
   "source": [
    "Alguns exemplos de funções matemáticas:\n",
    "- import math\n"
   ]
  },
  {
   "cell_type": "code",
   "execution_count": 35,
   "metadata": {
    "id": "glAsihQcWtxe"
   },
   "outputs": [
    {
     "name": "stdout",
     "output_type": "stream",
     "text": [
      "2.718281828459045\n",
      "3.141592653589793\n",
      "2.718281828459045\n",
      "-1.0\n",
      "1.0\n"
     ]
    }
   ],
   "source": [
    "#Exemplos de Uso de funções matemáticas do pacote Math\n",
    "import math\n",
    "print(math.exp(1.0))\n",
    "print(math.pi)\n",
    "print(math.e)\n",
    "print(math.cos( math.pi))\n",
    "teta = 0.7\n",
    "y = math.sin(teta) ** 2 + math.cos(teta) ** 2\n",
    "print(y)"
   ]
  },
  {
   "cell_type": "markdown",
   "metadata": {
    "id": "FLqPhjveWtxr"
   },
   "source": [
    "##  Comando de Controle de Fluxo\n",
    "- If\n",
    "\n",
    "    if (condição_lógica):\n",
    "         comando_1\n",
    "         comando_2\n",
    "         ...\n",
    "         comando_n\n",
    "         \n"
   ]
  },
  {
   "cell_type": "markdown",
   "metadata": {
    "id": "odpQMzYVWtxs"
   },
   "source": [
    "- If-then-Else\n",
    "\n",
    "    if (condição_lógica):\n",
    "         comando_1\n",
    "         comando_2\n",
    "         ...\n",
    "         comando_n\n",
    "     else:\n",
    "         comando_k1\n",
    "         comando_k2\n",
    "         ...\n",
    "         comando_kn"
   ]
  },
  {
   "cell_type": "markdown",
   "metadata": {
    "id": "Uihql0-0Wtxv"
   },
   "source": [
    "Descubra o erro do programa abaixo"
   ]
  },
  {
   "cell_type": "code",
   "execution_count": 37,
   "metadata": {
    "id": "nitAEIyPWtxx"
   },
   "outputs": [
    {
     "name": "stdout",
     "output_type": "stream",
     "text": [
      "a é positivo \n"
     ]
    }
   ],
   "source": [
    "# Exemplo de uso do comando if\n",
    "\n",
    "a = 11\n",
    "if (a > 0):\n",
    " print (\"a é positivo \")"
   ]
  },
  {
   "cell_type": "code",
   "execution_count": 36,
   "metadata": {
    "id": "qWCLZ4WlWtyD"
   },
   "outputs": [
    {
     "name": "stdout",
     "output_type": "stream",
     "text": [
      "Identação é FUNDAMENTAL em Python\n"
     ]
    }
   ],
   "source": [
    "# Exemplo  de uso do comando if\n",
    "a = -1\n",
    "if a > 0:\n",
    " print (\"a é positivo \")\n",
    "print(\"Identação é FUNDAMENTAL em Python\")"
   ]
  },
  {
   "cell_type": "code",
   "execution_count": null,
   "metadata": {
    "id": "jjzFHo89WtyN"
   },
   "outputs": [],
   "source": [
    "# Exemplo de uso do comando if-else\n",
    "a = -34\n",
    "if a > 0:\n",
    "  print (\"O valor de a é positivo\")\n",
    "else :\n",
    "  print (\"O valor de a não é positivo\")\n"
   ]
  },
  {
   "cell_type": "code",
   "execution_count": null,
   "metadata": {
    "id": "TPLZ6WLeWtyQ"
   },
   "outputs": [],
   "source": [
    "# Exemplo de uso do comando if-elif-else\n",
    "a = 10\n",
    "if a == 0:\n",
    " print (\"a é zero \")\n",
    "elif a < 0:\n",
    " print (\"a é negativo \")\n",
    "else :\n",
    " print (\"a é positivo \")"
   ]
  },
  {
   "cell_type": "code",
   "execution_count": null,
   "metadata": {
    "id": "Kt3LS-bVrN1O"
   },
   "outputs": [],
   "source": [
    "# Exemplo de uso de IF-ELIF\n",
    "\n",
    "# atribuindo um valor qualquer a uma variavel\n",
    "\n",
    "print(\" entre com o valor de um número inteiro: \")\n",
    "x = int(input())\n",
    "\n",
    "# verificando o valor da variavel\n",
    "if x<0:\n",
    "  print('O valor eh negativo')\n",
    "elif x<10:\n",
    "  print('O valor eh menor que 10')\n",
    "elif x<20:\n",
    "  print('O valor eh menor que 20')\n",
    "elif x<30:\n",
    "  print('O valor eh menor que 30')\n",
    "elif x<40:\n",
    "  print('O valor eh menor que 40')\n",
    "elif x<50:\n",
    "  print('O valor eh menor que 50')\n",
    "elif x<100:\n",
    "  print('O valor eh menor que 100')\n",
    "elif x<500:\n",
    "  print('O valor eh menor que 500')\n",
    "elif x<1000:\n",
    "  print('O valor eh menor que 1000')\n",
    "else:\n",
    "  print('O valor eh maior ou igual a 1000')"
   ]
  },
  {
   "cell_type": "code",
   "execution_count": 41,
   "metadata": {
    "id": "mXzhLg3KqlZH"
   },
   "outputs": [
    {
     "name": "stdout",
     "output_type": "stream",
     "text": [
      "Existem strings repetidas\n"
     ]
    }
   ],
   "source": [
    "# Exercício 20\n",
    "\n",
    "# Leia tres string\n",
    "\n",
    "# Verifique se ao menos duas delas sao iguais entre si (imprima um aviso)\n",
    "# ou se todas sao diferentes entre si (imprima outro aviso)\n",
    "str1 = input()\n",
    "str2 = input()\n",
    "str3 = input()\n",
    "\n",
    "setStr = {str1, str2, str3}\n",
    "\n",
    "if (len(setStr) == 3):\n",
    "    print(\"Todas sao diferentes\")\n",
    "else:\n",
    "    print(\"Existem strings repetidas\")"
   ]
  },
  {
   "cell_type": "code",
   "execution_count": 42,
   "metadata": {
    "id": "_Th6fvVU_sdQ"
   },
   "outputs": [
    {
     "name": "stdout",
     "output_type": "stream",
     "text": [
      "O valor de a não é positivo e o valor de b é positivo\n"
     ]
    }
   ],
   "source": [
    "\n",
    "# Exemplo de uso do comando if-else alinhado\n",
    "a = -34\n",
    "b = 10\n",
    "\n",
    "if (a > 0):\n",
    "  if (b >0):\n",
    "   print (\"O valor de a é positivo e valor de b é positivo\")\n",
    "  else:\n",
    "   print (\"O valor de a é positivo e valor de b não é positivo\")\n",
    "else :\n",
    "  if (b> 0) :\n",
    "   print (\"O valor de a não é positivo e o valor de b é positivo\")\n",
    "  else :\n",
    "   print (\"O valor de a não é positivo e o valor de b nao é positivo\")\n"
   ]
  },
  {
   "cell_type": "code",
   "execution_count": 43,
   "metadata": {
    "id": "iNKZBw8iBEgh"
   },
   "outputs": [
    {
     "name": "stdout",
     "output_type": "stream",
     "text": [
      "O valor de a é não é positivo e valor de b é positivo\n"
     ]
    }
   ],
   "source": [
    "# Exercício 21\n",
    "# Implemente o programa anterior com if-elif-else\n",
    "a = -34\n",
    "b = 10\n",
    "\n",
    "if (a > 0 and b > 0):\n",
    "    print (\"O valor de a é positivo e valor de b é positivo\")\n",
    "elif (a > 0 and b < 0):\n",
    "    print (\"O valor de a é positivo e valor de b não é positivo\")\n",
    "elif (b > 0 and a < 0):\n",
    "    print (\"O valor de a é não é positivo e valor de b é positivo\")\n",
    "else:\n",
    "    print (\"O valor de a não é positivo e o valor de b nao é positivo\")"
   ]
  },
  {
   "cell_type": "markdown",
   "metadata": {
    "id": "ihFKz5xBZe0n"
   },
   "source": [
    "### Programa Desafio 2\n",
    "- Utilize o Programa Desafio 1 como base.\n",
    "- solicite o Nome, Sexo, Peso e Altura.\n",
    "- Calcule o IMC\n",
    "- Dê o diagnóstivo:\n",
    "  - Se for homem:\n",
    "    - menor que 20 --> abaixo do peso\n",
    "   - entre 20 e 25 --> normal\n",
    "    - entre 25 e 30 --> sobrepeso\n",
    "    - acima de 30  --> obesso\n",
    "\n",
    " - Se for mulher:\n",
    "    - menor que 19 --> abaixo do peso\n",
    "    - entre 19 e 24 --> normal\n",
    "    - entre 24 e 29 --> sobrepeso\n",
    "    - acima de 29  --> obesso\n",
    "\n",
    "\n",
    "Exemplo:\n",
    " Maria, baseado no seu IMC, você está abaixo do peso."
   ]
  },
  {
   "cell_type": "code",
   "metadata": {
    "id": "O-RZ8QslZV48",
    "ExecuteTime": {
     "end_time": "2025-04-02T19:18:49.374118Z",
     "start_time": "2025-04-02T19:18:49.370667Z"
    }
   },
   "source": [
    "# Código do Programa Desafio 2\n",
    "name = \"Raphael\"\n",
    "sex = False\n",
    "weight = 89.9\n",
    "height = 1.75\n",
    "imc = weight / (height ** 2)\n",
    "diagnosis = \"\"\n",
    "\n",
    "if imc < 20 - sex:\n",
    "    diagnosis = \"Abaixo do peso\"\n",
    "elif 20 - sex <= imc < 25 - sex:\n",
    "    diagnosis = \"com peso normal\"\n",
    "elif 25 - sex <= imc < 30 - sex:\n",
    "    diagnosis = \"com sobrepeso\"\n",
    "else:\n",
    "    diagnosis = \"obeso\"\n",
    "\n",
    "print(\"{}, baseado no seu IMC {}, você está {}\".format(name, round(imc, 1), diagnosis))"
   ],
   "outputs": [
    {
     "name": "stdout",
     "output_type": "stream",
     "text": [
      "Raphael, baseado no seu IMC 29.4, você está com sobrepeso\n"
     ]
    }
   ],
   "execution_count": 153
  },
  {
   "cell_type": "markdown",
   "metadata": {
    "id": "HlcqdyNxWtyg"
   },
   "source": [
    "##  Comando de repetição (loops)\n",
    "- Comando for\n",
    "\n",
    "    for (variavel) in (sequencia):\n",
    "       comando_1\n",
    "       comando_2\n",
    "       ...\n",
    "       comando_n\n",
    "- Comando while\n",
    "    \n",
    "    while (condicao):\n",
    "       comando_1\n",
    "       comando_2\n",
    "       ...\n",
    "       comando_n"
   ]
  },
  {
   "cell_type": "markdown",
   "metadata": {
    "id": "I-MaEPPdwfiz"
   },
   "source": [
    "### Nota:\n",
    " - O comando for é usado para percorrer uma sequência qualquer."
   ]
  },
  {
   "cell_type": "code",
   "execution_count": null,
   "metadata": {
    "id": "GosKA8-OwJps"
   },
   "outputs": [],
   "source": [
    "# Exemplo de uso do comando for\n",
    "for letter in \"banana\":\n",
    "   print(letter)"
   ]
  },
  {
   "cell_type": "markdown",
   "metadata": {
    "id": "F79jSvWYwsWs"
   },
   "source": [
    "- Também podemos percorrer um intervalo numerico com o range."
   ]
  },
  {
   "cell_type": "code",
   "execution_count": null,
   "metadata": {
    "id": "uCSsy8_dwXGB"
   },
   "outputs": [],
   "source": [
    "# Exemplo de uso do comando for\n",
    "\n",
    "for number in range(10):\n",
    "  print(number)"
   ]
  },
  {
   "cell_type": "code",
   "execution_count": null,
   "metadata": {
    "id": "OeZYS7fzw2xH"
   },
   "outputs": [],
   "source": [
    "# Exemplo de uso do comando for\n",
    "\n",
    "for x in range(5, 15):\n",
    "  print('O numero é ' + str(x))"
   ]
  },
  {
   "cell_type": "code",
   "execution_count": null,
   "metadata": {
    "id": "nx2n_og5xLA-"
   },
   "outputs": [
    {
     "name": "stdout",
     "output_type": "stream",
     "text": [
      " entre com um número inteiro positivo: \n",
      "9 x 1 = 9\n",
      "9 x 2 = 18\n",
      "9 x 3 = 27\n",
      "9 x 4 = 36\n",
      "9 x 5 = 45\n",
      "9 x 6 = 54\n",
      "9 x 7 = 63\n",
      "9 x 8 = 72\n",
      "9 x 9 = 81\n",
      "9 x 10 = 90\n"
     ]
    }
   ],
   "source": [
    "# Exercício 22\n",
    "# Implemente um laco que imprima a tabuada de um número\n",
    "\n",
    "print(\" entre com um número inteiro positivo: \")\n",
    "base = int(input())\n",
    "\n",
    "# Escreve o restante do código utilizando o comendo for\n",
    "for number in range(1,11):\n",
    "    print(\"{} x {} = {}\".format(base, number, base * number))\n"
   ]
  },
  {
   "cell_type": "code",
   "execution_count": null,
   "metadata": {
    "id": "aCK7XiE3ydLN"
   },
   "outputs": [],
   "source": [
    "# Exemplo - uso do comando for\n",
    "\n",
    "print(\"O range() pode ter o passo entre os elementos especificados.\")\n",
    "print( \"Neste exemplo, o passo é 10\")\n",
    "\n",
    "for y in range(0, 100, 10):\n",
    "  print('O numero eh ' + str(y))"
   ]
  },
  {
   "cell_type": "code",
   "execution_count": 60,
   "metadata": {
    "id": "zzSjDSvrzBDA"
   },
   "outputs": [
    {
     "name": "stdout",
     "output_type": "stream",
     "text": [
      "0 5 10 15 20 25 30 35 40 45 50 "
     ]
    }
   ],
   "source": [
    "# Exercíco 23\n",
    "\n",
    "# Implemente um laco que exiba os multiplos de 5 entre 0 e 50 (inclusive)\n",
    "for number in range(0,51):\n",
    "    if number % 5 == 0:\n",
    "        print(number, end=' ')"
   ]
  },
  {
   "cell_type": "code",
   "metadata": {
    "id": "3Iozwd8KWtyi",
    "ExecuteTime": {
     "end_time": "2025-04-02T19:23:28.929575Z",
     "start_time": "2025-04-02T19:23:28.923127Z"
    }
   },
   "source": [
    "# Exemplos de uso do comando for\n",
    "print(\"Primeiro print\")\n",
    "for i in range(2,5):\n",
    "    print(i)\n",
    "print(\"Segundo print\")\n",
    "for i in range(5):\n",
    "    print(i)\n",
    "print(\"Terceiro print\")\n",
    "lista = [\"p\", \"y\", \"t\", \"h\", \"o\", \"n\"]\n",
    "for item in lista:\n",
    "    print (item, end=' ')"
   ],
   "outputs": [
    {
     "name": "stdout",
     "output_type": "stream",
     "text": [
      "Primeiro print\n",
      "2\n",
      "3\n",
      "4\n",
      "Segundo print\n",
      "0\n",
      "1\n",
      "2\n",
      "3\n",
      "4\n",
      "Terceiro print\n",
      "p y t h o n "
     ]
    }
   ],
   "execution_count": 154
  },
  {
   "cell_type": "code",
   "execution_count": null,
   "metadata": {
    "id": "hUxvQ8URWtyp"
   },
   "outputs": [],
   "source": [
    "# Exemplo de uso do comando for\n",
    "for x in [1,2,6]:\n",
    " print(x)"
   ]
  },
  {
   "cell_type": "code",
   "execution_count": 47,
   "metadata": {
    "id": "jNXGoyp4Wtyt"
   },
   "outputs": [
    {
     "name": "stdout",
     "output_type": "stream",
     "text": [
      "Uso do enumerate para se obter índice numérico\n",
      "0 p\n",
      "1 y\n",
      "2 t\n",
      "3 h\n",
      "4 o\n",
      "5 n\n"
     ]
    }
   ],
   "source": [
    "# Exemplo de uso do comando for\n",
    "print(\"Uso do enumerate para se obter índice numérico\")\n",
    "for indice, valor in enumerate([\"p\", \"y\", \"t\", \"h\", \"o\", \"n\"]):\n",
    "    print (indice, valor)"
   ]
  },
  {
   "cell_type": "code",
   "execution_count": 48,
   "metadata": {
    "id": "5Q1XZhItWtyz"
   },
   "outputs": [
    {
     "name": "stdout",
     "output_type": "stream",
     "text": [
      "[0, 1, 4, 9, 16]\n"
     ]
    }
   ],
   "source": [
    "#Exemplo - É possível implementar do comando \"for\" via lista\n",
    "lista1 = [x**2 for x in range(0,5)]\n",
    "print(lista1)"
   ]
  },
  {
   "cell_type": "code",
   "execution_count": 49,
   "metadata": {
    "id": "eCOKf5SXWty3"
   },
   "outputs": [
    {
     "data": {
      "text/plain": [
       "[bool, str, float, int]"
      ]
     },
     "execution_count": 49,
     "metadata": {},
     "output_type": "execute_result"
    }
   ],
   "source": [
    "#Exemplo - É possível implementar do comando \"for\" via lista\n",
    "lista2 = [True, \"2\", 3.0, 4]\n",
    "[type(item) for item in lista2]"
   ]
  },
  {
   "cell_type": "markdown",
   "metadata": {
    "id": "L1Vy98sEzOMN"
   },
   "source": [
    "### Nota:\n",
    "- É possivel encadear um laco dentro de outro (sem limites)."
   ]
  },
  {
   "cell_type": "code",
   "execution_count": 50,
   "metadata": {
    "id": "Rc4987AlzWaL"
   },
   "outputs": [
    {
     "name": "stdout",
     "output_type": "stream",
     "text": [
      "O valor de a é: 0\n",
      " \t O valor de b é: 0\n",
      " \t O valor de b é: 1\n",
      " \t O valor de b é: 2\n",
      " \t O valor de b é: 3\n",
      " \t O valor de b é: 4\n",
      "O valor de a é: 1\n",
      " \t O valor de b é: 0\n",
      " \t O valor de b é: 1\n",
      " \t O valor de b é: 2\n",
      " \t O valor de b é: 3\n",
      " \t O valor de b é: 4\n",
      "O valor de a é: 2\n",
      " \t O valor de b é: 0\n",
      " \t O valor de b é: 1\n",
      " \t O valor de b é: 2\n",
      " \t O valor de b é: 3\n",
      " \t O valor de b é: 4\n",
      "O valor de a é: 3\n",
      " \t O valor de b é: 0\n",
      " \t O valor de b é: 1\n",
      " \t O valor de b é: 2\n",
      " \t O valor de b é: 3\n",
      " \t O valor de b é: 4\n",
      "O valor de a é: 4\n",
      " \t O valor de b é: 0\n",
      " \t O valor de b é: 1\n",
      " \t O valor de b é: 2\n",
      " \t O valor de b é: 3\n",
      " \t O valor de b é: 4\n",
      "O valor de a é: 5\n",
      " \t O valor de b é: 0\n",
      " \t O valor de b é: 1\n",
      " \t O valor de b é: 2\n",
      " \t O valor de b é: 3\n",
      " \t O valor de b é: 4\n",
      "O valor de a é: 6\n",
      " \t O valor de b é: 0\n",
      " \t O valor de b é: 1\n",
      " \t O valor de b é: 2\n",
      " \t O valor de b é: 3\n",
      " \t O valor de b é: 4\n",
      "O valor de a é: 7\n",
      " \t O valor de b é: 0\n",
      " \t O valor de b é: 1\n",
      " \t O valor de b é: 2\n",
      " \t O valor de b é: 3\n",
      " \t O valor de b é: 4\n",
      "O valor de a é: 8\n",
      " \t O valor de b é: 0\n",
      " \t O valor de b é: 1\n",
      " \t O valor de b é: 2\n",
      " \t O valor de b é: 3\n",
      " \t O valor de b é: 4\n",
      "O valor de a é: 9\n",
      " \t O valor de b é: 0\n",
      " \t O valor de b é: 1\n",
      " \t O valor de b é: 2\n",
      " \t O valor de b é: 3\n",
      " \t O valor de b é: 4\n"
     ]
    }
   ],
   "source": [
    "# Exemplo for encadeado\n",
    "\n",
    "for a in range(0,10):\n",
    "  print(\"O valor de a é: \" + str(a))\n",
    "  for b in range(0,5):\n",
    "    print(\" \\t O valor de b é: \" + str(b))"
   ]
  },
  {
   "cell_type": "code",
   "execution_count": 52,
   "metadata": {
    "id": "WO874PKfWty8"
   },
   "outputs": [
    {
     "name": "stdout",
     "output_type": "stream",
     "text": [
      "0\n",
      "1\n",
      "2\n",
      "3\n",
      "4\n",
      "5\n"
     ]
    }
   ],
   "source": [
    "# Exemplo de uso do comando while\n",
    "count = 0\n",
    "while count <= 5:\n",
    "    print(count)\n",
    "    count += 1"
   ]
  },
  {
   "cell_type": "code",
   "execution_count": 53,
   "metadata": {
    "id": "y7Qc_tDqWtzA"
   },
   "outputs": [
    {
     "name": "stdout",
     "output_type": "stream",
     "text": [
      "0\n",
      "1\n",
      "2\n",
      "3\n"
     ]
    }
   ],
   "source": [
    "# Exemplo de uso do comando while com break\n",
    "count = 0\n",
    "while count <= 5:\n",
    "    print(count)\n",
    "    count += 1\n",
    "    if count > 3: break"
   ]
  },
  {
   "cell_type": "code",
   "execution_count": null,
   "metadata": {
    "id": "AIFplMKNWtzD"
   },
   "outputs": [],
   "source": [
    "# Comando else no final de um loop é executado após o término do loop\n",
    "#\n",
    "# Loop while\n",
    "#\n",
    "count = 0\n",
    "while count <= 5:\n",
    "    print(count)\n",
    "    count += 1\n",
    "    if(count == 3):break\n",
    "else:\n",
    "    print('após iteração')\n",
    "\n",
    "#\n",
    "# Loop for\n",
    "#\n",
    "for i in range(5):\n",
    "    print(i)\n",
    "else:\n",
    "    print('após iteração')\n"
   ]
  },
  {
   "cell_type": "markdown",
   "metadata": {
    "id": "YwXCn5UyWtzI"
   },
   "source": [
    "## Definição de Função em Python\n",
    "    \n",
    "    def funcao(lista_parametros):\n",
    "       comando_1\n",
    "       comando_2\n",
    "       ...\n",
    "       comando_n\n",
    "       return(variavel_de_saida)"
   ]
  },
  {
   "cell_type": "markdown",
   "metadata": {
    "id": "Ra8NPh0nu5-L"
   },
   "source": [
    "### Função:\n",
    "- função sem valor de retorno - procedimento"
   ]
  },
  {
   "cell_type": "code",
   "metadata": {
    "id": "gouic33wWtzK",
    "ExecuteTime": {
     "end_time": "2025-04-02T19:24:34.440696Z",
     "start_time": "2025-04-02T19:24:34.435586Z"
    }
   },
   "source": [
    "# exemplo de função sem retorno de variáveis\n",
    "\n",
    "def hello(meu_nome):\n",
    "  print('Olá,',meu_nome, \"kkk\")"
   ],
   "outputs": [],
   "execution_count": 155
  },
  {
   "cell_type": "code",
   "execution_count": null,
   "metadata": {
    "colab": {
     "base_uri": "https://localhost:8080/"
    },
    "executionInfo": {
     "elapsed": 1054,
     "status": "ok",
     "timestamp": 1611667186493,
     "user": {
      "displayName": "Luiz Affonso H Guedes de Oliveira",
      "photoUrl": "https://lh3.googleusercontent.com/a-/AOh14Gi-j_30n-0eRqio7t2hV7W6QYvDnHPAS4QDlpjBzg=s64",
      "userId": "10475189423049571002"
     },
     "user_tz": 180
    },
    "id": "5eVsjzx1WtzY",
    "outputId": "1e0957d3-5856-4d7c-ac87-2757801fddc7"
   },
   "outputs": [
    {
     "name": "stdout",
     "output_type": "stream",
     "text": [
      "Olá, John Snow. You know nothing! kkk\n"
     ]
    }
   ],
   "source": [
    "hello(\"John Snow. You know nothing!\")"
   ]
  },
  {
   "cell_type": "markdown",
   "metadata": {
    "id": "pZtaxUbcuJod"
   },
   "source": [
    "### Função:\n",
    "- Uso de parâmetros Defaults"
   ]
  },
  {
   "cell_type": "code",
   "execution_count": null,
   "metadata": {
    "id": "HSzogyqcWtzg"
   },
   "outputs": [],
   "source": [
    "def hello(meu_nome,idade=10):\n",
    "  print('Olá, ',meu_nome,'\\nSua idade é:',idade)"
   ]
  },
  {
   "cell_type": "code",
   "execution_count": null,
   "metadata": {
    "id": "LGqJSKCzWtzm"
   },
   "outputs": [],
   "source": [
    "hello(\"João da Silva\", 21)"
   ]
  },
  {
   "cell_type": "code",
   "execution_count": null,
   "metadata": {
    "id": "fIEMsGA3Wtzt"
   },
   "outputs": [],
   "source": [
    "hello(\"João da Silva\")"
   ]
  },
  {
   "cell_type": "code",
   "metadata": {
    "id": "cbKZxFjkucCl",
    "ExecuteTime": {
     "end_time": "2025-04-02T19:26:09.651906Z",
     "start_time": "2025-04-02T19:26:09.647253Z"
    }
   },
   "source": [
    "# Exercíco - Reescreva a função hello(), acrescentando o parâmetro default altura = 1.73\n",
    "def hello(meu_nome, idade=10, altura=1.73):\n",
    "    print('Olá, ',meu_nome,'\\nSua idade é:',idade, '\\nSua altura é:',altura)"
   ],
   "outputs": [],
   "execution_count": 156
  },
  {
   "cell_type": "code",
   "metadata": {
    "id": "h3OAwJOAuyEf",
    "ExecuteTime": {
     "end_time": "2025-04-02T19:26:10.941696Z",
     "start_time": "2025-04-02T19:26:10.936589Z"
    }
   },
   "source": [
    "hello(\"João da Silva\")"
   ],
   "outputs": [
    {
     "name": "stdout",
     "output_type": "stream",
     "text": [
      "Olá,  João da Silva \n",
      "Sua idade é: 10 \n",
      "Sua altura é: 1.73\n"
     ]
    }
   ],
   "execution_count": 157
  },
  {
   "cell_type": "markdown",
   "metadata": {
    "id": "O1RflDZPvLbS"
   },
   "source": [
    "### Função:\n",
    "- função com valor de retorno"
   ]
  },
  {
   "cell_type": "code",
   "metadata": {
    "id": "OzsKMlwNWtz3",
    "ExecuteTime": {
     "end_time": "2025-04-02T19:26:22.533753Z",
     "start_time": "2025-04-02T19:26:22.527687Z"
    }
   },
   "source": [
    "# Exemplo de função com valor de retorno\n",
    "def calcular_pagamento(horas, taxa):\n",
    "    salario=float(horas)*float(taxa)\n",
    "    return (salario)"
   ],
   "outputs": [],
   "execution_count": 158
  },
  {
   "cell_type": "code",
   "metadata": {
    "id": "rMFpatabWtz-",
    "ExecuteTime": {
     "end_time": "2025-04-02T19:26:28.100817Z",
     "start_time": "2025-04-02T19:26:28.097296Z"
    }
   },
   "source": [
    "total_salario = calcular_pagamento(40,20)\n",
    "print('O valor de seus rendimentos é R$',total_salario)"
   ],
   "outputs": [
    {
     "name": "stdout",
     "output_type": "stream",
     "text": [
      "O valor de seus rendimentos é R$ 800.0\n"
     ]
    }
   ],
   "execution_count": 159
  },
  {
   "cell_type": "code",
   "metadata": {
    "id": "Dm-U6r0pWt0L",
    "ExecuteTime": {
     "end_time": "2025-04-02T19:26:37.952128Z",
     "start_time": "2025-04-02T19:26:29.118407Z"
    }
   },
   "source": [
    "str_horas= input('Digite as horas: ')\n",
    "str_taxa=input('Digite a taxa: ')"
   ],
   "outputs": [],
   "execution_count": 160
  },
  {
   "cell_type": "code",
   "execution_count": null,
   "metadata": {
    "id": "S2cORsX7Wt0a"
   },
   "outputs": [],
   "source": [
    "print(str_horas)\n",
    "print(str_taxa)\n",
    "float_horas = float(str_horas)\n",
    "float_taxa = float(str_taxa)"
   ]
  },
  {
   "cell_type": "code",
   "execution_count": null,
   "metadata": {
    "id": "4_En37fHWt0g"
   },
   "outputs": [],
   "source": [
    "print(float_horas)\n",
    "print(float_taxa)\n",
    "total_salario = calcular_pagamento(float_horas,float_taxa)\n",
    "print('O valor de seus rendimentos é R$',total_salario)"
   ]
  },
  {
   "cell_type": "code",
   "execution_count": null,
   "metadata": {
    "id": "VPndZJMhWtz1"
   },
   "outputs": [],
   "source": [
    "# Segunda versão da função calculo_pagamento\n",
    "def calcular_pagamento(qtd_horas, valor_hora):\n",
    "    horas = float(qtd_horas)\n",
    "    taxa = float(valor_hora)\n",
    "    if horas <= 40:\n",
    "        salario=horas*taxa\n",
    "    else:\n",
    "        h_excd = horas - 40\n",
    "        salario = 40*taxa+(h_excd*(1.5*taxa))\n",
    "    return (salario)"
   ]
  },
  {
   "cell_type": "code",
   "execution_count": null,
   "metadata": {
    "id": "-OvmVJnhsXTD"
   },
   "outputs": [],
   "source": [
    "calcular_pagamento(20,20)"
   ]
  },
  {
   "cell_type": "markdown",
   "metadata": {
    "id": "9Ery8NSYtmZp"
   },
   "source": [
    "### Função:\n",
    "- Como ficam as variáveis definidas dentro de uma função?"
   ]
  },
  {
   "cell_type": "code",
   "metadata": {
    "id": "yewlnnqEtwQ8",
    "ExecuteTime": {
     "end_time": "2025-04-02T19:26:56.352528Z",
     "start_time": "2025-04-02T19:26:56.349628Z"
    }
   },
   "source": [
    "# Exemplo de comportamento de variáveis definidas dentro de função\n",
    "def f():\n",
    "  x = 10\n",
    "  print(x)\n"
   ],
   "outputs": [],
   "execution_count": 161
  },
  {
   "cell_type": "code",
   "metadata": {
    "id": "8lnRYTKlvd02",
    "ExecuteTime": {
     "end_time": "2025-04-02T19:27:18.932255Z",
     "start_time": "2025-04-02T19:27:18.929266Z"
    }
   },
   "source": [
    "x = 100\n",
    "f()\n",
    "print(x)"
   ],
   "outputs": [
    {
     "name": "stdout",
     "output_type": "stream",
     "text": [
      "10\n",
      "100\n"
     ]
    }
   ],
   "execution_count": 162
  },
  {
   "cell_type": "code",
   "metadata": {
    "id": "nbedu6y5wDxo",
    "ExecuteTime": {
     "end_time": "2025-04-02T19:27:29.852047Z",
     "start_time": "2025-04-02T19:27:29.848266Z"
    }
   },
   "source": [
    "# Exemplo de comportamento de variáveis definidas dentro de função\n",
    "def f(x):\n",
    "  x = 10\n",
    "  print(x)\n"
   ],
   "outputs": [],
   "execution_count": 163
  },
  {
   "cell_type": "code",
   "execution_count": 69,
   "metadata": {
    "id": "rqur7zRTwQ_n"
   },
   "outputs": [
    {
     "name": "stdout",
     "output_type": "stream",
     "text": [
      "10\n",
      "100\n"
     ]
    }
   ],
   "source": [
    "x = 100\n",
    "f(x)\n",
    "print(x)"
   ]
  },
  {
   "cell_type": "markdown",
   "metadata": {
    "id": "cIJ0dN0EwcDl"
   },
   "source": [
    "### Função:\n",
    "- Como utilizar uma variável externa dentro da função?"
   ]
  },
  {
   "cell_type": "code",
   "metadata": {
    "id": "rCeqtaTYwyCb",
    "ExecuteTime": {
     "end_time": "2025-04-02T19:27:58.342590Z",
     "start_time": "2025-04-02T19:27:58.338259Z"
    }
   },
   "source": [
    "# Exemplo de comportamento de variáveis definidas dentro de função\n",
    "# Como utilizar uma variável externa dentro de uma função\n",
    "\n",
    "def f():\n",
    "  global x\n",
    "  x = 10\n",
    "  print(x)"
   ],
   "outputs": [],
   "execution_count": 164
  },
  {
   "cell_type": "code",
   "metadata": {
    "id": "zm_fVevQxDY1",
    "ExecuteTime": {
     "end_time": "2025-04-02T19:27:59.762485Z",
     "start_time": "2025-04-02T19:27:59.757945Z"
    }
   },
   "source": [
    "x = 100\n",
    "f()\n",
    "print(x)\n",
    "\n",
    "# Observe que, diferente do exemplo anterior, a alteracao de \"x\" dentro da funcao modificou tambem a variavel \"x\" fora da funcao, por causa do modificador \"global\"\n",
    "print(\"Ufa. deu certo.\")"
   ],
   "outputs": [
    {
     "name": "stdout",
     "output_type": "stream",
     "text": [
      "10\n",
      "10\n",
      "Ufa. deu certo.\n"
     ]
    }
   ],
   "execution_count": 165
  },
  {
   "cell_type": "markdown",
   "metadata": {
    "id": "YofXX0ynwzzj"
   },
   "source": [
    "### Função:\n",
    "- É possível uma função retornar mais de uma variável?"
   ]
  },
  {
   "cell_type": "code",
   "execution_count": null,
   "metadata": {
    "id": "POkESbSTWt0l"
   },
   "outputs": [],
   "source": [
    "# Exemplo de função - retorno mais de uma variável\n",
    "print(\"Programa com exemplo para função que retorna mais de uma variável.\")\n",
    "def powers(x):\n",
    " #Retorna o quadrado, o cubo e a quarta potência de um dado número x.\"\"\"\n",
    " return x ** 2, x ** 3, x ** 4\n",
    "print(powers(2))\n",
    "x2, x3, x4 = powers(3)\n",
    "print(\"x2=\",x2,\" x3=\",x3,\"x4=\", x4)"
   ]
  },
  {
   "cell_type": "markdown",
   "metadata": {
    "id": "tgOHrAK5Wt0p"
   },
   "source": [
    "### Lembrete:\n",
    "- Não se esqueça, na definição de uma função, podemos dar defaults nos argumentos da função"
   ]
  },
  {
   "cell_type": "code",
   "execution_count": null,
   "metadata": {
    "id": "QfaJ0Xy4Wt0q"
   },
   "outputs": [],
   "source": [
    "# Exemplo de função - Valores Default em função\n",
    "\n",
    "print(\"Exemplo de uso de função com parámetros 'default'\")\n",
    "\n",
    "def myfunc(x, p=2, debug=False):\n",
    "  if debug:\n",
    "   print(\"Mensagem do módulo debug da função myfunc para x = \" + str(x) + \" elevado \" + str(p))\n",
    "  return x**p\n",
    "\n",
    "print(myfunc(5))\n",
    "print(myfunc(5, debug=True))\n",
    "print(myfunc(p=3, debug=True, x=5))\n",
    "print(myfunc(5, 3))\n",
    "print(myfunc(5, 3, True))\n",
    "print(myfunc(5, 3, False))"
   ]
  },
  {
   "cell_type": "markdown",
   "metadata": {
    "id": "tBHnBBaVWt0s"
   },
   "source": [
    "### Aspectos Avançados:\n",
    "Em Python, também podemos criar funções sem nome, usando a palavra-chave lambda:\n",
    "\n",
    "- nome_da_funcao  = lambda <parametro>: comandos"
   ]
  },
  {
   "cell_type": "code",
   "metadata": {
    "id": "WNXRTXmIWt0s",
    "ExecuteTime": {
     "end_time": "2025-04-02T19:28:19.492043Z",
     "start_time": "2025-04-02T19:28:19.488306Z"
    }
   },
   "source": [
    "# Exemplo de uso de função sem nome - Lambda Function\n",
    "# f1 e f2 são equivalentes\n",
    "\n",
    "f1 = lambda x: x**2\n",
    "\n",
    "\n",
    "def f2(x):\n",
    " return x**2"
   ],
   "outputs": [],
   "execution_count": 166
  },
  {
   "cell_type": "code",
   "metadata": {
    "id": "VZIqA7fJWt0u",
    "ExecuteTime": {
     "end_time": "2025-04-02T19:28:21.720422Z",
     "start_time": "2025-04-02T19:28:21.711986Z"
    }
   },
   "source": [
    "f1(2), f2(2)"
   ],
   "outputs": [
    {
     "data": {
      "text/plain": [
       "(4, 4)"
      ]
     },
     "execution_count": 167,
     "metadata": {},
     "output_type": "execute_result"
    }
   ],
   "execution_count": 167
  },
  {
   "cell_type": "markdown",
   "metadata": {
    "id": "HhGdphHsWt0v"
   },
   "source": [
    "### Nota:\n",
    "Esta técnica é útil, por exemplo, quando queremos passar uma única função como um argumento para outra Função.\n",
    "\n",
    "Considere a função map(f, s), que aplica a função f para todos os elementos da sequência s."
   ]
  },
  {
   "cell_type": "code",
   "execution_count": null,
   "metadata": {
    "id": "46v_HTu3Wt0w"
   },
   "outputs": [],
   "source": [
    "# Exemplo de uso da função map(),que retorna um objeto genérico\n",
    "def f(x):\n",
    "    return (x ** 2)\n",
    "lista2 = map(f, range (-3,4))\n",
    "list(lista2)"
   ]
  },
  {
   "cell_type": "code",
   "execution_count": null,
   "metadata": {
    "id": "mldCDACfWt01"
   },
   "outputs": [],
   "source": [
    "# Exemplo de uso da função map() com função anônima - lambda\n",
    "lista3 = map(lambda x: x**2, range(-3,4))\n",
    "list(lista3)"
   ]
  },
  {
   "cell_type": "markdown",
   "metadata": {
    "id": "C-zOKft7Wt02"
   },
   "source": [
    "## Classes e Objetos em Python:\n",
    "\n",
    "- As classes são as principais características da programação orientada a objetos.\n",
    "- Uma classe é uma estrutura para representar um objeto e as operações que podem ser realizadas sobre ele. Assim, uma classe pode conter atributos (variáveis) e métodos (funções).\n",
    "- Uma classe é definida quase como uma função, mas usando a palavra-chave  \"classe\".\n",
    "- A definição da classe geralmente contém uma série de método de classe (uma função em uma classe).\n",
    "- Cada método de classe deve ter um argumento denominado de \"self\" como primeiro argumento. Isto é uma auto-referência ao objeto.\n",
    "- Alguns nomes de métodos de classe têm um significado especial, por exemplo:\n",
    "    - _init_: construtor da classe - O nome do método que é invocado quando o primeiro objeto é criado.\n",
    "    - _str_: Um método que é invocado quando uma representação de uma string da classe é necessária, como, por exemplo, quando deseja-se usar um print()."
   ]
  },
  {
   "cell_type": "markdown",
   "metadata": {
    "id": "wAVnHKOSBNZj"
   },
   "source": [
    "## Classes - Estrutura Básica\n",
    "\n",
    "class Nome_da_Classe (Classe_Pai):\n",
    "            atributo_1\n",
    "            ...\n",
    "            atributo_n\n",
    "            \n",
    "            # ----- método construtor  -----\n",
    "            def _init_(self, par1, par2, ...):\n",
    "            \n",
    "            #  ---- outros métodos    -------\n",
    "            \n",
    "            def metodo_1(self, par1, ...):\n",
    "                 ...\n",
    "            \n",
    "            def metodo_m(self, parX, ...):     \n",
    "            \n",
    "            "
   ]
  },
  {
   "cell_type": "markdown",
   "metadata": {
    "id": "D0DxqENtCarL"
   },
   "source": [
    "###  Usando a Classe\n",
    " - Neste caso, usa-se a própria classe"
   ]
  },
  {
   "cell_type": "code",
   "metadata": {
    "id": "IcB-mmqQCurV",
    "ExecuteTime": {
     "end_time": "2025-04-02T19:29:05.761059Z",
     "start_time": "2025-04-02T19:29:05.754063Z"
    }
   },
   "source": [
    "# Exemplo de Classe\n",
    "\n",
    "# Definição da Classe Carro\n",
    "# A classe Pai é Object - no caso pode ser omitida\n",
    "# estado é um atributo da classe Carro\n",
    "\n",
    "class Carro(object):\n",
    "   estado = \"novo\"\n",
    "\n",
    "print(Carro.estado)\n",
    "\n",
    "Carro.estado = \"usado\"\n",
    "\n",
    "print(Carro.estado)\n",
    "\n",
    "Carro.estado = \"muito velho\"\n",
    "\n",
    "print(Carro.estado)"
   ],
   "outputs": [
    {
     "name": "stdout",
     "output_type": "stream",
     "text": [
      "novo\n",
      "usado\n",
      "muito velho\n"
     ]
    }
   ],
   "execution_count": 168
  },
  {
   "cell_type": "markdown",
   "metadata": {
    "id": "q9pYiGr_DJma"
   },
   "source": [
    "###  Usando a Classe\n",
    " - Neste caso, usa-se uma instância (objeto) da classe"
   ]
  },
  {
   "cell_type": "code",
   "execution_count": 95,
   "metadata": {
    "id": "uFy9dje-QSwZ"
   },
   "outputs": [
    {
     "name": "stdout",
     "output_type": "stream",
     "text": [
      "novo\n",
      "usado\n",
      "branco\n",
      "Bege\n"
     ]
    }
   ],
   "source": [
    "# Exemplo de Classe e Objeto\n",
    "\n",
    "# Classe Carro\n",
    "\n",
    "class Carro(object):\n",
    "    # listas de características\n",
    "    estado = \"novo\"\n",
    "    cor = \"branco\"\n",
    "\n",
    "\n",
    "    def usar(self):\n",
    "        self.estado = \"usado\"\n",
    "\n",
    "    def pintar(self):\n",
    "        self.cor = \"Bege\"\n",
    "\n",
    "meu_fusca = Carro()   # criação do objeto meu_fusca da classe Carro\n",
    "\n",
    "chevete_da_bel = Carro()\n",
    "mustang_da_veronica = Carro()\n",
    "\n",
    "print(meu_fusca.estado)\n",
    "meu_fusca.usar()\n",
    "print(meu_fusca.estado)\n",
    "\n",
    "print(chevete_da_bel.cor)\n",
    "chevete_da_bel.pintar()\n",
    "print(chevete_da_bel.cor)"
   ]
  },
  {
   "cell_type": "markdown",
   "metadata": {
    "id": "6VAekPv9SBeV"
   },
   "source": [
    "### Dúvida:\n",
    "O que ocorreria se não se usar a referência self no método usar()?"
   ]
  },
  {
   "cell_type": "code",
   "metadata": {
    "ExecuteTime": {
     "end_time": "2025-04-02T19:34:04.279315Z",
     "start_time": "2025-04-02T19:34:04.275654Z"
    }
   },
   "source": [
    "# R: ocorre erro, pois a referência self é obrigatória\n",
    "class Carro(object):\n",
    "    # listas de características\n",
    "    estado = \"novo\"\n",
    "    cor = \"branco\"\n",
    "\n",
    "    # def usar():\n",
    "    #     self.estado = \"usado\"\n",
    "\n",
    "    def pintar(self):\n",
    "        self.cor = \"Bege\"\n",
    "\n",
    "car = Carro()\n",
    "# car.usar()"
   ],
   "outputs": [],
   "execution_count": 173
  },
  {
   "metadata": {},
   "cell_type": "markdown",
   "source": "Portanto, todos os método públicos de uma classe precisam ter **self** como o primeiro argumento"
  },
  {
   "cell_type": "markdown",
   "metadata": {
    "id": "xNMHBelfS7CN"
   },
   "source": [
    "### Exercício:\n",
    "- Inclua o atributo cor na classe Carro, com valor inicial \"branco\"\n",
    "- implemente os métodos\n",
    "    -  cor pegaCor()\n",
    "    - pintaCarro(\"cor\")"
   ]
  },
  {
   "cell_type": "code",
   "metadata": {
    "id": "8wthAipaTgXJ",
    "ExecuteTime": {
     "end_time": "2025-04-02T19:34:40.107733Z",
     "start_time": "2025-04-02T19:34:40.100074Z"
    }
   },
   "source": [
    "# Exemplo de Classe e Objeto\n",
    "# Implemente o atributo cor\n",
    "# implemente os métodos pegaCor() e pintaCarro(cor)\n",
    "\n",
    "# Classe Carro\n",
    "\n",
    "class Carro(object):\n",
    "\n",
    "    estado = \"novo\"\n",
    "    cor = \"branco\"\n",
    "\n",
    "    def usar(self):\n",
    "        self.estado = \"usado\"\n",
    "\n",
    "    def pegaCor(self):\n",
    "        return(self.cor)\n",
    "\n",
    "    def pintaCarro(self,nova_cor):\n",
    "        self.cor = nova_cor\n",
    "\n",
    "meu_fusca = Carro()   # criação do objeto meu_fusca da classe Carro\n",
    "\n",
    "print(meu_fusca.estado)\n",
    "meu_fusca.usar()\n",
    "print(meu_fusca.estado)\n",
    "\n",
    "print(\"A cor do carro é: \", meu_fusca.pegaCor())\n",
    "\n",
    "meu_fusca.pintaCarro(\"Azul\")\n",
    "print(\"A cor do carro é: \", meu_fusca.pegaCor())"
   ],
   "outputs": [
    {
     "name": "stdout",
     "output_type": "stream",
     "text": [
      "novo\n",
      "usado\n",
      "A cor do carro é:  branco\n",
      "A cor do carro é:  Azul\n"
     ]
    }
   ],
   "execution_count": 174
  },
  {
   "cell_type": "markdown",
   "metadata": {
    "id": "-W6euX-EUsgY"
   },
   "source": [
    "### Classe - Usando o método construtor __init__(self, ...)"
   ]
  },
  {
   "cell_type": "code",
   "metadata": {
    "id": "Px0_JfVvUzmX",
    "ExecuteTime": {
     "end_time": "2025-04-02T19:34:48.484119Z",
     "start_time": "2025-04-02T19:34:48.480683Z"
    }
   },
   "source": [
    "class Carro(object):\n",
    "    def __init__(self, estado):\n",
    "        self.estado = estado\n",
    "\n",
    "bmw = Carro('semi-novo')\n",
    "print(bmw.estado)"
   ],
   "outputs": [
    {
     "name": "stdout",
     "output_type": "stream",
     "text": [
      "semi-novo\n"
     ]
    }
   ],
   "execution_count": 175
  },
  {
   "cell_type": "markdown",
   "metadata": {
    "id": "II_aU6urVr37"
   },
   "source": [
    "### Exercício\n",
    "Implemente a classe Carro com 03 métodos construtor\n",
    "- __init(self)\n",
    "- __init(self, estado)\n",
    "- __init(self, estado, cor)\n",
    "\n",
    "- crie um fusca sem cor e estado\n",
    "- crie um opala branco usado\n",
    "- crie uma ferrari vermelha nova\n"
   ]
  },
  {
   "cell_type": "code",
   "metadata": {
    "id": "rSTxBcecWO9S",
    "ExecuteTime": {
     "end_time": "2025-04-02T19:46:22.831497Z",
     "start_time": "2025-04-02T19:46:22.823871Z"
    }
   },
   "source": [
    "# Exemplo de Classe e Objeto\n",
    "# Implemente os 03 métodos construtures\n",
    "\n",
    "# Classe Carro\n",
    "\n",
    "class Carro(object):\n",
    "\n",
    "    #  --- primeiro método construtor  ------\n",
    "    def __init__(self, estado = \"novo\", cor = None):\n",
    "        self.estado = estado\n",
    "        self.cor = cor\n",
    "\n",
    "    # --- segundo método construtor  -------\n",
    "\n",
    "    #  --- terceiro método construtor  ------\n",
    "\n",
    "    # --- outros métodos  ----\n",
    "\n",
    "    def pegarCor(self):\n",
    "        return(self.cor)\n",
    "\n",
    "    def usar(self):\n",
    "        self.estado = \"usado\"\n",
    "\n",
    "    def pintarCarro(self, cor):\n",
    "        self.cor = cor\n",
    "\n",
    "meu_fusca = Carro() # criação do objeto meu_fusca da classe Carro\n",
    "\n",
    "print(meu_fusca.estado)\n",
    "meu_fusca.usar()\n",
    "print(meu_fusca.estado)\n",
    "\n",
    "#print(\"A cor do carro é: \", meu_fusca.pegaCor())\n",
    "\n",
    "#meu_fusca.pintaCarro(\"Azul\")\n",
    "#print(\"A cor do carro é: \", meu_fusca.pegaCor())\n",
    "\n",
    "meu_opala = Carro(\"usado\", \"branco\")\n",
    "minha_ferrari = Carro(cor = \"vermelha\")\n",
    "\n",
    "# - complete o programa usando a Ferrari e pintando\n",
    "print(\"A cor da minha Ferrari é {}\".format(minha_ferrari.cor))\n",
    "minha_ferrari.pintarCarro(\"roxo\")\n",
    "print(\"Agora, minha Ferrari é {}\".format(minha_ferrari.cor))"
   ],
   "outputs": [
    {
     "name": "stdout",
     "output_type": "stream",
     "text": [
      "novo\n",
      "usado\n",
      "A cor da minha Ferrari é vermelha\n",
      "Agora, minha Ferrari é roxo\n"
     ]
    }
   ],
   "execution_count": 196
  },
  {
   "cell_type": "markdown",
   "metadata": {
    "id": "xH0luhrVVFO6"
   },
   "source": [
    "### Classe - Criando herança de classes"
   ]
  },
  {
   "cell_type": "code",
   "metadata": {
    "id": "MbO7HxElaSPA",
    "ExecuteTime": {
     "end_time": "2025-04-02T19:46:39.115635Z",
     "start_time": "2025-04-02T19:46:39.110377Z"
    }
   },
   "source": [
    "# -- Classe Taxi, derivada da Classe Carro\n",
    "# ---- Herda todos os atributos e métodos da Classe Pai\n",
    "\n",
    "class Carro_de_Aplicativo(Carro):\n",
    " tipo = \"uber\"\n",
    "\n",
    "carro1 = Carro_de_Aplicativo()\n",
    "print(carro1.estado)\n",
    "print(carro1.tipo)"
   ],
   "outputs": [
    {
     "name": "stdout",
     "output_type": "stream",
     "text": [
      "novo\n",
      "uber\n"
     ]
    }
   ],
   "execution_count": 197
  },
  {
   "cell_type": "markdown",
   "metadata": {
    "id": "yGeMRYO7ciI5"
   },
   "source": [
    "### Outro exemplo de uso de Classe e Objetos"
   ]
  },
  {
   "cell_type": "code",
   "metadata": {
    "id": "NJW2pL1wWt02",
    "ExecuteTime": {
     "end_time": "2025-04-02T19:46:43.195672Z",
     "start_time": "2025-04-02T19:46:43.186486Z"
    }
   },
   "source": [
    "# Criação da Classe Ponto\n",
    "class Ponto:\n",
    " def __init__(self, x, y):\n",
    "  self.x = x\n",
    "  self.y = y\n",
    "\n",
    "\n",
    " def translacao(self, dx, dy):\n",
    "  self.x += dx\n",
    "  self.y += dy\n",
    "\n",
    " def __str__(self):\n",
    "  return(\"O ponto está no posição [%f, %f]\" % (self.x, self.y))"
   ],
   "outputs": [],
   "execution_count": 198
  },
  {
   "cell_type": "code",
   "metadata": {
    "id": "wKgwARmsWt09",
    "ExecuteTime": {
     "end_time": "2025-04-02T19:46:45.364673Z",
     "start_time": "2025-04-02T19:46:45.360268Z"
    }
   },
   "source": [
    "# Criação de um objeto p1 da classe Ponto\n",
    "p1 = Ponto(0, 0)\n",
    "print(p1)"
   ],
   "outputs": [
    {
     "name": "stdout",
     "output_type": "stream",
     "text": [
      "O ponto está no posição [0.000000, 0.000000]\n"
     ]
    }
   ],
   "execution_count": 199
  },
  {
   "metadata": {
    "id": "XkZggTv3Wt0_",
    "ExecuteTime": {
     "end_time": "2025-04-02T19:46:47.030567Z",
     "start_time": "2025-04-02T19:46:47.025942Z"
    }
   },
   "cell_type": "code",
   "outputs": [
    {
     "name": "stdout",
     "output_type": "stream",
     "text": [
      "O ponto está no posição [0.250000, 1.500000]\n",
      "O ponto está no posição [1.000000, 1.000000]\n",
      "0.25 1.5\n",
      "1 1\n"
     ]
    }
   ],
   "execution_count": 200,
   "source": [
    "p2 = Ponto(1, 1)\n",
    "p1.translacao(0.25, 1.5)\n",
    "print(p1)\n",
    "print(p2)\n",
    "print(p1.x, p1.y)\n",
    "print(p2.x, p2.y)"
   ]
  },
  {
   "metadata": {
    "id": "AxekF2BBWt1C"
   },
   "cell_type": "code",
   "outputs": [],
   "execution_count": null,
   "source": [
    "# Exercício - inclua os seguintes métodos na Classe Ponto\n",
    "# rotacao(angulo_em_radiano), sem retorno\n",
    "# distancia(Ponto ponto1), retorna a distância do ponto dado (parâmetro) ao ponto\n",
    "\n"
   ]
  },
  {
   "metadata": {
    "id": "n-T2RSk7ycz6"
   },
   "cell_type": "markdown",
   "source": [
    "### Exemplo de Uso de Classe e Objetos:\n",
    "Defina uma classe denominada Pessoa, com os atributos:\n",
    "- Nome, Idade\n",
    "\n",
    "E os métodos:\n",
    "- setNome(nome)\n",
    "- setIdade(idade)\n",
    "- getNome()\n",
    "- getIdade()\n"
   ]
  },
  {
   "metadata": {
    "id": "AGvRIlwO0Y34",
    "ExecuteTime": {
     "end_time": "2025-04-02T19:48:33.674991Z",
     "start_time": "2025-04-02T19:48:33.669874Z"
    }
   },
   "cell_type": "code",
   "source": [
    "# Definição da classe Pessoa\n",
    "class Pessoa:\n",
    "    def __init__(self, nome, idade):\n",
    "        self.nome = nome\n",
    "        self.idade = idade\n",
    "\n",
    "    def setNome(self, nome):\n",
    "        self.nome = nome\n",
    "\n",
    "    def setIdade(self, idade):\n",
    "        self.idade = idade\n",
    "\n",
    "    def getnome(self):\n",
    "        return self.nome\n",
    "\n",
    "    def getidade(self):\n",
    "        return self.idade"
   ],
   "outputs": [],
   "execution_count": 201
  },
  {
   "cell_type": "markdown",
   "metadata": {
    "id": "c3cCTggcc24G"
   },
   "source": [
    "### Exercício\n",
    "- Implemente a Classe Motorista como extensão da classe Pessoa com o atributo Carro\n",
    "  - Um Motorista é uma Pessoa que tem um Carro"
   ]
  },
  {
   "cell_type": "code",
   "metadata": {
    "id": "Jf_AvRnWdKab",
    "ExecuteTime": {
     "end_time": "2025-04-02T19:49:27.738145Z",
     "start_time": "2025-04-02T19:49:27.733934Z"
    }
   },
   "source": [
    "# Definição da Classe Motorista\n",
    "class Motorista(Pessoa):\n",
    "    def __init__(self, carro):\n",
    "        super().__init__(nome, idade)\n",
    "        self.carro = carro"
   ],
   "outputs": [],
   "execution_count": 204
  },
  {
   "cell_type": "code",
   "metadata": {
    "id": "UuF-PY9DdioR",
    "ExecuteTime": {
     "end_time": "2025-04-02T19:52:16.451211Z",
     "start_time": "2025-04-02T19:52:16.448087Z"
    }
   },
   "source": [
    "# Programa que cria um objeto do tipo Motorista\n",
    "# Nome: Maria\n",
    "# Idade: 25\n",
    "# carro: Gol, Azul, Usado\n",
    "motorista = Motorista(carro = Carro(estado = \"usado\", cor = \"Azul\"))\n",
    "motorista.setNome(\"Maria\")\n",
    "motorista.setIdade(25)\n",
    "motorista.carro.pintarCarro(\"roxo\")\n",
    "\n",
    "print(\"O carro de {} é {}\".format(motorista.getnome(), motorista.carro.cor))"
   ],
   "outputs": [
    {
     "name": "stdout",
     "output_type": "stream",
     "text": [
      "O carro de Maria é roxo\n"
     ]
    }
   ],
   "execution_count": 210
  },
  {
   "cell_type": "markdown",
   "metadata": {
    "id": "Kle7uEbSWt1F"
   },
   "source": [
    "## Tipo de Dado Dicionário em Python\n",
    "\n",
    "- Dicionário é um tipo de coleção, como lista, porém poderem usar qualquer tipo imutavel de dados como indice.Isto é feito a partir de uma chave, que pode ser qualquer tipo imutável, para um valor, que pode ser qualquer objeto de dados do Python.\n",
    "- Uma maneira de criar um dicionario é comecando com um dicionário vazio e depois adiconar elementos. Um dicionário vazio é denotado assim {}:"
   ]
  },
  {
   "cell_type": "code",
   "metadata": {
    "id": "3SpojpuoWt1F",
    "ExecuteTime": {
     "end_time": "2025-04-02T19:54:47.228528Z",
     "start_time": "2025-04-02T19:54:47.219566Z"
    }
   },
   "source": [
    "# Exemplo: dicionário de Portugues para Ingles\n",
    "\n",
    "por_Para_ing = {}    # início do dicionário\n",
    "por_Para_ing['um'] = 'one'\n",
    "por_Para_ing['dois'] = 'two'\n",
    "por_Para_ing"
   ],
   "outputs": [
    {
     "data": {
      "text/plain": [
       "{'um': 'one', 'dois': 'two'}"
      ]
     },
     "execution_count": 211,
     "metadata": {},
     "output_type": "execute_result"
    }
   ],
   "execution_count": 211
  },
  {
   "cell_type": "code",
   "execution_count": null,
   "metadata": {
    "id": "4rTHX445Wt1N"
   },
   "outputs": [],
   "source": [
    "por_Para_ing['um']"
   ]
  },
  {
   "cell_type": "code",
   "execution_count": null,
   "metadata": {
    "id": "oUcC9WirWt1R"
   },
   "outputs": [],
   "source": [
    "por_Para_ing['três'] = 'three'\n",
    "por_Para_ing"
   ]
  },
  {
   "cell_type": "code",
   "execution_count": null,
   "metadata": {
    "id": "RGPo1rPBWt1S"
   },
   "outputs": [],
   "source": [
    "# Exemplo: dicionário de Portugues para Ingles\n",
    "ing_Para_por = {'one': 'um', 'two': 'dois', 'three': 'três'}\n",
    "ing_Para_por"
   ]
  },
  {
   "metadata": {},
   "cell_type": "markdown",
   "source": [
    "# Comandos\n",
    "- del       Remove um par chave-valor de um dicionário\n",
    "- len       Retorna a quantidade de itens"
   ]
  },
  {
   "cell_type": "code",
   "execution_count": null,
   "metadata": {
    "id": "NjBn5V4FWt1Z"
   },
   "outputs": [],
   "source": [
    "len(ing_Para_por)"
   ]
  },
  {
   "cell_type": "code",
   "execution_count": null,
   "metadata": {
    "id": "mAPoJ4oEWt1c"
   },
   "outputs": [],
   "source": [
    "ing_Para_por"
   ]
  },
  {
   "cell_type": "code",
   "execution_count": null,
   "metadata": {
    "id": "TmCGMKPGWt1h"
   },
   "outputs": [],
   "source": [
    "del(ing_Para_por['three'])\n",
    "ing_Para_por"
   ]
  },
  {
   "cell_type": "markdown",
   "metadata": {
    "id": "HfIAIH-vWt1k"
   },
   "source": [
    "### Lembrete:\n",
    "Dicionários possuem vários métodos nativos úteis.\n",
    "\n",
    "    - keys()  \t \tRetorna uma vista das chaves no dicionário\n",
    "    - values()  \tRetorna uma vista dos valores no dicionário\n",
    "    - items() \t  Retorna uma vista dos pares chave-valor no dicionário\n",
    "    - get(key) \t  Retorna o valor associado com a chave; ou None\n",
    "    - items()     Retorna os dois valores, na forma de uma lista de tuplas - cada tupla com um par chave-valor    "
   ]
  },
  {
   "cell_type": "code",
   "execution_count": null,
   "metadata": {
    "id": "cKhNJufYWt1k"
   },
   "outputs": [],
   "source": [
    "por_Para_ing.keys()"
   ]
  },
  {
   "cell_type": "code",
   "execution_count": null,
   "metadata": {
    "id": "YV4uD45iWt1m"
   },
   "outputs": [],
   "source": [
    "por_Para_ing.values()"
   ]
  },
  {
   "cell_type": "code",
   "execution_count": null,
   "metadata": {
    "id": "vU7D4L4SWt1p"
   },
   "outputs": [],
   "source": [
    "por_Para_ing.get('um')"
   ]
  },
  {
   "cell_type": "code",
   "execution_count": null,
   "metadata": {
    "id": "4EAR5dc2Wt1u"
   },
   "outputs": [],
   "source": [
    "# Exemplo de uso de dicionários\n",
    "inventario = {'abacaxis': 430, 'bananas': 312, 'laranjas': 525, 'peras': 217}"
   ]
  },
  {
   "cell_type": "code",
   "execution_count": null,
   "metadata": {
    "id": "sEOaoz94Wt1x"
   },
   "outputs": [],
   "source": [
    "inventario"
   ]
  },
  {
   "cell_type": "code",
   "execution_count": null,
   "metadata": {
    "id": "bxd1l98-Wt12"
   },
   "outputs": [],
   "source": [
    "inventario['bananas'] = 311"
   ]
  },
  {
   "cell_type": "code",
   "execution_count": null,
   "metadata": {
    "id": "gmq3Y9BEWt14"
   },
   "outputs": [],
   "source": [
    "inventario"
   ]
  },
  {
   "cell_type": "code",
   "execution_count": null,
   "metadata": {
    "id": "dWsv8oWEWt18"
   },
   "outputs": [],
   "source": [
    "# Exemplo de uso de Dicionário\n",
    "aluno = {\n",
    "    \"nome\": \"joao\",\n",
    "    \"matricula\": 2015200101,\n",
    "    \"idade\": 39,\n",
    "    \"habilidades\": ['python', 'java', 'c/c++']\n",
    "}"
   ]
  },
  {
   "cell_type": "code",
   "execution_count": null,
   "metadata": {
    "id": "m04bJ8P8Wt2B"
   },
   "outputs": [],
   "source": [
    "print(aluno['nome'])\n",
    "print(aluno['idade'])\n",
    "print (aluno['habilidades'])"
   ]
  },
  {
   "cell_type": "markdown",
   "metadata": {
    "id": "rqhnVkC_Wt2K"
   },
   "source": [
    "## Criação de Módulo em Python\n",
    "\n",
    "- Um dos conceitos mais importantes na boa programação é reutilizar o código e evitar repetições.\n",
    "- A idéia é escrever funções e classes com um propósito e um escopo bem definidos e reutilizá-los em vez de repetir código similar em uma parte diferente de um programa (programação modular). O resultado é geralmente que a legibilidade e a manutenção de um programa são muito melhoradas. O que isso significa na prática é que nossos programas têm menos erros, são mais fáceis de estender e depurar / solucionar problemas.\n",
    "- O Python suporta programação modular em diferentes níveis. Funções e classes são exemplos de ferramentas para programação modular de baixo nível. Os módulos Python são uma construção de programação modular de nível superior, onde podemos coletar variáveis, funções e classes relacionadas em um módulo.\n",
    "- Um módulo python é definido em um arquivo python (com o ponto final do arquivo .py) e pode ser acessível a outros módulos e programas Python usando a instrução import."
   ]
  },
  {
   "cell_type": "markdown",
   "metadata": {
    "id": "RDvQON6Qi4zV"
   },
   "source": [
    "# Este Notebook está em constante construção ...\n",
    "data: 25-01-2024."
   ]
  }
 ],
 "metadata": {
  "colab": {
   "provenance": [
    {
     "file_id": "1XAqS2FHndfa9E9CaG23cIcL_slHIRmYb",
     "timestamp": 1611663802469
    }
   ]
  },
  "kernelspec": {
   "display_name": ".venv",
   "language": "python",
   "name": "python3"
  },
  "language_info": {
   "codemirror_mode": {
    "name": "ipython",
    "version": 3
   },
   "file_extension": ".py",
   "mimetype": "text/x-python",
   "name": "python",
   "nbconvert_exporter": "python",
   "pygments_lexer": "ipython3",
   "version": "3.12.3"
  }
 },
 "nbformat": 4,
 "nbformat_minor": 0
}
