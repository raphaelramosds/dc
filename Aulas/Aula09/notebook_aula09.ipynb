{
 "cells": [
  {
   "cell_type": "markdown",
   "metadata": {
    "id": "Pnm7ErpMxb6D"
   },
   "source": [
    "# Disciplina: Ciência de Dados (DCA-0131)\n",
    "Prof. Luiz Affonso Guedes\n",
    "\n",
    "### Departamento de Engenharia de Computação e Automação - DCA\n",
    "\n",
    "UFRN - 2025\n",
    "\n",
    "*OBS: Favor fazer cópia do notebook antes de alterá-lo."
   ]
  },
  {
   "cell_type": "markdown",
   "metadata": {
    "id": "YFIM9uBIi_O8"
   },
   "source": [
    "## Aula 9 - Modelos Estatísticos\n",
    "\n",
    "\n",
    "- Apresentar como usar as distribuições estatísticas no pacote SciPy-Python e obter suas medidas estatísticas.\n",
    "\n",
    "- Exemplos de aplicação."
   ]
  },
  {
   "cell_type": "markdown",
   "metadata": {
    "id": "4pAk-skwxb6H"
   },
   "source": [
    "## 1. Introdução às Distribuições Estatísticas com o Pacote SciPy\n",
    "\n",
    "- Como gerar números aleatórios?\n",
    "- O pacote stats do SciPy fornece uma gama de classes e métodos para se trabalhar com distribuições estatísitcas discretas e contínuas.\n",
    "- Importação do pacote\n",
    "    - from scipy import stats"
   ]
  },
  {
   "cell_type": "code",
   "execution_count": null,
   "metadata": {
    "id": "B4oRNwC5xb6O"
   },
   "outputs": [],
   "source": [
    "# Importação do Pacote\n",
    "\n",
    "from scipy import stats\n"
   ]
  },
  {
   "cell_type": "code",
   "execution_count": null,
   "metadata": {
    "id": "zaLrwWM4xb6Z"
   },
   "outputs": [],
   "source": [
    "# Geração de um número randômico seguindo uma distribuição normal de média ZERO e desvio padrão 1.\n",
    "stats.norm.rvs()"
   ]
  },
  {
   "cell_type": "code",
   "execution_count": null,
   "metadata": {
    "id": "V6CctNaRxb6m"
   },
   "outputs": [],
   "source": [
    "# Assinatura padrão para geração de números aleatórios seguindo distribuição normal\n",
    "# .norm,  --> é a classe de distribuição normal\n",
    "# .rvs()  --> método que gera os números aleatórios\n",
    "# variável loc é a média no caso da distribuição normal\n",
    "# variável scale é o desvio padrão no caso da distribuição normal\n",
    "# variável size é o número de amostras geradas\n",
    "# variável random_state é para geração da semente dos números\n",
    "import matplotlib.pyplot as plt\n",
    "import numpy as np\n",
    "\n",
    "size = 100000\n",
    "x = stats.norm.rvs(loc=0, scale=1, size=size, random_state=None)\n",
    "#plt.plot(x)\n",
    "plt.plot(x[:500]) # Para de plotar apenas os 500 primeiros pontos\n",
    "plt.show()"
   ]
  },
  {
   "cell_type": "code",
   "execution_count": null,
   "metadata": {
    "id": "OZcguf8B96IT"
   },
   "outputs": [],
   "source": [
    "# Geração do gráfico do Histograma da variável aleatória x\n",
    "plt.hist(x, bins=int(1+3.22*np.log(size)), density=True) # calculando a quantidade de bins\n",
    "#plt.hist(x, bins=10, density=True)\n",
    "plt.show()"
   ]
  },
  {
   "cell_type": "code",
   "execution_count": null,
   "metadata": {
    "id": "LlTVt-G3xb6v"
   },
   "outputs": [],
   "source": [
    "# Geração de 7 números com distribuição normal de média 5 e desvio padrão 2\n",
    "\n",
    "stats.norm.rvs(5,2,7)"
   ]
  },
  {
   "cell_type": "code",
   "execution_count": null,
   "metadata": {
    "id": "apgPlMa0xb63"
   },
   "outputs": [],
   "source": [
    "# Exemplo de geração e cálculo de medidas estatísticas\n",
    "\n",
    "n = 100000\n",
    "mu = 0\n",
    "sigma = 10\n",
    "print(\"Forneça o número de amostras \")\n",
    "n = int(input())\n",
    "print(\"Forneça a média da distribuição \")\n",
    "mu = float(input())\n",
    "print(\"Forneça o desvio-padrão da distribuição \")\n",
    "sigma = float(input())\n",
    "\n",
    "x = stats.norm.rvs(mu,sigma,n)\n",
    "print(\"Desvio-padrão = \" , x.std())\n",
    "minimo = x.min()\n",
    "print(\"Valor mínimo = \", minimo)\n",
    "media = x.mean()\n",
    "print(\"Valor média = \", media)\n",
    "var = x.var()\n",
    "print(\"Valor variância = \", var)\n",
    "\n",
    "plt.hist(x, bins=int(round(1 + 3.22*np.log(n))))\n",
    "plt.show()"
   ]
  },
  {
   "cell_type": "markdown",
   "metadata": {
    "id": "Blso3PRFxb6-"
   },
   "source": [
    "## 1.1. Distribuições como Classes\n",
    "\n",
    "- Lembrete: Python é uma linguagem orientada a objetos\n",
    "- As distribuições são implementadas como classes.\n",
    "- Essas classes possuem um conjunto de métodos com mesma assinatura.\n",
    "- O pacote stas do SciPy impementa as principais distribuições estatísticas com os respectivos métodos.\n",
    "\n",
    "Site da API da distribuições no Scipy: https://docs.scipy.org/doc/scipy/reference/stats.html\n",
    "    \n"
   ]
  },
  {
   "cell_type": "markdown",
   "metadata": {
    "id": "TfPiG_lQxb6_"
   },
   "source": [
    "### Métodos Básicos para Discribuições Contínuas\n",
    "Os principais métodos disponíveis para as distribuições são os seguintes:\n",
    "\n",
    "    - rvs(loc=0, scale=1, size=1, random_state=None)    ---> geram números randômicos\n",
    "    - pdf(x, loc=0, scale=1)                            ---> gera a função densidade de probabilidade\n",
    "    - cdf(x, loc=0, scale=1)                            ---> gera a função cumulativa de probabilidade\n",
    "    - ppf(q, loc=0, scale=1)                            ---> gera a função percentil, inversa da função cdf\n"
   ]
  },
  {
   "cell_type": "markdown",
   "metadata": {
    "id": "XjZKJqvnxb7B"
   },
   "source": [
    "### Métodos para Cálculo de Métricas Estatísticas\n",
    "    - median(loc=0, scale=1) \t      ---> fornece a Mediana da distribuição.\n",
    "    - mean(loc=0, scale=1) \t        ---> fornece a média da distribuição.\n",
    "    - var(loc=0, scale=1) \t         ---> fornece a Variancia da distribuição.\n",
    "    - std(loc=0, scale=1) \t         ---> fornece o Desvio Padrão da distribuição."
   ]
  },
  {
   "cell_type": "code",
   "execution_count": null,
   "metadata": {
    "id": "pywJnqEBxb7C"
   },
   "outputs": [],
   "source": [
    "print('Obtém a média de uma distribuição normal com média zero e desvio padrão 1')\n",
    "stats.norm.mean(0,1)"
   ]
  },
  {
   "cell_type": "code",
   "execution_count": null,
   "metadata": {
    "id": "2SHBV38Wxb7H"
   },
   "outputs": [],
   "source": [
    "print('Obtém o desvio-padrão de uma distribuição normal com média zero e desvio padrão 1')\n",
    "stats.norm.std(0,1)"
   ]
  },
  {
   "cell_type": "code",
   "execution_count": null,
   "metadata": {
    "id": "5zUFWcepxb7K"
   },
   "outputs": [],
   "source": [
    "# A distribuição é um objeto Scipy\n",
    "\n",
    "dist1 = stats.norm(5,2)\n",
    "dist1.mean()"
   ]
  },
  {
   "cell_type": "code",
   "execution_count": null,
   "metadata": {
    "id": "6sDVFu6Qxb7Q"
   },
   "outputs": [],
   "source": [
    "print(\"Nunca se esqueça que Python é uma Linguagem Orientada a Objetos\")\n",
    "stats.norm.rvs(0,1,100000).std()"
   ]
  },
  {
   "cell_type": "code",
   "execution_count": null,
   "metadata": {
    "id": "1SXQBAoMxb7U"
   },
   "outputs": [],
   "source": [
    "# obtenha o desvio padrão de dist2\n",
    "dist2 = stats.norm(5,2)\n",
    "\n",
    "\n",
    "std = dist2.std()\n",
    "print(f\"O desvio padrão é {std}\")"
   ]
  },
  {
   "cell_type": "markdown",
   "metadata": {
    "id": "R_QlnOaX_re-"
   },
   "source": [
    "### Funções Contínuas CDF e PDF\n",
    "Dad uma v.a. X, o histograma e as funções contínuas de distribuição acumulada, CDF - F(x), e a função densidade de probabilidade, PDF - f(x), são destritas pelos métodos:\n",
    "- hist = np.histogram(dado_x)\n",
    "- hist_dist = scipy.stats.rv_histogram(hist)\n",
    "- hist_dist.pdf(X)\n",
    "- hist_dist.cdf(X)\n",
    "\n",
    "Onde:\n",
    "- dado_X é um array numpy com n amostras de X.\n",
    "- hist é um histograma da v.a. X (construído a partir das amostras de dado_x.\n",
    "\n"
   ]
  },
  {
   "cell_type": "code",
   "execution_count": null,
   "metadata": {
    "id": "kdZuIS4y_8ad"
   },
   "outputs": [],
   "source": [
    "# Exemplo de uso de:\n",
    "# - Histograma\n",
    "# - Função Densidade de Probabilidade (PDF, FDP)\n",
    "# - Função de Distribuição Acumulada(CDF)\n",
    "\n",
    "import scipy.stats\n",
    "import numpy as np\n",
    "import matplotlib.pyplot as plt\n",
    "\n",
    "# Criando as amostras de data\n",
    "data = scipy.stats.norm.rvs(size=100000, loc=0, scale=1.5, random_state=123)\n",
    "\n",
    "# Criando um histograma a partir de data\n",
    "hist = np.histogram(data, bins=100)\n",
    "\n",
    "# Criando distribuição contínua a partir de um histograma\n",
    "hist_dist = scipy.stats.rv_histogram(hist)\n",
    "\n",
    "# Geração dos gráficos\n",
    "X = np.linspace(-5.0, 5.0, 100)\n",
    "plt.title(\"PDF from Template\")\n",
    "plt.hist(data, density=True, bins=100)\n",
    "plt.plot(X, hist_dist.pdf(X), label='PDF')\n",
    "plt.plot(X, hist_dist.cdf(X), label='CDF')\n",
    "plt.show()"
   ]
  },
  {
   "cell_type": "markdown",
   "metadata": {
    "id": "6cN0iWcBgmnK"
   },
   "source": [
    "## 2. Distribuições Discretas"
   ]
  },
  {
   "cell_type": "markdown",
   "metadata": {
    "id": "xMx7mNpCgpR6"
   },
   "source": [
    "### 2.1. Distribuição Uniforme Discreta\n",
    "\n",
    "Probability Mass Function (PMF)\n",
    "\n",
    "$$\n",
    "\\begin{equation}\n",
    "             \\nonumber P_X(x) = \\left\\{\n",
    "              \\begin{array}{l l}\n",
    "                \\frac{1}{b-a} & \\quad  a < x < b\\\\\n",
    "                0 & \\quad x < a \\textrm{ or } x > b\n",
    "              \\end{array} \\right.\n",
    "\\end{equation}\n",
    "$$\n",
    "\n",
    "$$\n",
    "EX=\\frac{a+b}{2} \\\n",
    "$$\n",
    "\n",
    "$$\n",
    "Var(X) =\\frac{(b - a)^2}{12}\n",
    "$$\n",
    "\n",
    "\n"
   ]
  },
  {
   "cell_type": "markdown",
   "metadata": {
    "id": "Cy1B7z8PoTXL"
   },
   "source": [
    "Em Python, a distribuição uniforme discreta está no módulo scipy.stats.randint\n",
    "\n",
    "A função de probabilidade de massa para for randint é:\n",
    "\n",
    "$$\n",
    "f(k)=\\frac{1}{high-low} \\ =\\frac{1}{b-a} \\\n",
    "$$\n",
    "\n",
    "\n",
    "com k = {a, a+1, ..., b-1).\n",
    "\n",
    "Para se gerar a função de probabilidad de massa usa-se:\n",
    "- randint.pmf(k, low, high, loc) ou\n",
    "- randint.pmf(k - loc, low, high).\n",
    "\n",
    "sendo loc é o incremento.\n",
    "\n",
    "Link de referência:\n",
    "https://docs.scipy.org/doc/scipy/reference/generated/scipy.stats.randint.html#scipy.stats.randint\n"
   ]
  },
  {
   "cell_type": "code",
   "execution_count": null,
   "metadata": {
    "id": "Lw6JljyRhPaz"
   },
   "outputs": [],
   "source": [
    "# Obtendo a média, variância, skew e kurtose numéricos de uma distribuição uniforme discreta\n",
    "import matplotlib.pyplot as plt\n",
    "from scipy import stats\n",
    "\n",
    "n = 1000\n",
    "a = 1\n",
    "b = 3\n",
    "\n",
    "mean, var, skew, kurt = stats.randint.stats(a, b, moments='mvsk')\n",
    "x= stats.randint.rvs(a, b, size= n)  # geração de n amostras com distribuição uniforme discreta\n",
    "print(\"Média =\", mean)\n",
    "print(\"Média Calculada = \", x.mean())\n",
    "print(\"Variância =\", var)\n",
    "print(\"Variância Calculada = \", x.var())\n",
    "print(\"Skew =\", skew)\n",
    "print(\"Skew Calculada = \", stats.skew(x))\n",
    "print(\"Kurtose =\", kurt)\n",
    "print(\"Kurtose Calculada = \", stats.kurtosis(x))\n",
    "\n"
   ]
  },
  {
   "cell_type": "code",
   "execution_count": null,
   "metadata": {
    "id": "pPQe5ORieH-8"
   },
   "outputs": [],
   "source": [
    "# Geração do historamas das amostras seguindo uma distribuição discreta uniforme\n",
    "n = 10000\n",
    "a = 1\n",
    "b = 5\n",
    "x= stats.randint.rvs(a, b, size= n)  # geração de n amostras com distribuição uniforme discreta\n",
    "plt.hist(x)\n",
    "plt.show()"
   ]
  },
  {
   "cell_type": "code",
   "execution_count": null,
   "metadata": {
    "id": "5_Fd-oH0gVw-"
   },
   "outputs": [],
   "source": [
    "# Plotando o gráfico da Função de Probabilidade de Massa\n",
    "a, b = 1, 11\n",
    "x2 = np.arange(stats.randint.ppf(0.001, a, b),\n",
    "              stats.randint.ppf(0.999, a, b))\n",
    "\n",
    "plt.plot(x2,stats.randint.pmf(x2, a, b), 'ro', ms=8, label='randint pmf')\n",
    "plt.vlines(x2, 0, stats.randint.pmf(x2, a, b), colors='b', lw=5, alpha=0.5)\n",
    "plt.show()"
   ]
  },
  {
   "cell_type": "markdown",
   "metadata": {
    "id": "oF4WpNwFW5Ri"
   },
   "source": [
    "### Exercício 1:\n",
    "Obter a média e a variância teóricas e calculadas para uma distribuição uniforme discreta, com os seguintes parâmetros:\n",
    "- n = 1000\n",
    "- a = 0\n",
    "- b = 1,2,...,10\n"
   ]
  },
  {
   "cell_type": "code",
   "execution_count": null,
   "metadata": {
    "id": "c3a9hylLXjut"
   },
   "outputs": [],
   "source": [
    "# Exercício 1\n",
    "import matplotlib.pyplot as plt\n",
    "import numpy as np\n",
    "from scipy import stats\n",
    "\n",
    "n = 1000\n",
    "a = 0\n",
    "b = np.array(range(1,11)) # b = np.arange(1,11)\n",
    "x = ??\n",
    "\n",
    "# Obtenção das 10 séries de números aleatórios com ditribuição discreta uniforme\n",
    "????\n",
    "x = stats.randint.rvs(a, b????, size= n)  # geração de n amostras com distribuição uniforme discreta\n",
    "?????\n",
    "\n",
    "# Saida dos valores de médias e variâncias teórica e calculadas\n",
    "???\n",
    "\n",
    "# Gráfico da Média Calculada em função de b[i]\n",
    "\n",
    "???\n",
    "\n",
    "# Gráfico da Variância Calculada em função de b[i]\n",
    "\n",
    "??????"
   ]
  },
  {
   "cell_type": "code",
   "execution_count": null,
   "metadata": {
    "id": "29cmTlX8f3B2"
   },
   "outputs": [],
   "source": [
    "# Gere o gráfico da função de probabilidade de massa de x\n",
    "???"
   ]
  },
  {
   "cell_type": "markdown",
   "metadata": {
    "id": "EWlDef9WkYL7"
   },
   "source": [
    "## 3. Distribuições Contínuas\n",
    "- Distribuição Uniforme Contínua\n",
    "- Distribuição Normal\n",
    "\n"
   ]
  },
  {
   "cell_type": "markdown",
   "metadata": {
    "id": "y92OEq0unhMI"
   },
   "source": [
    "### 3.1. Distribuição Uniforme Contínua\n",
    "\n",
    "$$\n",
    "\\begin{equation}\n",
    "             \\nonumber f_X(x) = \\left\\{\n",
    "              \\begin{array}{l l}\n",
    "                \\frac{1}{b-a} & \\quad  a < x < b\\\\\n",
    "                0 & \\quad x < a \\textrm{ or } x > b\n",
    "              \\end{array} \\right.\n",
    "\\end{equation}\n",
    "$$\n",
    "\n",
    "$$\n",
    "EX=\\frac{a+b}{2} \\\n",
    "$$\n",
    "\n",
    "$$\n",
    "Var(X) =\\frac{(b - a)^2}{12}\n",
    "$$"
   ]
  },
  {
   "cell_type": "markdown",
   "metadata": {
    "id": "tnOY1ZZzn0K2"
   },
   "source": [
    "Em Python, a distribuição uniforme contínua está no módulo scipy.stats.uniform.\n",
    "\n",
    "Os parâmetro são \"loc\" e \"scale\", que têm a seguinte relação com \"a\" e \"b\":\n",
    "\n",
    "$$\n",
    "loc = a\n",
    "$$\n",
    "\n",
    "$$\n",
    "scale = b - a\n",
    "$$\n",
    "\n",
    "Caso seja dado a média e a variância para gerar uma distribuição uniforme, utilize a seguintes equações para converter para \"loc\" e \"scale\":\n",
    "\n",
    "$$\n",
    "scale = \\sqrt{12*Var(x)}\n",
    "$$\n",
    "\n",
    "$$\n",
    "loc = \\frac{(2*EX - scale)}{2}\n",
    "$$\n",
    "\n",
    "As principais funções são:\n",
    "\n",
    " - uniform.rvs(loc=0, scale=1, size=1, random_state=None) - Gera a variável randômica\n",
    " - uniform.pdf(x, loc=0, scale=1) - Calcula a Função Densidade de Probabilidade\n",
    " - uniform.cdf(x, loc=0, scale=1) - Calcula a Função Distribuição Cumulativa\n",
    " - uniform.mean(loc=0, scale=1)   - Calcula a Média da distribuição\n",
    " - uniform.var(loc=0, scale=1)    - Calcula a variância da distribuição\n",
    "\n"
   ]
  },
  {
   "cell_type": "code",
   "execution_count": null,
   "metadata": {
    "id": "ITR1wlmWscRH"
   },
   "outputs": [],
   "source": [
    "# Exemplo de uso da distribuição Uniforme Contínua\n",
    "# loc = a, scale = (b-a)\n",
    "\n",
    "r = stats.uniform.rvs(loc=0, scale=10, size=100000)\n",
    "print('Média=%.4f' % r.mean())\n",
    "print('Variância=%.4f' % r.var())\n",
    "\n",
    "plt.hist(r, bins=20, density=False, histtype='stepfilled', alpha=0.2)\n",
    "plt.title('Uniform(0,10)')\n",
    "plt.ylabel('Frequência')\n",
    "plt.xlabel('Random Variable')\n",
    "plt.xlim(-5, 15)\n",
    "plt.show()\n",
    "\n",
    "plt.hist(r, bins=20, density=True, histtype='stepfilled', alpha=0.2)\n",
    "#plt.title('Uniform(0,10)')\n",
    "#plt.ylabel('Frequência - Normalizada')\n",
    "#plt.xlabel('Random Variable')\n",
    "#plt.xlim(-5, 15)\n",
    "#plt.show()\n",
    "\n",
    "x = np.linspace(-5.0, 15.0, 100000)\n",
    "y = stats.uniform.pdf(x, loc=0, scale=10.0)\n",
    "plt.plot(x,y, 'r-', lw=3, alpha=0.6)\n",
    "plt.title('Uniform(0,10)')\n",
    "plt.ylabel('PDF & Freq. Normalizada')\n",
    "plt.xlabel('Random Variable')\n",
    "plt.xlim(-5, 15)\n",
    "# plot a CDF em azul\n",
    "\n",
    "plt.show()"
   ]
  },
  {
   "cell_type": "markdown",
   "metadata": {
    "id": "E3R9DTWEtoSQ"
   },
   "source": [
    "### Exercício 2:\n",
    "Escreva um programa que dado Y = c.$X^{2}$ , obtenha o histograma a a fdp de f(Y), sendo que X é uma variável aleatória uniformemente distribuída entre 0 e 1. Teste o programa para c=1,2,3,4 e 5, e compare com os respectivos f(Y) teóricos. Analise como se comportam E[X], E[Y], Var(X) e Var(Y) em função da constante c."
   ]
  },
  {
   "cell_type": "code",
   "execution_count": null,
   "metadata": {
    "id": "owWKgt2mxDAb"
   },
   "outputs": [],
   "source": [
    "# Exercício 2\n",
    "\n",
    "????"
   ]
  },
  {
   "cell_type": "markdown",
   "metadata": {
    "id": "E1ckdcfnxrlv"
   },
   "source": [
    "### 3.2. Distribuição Normal\n",
    "\n",
    "$$\n",
    "f_X(x) = \\frac{e^{-{0.5(\\frac{x-\\mu}{\\sigma})}^2}}{\\sigma\\sqrt{2\\pi}}              \n",
    "$$\n",
    "\n",
    "$$\n",
    "E[X]=\\mu\\\n",
    "$$\n",
    "\n",
    "$$\n",
    "Var(X) =\\sigma^2\n",
    "$$\n",
    "\n",
    "Link para o site do Scipy: https://docs.scipy.org/doc/scipy/reference/generated/scipy.stats.norm.html"
   ]
  },
  {
   "cell_type": "code",
   "execution_count": null,
   "metadata": {
    "id": "r2Exra8Vxu2k"
   },
   "outputs": [],
   "source": [
    "# Utilizando o pacote Stats do Scipy\n",
    "\n",
    "# geração de n números randômicos com distribuição normal padrão\n",
    "n = 10000\n",
    "r = stats.norm.rvs(size=n)\n",
    "\n",
    "# plot o histograma de r\n",
    "#???\n",
    "\n",
    "plt.hist(r, bins=20)\n",
    "plt.show"
   ]
  },
  {
   "cell_type": "code",
   "execution_count": null,
   "metadata": {
    "id": "vqyi3wQ_E5jj"
   },
   "outputs": [],
   "source": [
    "# loc = mu = média\n",
    "# scale = sigma = desvio padrão\n",
    "\n",
    "mu = 0\n",
    "sigma = 1\n",
    "\n",
    "r = stats.norm.rvs(loc=mu, scale=sigma, size=100000)\n",
    "print('Média=%.4f' % r.mean())\n",
    "print('Variância=%.4f' % r.var())\n",
    "\n",
    "plt.hist(r, bins=20, density=False, histtype='stepfilled', alpha=0.2)\n",
    "plt.title('Distribuição Normal')\n",
    "plt.ylabel('Frequência')\n",
    "plt.xlabel('Random Variable')\n",
    "plt.show()"
   ]
  },
  {
   "cell_type": "code",
   "execution_count": null,
   "metadata": {
    "id": "Vb_odlxXFA4E"
   },
   "outputs": [],
   "source": [
    "\n",
    "x = np.linspace(-4.0, 4.0, 100000)\n",
    "y = stats.norm.pdf(x, loc=mu, scale=sigma)\n",
    "plt.plot(x,y, 'r-', lw=3, alpha=0.6)\n",
    "plt.hist(r, bins=20, density=True, histtype='stepfilled', alpha=0.2)\n",
    "plt.title('Distribuição Normal')\n",
    "plt.ylabel('PDF')\n",
    "plt.xlabel('Random Variable')\n",
    "plt.show()"
   ]
  },
  {
   "cell_type": "code",
   "execution_count": null,
   "metadata": {
    "id": "YLVxVyp0FHR4"
   },
   "outputs": [],
   "source": [
    "# Gerando a CDF da distribuição exponencial\n",
    "x = np.linspace(-2.0, 6.0, 100)\n",
    "ya = stats.expon.cdf(x, loc=mu, scale=sigma)\n",
    "plt.plot(x,ya, '.', lw=3, alpha=0.6)\n",
    "plt.title('Distribuição Normal Acumulada')\n",
    "plt.ylabel('CDF')\n",
    "plt.xlabel('Random Variable')\n",
    "plt.show()"
   ]
  },
  {
   "cell_type": "code",
   "execution_count": null,
   "metadata": {
    "id": "xOEbDoVfFL8A"
   },
   "outputs": [],
   "source": [
    "stats.norm.ppf(0.5, loc=mu, scale=sigma)"
   ]
  },
  {
   "cell_type": "code",
   "execution_count": null,
   "metadata": {
    "id": "Ve4OEShgQDHy"
   },
   "outputs": [],
   "source": [
    "# Exemplo de uso de objeto distribuição Normal\n",
    "\n",
    "# Importação de Pacotes\n",
    "import matplotlib.pyplot as plt\n",
    "import numpy as np\n",
    "from scipy import stats\n",
    "\n",
    "mu =0\n",
    "sigma = 1\n",
    "x = np.linspace(-4.0, 4.0, 100)\n",
    "\n",
    "dist3 = stats.norm(loc=mu, scale=sigma) # geração do objeto distrbribuição Normal com média mu e desvio padrão sigma\n",
    "print(dist3.cdf(0))\n",
    "print(dist3.rvs(3))\n",
    "print(dist3.ppf(.5))\n",
    "plt.plot(x,dist3.pdf(x))\n",
    "plt.show()\n"
   ]
  },
  {
   "cell_type": "code",
   "execution_count": null,
   "metadata": {
    "id": "c4iULIiWFPlg"
   },
   "outputs": [],
   "source": [
    "# Obtenha o valor da área da pdf para -sigma < x < sigma\n",
    "mu = 0\n",
    "sigma = 1\n",
    "std = 1\n",
    "area1 = stats.norm.cdf(-std, loc=mu, scale=sigma)\n",
    "area2 = stats.norm.cdf(std, loc=mu, scale=sigma)\n",
    "print(area1)\n",
    "print(area2)\n",
    "print(area2 - area1)"
   ]
  },
  {
   "cell_type": "markdown",
   "metadata": {
    "id": "RfPXK9wzFg3i"
   },
   "source": [
    "### Exercício 3:\n",
    "Dado duas v.a. X, com ditribuição uniforme, e Y, com distribuição Normal.\n",
    "- Determine os parâ dessas v.a.\n",
    "- Gere n amostras para cada distribuição.\n",
    "- Obtenha a média, variância, skew(‘s’) e kurtosis(‘k’) das duas distribuições.\n",
    "- Obtenha os gráficos dos histogramas, PDF e CDF para as duas distribuições.\n"
   ]
  },
  {
   "cell_type": "code",
   "execution_count": null,
   "metadata": {
    "id": "08zXlaTFGeJl"
   },
   "outputs": [],
   "source": [
    "# Exercício 3:\n",
    "\n",
    "# Importação do Pacote\n",
    "import matplotlib.pyplot as plt\n",
    "import numpy as np\n",
    "from scipy import stats\n",
    "\n",
    "# Definição do números de amostras e dos parâmetros das distribuiçòes uniforme e Normal.\n",
    "n = 10000  # Número de amostras\n",
    "a = 0      # parâmetro da distribuição uniforme\n",
    "b = 11     # parâmetro da distribuição uniforme\n",
    "# loc = a, scale = (b-a)\n",
    "\n",
    "mu = 5     # média da distribuição Normal\n",
    "sigma = 2  # desvio-padrão da distribuição Normal\n",
    "\n",
    "\n",
    "# Geração dos n amostras das duas distribuições\n",
    "\n",
    "uniforme = stats.uniform.rvs(loc=0, scale=10, size=n)\n",
    "normal = stats.norm.rvs(loc=mu, scale=sigma, size=n)\n",
    "\n",
    "# Obtenção das médias, variâncias, skews e kurtoses das duas v.a.\n",
    "\n",
    "???\n",
    "\n",
    "# Obtenção dos gráficos de histograma, PDF e CDF das duas v.a.\n",
    "???"
   ]
  },
  {
   "cell_type": "markdown",
   "metadata": {
    "id": "nLPvJQGbJFQ0"
   },
   "source": [
    "### Exercício 4:\n",
    "O teste de QI (Quociente de Inteligência) foi concebido para modelar uma distribuição Normal com médico 100 e desvio padrão igual a 15.\n",
    "- Escreva um programa para determinar a probabilidade de uma pessoal ter QI maior que 115.\n",
    "- Escreva um programa para determinar a probabilidade de uma pessoa ter QI entre 115 e 130."
   ]
  },
  {
   "cell_type": "code",
   "execution_count": null,
   "metadata": {
    "id": "CU-VX6jgKvxv"
   },
   "outputs": [],
   "source": [
    "# Exercício 4 - Calculo de probabilidade sobre o teste de QI\n",
    "\n",
    "# Parâmetros da distribuição do teste de QI\n",
    "mu = 100\n",
    "sigma = 15\n",
    "\n",
    "1-stats.norm.cdf(115,loc=mu, scale=sigma)\n",
    "\n",
    "# Determinação da distribuição de QI\n",
    "#????\n",
    "\n",
    "# Cálculo da pergunta 1\n",
    "# ?????\n",
    "\n",
    "# Cálculo da pergunta 2\n",
    " #?????\n",
    "\n"
   ]
  },
  {
   "cell_type": "markdown",
   "metadata": {
    "id": "yTzR7q6qQOfV"
   },
   "source": [
    "### Exercício 5:\n",
    "Uma grande empresa faz uso de milhares de lâmpadas elétricas que permanecem acessas continuamente. A vida de uma lâmpada pode ser considerada com um variável aleatória com distribuição normal, com vida média de 50 dias e desvio-padrão de 15 dias. Se no primeiro de agosto foram instaladas 8000 lâmpadas novas, aproximadamente quantas lâmpadas deverão ser substituídas no dia primeiro de setembro?\n",
    "- Escreva um programa para resolver esse problema.\n",
    "- Resposta: 816 lâmpadas."
   ]
  },
  {
   "cell_type": "code",
   "execution_count": null,
   "metadata": {
    "id": "d-kIDwQfQeA1"
   },
   "outputs": [],
   "source": [
    "# Exercício 5 - Calculo de lâmpadas a serem trocadas\n",
    "\n",
    "# Parâmetros da distribuição da vida das lâmpadas\n",
    "mu = 50\n",
    "sigma = 15\n",
    "\n",
    "# Determinação da distribuição de tempo de vida das lâmpadas\n",
    "????\n",
    "\n",
    "# Cálculo da pergunta\n",
    " ?????\n",
    "\n"
   ]
  }
 ],
 "metadata": {
  "colab": {
   "provenance": []
  },
  "kernelspec": {
   "display_name": "Python 3",
   "name": "python3"
  },
  "language_info": {
   "codemirror_mode": {
    "name": "ipython",
    "version": 3
   },
   "file_extension": ".py",
   "mimetype": "text/x-python",
   "name": "python",
   "nbconvert_exporter": "python",
   "pygments_lexer": "ipython3",
   "version": "3.6.3"
  }
 },
 "nbformat": 4,
 "nbformat_minor": 0
}
