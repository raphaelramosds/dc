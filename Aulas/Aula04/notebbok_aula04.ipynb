{
 "nbformat": 4,
 "nbformat_minor": 0,
 "metadata": {
  "colab": {
   "provenance": []
  },
  "kernelspec": {
   "display_name": "Python 3",
   "language": "python",
   "name": "python3"
  }
 },
 "cells": [
  {
   "cell_type": "markdown",
   "metadata": {
    "id": "N-mTzCHbWA7U"
   },
   "source": [
    "# Disciplina: Ciência de Dados (DCA-0131)\n",
    "Prof. Luiz Affonso Guedes\n",
    "\n",
    "### Departamento de Engenharia de Computação e Automação - DCA\n",
    "\n",
    "UFRN - 2024\n",
    "\n",
    "*OBS: Favor fazer cópia do notebook antes de alterá-lo.\n"
   ]
  },
  {
   "cell_type": "markdown",
   "metadata": {
    "id": "zUEd2WcTWA7Y"
   },
   "source": [
    "## Aula 4 - Pacote Pandas - Parte I\n",
    "\n",
    "O pacote Pandas é construído sobre os pacotes Numpy e MathPlotLib. Porém, diferentemente dos arrays de NumPy, variáveis manipuladas pelo Pandas podem ser de tipos diversos (não homogêneos). Assim, uma determinada variável pode contém elementos de diversos tipos. DataFrame e Series são exemplos de dados complexo de Pandas.\n",
    "\n",
    "- DataFrames são dados \"retangulares\", usualmente utilizados para representar informação em formato de planilha, por exemplo. Assim, as colunas devem ter as mesmas dimensões e cada coluna contém elementos de um mesmo tipo de dado.\n",
    "\n",
    "- Series são objetos tipo array uni-dimensional contendo um array de dados (equivalente ao array uni-dimensional NumPy) e um array de labels do array de dados (denominados de index da Serie). Na sua forma mais simples, Series podem conter apenas os arrays de dados. Neste caso, os indexes segue o padrão dos arrays NumPy (índices de zero a n-1).\n",
    "\n",
    "Pandas implementa uma série de operações sobre dados para usuários familiarizados com banco de dados e planilhas."
   ]
  },
  {
   "cell_type": "markdown",
   "source": [],
   "metadata": {
    "id": "iPXYs9p5NkaF"
   }
  },
  {
   "cell_type": "markdown",
   "metadata": {
    "id": "bWEQaqiEWA7b"
   },
   "source": [
    "\n",
    "\n",
    "\n",
    "### Convensão de notação:\n",
    "- from pandas import Series, DataFrame\n",
    "- import pandas as pd"
   ]
  },
  {
   "cell_type": "code",
   "metadata": {
    "id": "kTpx8Vf1WA7g",
    "ExecuteTime": {
     "end_time": "2025-04-07T23:39:46.369281Z",
     "start_time": "2025-04-07T23:39:46.366165Z"
    }
   },
   "source": [
    "# Exemplo: Importando Pandas\n",
    "\n",
    "from pandas import Series, DataFrame\n",
    "import pandas as pd\n"
   ],
   "outputs": [],
   "execution_count": 5
  },
  {
   "cell_type": "markdown",
   "metadata": {
    "id": "R4lSoiT7WA8G"
   },
   "source": [
    "## 1. Objeto do tipo Serie em Pandas"
   ]
  },
  {
   "cell_type": "code",
   "metadata": {
    "id": "skZUe9VFWA8I",
    "colab": {
     "base_uri": "https://localhost:8080/"
    },
    "executionInfo": {
     "status": "ok",
     "timestamp": 1684499413178,
     "user_tz": 180,
     "elapsed": 39,
     "user": {
      "displayName": "KEVEN BEZERRA",
      "userId": "00923506308034410447"
     }
    },
    "outputId": "1867b72b-a740-410b-fc04-9601104e80b3",
    "ExecuteTime": {
     "end_time": "2025-04-07T23:39:51.668800Z",
     "start_time": "2025-04-07T23:39:51.663932Z"
    }
   },
   "source": [
    "# Exemplo: criação de um objeto Pandas do tipo Series\n",
    "# - sem especificar os seus índices\n",
    "\n",
    "dado = pd.Series([0.25, 0.5, 0.75, 1.0])\n",
    "dado"
   ],
   "outputs": [
    {
     "data": {
      "text/plain": [
       "0    0.25\n",
       "1    0.50\n",
       "2    0.75\n",
       "3    1.00\n",
       "dtype: float64"
      ]
     },
     "execution_count": 6,
     "metadata": {},
     "output_type": "execute_result"
    }
   ],
   "execution_count": 6
  },
  {
   "cell_type": "code",
   "metadata": {
    "id": "OtylEOIKVuyl",
    "colab": {
     "base_uri": "https://localhost:8080/"
    },
    "executionInfo": {
     "status": "ok",
     "timestamp": 1684499413178,
     "user_tz": 180,
     "elapsed": 35,
     "user": {
      "displayName": "KEVEN BEZERRA",
      "userId": "00923506308034410447"
     }
    },
    "outputId": "7c54270b-854a-43ff-b4a7-068ad1ad2748",
    "ExecuteTime": {
     "end_time": "2025-04-07T23:39:55.693718Z",
     "start_time": "2025-04-07T23:39:55.689002Z"
    }
   },
   "source": [
    "type(dado)"
   ],
   "outputs": [
    {
     "data": {
      "text/plain": [
       "pandas.core.series.Series"
      ]
     },
     "execution_count": 7,
     "metadata": {},
     "output_type": "execute_result"
    }
   ],
   "execution_count": 7
  },
  {
   "cell_type": "code",
   "metadata": {
    "id": "TXh4sntbWA8R",
    "colab": {
     "base_uri": "https://localhost:8080/"
    },
    "executionInfo": {
     "status": "ok",
     "timestamp": 1684499413179,
     "user_tz": 180,
     "elapsed": 33,
     "user": {
      "displayName": "KEVEN BEZERRA",
      "userId": "00923506308034410447"
     }
    },
    "outputId": "ababcb90-ada6-4ad3-a366-48043c0d118d",
    "ExecuteTime": {
     "end_time": "2025-04-07T23:40:07.234849Z",
     "start_time": "2025-04-07T23:40:07.229340Z"
    }
   },
   "source": [
    "# Exemplo: criação de um objeto Pandas do tipo Series\n",
    "# - sem especificar os seus índices\n",
    "\n",
    "obj_Serie = Series([4, 7, -5, 3])\n",
    "print(obj_Serie)\n",
    "type(obj_Serie)"
   ],
   "outputs": [
    {
     "name": "stdout",
     "output_type": "stream",
     "text": [
      "0    4\n",
      "1    7\n",
      "2   -5\n",
      "3    3\n",
      "dtype: int64\n"
     ]
    },
    {
     "data": {
      "text/plain": [
       "pandas.core.series.Series"
      ]
     },
     "execution_count": 9,
     "metadata": {},
     "output_type": "execute_result"
    }
   ],
   "execution_count": 9
  },
  {
   "cell_type": "code",
   "metadata": {
    "id": "Dpmum7NEWA8d",
    "colab": {
     "base_uri": "https://localhost:8080/"
    },
    "executionInfo": {
     "status": "ok",
     "timestamp": 1684499413179,
     "user_tz": 180,
     "elapsed": 29,
     "user": {
      "displayName": "KEVEN BEZERRA",
      "userId": "00923506308034410447"
     }
    },
    "outputId": "d3a83769-f26c-49fb-d078-069b81328806",
    "ExecuteTime": {
     "end_time": "2025-04-07T23:40:16.973825Z",
     "start_time": "2025-04-07T23:40:16.969261Z"
    }
   },
   "source": [
    "# Exemplo: Acessando valores de um objeto do tipo Serie - Pandas\n",
    "print(obj_Serie.values)\n",
    "type(obj_Serie.values)\n"
   ],
   "outputs": [
    {
     "name": "stdout",
     "output_type": "stream",
     "text": [
      "[ 4  7 -5  3]\n"
     ]
    },
    {
     "data": {
      "text/plain": [
       "numpy.ndarray"
      ]
     },
     "execution_count": 10,
     "metadata": {},
     "output_type": "execute_result"
    }
   ],
   "execution_count": 10
  },
  {
   "cell_type": "code",
   "metadata": {
    "id": "MQJ1mfVDWA8w",
    "colab": {
     "base_uri": "https://localhost:8080/"
    },
    "executionInfo": {
     "status": "ok",
     "timestamp": 1684499413179,
     "user_tz": 180,
     "elapsed": 27,
     "user": {
      "displayName": "KEVEN BEZERRA",
      "userId": "00923506308034410447"
     }
    },
    "outputId": "ec337c1c-7918-4c4e-f7b4-9c8e6fcb001b",
    "ExecuteTime": {
     "end_time": "2025-04-07T23:40:25.304104Z",
     "start_time": "2025-04-07T23:40:25.299500Z"
    }
   },
   "source": [
    "# Exemplo: Acessando indexes de um objeto do tipo Serie - Pandas\n",
    "\n",
    "print(obj_Serie.index)\n",
    "type(obj_Serie.index)"
   ],
   "outputs": [
    {
     "name": "stdout",
     "output_type": "stream",
     "text": [
      "RangeIndex(start=0, stop=4, step=1)\n"
     ]
    },
    {
     "data": {
      "text/plain": [
       "pandas.core.indexes.range.RangeIndex"
      ]
     },
     "execution_count": 11,
     "metadata": {},
     "output_type": "execute_result"
    }
   ],
   "execution_count": 11
  },
  {
   "cell_type": "markdown",
   "metadata": {
    "id": "kGtdRel3WA8-"
   },
   "source": [
    "### Observação:\n",
    "Pelo que vimos até agora, pode parecer que o objeto Series é basicamente intercambiável com um array NumPy unidimensional. A diferença essencial é a presença do índice: enquanto o array NumPy possui um índice inteiro implícito definido para acessar os valores, a Serie Pandas possui um índice explicitamente definido associado aos valores.\n",
    "\n",
    "Esta definição explícita de índice fornece recursos adicionais do objeto Series. Por exemplo, o índice não precisa ser um número inteiro, mas pode consistir em valores de qualquer tipo desejado. Por exemplo, se quisermos, podemos usar Strings como um índice."
   ]
  },
  {
   "cell_type": "code",
   "metadata": {
    "id": "mgVI1CjoWA9E",
    "colab": {
     "base_uri": "https://localhost:8080/"
    },
    "executionInfo": {
     "status": "ok",
     "timestamp": 1684499413179,
     "user_tz": 180,
     "elapsed": 24,
     "user": {
      "displayName": "KEVEN BEZERRA",
      "userId": "00923506308034410447"
     }
    },
    "outputId": "3231638e-0caf-433d-fdf5-e457b9320917",
    "ExecuteTime": {
     "end_time": "2025-04-07T23:42:01.815150Z",
     "start_time": "2025-04-07T23:42:01.808894Z"
    }
   },
   "source": [
    "# Exemplo: criação de um objeto pandas do tipo Series - Pandas\n",
    "# - com especificação dos seus índices\n",
    "\n",
    "obj_Serie2 = Series([4, 7, -5, 3], index=['d', 'b', 'a', 'c'])\n",
    "obj_Serie2"
   ],
   "outputs": [
    {
     "data": {
      "text/plain": [
       "d    4\n",
       "b    7\n",
       "a   -5\n",
       "c    3\n",
       "dtype: int64"
      ]
     },
     "execution_count": 12,
     "metadata": {},
     "output_type": "execute_result"
    }
   ],
   "execution_count": 12
  },
  {
   "cell_type": "code",
   "metadata": {
    "id": "y1Pkk9uOWA9O",
    "colab": {
     "base_uri": "https://localhost:8080/"
    },
    "executionInfo": {
     "status": "ok",
     "timestamp": 1684499413179,
     "user_tz": 180,
     "elapsed": 21,
     "user": {
      "displayName": "KEVEN BEZERRA",
      "userId": "00923506308034410447"
     }
    },
    "outputId": "274f956c-659d-4604-997b-1dab1b0b3a92",
    "ExecuteTime": {
     "end_time": "2025-04-07T23:42:08.495440Z",
     "start_time": "2025-04-07T23:42:08.477536Z"
    }
   },
   "source": [
    "# Exemplo: Acessando elementos de Series via especificação do índice ou conjunto de índices\n",
    "print(\"O acesso a elemento de Series é similar ao de arrays NumPy\")\n",
    "print(obj_Serie2['a'])\n",
    "print(obj_Serie2[2])\n",
    "print(obj_Serie2[-2])\n",
    "print(obj_Serie2[['b', 'd', 'a']])"
   ],
   "outputs": [
    {
     "name": "stdout",
     "output_type": "stream",
     "text": [
      "O acesso a elemento de Series é similar ao de arrays NumPy\n",
      "-5\n",
      "-5\n",
      "-5\n",
      "b    7\n",
      "d    4\n",
      "a   -5\n",
      "dtype: int64\n"
     ]
    },
    {
     "name": "stderr",
     "output_type": "stream",
     "text": [
      "/tmp/ipykernel_32475/4128724960.py:4: FutureWarning: Series.__getitem__ treating keys as positions is deprecated. In a future version, integer keys will always be treated as labels (consistent with DataFrame behavior). To access a value by position, use `ser.iloc[pos]`\n",
      "  print(obj_Serie2[2])\n",
      "/tmp/ipykernel_32475/4128724960.py:5: FutureWarning: Series.__getitem__ treating keys as positions is deprecated. In a future version, integer keys will always be treated as labels (consistent with DataFrame behavior). To access a value by position, use `ser.iloc[pos]`\n",
      "  print(obj_Serie2[-2])\n"
     ]
    }
   ],
   "execution_count": 13
  },
  {
   "cell_type": "code",
   "metadata": {
    "id": "yJVbkIGGWA9d",
    "colab": {
     "base_uri": "https://localhost:8080/"
    },
    "executionInfo": {
     "status": "ok",
     "timestamp": 1684499413180,
     "user_tz": 180,
     "elapsed": 20,
     "user": {
      "displayName": "KEVEN BEZERRA",
      "userId": "00923506308034410447"
     }
    },
    "outputId": "a7fab0d8-2263-4615-d5ea-a1c0b10d425b",
    "ExecuteTime": {
     "end_time": "2025-04-07T23:42:42.479987Z",
     "start_time": "2025-04-07T23:42:42.473333Z"
    }
   },
   "source": [
    "# Exemplo: filtros nos índices em Pandas são similares aos Arrays Numpy\n",
    "\n",
    "obj_Serie2 > 0"
   ],
   "outputs": [
    {
     "data": {
      "text/plain": [
       "d     True\n",
       "b     True\n",
       "a    False\n",
       "c     True\n",
       "dtype: bool"
      ]
     },
     "execution_count": 14,
     "metadata": {},
     "output_type": "execute_result"
    }
   ],
   "execution_count": 14
  },
  {
   "cell_type": "code",
   "metadata": {
    "id": "jq95KuJkWA9p",
    "colab": {
     "base_uri": "https://localhost:8080/"
    },
    "executionInfo": {
     "status": "ok",
     "timestamp": 1684499413180,
     "user_tz": 180,
     "elapsed": 17,
     "user": {
      "displayName": "KEVEN BEZERRA",
      "userId": "00923506308034410447"
     }
    },
    "outputId": "2a611fad-e80b-44d1-da3a-fd9e92031108",
    "ExecuteTime": {
     "end_time": "2025-04-07T23:43:48.085978Z",
     "start_time": "2025-04-07T23:43:48.080449Z"
    }
   },
   "source": [
    "# Exemplo: filtros nos índices em Pandas são similares aos Arrays Numpy\n",
    "\n",
    "obj_Serie2[obj_Serie2 > 0]"
   ],
   "outputs": [
    {
     "data": {
      "text/plain": [
       "d    4\n",
       "b    7\n",
       "c    3\n",
       "dtype: int64"
      ]
     },
     "execution_count": 19,
     "metadata": {},
     "output_type": "execute_result"
    }
   ],
   "execution_count": 19
  },
  {
   "cell_type": "code",
   "metadata": {
    "id": "DLG27sIVWA91",
    "colab": {
     "base_uri": "https://localhost:8080/"
    },
    "executionInfo": {
     "status": "ok",
     "timestamp": 1684499413180,
     "user_tz": 180,
     "elapsed": 14,
     "user": {
      "displayName": "KEVEN BEZERRA",
      "userId": "00923506308034410447"
     }
    },
    "outputId": "6b51dc72-2aaf-4c32-e1a2-527a05648343",
    "ExecuteTime": {
     "end_time": "2025-04-07T23:43:49.414265Z",
     "start_time": "2025-04-07T23:43:49.409298Z"
    }
   },
   "source": [
    "# Exemplo: filtro nos índices de Arrays Numpy\n",
    "\n",
    "import numpy as np\n",
    "A = np.array([1, 4, 2, 5, 3])\n",
    "A[A>2]"
   ],
   "outputs": [
    {
     "data": {
      "text/plain": [
       "array([4, 5, 3])"
      ]
     },
     "execution_count": 20,
     "metadata": {},
     "output_type": "execute_result"
    }
   ],
   "execution_count": 20
  },
  {
   "cell_type": "code",
   "metadata": {
    "id": "6j7tSu8XWA98",
    "colab": {
     "base_uri": "https://localhost:8080/"
    },
    "executionInfo": {
     "status": "ok",
     "timestamp": 1684499413180,
     "user_tz": 180,
     "elapsed": 12,
     "user": {
      "displayName": "KEVEN BEZERRA",
      "userId": "00923506308034410447"
     }
    },
    "outputId": "eb9b08cf-4232-4752-942c-139add9ddffd"
   },
   "source": [
    "# Exemplo: As operações preservam os índices dos objetos Series - Pandas\n",
    "print(obj_Serie2*3)\n",
    "print()\n",
    "print(obj_Serie2**2)"
   ],
   "execution_count": null,
   "outputs": [
    {
     "output_type": "stream",
     "name": "stdout",
     "text": [
      "d    12\n",
      "b    21\n",
      "a   -15\n",
      "c     9\n",
      "dtype: int64\n",
      "\n",
      "d    16\n",
      "b    49\n",
      "a    25\n",
      "c     9\n",
      "dtype: int64\n"
     ]
    }
   ]
  },
  {
   "cell_type": "markdown",
   "metadata": {
    "id": "Ya_o3___WA-J"
   },
   "source": [
    "### Observação:\n",
    "Também é  possível passar dados do tipo dictionaries como parâmetros para Series Pandas, como no exemplo abaixo.\n"
   ]
  },
  {
   "cell_type": "code",
   "metadata": {
    "id": "jTdej3TdWA-K",
    "colab": {
     "base_uri": "https://localhost:8080/"
    },
    "executionInfo": {
     "status": "ok",
     "timestamp": 1684499413181,
     "user_tz": 180,
     "elapsed": 9,
     "user": {
      "displayName": "KEVEN BEZERRA",
      "userId": "00923506308034410447"
     }
    },
    "outputId": "4a8fe386-7d29-473e-b074-69d72ecf59df",
    "ExecuteTime": {
     "end_time": "2025-04-07T23:43:26.174019Z",
     "start_time": "2025-04-07T23:43:26.167823Z"
    }
   },
   "source": [
    "# Exemplo de Series - Pandas usando tipos dictioneries\n",
    "\n",
    "idadeD = {'Maria': 24, 'Pedro': 22, 'Mariana': 21, 'Joao': 20}\n",
    "idadeSerie = Series(idadeD)\n",
    "idadeSerie"
   ],
   "outputs": [
    {
     "data": {
      "text/plain": [
       "Maria      24\n",
       "Pedro      22\n",
       "Mariana    21\n",
       "Joao       20\n",
       "dtype: int64"
      ]
     },
     "execution_count": 17,
     "metadata": {},
     "output_type": "execute_result"
    }
   ],
   "execution_count": 17
  },
  {
   "cell_type": "code",
   "metadata": {
    "id": "CPZy2SqtWA-P",
    "colab": {
     "base_uri": "https://localhost:8080/"
    },
    "executionInfo": {
     "status": "ok",
     "timestamp": 1684499413840,
     "user_tz": 180,
     "elapsed": 665,
     "user": {
      "displayName": "KEVEN BEZERRA",
      "userId": "00923506308034410447"
     }
    },
    "outputId": "3416f76d-698d-40f6-e3a6-71afd2dcde01",
    "ExecuteTime": {
     "end_time": "2025-04-07T23:44:22.779436Z",
     "start_time": "2025-04-07T23:44:22.774016Z"
    }
   },
   "source": [
    "# Exemplo de Series - Pandas usando tipos dictionaries\n",
    "\n",
    "idadeLista = ['Alice', 'Pedro', 'Mariana', 'Joao']\n",
    "idadeSerie = Series(idadeD, index=idadeLista)\n",
    "idadeSerie"
   ],
   "outputs": [
    {
     "data": {
      "text/plain": [
       "Alice       NaN\n",
       "Pedro      22.0\n",
       "Mariana    21.0\n",
       "Joao       20.0\n",
       "dtype: float64"
      ]
     },
     "execution_count": 22,
     "metadata": {},
     "output_type": "execute_result"
    }
   ],
   "execution_count": 22
  },
  {
   "cell_type": "code",
   "metadata": {
    "id": "vZyP5szbWA-W",
    "colab": {
     "base_uri": "https://localhost:8080/"
    },
    "executionInfo": {
     "status": "ok",
     "timestamp": 1684499413840,
     "user_tz": 180,
     "elapsed": 71,
     "user": {
      "displayName": "KEVEN BEZERRA",
      "userId": "00923506308034410447"
     }
    },
    "outputId": "8da874d7-13b2-4381-ccd3-9c4784dfa186",
    "ExecuteTime": {
     "end_time": "2025-04-07T23:51:23.160224Z",
     "start_time": "2025-04-07T23:51:23.156589Z"
    }
   },
   "source": [
    "print(\"Por que o valor do índice Alice é NaN?, O que significa isto?\")\n",
    "\n",
    "print(\"Dicionário de idades: \")\n",
    "print(idadeD)\n",
    "\n",
    "print(\"Novos índices:\")\n",
    "print(idadeLista)\n",
    "\n",
    "print(\"Como é possível ver, Alice não é um índice do dicionário, portanto, Series não consegue atribuir um valor inteiro ao índice Alice.\")"
   ],
   "outputs": [
    {
     "name": "stdout",
     "output_type": "stream",
     "text": [
      "Por que o valor do índice Alice é NaN?, O que significa isto?\n",
      "Dicionário de idades: \n",
      "{'Maria': 24, 'Pedro': 22, 'Mariana': 21, 'Joao': 20}\n",
      "Novos índices:\n",
      "['Alice', 'Pedro', 'Mariana', 'Joao']\n",
      "Como é possível ver, Alice não é um índice do dicionário, portanto, Series não consegue atribuir um valor inteiro ao índice Alice.\n"
     ]
    }
   ],
   "execution_count": 32
  },
  {
   "cell_type": "code",
   "metadata": {
    "id": "2DHybIMsWA-p",
    "colab": {
     "base_uri": "https://localhost:8080/"
    },
    "executionInfo": {
     "status": "ok",
     "timestamp": 1684499413841,
     "user_tz": 180,
     "elapsed": 69,
     "user": {
      "displayName": "KEVEN BEZERRA",
      "userId": "00923506308034410447"
     }
    },
    "outputId": "5b2fb194-cfdd-46d6-a64b-f05e23ab6222",
    "ExecuteTime": {
     "end_time": "2025-04-07T23:52:42.187473Z",
     "start_time": "2025-04-07T23:52:42.181189Z"
    }
   },
   "source": [
    "# Execute este comando e verifique o resultado\n",
    "\n",
    "idadeSerie.isnull()"
   ],
   "outputs": [
    {
     "data": {
      "text/plain": [
       "Alice       True\n",
       "Pedro      False\n",
       "Mariana    False\n",
       "Joao       False\n",
       "dtype: bool"
      ]
     },
     "execution_count": 33,
     "metadata": {},
     "output_type": "execute_result"
    }
   ],
   "execution_count": 33
  },
  {
   "cell_type": "code",
   "metadata": {
    "id": "4952M1rSWA_A",
    "colab": {
     "base_uri": "https://localhost:8080/"
    },
    "executionInfo": {
     "status": "ok",
     "timestamp": 1684499413841,
     "user_tz": 180,
     "elapsed": 66,
     "user": {
      "displayName": "KEVEN BEZERRA",
      "userId": "00923506308034410447"
     }
    },
    "outputId": "61a3d0ba-a808-466d-d83d-eb48af0981c2",
    "ExecuteTime": {
     "end_time": "2025-04-07T23:53:25.755164Z",
     "start_time": "2025-04-07T23:53:25.749156Z"
    }
   },
   "source": [
    "# Execute este comando e verifique o resultado\n",
    "\n",
    "idadeSerie.notnull()"
   ],
   "outputs": [
    {
     "data": {
      "text/plain": [
       "Alice      False\n",
       "Pedro       True\n",
       "Mariana     True\n",
       "Joao        True\n",
       "dtype: bool"
      ]
     },
     "execution_count": 34,
     "metadata": {},
     "output_type": "execute_result"
    }
   ],
   "execution_count": 34
  },
  {
   "cell_type": "markdown",
   "metadata": {
    "id": "_fMXQF75W18Z"
   },
   "source": [
    "### Exercício:\n",
    "Explique o funcionamento dos métodos .isnull() e .notnull(). Para que servem esses métodos?"
   ]
  },
  {
   "cell_type": "markdown",
   "metadata": {
    "id": "1hjwnVzWWA_M"
   },
   "source": [
    "### Dados não declarados - Missing Data\n",
    "- indicar a falta de dados de diferentes maneiras.\n",
    "- NaN (Not a Number).\n",
    "- None.\n",
    "\n",
    "Há diversos métodos em Pandas para tratar Missing Data.\n",
    "- técnicas de eliminação\n",
    "- técnicas de preenchimento"
   ]
  },
  {
   "cell_type": "code",
   "metadata": {
    "id": "LsVq1fn7WA_O",
    "colab": {
     "base_uri": "https://localhost:8080/"
    },
    "executionInfo": {
     "status": "ok",
     "timestamp": 1684499413841,
     "user_tz": 180,
     "elapsed": 63,
     "user": {
      "displayName": "KEVEN BEZERRA",
      "userId": "00923506308034410447"
     }
    },
    "outputId": "1ddf3eb5-1187-4bd4-b370-340985c53665"
   },
   "source": [
    "# Exemplo: Eliminando missing data\n",
    "\n",
    "idadeSerie[idadeSerie.notnull()]"
   ],
   "execution_count": null,
   "outputs": [
    {
     "output_type": "execute_result",
     "data": {
      "text/plain": [
       "Pedro      22.0\n",
       "Mariana    21.0\n",
       "Joao       20.0\n",
       "dtype: float64"
      ]
     },
     "metadata": {},
     "execution_count": 20
    }
   ]
  },
  {
   "cell_type": "code",
   "metadata": {
    "id": "_OA4qTD7WA_T",
    "colab": {
     "base_uri": "https://localhost:8080/"
    },
    "executionInfo": {
     "status": "ok",
     "timestamp": 1684499413841,
     "user_tz": 180,
     "elapsed": 60,
     "user": {
      "displayName": "KEVEN BEZERRA",
      "userId": "00923506308034410447"
     }
    },
    "outputId": "c92a601e-0fdd-4d0b-bd9c-b78296fa3b25"
   },
   "source": [
    "# Exemplo: Eliminando missing data\n",
    "\n",
    "idadeSerie"
   ],
   "execution_count": null,
   "outputs": [
    {
     "output_type": "execute_result",
     "data": {
      "text/plain": [
       "Alice       NaN\n",
       "Pedro      22.0\n",
       "Mariana    21.0\n",
       "Joao       20.0\n",
       "dtype: float64"
      ]
     },
     "metadata": {},
     "execution_count": 21
    }
   ]
  },
  {
   "cell_type": "code",
   "metadata": {
    "id": "OHytYSddWA_d",
    "colab": {
     "base_uri": "https://localhost:8080/"
    },
    "executionInfo": {
     "status": "ok",
     "timestamp": 1684499413842,
     "user_tz": 180,
     "elapsed": 58,
     "user": {
      "displayName": "KEVEN BEZERRA",
      "userId": "00923506308034410447"
     }
    },
    "outputId": "d2181bc5-28f1-464c-cf86-03a7f9089ab0",
    "ExecuteTime": {
     "end_time": "2025-04-07T23:54:10.129323Z",
     "start_time": "2025-04-07T23:54:10.123871Z"
    }
   },
   "source": [
    "# Exemplo: Eliminando missing data\n",
    "print( \"O que faz o método .dropna()?\\n\\n\")\n",
    "\n",
    "idadeSerie.dropna()"
   ],
   "outputs": [
    {
     "name": "stdout",
     "output_type": "stream",
     "text": [
      "O que faz o método .dropna()?\n",
      "\n",
      "\n"
     ]
    },
    {
     "data": {
      "text/plain": [
       "Pedro      22.0\n",
       "Mariana    21.0\n",
       "Joao       20.0\n",
       "dtype: float64"
      ]
     },
     "execution_count": 35,
     "metadata": {},
     "output_type": "execute_result"
    }
   ],
   "execution_count": 35
  },
  {
   "cell_type": "code",
   "metadata": {
    "id": "VM5kmx6QWA_t",
    "colab": {
     "base_uri": "https://localhost:8080/"
    },
    "executionInfo": {
     "status": "ok",
     "timestamp": 1684499413842,
     "user_tz": 180,
     "elapsed": 55,
     "user": {
      "displayName": "KEVEN BEZERRA",
      "userId": "00923506308034410447"
     }
    },
    "outputId": "4e0635c6-be27-4aaf-bb5f-fe6e8a977b4c",
    "ExecuteTime": {
     "end_time": "2025-04-07T23:54:15.980302Z",
     "start_time": "2025-04-07T23:54:15.972619Z"
    }
   },
   "source": [
    "# Exemplo: Preenchimento de missing data\n",
    "print( \"O que faz o método .fillna()?\\n\\n\")\n",
    "idadeSerie.fillna(-1)"
   ],
   "outputs": [
    {
     "name": "stdout",
     "output_type": "stream",
     "text": [
      "O que faz o método .fillna()?\n",
      "\n",
      "\n"
     ]
    },
    {
     "data": {
      "text/plain": [
       "Alice      -1.0\n",
       "Pedro      22.0\n",
       "Mariana    21.0\n",
       "Joao       20.0\n",
       "dtype: float64"
      ]
     },
     "execution_count": 36,
     "metadata": {},
     "output_type": "execute_result"
    }
   ],
   "execution_count": 36
  },
  {
   "cell_type": "code",
   "metadata": {
    "id": "lqtZXNb_WA_0",
    "colab": {
     "base_uri": "https://localhost:8080/"
    },
    "executionInfo": {
     "status": "ok",
     "timestamp": 1684499413842,
     "user_tz": 180,
     "elapsed": 51,
     "user": {
      "displayName": "KEVEN BEZERRA",
      "userId": "00923506308034410447"
     }
    },
    "outputId": "8c43a9d6-c0a0-45ea-922b-5185893274ef",
    "ExecuteTime": {
     "end_time": "2025-04-07T23:54:50.499336Z",
     "start_time": "2025-04-07T23:54:50.485502Z"
    }
   },
   "source": [
    "# Operações sobre Series - Pandas\n",
    "\n",
    "turmaLista1 = ['Alice', 'Pedro', 'Mariana', 'Joao']\n",
    "turmaLista2 = ['Maria', 'Pedro', 'Mariana', 'Joao']\n",
    "\n",
    "turmaSerie1 = Series([2,1,0.5,1], index=turmaLista1)\n",
    "turmaSerie2 = Series([2,2,2,2], index=turmaLista2)\n",
    "\n",
    "turmaSerie1 + turmaSerie2"
   ],
   "outputs": [
    {
     "data": {
      "text/plain": [
       "Alice      NaN\n",
       "Joao       3.0\n",
       "Maria      NaN\n",
       "Mariana    2.5\n",
       "Pedro      3.0\n",
       "dtype: float64"
      ]
     },
     "execution_count": 37,
     "metadata": {},
     "output_type": "execute_result"
    }
   ],
   "execution_count": 37
  },
  {
   "cell_type": "code",
   "metadata": {
    "id": "qieq4qRDWA_2",
    "colab": {
     "base_uri": "https://localhost:8080/"
    },
    "executionInfo": {
     "status": "ok",
     "timestamp": 1684499413843,
     "user_tz": 180,
     "elapsed": 48,
     "user": {
      "displayName": "KEVEN BEZERRA",
      "userId": "00923506308034410447"
     }
    },
    "outputId": "f2b80793-5f44-4a00-9a5e-07c323c0e7d0",
    "ExecuteTime": {
     "end_time": "2025-04-07T23:54:57.733615Z",
     "start_time": "2025-04-07T23:54:57.728499Z"
    }
   },
   "source": [
    "# Exemplo - Rotulando índices e nomes de Series - Pandas\n",
    "\n",
    "turmaSerie1.name = 'Turma de Ciência de Dados'\n",
    "turmaSerie1.index.name = 'Alunos'\n",
    "turmaSerie1"
   ],
   "outputs": [
    {
     "data": {
      "text/plain": [
       "Alunos\n",
       "Alice      2.0\n",
       "Pedro      1.0\n",
       "Mariana    0.5\n",
       "Joao       1.0\n",
       "Name: Turma de Ciência de Dados, dtype: float64"
      ]
     },
     "execution_count": 38,
     "metadata": {},
     "output_type": "execute_result"
    }
   ],
   "execution_count": 38
  },
  {
   "cell_type": "markdown",
   "metadata": {
    "id": "nt3mT2LDWA_6"
   },
   "source": [
    "### Observação:\n",
    "Series Pandas podem ser vistas como o equivalente ao tipo básico dictionaries. Porém, assim como operações em arrays NumPy são mais eficientes que em Listas, operar em Series é bem mais eficiente que operarar sobre variáveis do tipo Dictonarie."
   ]
  },
  {
   "cell_type": "code",
   "metadata": {
    "id": "Nxre3rO-WA_-"
   },
   "source": [
    "? Series"
   ],
   "execution_count": null,
   "outputs": []
  },
  {
   "cell_type": "code",
   "metadata": {
    "id": "_zJXEzXGWBAJ",
    "ExecuteTime": {
     "end_time": "2025-04-07T23:55:26.309092Z",
     "start_time": "2025-04-07T23:55:26.305999Z"
    }
   },
   "source": [
    "# Exemplo: População de alguns estados dos Estados Unidos\n",
    "# Utilizando-se tipo Dictonarie\n",
    "\n",
    "pop_dict = {'California': 38332521,\n",
    "'Texas': 26448193,\n",
    "'New York': 19651127,\n",
    "'Florida': 19552860,\n",
    "'Illinois': 12882135}"
   ],
   "outputs": [],
   "execution_count": 39
  },
  {
   "cell_type": "code",
   "metadata": {
    "id": "E1LYJ7-uWBAP",
    "ExecuteTime": {
     "end_time": "2025-04-07T23:55:33.052950Z",
     "start_time": "2025-04-07T23:55:33.049559Z"
    }
   },
   "source": [
    "# Exemplo: Área de alguns estados dos Estados Unidos\n",
    "area_dict = {'California': 423967, 'Texas': 695662, 'New York': 141297,\n",
    "'Florida': 170312, 'Illinois': 149995}"
   ],
   "outputs": [],
   "execution_count": 40
  },
  {
   "cell_type": "code",
   "metadata": {
    "id": "jQYa_aryWBAZ",
    "colab": {
     "base_uri": "https://localhost:8080/"
    },
    "executionInfo": {
     "status": "ok",
     "timestamp": 1684499413873,
     "user_tz": 180,
     "elapsed": 73,
     "user": {
      "displayName": "KEVEN BEZERRA",
      "userId": "00923506308034410447"
     }
    },
    "outputId": "0647f8b7-fe51-495a-d847-4a8f9f6ff41f"
   },
   "source": [
    "dict.values(pop_dict)"
   ],
   "execution_count": null,
   "outputs": [
    {
     "output_type": "execute_result",
     "data": {
      "text/plain": [
       "dict_values([38332521, 26448193, 19651127, 19552860, 12882135])"
      ]
     },
     "metadata": {},
     "execution_count": 29
    }
   ]
  },
  {
   "cell_type": "code",
   "metadata": {
    "id": "goPOzUm3WBAf",
    "colab": {
     "base_uri": "https://localhost:8080/"
    },
    "executionInfo": {
     "status": "ok",
     "timestamp": 1684499413873,
     "user_tz": 180,
     "elapsed": 69,
     "user": {
      "displayName": "KEVEN BEZERRA",
      "userId": "00923506308034410447"
     }
    },
    "outputId": "bdb22f2b-1486-4820-c3d3-2f9735f4163e",
    "ExecuteTime": {
     "end_time": "2025-04-07T23:55:34.138975Z",
     "start_time": "2025-04-07T23:55:34.133925Z"
    }
   },
   "source": [
    "dict.keys(pop_dict)"
   ],
   "outputs": [
    {
     "data": {
      "text/plain": [
       "dict_keys(['California', 'Texas', 'New York', 'Florida', 'Illinois'])"
      ]
     },
     "execution_count": 41,
     "metadata": {},
     "output_type": "execute_result"
    }
   ],
   "execution_count": 41
  },
  {
   "cell_type": "code",
   "metadata": {
    "id": "pesIhi5KWBAn",
    "colab": {
     "base_uri": "https://localhost:8080/"
    },
    "executionInfo": {
     "status": "ok",
     "timestamp": 1684499413878,
     "user_tz": 180,
     "elapsed": 70,
     "user": {
      "displayName": "KEVEN BEZERRA",
      "userId": "00923506308034410447"
     }
    },
    "outputId": "a43b37eb-dfee-4686-bfd1-ffcc7953a2ac",
    "ExecuteTime": {
     "end_time": "2025-04-07T23:55:38.212985Z",
     "start_time": "2025-04-07T23:55:38.204785Z"
    }
   },
   "source": [
    "#Exercício: Transformando variáveis de Dictonarie para Series Panda\n",
    "#           - Transforme a variável dicionario 'pop_dict' em uma Serie-Pandas\n",
    "\n",
    "\n",
    "pop_dict = Series(pop_dict)\n",
    "#           - Transforme a variável dicionario 'area_dict' em uma Serie-Pandas\n",
    "area_dict = Series(area_dict)\n",
    "#           - Obtenha os estados com mais de 20 milhões de habitantes.\n",
    "pop_dict[pop_dict.values > 20000000]\n",
    "#           - Obtenha o número de habitantes da California\n",
    "pop_dict[\"California\"]\n",
    "#           - Obtenha o estado com mais habitantes\n",
    "pop_dict[pop_dict == pop_dict.max()]\n",
    "#           - Obtenha o estado com menos habitantes\n",
    "pop_dict[pop_dict == pop_dict.min()]\n",
    "#           - Obtenha a lista dos estados com área entre 400.000 e 500.000\n",
    "area_dict[(area_dict > 400000) & (area_dict < 500000)]\n",
    "#           - A densidade (número de habitantes por área) desses estados\n",
    "\n",
    "print(\"Densidade populacional de 5 cidades dos EUA\\n\")\n",
    "pop_dict/area_dict\n",
    "\n"
   ],
   "outputs": [
    {
     "name": "stdout",
     "output_type": "stream",
     "text": [
      "Densidade populacional de 5 cidades dos EUA\n",
      "\n"
     ]
    },
    {
     "data": {
      "text/plain": [
       "California     90.413926\n",
       "Texas          38.018740\n",
       "New York      139.076746\n",
       "Florida       114.806121\n",
       "Illinois       85.883763\n",
       "dtype: float64"
      ]
     },
     "execution_count": 42,
     "metadata": {},
     "output_type": "execute_result"
    }
   ],
   "execution_count": 42
  },
  {
   "cell_type": "code",
   "metadata": {
    "id": "bYOjtoxaYTbL",
    "colab": {
     "base_uri": "https://localhost:8080/"
    },
    "executionInfo": {
     "status": "ok",
     "timestamp": 1684499413878,
     "user_tz": 180,
     "elapsed": 65,
     "user": {
      "displayName": "KEVEN BEZERRA",
      "userId": "00923506308034410447"
     }
    },
    "outputId": "89165b4e-370f-4b0e-fdb8-82f33a49c5df",
    "ExecuteTime": {
     "end_time": "2025-04-07T23:55:43.215558Z",
     "start_time": "2025-04-07T23:55:43.210625Z"
    }
   },
   "source": [
    "type(pop_dict)"
   ],
   "outputs": [
    {
     "data": {
      "text/plain": [
       "pandas.core.series.Series"
      ]
     },
     "execution_count": 43,
     "metadata": {},
     "output_type": "execute_result"
    }
   ],
   "execution_count": 43
  },
  {
   "cell_type": "markdown",
   "metadata": {
    "id": "z7982z3WWBAt"
   },
   "source": [
    "### Acesso a índices em objetos Pandas\n",
    "Há várias formas de se acessar índices nos objetos Pandas:\n",
    "- indicação de índice específico. --> dado[3]\n",
    "- indicação de intervalo de índices. --> dado[1:3]. Segue o padrão de Lista.\n",
    "- métodos .loc(), .iloc() e  .ix()"
   ]
  },
  {
   "cell_type": "code",
   "metadata": {
    "id": "tJep4F9qWBAv",
    "colab": {
     "base_uri": "https://localhost:8080/"
    },
    "executionInfo": {
     "status": "ok",
     "timestamp": 1684499413879,
     "user_tz": 180,
     "elapsed": 60,
     "user": {
      "displayName": "KEVEN BEZERRA",
      "userId": "00923506308034410447"
     }
    },
    "outputId": "13dcac62-f92d-413b-a3a0-2bfd6897c122",
    "ExecuteTime": {
     "end_time": "2025-04-07T23:55:47.720013Z",
     "start_time": "2025-04-07T23:55:47.714026Z"
    }
   },
   "source": [
    "# Exemplo de indicação de índice em Pandas\n",
    "\n",
    "data = pd.Series(['a', 'b', 'c', 'd'], index=[1,3,5,7])\n",
    "data"
   ],
   "outputs": [
    {
     "data": {
      "text/plain": [
       "1    a\n",
       "3    b\n",
       "5    c\n",
       "7    d\n",
       "dtype: object"
      ]
     },
     "execution_count": 44,
     "metadata": {},
     "output_type": "execute_result"
    }
   ],
   "execution_count": 44
  },
  {
   "cell_type": "code",
   "metadata": {
    "id": "JEiwCcjgWBA5",
    "colab": {
     "base_uri": "https://localhost:8080/",
     "height": 36
    },
    "executionInfo": {
     "status": "ok",
     "timestamp": 1684499413879,
     "user_tz": 180,
     "elapsed": 57,
     "user": {
      "displayName": "KEVEN BEZERRA",
      "userId": "00923506308034410447"
     }
    },
    "outputId": "ecfb29cc-a37c-4d50-bbf4-2884e53c7d42"
   },
   "source": [
    "# Exemplo de indicação específica de índice em Pandas\n",
    "data[1]\n",
    "#data[0]"
   ],
   "execution_count": null,
   "outputs": [
    {
     "output_type": "execute_result",
     "data": {
      "text/plain": [
       "'a'"
      ],
      "application/vnd.google.colaboratory.intrinsic+json": {
       "type": "string"
      }
     },
     "metadata": {},
     "execution_count": 34
    }
   ]
  },
  {
   "cell_type": "code",
   "metadata": {
    "id": "Ez3aekcIWBBD",
    "colab": {
     "base_uri": "https://localhost:8080/"
    },
    "executionInfo": {
     "status": "ok",
     "timestamp": 1684499413879,
     "user_tz": 180,
     "elapsed": 56,
     "user": {
      "displayName": "KEVEN BEZERRA",
      "userId": "00923506308034410447"
     }
    },
    "outputId": "d48407af-8fb3-4d79-9c1d-460ac1219843",
    "ExecuteTime": {
     "end_time": "2025-04-07T23:56:02.582968Z",
     "start_time": "2025-04-07T23:56:02.577491Z"
    }
   },
   "source": [
    "# Exemplo de indicação de intervalo de índice em Pandas\n",
    "data[1:3]\n",
    "#data[0:2]"
   ],
   "outputs": [
    {
     "data": {
      "text/plain": [
       "3    b\n",
       "5    c\n",
       "dtype: object"
      ]
     },
     "execution_count": 45,
     "metadata": {},
     "output_type": "execute_result"
    }
   ],
   "execution_count": 45
  },
  {
   "cell_type": "code",
   "metadata": {
    "id": "h2SW81kdWBBJ",
    "colab": {
     "base_uri": "https://localhost:8080/"
    },
    "executionInfo": {
     "status": "ok",
     "timestamp": 1684499413879,
     "user_tz": 180,
     "elapsed": 53,
     "user": {
      "displayName": "KEVEN BEZERRA",
      "userId": "00923506308034410447"
     }
    },
    "outputId": "f3e87f62-e7a4-4ee7-85a7-1aca7a24e46b",
    "ExecuteTime": {
     "end_time": "2025-04-07T23:57:58.209576Z",
     "start_time": "2025-04-07T23:57:58.204761Z"
    }
   },
   "source": [
    "# Exemplo de indicação de índice em Pandas usando o método .loc()\n",
    "print(data.loc[1])\n",
    "print()\n",
    "print(data.loc[1:3])"
   ],
   "outputs": [
    {
     "name": "stdout",
     "output_type": "stream",
     "text": [
      "a\n",
      "\n",
      "1    a\n",
      "3    b\n",
      "dtype: object\n"
     ]
    }
   ],
   "execution_count": 61
  },
  {
   "cell_type": "code",
   "metadata": {
    "id": "wiDaNTrWWBBM",
    "colab": {
     "base_uri": "https://localhost:8080/"
    },
    "executionInfo": {
     "status": "ok",
     "timestamp": 1684499413879,
     "user_tz": 180,
     "elapsed": 50,
     "user": {
      "displayName": "KEVEN BEZERRA",
      "userId": "00923506308034410447"
     }
    },
    "outputId": "8a7b50e9-740f-4fbe-a205-7c62c4701b31",
    "ExecuteTime": {
     "end_time": "2025-04-07T23:58:00.106311Z",
     "start_time": "2025-04-07T23:58:00.102593Z"
    }
   },
   "source": [
    "# Exemplo de indicação de índice em Pandas usando o método .iloc()\n",
    "print(data.iloc[1])\n",
    "print()\n",
    "print(data.iloc[1:3])"
   ],
   "outputs": [
    {
     "name": "stdout",
     "output_type": "stream",
     "text": [
      "b\n",
      "\n",
      "3    b\n",
      "5    c\n",
      "dtype: object\n"
     ]
    }
   ],
   "execution_count": 62
  },
  {
   "cell_type": "code",
   "metadata": {
    "id": "OiCaco7zWBBT",
    "colab": {
     "base_uri": "https://localhost:8080/",
     "height": 373
    },
    "executionInfo": {
     "status": "error",
     "timestamp": 1684499413880,
     "user_tz": 180,
     "elapsed": 49,
     "user": {
      "displayName": "KEVEN BEZERRA",
      "userId": "00923506308034410447"
     }
    },
    "outputId": "1828b6e3-b11d-460f-b400-1c39508049ef",
    "ExecuteTime": {
     "end_time": "2025-04-07T23:58:49.619647Z",
     "start_time": "2025-04-07T23:58:49.471934Z"
    }
   },
   "source": [
    "# Exemplo de indicação de índice em Pandas usando o método .ix()\n",
    "# Warning: o método está em desuso a aprtir da versão 0.20.0 do Pandas.\n",
    "\n",
    "print(data.ix[1])\n",
    "print()\n",
    "print(data.ix[1:3])"
   ],
   "outputs": [
    {
     "ename": "AttributeError",
     "evalue": "'Series' object has no attribute 'ix'",
     "output_type": "error",
     "traceback": [
      "\u001B[31m---------------------------------------------------------------------------\u001B[39m",
      "\u001B[31mAttributeError\u001B[39m                            Traceback (most recent call last)",
      "\u001B[32m/tmp/ipykernel_32475/4127972959.py\u001B[39m in \u001B[36m?\u001B[39m\u001B[34m()\u001B[39m\n\u001B[32m      1\u001B[39m \u001B[38;5;66;03m# Exemplo de indicação de índice em Pandas usando o método .ix()\u001B[39;00m\n\u001B[32m      2\u001B[39m \u001B[38;5;66;03m# Warning: o método está em desuso a aprtir da versão 0.20.0 do Pandas.\u001B[39;00m\n\u001B[32m      3\u001B[39m \n\u001B[32m----> \u001B[39m\u001B[32m4\u001B[39m print(data.ix[\u001B[32m1\u001B[39m])\n\u001B[32m      5\u001B[39m print()\n\u001B[32m      6\u001B[39m print(data.ix[\u001B[32m1\u001B[39m:\u001B[32m3\u001B[39m])\n",
      "\u001B[32m~/.virtualenvs/dc/lib/python3.12/site-packages/pandas/core/generic.py\u001B[39m in \u001B[36m?\u001B[39m\u001B[34m(self, name)\u001B[39m\n\u001B[32m   6295\u001B[39m             \u001B[38;5;28;01mand\u001B[39;00m name \u001B[38;5;28;01mnot\u001B[39;00m \u001B[38;5;28;01min\u001B[39;00m self._accessors\n\u001B[32m   6296\u001B[39m             \u001B[38;5;28;01mand\u001B[39;00m self._info_axis._can_hold_identifiers_and_holds_name(name)\n\u001B[32m   6297\u001B[39m         ):\n\u001B[32m   6298\u001B[39m             \u001B[38;5;28;01mreturn\u001B[39;00m self[name]\n\u001B[32m-> \u001B[39m\u001B[32m6299\u001B[39m         \u001B[38;5;28;01mreturn\u001B[39;00m object.__getattribute__(self, name)\n",
      "\u001B[31mAttributeError\u001B[39m: 'Series' object has no attribute 'ix'"
     ]
    }
   ],
   "execution_count": 63
  },
  {
   "cell_type": "markdown",
   "metadata": {
    "id": "TdjbtVxraSzH"
   },
   "source": [
    "### Exercício:\n",
    "Qual é a diferença dos métodos .loc() e .iloc()? Explique e faça um exemplo demonstrando a diferença."
   ]
  },
  {
   "cell_type": "code",
   "source": [
    "# Exercício\n",
    "\n",
    "# R: loc acessa dados pelo rótulo do objecto Series, enquanto iloc acessa-os por posição\n",
    "\n",
    "print(\"Dado o objeto Series\")\n",
    "dataAlt = pd.Series(data.values, index = ['first', 'second', 'third', 'fourth'])\n",
    "print(dataAlt)\n",
    "\n",
    "print(\"Acessar o índice 'second'\")\n",
    "print(dataAlt.loc['second'])\n",
    "\n",
    "print(\"Acessar a segunda posição da série\")\n",
    "print(dataAlt.iloc[2])\n",
    "\n",
    "print(\"Acessar todos os índices a partir de 'second' (incluso)\")\n",
    "print(dataAlt.loc['second':])\n",
    "print(dataAlt.iloc[1:])\n",
    "\n",
    "print(\"Acessar todos os índices entre 'first' e 'third'\")\n",
    "print(dataAlt.loc['first':'third'])\n",
    "print(dataAlt.iloc[0:3])"
   ],
   "metadata": {
    "id": "hSTUJiqdVtIf",
    "ExecuteTime": {
     "end_time": "2025-04-08T00:10:01.013912Z",
     "start_time": "2025-04-08T00:10:01.007639Z"
    }
   },
   "outputs": [
    {
     "name": "stdout",
     "output_type": "stream",
     "text": [
      "Dado o objeto Series\n",
      "first     a\n",
      "second    b\n",
      "third     c\n",
      "fourth    d\n",
      "dtype: object\n",
      "Acessar o índice 'second'\n",
      "b\n",
      "Acessar a segunda posição da série\n",
      "c\n",
      "Acessar todos os índices a partir de 'second' (incluso)\n",
      "second    b\n",
      "third     c\n",
      "fourth    d\n",
      "dtype: object\n",
      "second    b\n",
      "third     c\n",
      "fourth    d\n",
      "dtype: object\n",
      "Acessar todos os índices entre 'first' e 'third'\n",
      "first     a\n",
      "second    b\n",
      "third     c\n",
      "dtype: object\n",
      "first     a\n",
      "second    b\n",
      "third     c\n",
      "dtype: object\n"
     ]
    }
   ],
   "execution_count": 87
  },
  {
   "cell_type": "markdown",
   "metadata": {
    "id": "114Y1eUsWBBY"
   },
   "source": [
    "## 2. Objeto do tipo DataFrame em Pandas"
   ]
  },
  {
   "cell_type": "markdown",
   "metadata": {
    "id": "h-iszyZ8WBBb"
   },
   "source": [
    "Se uma Serie-Pandas é um análogo de um array NumPy unidimensional com índices explícitos e flexíveis, então um DataFrame é um análogo de array NumPy bidimensional com índices de linha e de colunas flexíveis.\n",
    "\n",
    "Assim, DataFrame Pandas equivale a uma Matriz com índices explícitos, porém, diferentemenete dos arrays NumPy, os elementos podem ser de tipos diferentes.\n",
    "\n",
    "DataFrames podem ser vistos como uma sequência de objetos Series-Pandas alinhados por índices."
   ]
  },
  {
   "cell_type": "code",
   "metadata": {
    "id": "B8tSEkwMWBBg",
    "colab": {
     "base_uri": "https://localhost:8080/"
    },
    "executionInfo": {
     "status": "ok",
     "timestamp": 1684499972296,
     "user_tz": 180,
     "elapsed": 1,
     "user": {
      "displayName": "KEVEN BEZERRA",
      "userId": "00923506308034410447"
     }
    },
    "outputId": "9a1e0771-8232-4e61-cc24-363d2f059d30"
   },
   "source": [
    "# Exemplo - Transformação de dict em Serie-Pandas\n",
    "populacao = pd.Series(pop_dict)\n",
    "populacao"
   ],
   "execution_count": null,
   "outputs": [
    {
     "output_type": "execute_result",
     "data": {
      "text/plain": [
       "California    38332521\n",
       "Texas         26448193\n",
       "New York      19651127\n",
       "Florida       19552860\n",
       "Illinois      12882135\n",
       "dtype: int64"
      ]
     },
     "metadata": {},
     "execution_count": 40
    }
   ]
  },
  {
   "cell_type": "code",
   "metadata": {
    "id": "1unLPNAlWBBk",
    "colab": {
     "base_uri": "https://localhost:8080/"
    },
    "executionInfo": {
     "status": "ok",
     "timestamp": 1684499977972,
     "user_tz": 180,
     "elapsed": 2,
     "user": {
      "displayName": "KEVEN BEZERRA",
      "userId": "00923506308034410447"
     }
    },
    "outputId": "58973a52-d813-48b8-e891-8447f13fc487"
   },
   "source": [
    "# Exemplo - Transformação de dict em Serie-Pandas\n",
    "area = pd.Series(area_dict)\n",
    "area"
   ],
   "execution_count": null,
   "outputs": [
    {
     "output_type": "execute_result",
     "data": {
      "text/plain": [
       "California    423967\n",
       "Texas         695662\n",
       "New York      141297\n",
       "Florida       170312\n",
       "Illinois      149995\n",
       "dtype: int64"
      ]
     },
     "metadata": {},
     "execution_count": 41
    }
   ]
  },
  {
   "cell_type": "code",
   "metadata": {
    "id": "w5seGeB0WBBr",
    "colab": {
     "base_uri": "https://localhost:8080/",
     "height": 206
    },
    "executionInfo": {
     "status": "ok",
     "timestamp": 1684499992854,
     "user_tz": 180,
     "elapsed": 307,
     "user": {
      "displayName": "KEVEN BEZERRA",
      "userId": "00923506308034410447"
     }
    },
    "outputId": "a6e08762-7f53-438b-f761-b11142a8e703"
   },
   "source": [
    "# Exemplo - Criação de um DataFrame Pandas\n",
    "\n",
    "estados = pd.DataFrame({'população': populacao,'área': area})\n",
    "estados"
   ],
   "execution_count": null,
   "outputs": [
    {
     "output_type": "execute_result",
     "data": {
      "text/plain": [
       "            população    área\n",
       "California   38332521  423967\n",
       "Texas        26448193  695662\n",
       "New York     19651127  141297\n",
       "Florida      19552860  170312\n",
       "Illinois     12882135  149995"
      ],
      "text/html": [
       "\n",
       "  <div id=\"df-a23719e2-20ea-46d1-ace4-8c0eeca0655b\">\n",
       "    <div class=\"colab-df-container\">\n",
       "      <div>\n",
       "<style scoped>\n",
       "    .dataframe tbody tr th:only-of-type {\n",
       "        vertical-align: middle;\n",
       "    }\n",
       "\n",
       "    .dataframe tbody tr th {\n",
       "        vertical-align: top;\n",
       "    }\n",
       "\n",
       "    .dataframe thead th {\n",
       "        text-align: right;\n",
       "    }\n",
       "</style>\n",
       "<table border=\"1\" class=\"dataframe\">\n",
       "  <thead>\n",
       "    <tr style=\"text-align: right;\">\n",
       "      <th></th>\n",
       "      <th>população</th>\n",
       "      <th>área</th>\n",
       "    </tr>\n",
       "  </thead>\n",
       "  <tbody>\n",
       "    <tr>\n",
       "      <th>California</th>\n",
       "      <td>38332521</td>\n",
       "      <td>423967</td>\n",
       "    </tr>\n",
       "    <tr>\n",
       "      <th>Texas</th>\n",
       "      <td>26448193</td>\n",
       "      <td>695662</td>\n",
       "    </tr>\n",
       "    <tr>\n",
       "      <th>New York</th>\n",
       "      <td>19651127</td>\n",
       "      <td>141297</td>\n",
       "    </tr>\n",
       "    <tr>\n",
       "      <th>Florida</th>\n",
       "      <td>19552860</td>\n",
       "      <td>170312</td>\n",
       "    </tr>\n",
       "    <tr>\n",
       "      <th>Illinois</th>\n",
       "      <td>12882135</td>\n",
       "      <td>149995</td>\n",
       "    </tr>\n",
       "  </tbody>\n",
       "</table>\n",
       "</div>\n",
       "      <button class=\"colab-df-convert\" onclick=\"convertToInteractive('df-a23719e2-20ea-46d1-ace4-8c0eeca0655b')\"\n",
       "              title=\"Convert this dataframe to an interactive table.\"\n",
       "              style=\"display:none;\">\n",
       "        \n",
       "  <svg xmlns=\"http://www.w3.org/2000/svg\" height=\"24px\"viewBox=\"0 0 24 24\"\n",
       "       width=\"24px\">\n",
       "    <path d=\"M0 0h24v24H0V0z\" fill=\"none\"/>\n",
       "    <path d=\"M18.56 5.44l.94 2.06.94-2.06 2.06-.94-2.06-.94-.94-2.06-.94 2.06-2.06.94zm-11 1L8.5 8.5l.94-2.06 2.06-.94-2.06-.94L8.5 2.5l-.94 2.06-2.06.94zm10 10l.94 2.06.94-2.06 2.06-.94-2.06-.94-.94-2.06-.94 2.06-2.06.94z\"/><path d=\"M17.41 7.96l-1.37-1.37c-.4-.4-.92-.59-1.43-.59-.52 0-1.04.2-1.43.59L10.3 9.45l-7.72 7.72c-.78.78-.78 2.05 0 2.83L4 21.41c.39.39.9.59 1.41.59.51 0 1.02-.2 1.41-.59l7.78-7.78 2.81-2.81c.8-.78.8-2.07 0-2.86zM5.41 20L4 18.59l7.72-7.72 1.47 1.35L5.41 20z\"/>\n",
       "  </svg>\n",
       "      </button>\n",
       "      \n",
       "  <style>\n",
       "    .colab-df-container {\n",
       "      display:flex;\n",
       "      flex-wrap:wrap;\n",
       "      gap: 12px;\n",
       "    }\n",
       "\n",
       "    .colab-df-convert {\n",
       "      background-color: #E8F0FE;\n",
       "      border: none;\n",
       "      border-radius: 50%;\n",
       "      cursor: pointer;\n",
       "      display: none;\n",
       "      fill: #1967D2;\n",
       "      height: 32px;\n",
       "      padding: 0 0 0 0;\n",
       "      width: 32px;\n",
       "    }\n",
       "\n",
       "    .colab-df-convert:hover {\n",
       "      background-color: #E2EBFA;\n",
       "      box-shadow: 0px 1px 2px rgba(60, 64, 67, 0.3), 0px 1px 3px 1px rgba(60, 64, 67, 0.15);\n",
       "      fill: #174EA6;\n",
       "    }\n",
       "\n",
       "    [theme=dark] .colab-df-convert {\n",
       "      background-color: #3B4455;\n",
       "      fill: #D2E3FC;\n",
       "    }\n",
       "\n",
       "    [theme=dark] .colab-df-convert:hover {\n",
       "      background-color: #434B5C;\n",
       "      box-shadow: 0px 1px 3px 1px rgba(0, 0, 0, 0.15);\n",
       "      filter: drop-shadow(0px 1px 2px rgba(0, 0, 0, 0.3));\n",
       "      fill: #FFFFFF;\n",
       "    }\n",
       "  </style>\n",
       "\n",
       "      <script>\n",
       "        const buttonEl =\n",
       "          document.querySelector('#df-a23719e2-20ea-46d1-ace4-8c0eeca0655b button.colab-df-convert');\n",
       "        buttonEl.style.display =\n",
       "          google.colab.kernel.accessAllowed ? 'block' : 'none';\n",
       "\n",
       "        async function convertToInteractive(key) {\n",
       "          const element = document.querySelector('#df-a23719e2-20ea-46d1-ace4-8c0eeca0655b');\n",
       "          const dataTable =\n",
       "            await google.colab.kernel.invokeFunction('convertToInteractive',\n",
       "                                                     [key], {});\n",
       "          if (!dataTable) return;\n",
       "\n",
       "          const docLinkHtml = 'Like what you see? Visit the ' +\n",
       "            '<a target=\"_blank\" href=https://colab.research.google.com/notebooks/data_table.ipynb>data table notebook</a>'\n",
       "            + ' to learn more about interactive tables.';\n",
       "          element.innerHTML = '';\n",
       "          dataTable['output_type'] = 'display_data';\n",
       "          await google.colab.output.renderOutput(dataTable, element);\n",
       "          const docLink = document.createElement('div');\n",
       "          docLink.innerHTML = docLinkHtml;\n",
       "          element.appendChild(docLink);\n",
       "        }\n",
       "      </script>\n",
       "    </div>\n",
       "  </div>\n",
       "  "
      ]
     },
     "metadata": {},
     "execution_count": 42
    }
   ]
  },
  {
   "cell_type": "code",
   "metadata": {
    "id": "xYLsynxIWBBy"
   },
   "source": [
    "type(estados)"
   ],
   "execution_count": null,
   "outputs": []
  },
  {
   "cell_type": "code",
   "metadata": {
    "id": "upkZTaU2WBB3"
   },
   "source": [
    "estados.index"
   ],
   "execution_count": null,
   "outputs": []
  },
  {
   "cell_type": "code",
   "metadata": {
    "id": "VPaViqGJWBB8"
   },
   "source": [
    "estados.columns"
   ],
   "execution_count": null,
   "outputs": []
  },
  {
   "cell_type": "markdown",
   "metadata": {
    "id": "iHu0fgsSWBCG"
   },
   "source": [
    "### Observação:\n",
    "Da mesma forma como Series, também podemos pensar em um DataFrame como uma especialização de um dicionário. Onde um dicionário mapeia uma chave para um valor, um DataFrame mapeia um nome de coluna para uma série de dados de coluna. Por exemplo, pedir o atributo 'área' retorna o objeto Series que contém as áreas que vimos anteriormente:"
   ]
  },
  {
   "cell_type": "code",
   "metadata": {
    "id": "SSZVH0kMWBCG"
   },
   "source": [
    "estados['área']"
   ],
   "execution_count": null,
   "outputs": []
  },
  {
   "cell_type": "markdown",
   "metadata": {
    "id": "HsCXZ6GHWBCN"
   },
   "source": [
    "### 2.1 Criação de DataFrames Pandas\n",
    "DataFrame Pandas podem ser criados de diversas formas.\n",
    "- A partir de objetos Series\n",
    "- A partir de Listas de Dicionários\n",
    "- A partir de Dicionários de objetos Series\n",
    "- A partir de arrays NumPy bidimensionais\n",
    "- A partir de array NumPy estruturado"
   ]
  },
  {
   "cell_type": "code",
   "metadata": {
    "id": "FsgriOROWBCR"
   },
   "source": [
    "# Exemplo: Criação de DataFrame Pandas a partir de objetos Series\n",
    "pd.DataFrame(populacao, columns=['população'])"
   ],
   "execution_count": null,
   "outputs": []
  },
  {
   "cell_type": "code",
   "metadata": {
    "id": "ShwYfYsRWBCW"
   },
   "source": [
    "# Exemplo: Criação de DataFrame Pandas a partir de Lista de Dicionário\n",
    "data = [{'a': i, 'b': 2 * i} for i in range(3)]\n",
    "pd.DataFrame(data)\n",
    "#data"
   ],
   "execution_count": null,
   "outputs": []
  },
  {
   "cell_type": "code",
   "metadata": {
    "id": "JYb5FGn1WBCZ"
   },
   "source": [
    "# Exemplo: Criação de DataFrame Pandas a partir de Lista de Dicionário\n",
    "# Data Missing (Dados perdidos) - similar ao objeto Serie\n",
    "\n",
    "pd.DataFrame([{'a': 1, 'b': 2}, {'b': 3, 'c': 4}])"
   ],
   "execution_count": null,
   "outputs": []
  },
  {
   "cell_type": "code",
   "metadata": {
    "id": "OIl2vIY1WBCe"
   },
   "source": [
    "# Exercício: Troque os índices do DataFrame acima\n",
    "#            para linha1 e linha2, respecitvamente\n",
    "\n",
    "pd.DataFrame([{'a': 1, 'b': 2}, {'b': 3, 'c': 4}], index=['linha1', 'linha2'])"
   ],
   "execution_count": null,
   "outputs": []
  },
  {
   "cell_type": "markdown",
   "metadata": {
    "id": "8Gbtbf94WBCh"
   },
   "source": [
    "#### 2.2 Tratando Missing Data em DataFrame\n",
    "De forma similar a Series, podemos tratar missing data em DataFrame\n",
    "- técnicas de eliminação\n",
    "    - df.dropna(parametros)\n",
    "- técnicas de preenchimento\n",
    "    - df.fillna(parametros)"
   ]
  },
  {
   "cell_type": "code",
   "metadata": {
    "id": "fCD1zcIYWBCj"
   },
   "source": [
    "# Exemplo: Eliminando missing data em DataFrames\n",
    "# Eliminar as linhas com NaN\n",
    "# Eliminar as colunas com NaN\n",
    "# Eliminar as linhas e colunas com NaN\n",
    "import numpy as np\n",
    "df = pd.DataFrame([[1, np.nan, 2],\n",
    "[2, 3, 5],\n",
    "[np.nan, 4, 6]])\n",
    "print(\"df com NaN \\n\", df)\n",
    "\n",
    "print(\"\\n df sem NaN - com eliminação de linhas \\n\", df.dropna())\n",
    "\n",
    "print(\"\\n df sem NaN - com eliminação de colunas \\n\", df.dropna(axis='columns'))\n"
   ],
   "execution_count": null,
   "outputs": []
  },
  {
   "cell_type": "code",
   "metadata": {
    "id": "232j_TUuWBCl"
   },
   "source": [
    "# Exemplo: Eliminando missing data em DataFrames\n",
    "# Eliminar as linhas com NaN\n",
    "# Eliminar as colunas com NaN\n",
    "# Eliminar as linhas e colunas com NaN\n",
    "\n",
    "dataF = DataFrame([[1., 6.5, 3.], [1., None, None], [None, None, None], [None, 6.5, 3.]])\n",
    "dataF"
   ],
   "execution_count": null,
   "outputs": []
  },
  {
   "cell_type": "code",
   "metadata": {
    "id": "WfR1Ro5FWBCn"
   },
   "source": [
    "\n",
    "dataF.dropna(how='all')"
   ],
   "execution_count": null,
   "outputs": []
  },
  {
   "cell_type": "code",
   "metadata": {
    "id": "9tu3bQ6sWBCz"
   },
   "source": [
    "# Exemplo: Preenchimento de missing data em DataFrames\n",
    "df = DataFrame(np.random.randn(7, 3))\n",
    "df"
   ],
   "execution_count": null,
   "outputs": []
  },
  {
   "cell_type": "code",
   "metadata": {
    "id": "XoaGIoXCWBC6"
   },
   "source": [
    "df.iloc[:4, 1] = None; df.iloc[:2, 2] = None\n",
    "df"
   ],
   "execution_count": null,
   "outputs": []
  },
  {
   "cell_type": "code",
   "metadata": {
    "id": "a0rKsuK6WBC9"
   },
   "source": [
    "# Exemplo: Preenchimento de missing data em DataFrames\n",
    "#          com valor ZERO\n",
    "\n",
    "df.fillna(0)"
   ],
   "execution_count": null,
   "outputs": []
  },
  {
   "cell_type": "code",
   "metadata": {
    "id": "mDKZp7A0WBC_"
   },
   "source": [
    "df.iloc[3:4,0:1] = None\n",
    "df\n"
   ],
   "execution_count": null,
   "outputs": []
  },
  {
   "cell_type": "code",
   "metadata": {
    "id": "tlZdB6lXWBDC"
   },
   "source": [
    "# Exemplo: Preenchimento de missing data em DataFrames\n",
    "df.fillna(method='ffill')"
   ],
   "execution_count": null,
   "outputs": []
  },
  {
   "cell_type": "code",
   "metadata": {
    "id": "A8ftof5IWBDH"
   },
   "source": [
    "# Exemplo: Preenchimento de missing data em DataFrames\n",
    "# Chamendo .fillna() com um tipo 'dict',\n",
    "# pode-se usar um valor diferente de preenchimento para cada coluna\n",
    "\n",
    "df.fillna({1: 0.5, 2: -1})"
   ],
   "execution_count": null,
   "outputs": []
  },
  {
   "cell_type": "code",
   "metadata": {
    "id": "Xu30NwKGWBDJ"
   },
   "source": [
    "# Exemplo: Criação de DataFrame Pandas\n",
    "#          a partir Dicionários de objetos Series\n",
    "\n",
    "pd.DataFrame({'população1': populacao,'área1': area})\n"
   ],
   "execution_count": null,
   "outputs": []
  },
  {
   "cell_type": "code",
   "metadata": {
    "id": "MauMnQblWBDS"
   },
   "source": [
    "# Exemplo: Criação de DataFrame Pandas\n",
    "#          a partir de arrays NumPy bidimensionais\n",
    "\n",
    "import numpy as np\n",
    "\n",
    "pd.DataFrame(np.random.rand(3, 2),\n",
    "             columns=['coluna 1', 'coluna 2'],\n",
    "             index=['linha 1', 'linha 2', 'linha 3'])"
   ],
   "execution_count": null,
   "outputs": []
  },
  {
   "cell_type": "code",
   "metadata": {
    "id": "8qqK_i2GWBDW"
   },
   "source": [
    "# Exemplo: Criação de DataFrame Pandas\n",
    "#          a partir de array NumPy estruturado\n",
    "Resultado = np.zeros(3, dtype=[('A', 'i8'), ('B', 'f8')])\n",
    "Resultado"
   ],
   "execution_count": null,
   "outputs": []
  },
  {
   "cell_type": "code",
   "metadata": {
    "id": "Uxn6lMeAWBDj"
   },
   "source": [
    "pd.DataFrame(Resultado)"
   ],
   "execution_count": null,
   "outputs": []
  },
  {
   "cell_type": "markdown",
   "metadata": {
    "id": "52rnow9pWBDw"
   },
   "source": [
    "### Exemplos de Acesso a Elementos de DataFrames\n",
    "A seguir, são apresentados alguns exemplos de como acessar DataFrames e elementos de DataFrames"
   ]
  },
  {
   "cell_type": "code",
   "metadata": {
    "id": "FdSQzV7WWBDy"
   },
   "source": [
    "estados"
   ],
   "execution_count": null,
   "outputs": []
  },
  {
   "cell_type": "code",
   "metadata": {
    "id": "vP59c-NWWBD1"
   },
   "source": [
    "estados['área']"
   ],
   "execution_count": null,
   "outputs": []
  },
  {
   "cell_type": "code",
   "metadata": {
    "id": "PXCyJipnWBD3"
   },
   "source": [
    "estados[['área','população']]"
   ],
   "execution_count": null,
   "outputs": []
  },
  {
   "cell_type": "code",
   "metadata": {
    "id": "SuGBASeAWBD7"
   },
   "source": [
    "estados.área"
   ],
   "execution_count": null,
   "outputs": []
  },
  {
   "cell_type": "markdown",
   "metadata": {
    "id": "Yd3xPOjyWBD_"
   },
   "source": [
    "### 2.3 - Incluir e modificar colunas no DataFrame Pandas\n",
    "- Uma das formas de se fazer isto pode ser usando uma sintaxe similar à sintaxe de dicionários com objetos Series Pandas.\n"
   ]
  },
  {
   "cell_type": "code",
   "metadata": {
    "id": "MCar90GQWBD_"
   },
   "source": [
    "# Exemplo - Inclusão de uma nova coluna no DataFrame Pandas\n",
    "\n",
    "estados['densidade'] = estados['população'] / estados['área']\n",
    "estados"
   ],
   "execution_count": null,
   "outputs": []
  },
  {
   "cell_type": "markdown",
   "metadata": {
    "id": "5VN84uToWBEJ"
   },
   "source": [
    "### Observação:\n",
    "Como DataFrames podem ser conciderados como uma especetipo de arrays bidimensionais, então podemos utilizar operações similares de arrays bidimencionais a eles."
   ]
  },
  {
   "cell_type": "code",
   "metadata": {
    "id": "m9sPYXhvWBEP"
   },
   "source": [
    "# Exemplo - Como inverter a representação do DataFrame Pandas - Similar a uma matriz transposta\n",
    "estados.T"
   ],
   "execution_count": null,
   "outputs": []
  },
  {
   "cell_type": "code",
   "metadata": {
    "id": "-9ypObs3WBEU"
   },
   "source": [
    "# Exemplo - Obtendo índicers de DataFrames Pandas\n",
    "estados.values"
   ],
   "execution_count": null,
   "outputs": []
  },
  {
   "cell_type": "code",
   "metadata": {
    "id": "PddhZE1dWBEX"
   },
   "source": [
    "# Exemplo - Obtendo índices de DataFrames Pandas\n",
    "estados.values[0]"
   ],
   "execution_count": null,
   "outputs": []
  },
  {
   "cell_type": "code",
   "metadata": {
    "id": "X8qov6NOWBEa"
   },
   "source": [
    "# Exemplo - Obtendo índices de DataFrames Pandas\n",
    "estados.values[0][:]"
   ],
   "execution_count": null,
   "outputs": []
  },
  {
   "cell_type": "code",
   "metadata": {
    "id": "O9FznBERWBEd"
   },
   "source": [
    "print(\"Explique o funcionamento desse comando. \\\\n\\n\")\n",
    "estados[estados.densidade > 100]"
   ],
   "execution_count": null,
   "outputs": []
  },
  {
   "cell_type": "code",
   "metadata": {
    "id": "znbKz7FkWBEg"
   },
   "source": [
    "print(\"Explique o funcionamento desse comando. \\\\n\\n\")\n",
    "estados.densidade > 100"
   ],
   "execution_count": null,
   "outputs": []
  },
  {
   "cell_type": "code",
   "metadata": {
    "id": "hKAQfIi2WBEo"
   },
   "source": [
    "print(\"Explique o funcionamento desse comando. \\\\n\\n\")\n",
    "estados[estados.densidade > 100].densidade"
   ],
   "execution_count": null,
   "outputs": []
  },
  {
   "cell_type": "code",
   "metadata": {
    "id": "i4ypMrpiWBEw"
   },
   "source": [
    "print(\"Lista das populações e densidades das Cidades com densidade maior de 100. \\\\n\\n\")\n",
    "estados[estados.densidade > 100][['população', 'densidade']]"
   ],
   "execution_count": null,
   "outputs": []
  },
  {
   "cell_type": "code",
   "metadata": {
    "id": "0vdoBXLCWBEz",
    "collapsed": true
   },
   "source": [
    "# Exercício: Liste o atributo 'densidade'\n",
    "#           dos estados da Florida e Illinois\n",
    "?????"
   ],
   "execution_count": null,
   "outputs": []
  },
  {
   "cell_type": "code",
   "metadata": {
    "id": "Qg7glfSpWBE2"
   },
   "source": [
    "# Exemplo de listagem de sub-DataFrame em Pandas\n",
    "# O método .iloc() pemite acesso por numeração - localicação\n",
    "\n",
    "estados.iloc[:3, :2]\n",
    "\n",
    "#estados[:3,:2]"
   ],
   "execution_count": null,
   "outputs": []
  },
  {
   "cell_type": "code",
   "metadata": {
    "id": "cHrx9hHJWBE4"
   },
   "source": [
    "# Exemplo de listagem de sub-DataFrame em Pandas\n",
    "# O método .loc() permite acesso por labels\n",
    "\n",
    "estados.loc[:'Illinois', :'população']"
   ],
   "execution_count": null,
   "outputs": []
  },
  {
   "cell_type": "code",
   "metadata": {
    "id": "WBeL_sbOWBFP"
   },
   "source": [
    "# Exemplo de listagem de sub-DataFrame em Pandas\n",
    "# Uso do estilo NumPy para acessar sub Arrays\n",
    "# Formato:\n",
    "# dataFrame.loc[LINHAS, COLUNAS]\n",
    "\n",
    "estados.loc[estados.densidade > 100, ['população', 'densidade']]"
   ],
   "execution_count": null,
   "outputs": []
  },
  {
   "cell_type": "code",
   "metadata": {
    "id": "V8e4fis1WBFa",
    "collapsed": true
   },
   "source": [
    "# Exercício:\n",
    "# Obenha apenas os Estados com população acima de 20 milhões.\n",
    "# Exiba as colunas 'população'e 'densidade'\n",
    "\n",
    "????\n"
   ],
   "execution_count": null,
   "outputs": []
  },
  {
   "cell_type": "markdown",
   "metadata": {
    "id": "flMyRrnGWBFh"
   },
   "source": [
    "### Alguns Métodos Úteis:\n",
    "    - pd.head(x)  --> lista as x primeiras linhas do DataFrame\n",
    "    - pd.tail(x)  --> lista as x últimas linhas do DataFrame\n",
    "    - pd.info()   --> resume o conteúdo do DataFrame"
   ]
  },
  {
   "cell_type": "code",
   "metadata": {
    "id": "T-TwRNHpWBFk"
   },
   "source": [
    "# Exemplo de uso do método pd.head()\n",
    "estados.head(2)\n",
    "#estados.head()"
   ],
   "execution_count": null,
   "outputs": []
  },
  {
   "cell_type": "code",
   "metadata": {
    "id": "sUQ5UJjqWBFo"
   },
   "source": [
    "# Exemplo de uso do método pd.tail()\n",
    "estados.tail(2)\n",
    "#estados.tail()"
   ],
   "execution_count": null,
   "outputs": []
  },
  {
   "cell_type": "code",
   "metadata": {
    "id": "6muotZjTWBFv"
   },
   "source": [
    "# Exemplo de uso do método pd.info()\n",
    "estados.info()"
   ],
   "execution_count": null,
   "outputs": []
  },
  {
   "cell_type": "markdown",
   "metadata": {
    "id": "K3-FoLvlWBF3"
   },
   "source": [
    "### Pergunta:\n",
    "Como se pode alterar os valores de elementos de DataFrames?\n"
   ]
  },
  {
   "cell_type": "code",
   "metadata": {
    "id": "xH6uhHkNWBF3",
    "collapsed": true
   },
   "source": [
    "# Verifique uma forma de alterar valores de elementos do DataFrame estados\n",
    "estados.loc['Texas', 'população'] = 40000000\n",
    "estados"
   ],
   "execution_count": null,
   "outputs": []
  },
  {
   "cell_type": "markdown",
   "metadata": {
    "id": "hxkNV9r9WBF7"
   },
   "source": [
    "### Observação:\n",
    "Pandas foi desenvolvido sobre o NumPy e manteve a compatibilidade das operações NumPy.\n",
    "- dados Pandas (Series, DataFrame) aceitam as operações NumPy"
   ]
  },
  {
   "cell_type": "code",
   "metadata": {
    "id": "m-vU-T8DWBF7"
   },
   "source": [
    "# Exemplo de operação NumPy sobre dados Pandas\n",
    "# Definindo o objeto ser - Tipo Series Pandas\n",
    "import pandas as pd\n",
    "import numpy as np\n",
    "\n",
    "rng = np.random.RandomState(42)\n",
    "ser = pd.Series(rng.randint(0, 10, 4))\n",
    "ser"
   ],
   "execution_count": null,
   "outputs": []
  },
  {
   "cell_type": "code",
   "metadata": {
    "id": "WmXnyU7yWBF-"
   },
   "source": [
    "# Exemplo de operação NumPy sobre dados Pandas\n",
    "# Operação exponencial sobre um objeto Series Pandas\n",
    "\n",
    "np.exp(ser)"
   ],
   "execution_count": null,
   "outputs": []
  },
  {
   "cell_type": "code",
   "metadata": {
    "id": "x9VHgubKWBF_"
   },
   "source": [
    "# Exemplo de operação NumPy sobre dados Pandas\n",
    "# Definindo o objeto df - Tipo DataFrame Pandas\n",
    "\n",
    "df = pd.DataFrame(rng.randint(0, 10, (3, 4)),\n",
    "columns=['A', 'B', 'C', 'D'])\n",
    "df"
   ],
   "execution_count": null,
   "outputs": []
  },
  {
   "cell_type": "code",
   "metadata": {
    "id": "w98tZ5-qWBGC"
   },
   "source": [
    "# Exemplo de operação NumPy sobre dados Pandas\n",
    "# Operação seno sobre um objeto DataFrame Pandas\n",
    "\n",
    "np.sin(df * np.pi / 4)"
   ],
   "execution_count": null,
   "outputs": []
  },
  {
   "cell_type": "markdown",
   "metadata": {
    "id": "7g84IcYzWBGE"
   },
   "source": [
    "### 2.4 - Alinhamento de índices em Pandas:\n",
    "\n",
    "Para operações binárias em dois objetos Series ou DataFrame, Pandas alinhará índices no processo de execução da operação. Isso é muito conveniente quando você está trabalhando com dados incompletos, como veremos em alguns dos exemplos que se seguem."
   ]
  },
  {
   "cell_type": "code",
   "metadata": {
    "id": "PCTZtVRGWBGF"
   },
   "source": [
    "# Exemplo: Alinhamento automático de índices em Pandas\n",
    "# Criação das Series Pandas - area e population\n",
    "\n",
    "area = pd.Series({'Alaska': 1723337, 'Texas': 695662,\n",
    "'California': 423967}, name='área')\n",
    "\n",
    "population = pd.Series({'California': 38332521, 'Texas': 26448193,\n",
    "'New York': 19651127}, name='população')\n",
    "\n",
    "\n",
    "# Pandas irá completar com NaN os dados incompletos (data missing)\n",
    "population / area"
   ],
   "execution_count": null,
   "outputs": []
  },
  {
   "cell_type": "markdown",
   "metadata": {
    "id": "M4H-mgcOWBGI"
   },
   "source": [
    "### Observação:\n",
    "O Array resultante é a união união de índices dos dois arrays de entrada.\n",
    "- Equivale a fazer a união explícita no padrão Python:\n",
    "    - area.index | population.index\n",
    "- Os índices resultantes da união que não tiverem entradas são marcados com NaN (data missing)."
   ]
  },
  {
   "cell_type": "code",
   "metadata": {
    "id": "xaKbNSv-WBGU"
   },
   "source": [
    "area.index | population.index"
   ],
   "execution_count": null,
   "outputs": []
  },
  {
   "cell_type": "code",
   "metadata": {
    "id": "r2DL0fCxWBGX"
   },
   "source": [
    "# Exemplo de alinhamento automático em Pandas\n",
    "\n",
    "A = pd.Series([2, 4, 6], index=[0, 1, 2])\n",
    "B = pd.Series([1, 3, 5], index=[1, 2, 3])\n",
    "A + B"
   ],
   "execution_count": null,
   "outputs": []
  },
  {
   "cell_type": "code",
   "metadata": {
    "id": "4Q3ps2igWBGa"
   },
   "source": [
    "# Exemplo: Similar ao exemplo anterior,\n",
    "#          mas preenchendo os data missing com valor ZERO\n",
    "# Uso do estilo de operadores-métodos no NumPY\n",
    "\n",
    "A.add(B, fill_value=0)\n"
   ],
   "execution_count": null,
   "outputs": []
  },
  {
   "cell_type": "markdown",
   "metadata": {
    "id": "EEdTCp74JYcC"
   },
   "source": [
    "### 2.5. Gráficos com Pandas\n",
    "Como Pandas foi construído sobre o MatPlotLib, podemo sutilizar os métodos desse pacote sobre os tipos Serie e Dataframe.\n",
    "\n"
   ]
  },
  {
   "cell_type": "code",
   "metadata": {
    "id": "U_6LomCdJVnQ"
   },
   "source": [
    "# Exemplo de uso de métodos de traçado de gráficos em Pandas\n",
    "print(\"Impressão do DataFrame estados\\n\\n\")\n",
    "estados"
   ],
   "execution_count": null,
   "outputs": []
  },
  {
   "cell_type": "code",
   "metadata": {
    "id": "hRym_FAKKDoH"
   },
   "source": [
    "print(\"Traçado dos gráficos das variáveis, Series, do DataFrame estados\\n\\n\")\n",
    "estados.plot()"
   ],
   "execution_count": null,
   "outputs": []
  },
  {
   "cell_type": "markdown",
   "metadata": {
    "id": "bDrSHHVuWBGd"
   },
   "source": [
    "### 2.6 - Métodos de operadores binários em Pandas:\n",
    "- add() --> Adição\n",
    "- sub(), subtract() --> Subtração\n",
    "- mul(), multiply() --> Multiplicação\n",
    "- truediv(), div(), divide() --> Divição\n",
    "- floordiv()  --> (parte inteira da divisão)\n",
    "- mod()     ---> (resto da divisão)\n",
    "- pow()   --> potência"
   ]
  },
  {
   "cell_type": "markdown",
   "metadata": {
    "id": "TgnyF6RgWBGd"
   },
   "source": [
    "### Exercício: Escreva o seguinte programa\n",
    "    - df1 - Dataframe com 3 linhas e 2 colunas (col1, col2). Inicie o DataFrame de forma ra\n",
    "    - df2 - Dataframe com 2 linhas e 3 colunas (col1, col2, col3)\n",
    "    - df3 = df1 + df2\n",
    "    - df4 = df1 / df2\n",
    "    - o quadrado de df1\n",
    "    - Inicie os DataFrames df1 e df2 de forma randômica."
   ]
  },
  {
   "cell_type": "code",
   "metadata": {
    "id": "8jxCdt0QWBGe",
    "collapsed": true
   },
   "source": [
    "# Exercício:\n",
    ""
   ],
   "execution_count": null,
   "outputs": []
  },
  {
   "cell_type": "markdown",
   "metadata": {
    "id": "LcEmRHL3WBGj"
   },
   "source": [
    "### Observação:\n",
    "Não podemos esquecer que operações sobre Series e DataFrames Pandas opera por linhas, como nos arrays NumPy."
   ]
  },
  {
   "cell_type": "code",
   "metadata": {
    "id": "XyWVTXpkWBGk"
   },
   "source": [
    "# Criação de um Array NumPy\n",
    "\n",
    "A = rng.randint(10, size=(3, 4))\n",
    "A"
   ],
   "execution_count": null,
   "outputs": []
  },
  {
   "cell_type": "code",
   "metadata": {
    "id": "vj_FFhLcWBGn"
   },
   "source": [
    "# Operação por linha entre arrays NumPy\n",
    "A - A[0]"
   ],
   "execution_count": null,
   "outputs": []
  },
  {
   "cell_type": "code",
   "metadata": {
    "id": "0KSA44fjWBGp"
   },
   "source": [
    "# Criação de uma DataFrame Pandas\n",
    "\n",
    "df = pd.DataFrame(A, columns=list('QRST'))\n",
    "df"
   ],
   "execution_count": null,
   "outputs": []
  },
  {
   "cell_type": "code",
   "metadata": {
    "id": "G_hnkF6nWBGr"
   },
   "source": [
    "# Operação por linha com DataFrame Pandas\n",
    "\n",
    "df - df.iloc[0]"
   ],
   "execution_count": null,
   "outputs": []
  },
  {
   "cell_type": "code",
   "metadata": {
    "id": "OjCvjMNNWBGv"
   },
   "source": [
    "# Operação de subtração por coluna sobre DataFrame Pandas\n",
    "\n",
    "df.subtract(df['R'], axis=0)"
   ],
   "execution_count": null,
   "outputs": []
  },
  {
   "cell_type": "code",
   "metadata": {
    "id": "TdNQsQtBWBG1"
   },
   "source": [
    "# Exercício\n",
    "# Explique o que a linha de código abaixo executa.\n",
    "\n",
    "halfrow = df.iloc[0, ::2]\n",
    "halfrow\n",
    "#df - halfrow"
   ],
   "execution_count": null,
   "outputs": []
  },
  {
   "cell_type": "markdown",
   "metadata": {
    "id": "iRAE8iGZWBG7"
   },
   "source": [
    "### 2.7 - Concatenação de Series e DataFrames Pandas"
   ]
  },
  {
   "cell_type": "code",
   "metadata": {
    "id": "pDrQwYtAWBG9"
   },
   "source": [
    "# Concatenação de Series Pandas\n",
    "\n",
    "ser1 = pd.Series(['A', 'B', 'C'], index=[1, 2, 3])\n",
    "ser2 = pd.Series(['D', 'E', 'F'], index=[4, 5, 6])\n",
    "pd.concat([ser1, ser2])"
   ],
   "execution_count": null,
   "outputs": []
  },
  {
   "cell_type": "code",
   "metadata": {
    "id": "OyhkT4_2WBHC"
   },
   "source": [
    "# Função para preencher um DataFrame Pandas\n",
    "\n",
    "def make_df(cols, ind):\n",
    "  data = {c: [str(c) + str(i) for i in ind]\n",
    "  for c in cols}\n",
    "  return pd.DataFrame(data, ind)\n",
    "\n",
    "# exemplo de uso da função DataFrame\n",
    "make_df('ABC', range(3))"
   ],
   "execution_count": null,
   "outputs": []
  },
  {
   "cell_type": "code",
   "metadata": {
    "id": "b6TYtFB-WBHH"
   },
   "source": [
    "# Concatenação de DataFrames Pandas\n",
    "\n",
    "df1 = make_df('AB', [1, 2])\n",
    "df2 = make_df('AB', [3, 4])\n",
    "print(df1);\n",
    "print()\n",
    "print(df2)\n",
    "print()\n",
    "print(pd.concat([df1, df2]))"
   ],
   "execution_count": null,
   "outputs": []
  },
  {
   "cell_type": "code",
   "metadata": {
    "id": "9i1cXrYvWBHO"
   },
   "source": [
    "# Anexação de DataFrame Pandas\n",
    "\n",
    "print(df1.append(df2))"
   ],
   "execution_count": null,
   "outputs": []
  },
  {
   "cell_type": "markdown",
   "metadata": {
    "id": "BTA2T9nEWBHU"
   },
   "source": [
    "### 2.8 - Objeto Index em Pandas\n",
    "\n",
    "> Bloco com recuo\n",
    "\n",
    "\n",
    "É uma classe em Pandas que possui métodos próprios para operar sobre os índices de objetos Pandas, como Series e DataFrames.\n",
    "Index pode ser:\n",
    "- Array imutável\n",
    "- Conjunto ordenado"
   ]
  },
  {
   "cell_type": "code",
   "metadata": {
    "id": "KpR0ENx2WBHV"
   },
   "source": [
    "# Criação de um objeto Index como Array Imutável\n",
    "# No caos, uma lista de inteiros\n",
    "\n",
    "ind = pd.Index([2, 3, 5, 7, 11])\n",
    "print(ind)\n",
    "print(ind[1])\n",
    "print(ind[::2])\n",
    "print(\"\\nObjeto Index possui métodos similares aos dos arrays NumPy\")\n",
    "print(ind.size, ind.shape, ind.ndim, ind.dtype)"
   ],
   "execution_count": null,
   "outputs": []
  },
  {
   "cell_type": "code",
   "metadata": {
    "id": "Hg-KL66BWBHX"
   },
   "source": [
    "# Index não podem ser modificados - Eles são imutáveis\n",
    "nd[1] = 0"
   ],
   "execution_count": null,
   "outputs": []
  },
  {
   "cell_type": "code",
   "metadata": {
    "id": "JK3FhYfZWBHb",
    "collapsed": true
   },
   "source": [
    "# Criação de um objeto Index conjunto ordenado\n"
   ],
   "execution_count": null,
   "outputs": []
  },
  {
   "cell_type": "code",
   "metadata": {
    "id": "YQWkU9D1WBHe"
   },
   "source": [
    "indA = pd.Index([1, 3, 5, 7, 9])\n",
    "indB = pd.Index([2, 3, 5, 7, 11])\n",
    "\n",
    "print(\"interseção --> \", indA & indB)\n",
    "\n",
    "print(\"união -->  \", indA | indB)\n",
    "\n",
    "print(\"diferença simétrica --> \",  indA ^ indB)\n"
   ],
   "execution_count": null,
   "outputs": []
  },
  {
   "cell_type": "markdown",
   "metadata": {
    "id": "lvz_6a2TWBHh"
   },
   "source": [
    "### 3. Carregar, armazenar e formatar DataFrames\n",
    "\n"
   ]
  },
  {
   "cell_type": "markdown",
   "metadata": {
    "id": "bNXEWvrLWBHh"
   },
   "source": [
    "### 3.1. Métodos para carregar/ler/importar dados tipo DataFrame Pandas\n",
    "\n",
    "Pandas possui vários métodos para ler dados tabulados.\n",
    "- pd.read_csv('arquivo.csv', parametros). Carrega dado com formato .csv delimitado a partir de um arquivo, URL ou objeto tipo arquivo. Usa vígula como delimitador padrão.\n",
    "\n",
    "\n",
    "- pd.read_table(árquivo.txt', parametros) -  Carrega dado delimitado a partir de arquivo, URL, ou objeto tipo arquivo. Usa tab ('\\t') como delimitador padrão.\n"
   ]
  },
  {
   "cell_type": "code",
   "metadata": {
    "id": "Uv09oG7rWBHi"
   },
   "source": [
    "# Precisa fazer o download do arquivo ScoobyDoo.csv para a área do colab antes carregá-lo no ambiente\n",
    "teste1 = pd.read_csv('ScoobyDoo.csv')"
   ],
   "execution_count": null,
   "outputs": []
  },
  {
   "cell_type": "code",
   "metadata": {
    "id": "44SyyeaiWBHn"
   },
   "source": [
    "teste1"
   ],
   "execution_count": null,
   "outputs": []
  },
  {
   "cell_type": "code",
   "metadata": {
    "id": "P8p6XNqvWBHp"
   },
   "source": [
    "teste2 = pd.read_csv('ScoobyDoo.csv', header=None)"
   ],
   "execution_count": null,
   "outputs": []
  },
  {
   "cell_type": "code",
   "metadata": {
    "id": "yQsK-QfdWBHr"
   },
   "source": [
    "teste2"
   ],
   "execution_count": null,
   "outputs": []
  },
  {
   "cell_type": "code",
   "metadata": {
    "id": "_NP5z-NHWBHw"
   },
   "source": [
    "# Exemplo: Obtendo informação do DataFrame\n",
    "teste1.info()"
   ],
   "execution_count": null,
   "outputs": []
  },
  {
   "cell_type": "code",
   "metadata": {
    "id": "zFVtATWgWBH0"
   },
   "source": [
    "teste3 = pd.read_csv('ScoobyDoo.csv', names=['Coluna 1', 'Coluna 2'])\n",
    "teste3"
   ],
   "execution_count": null,
   "outputs": []
  },
  {
   "cell_type": "code",
   "metadata": {
    "id": "KtONRktiWBH4"
   },
   "source": [
    "teste3.describe()"
   ],
   "execution_count": null,
   "outputs": []
  },
  {
   "cell_type": "markdown",
   "metadata": {
    "id": "Hyw9A08SWBH6"
   },
   "source": [
    "Exemplos de algumas possibilidades de cálculo com DataFrame"
   ]
  },
  {
   "cell_type": "code",
   "metadata": {
    "id": "XX_LzqaJWBH9"
   },
   "source": [
    "teste1['idade'].sum()"
   ],
   "execution_count": null,
   "outputs": []
  },
  {
   "cell_type": "code",
   "metadata": {
    "id": "yIZFrX3QWBIA"
   },
   "source": [
    "teste1['idade']>19"
   ],
   "execution_count": null,
   "outputs": []
  },
  {
   "cell_type": "code",
   "metadata": {
    "id": "p-fPGOdOWBII"
   },
   "source": [
    "# Exercício: Inclua uma coluna 'Sexo'no DataFrame teste1\n",
    "# Atribua o sexo adequadamente para os personagens\n",
    "# ('M'- masculino, 'F' - Feminino')\n",
    "# Calcule a média de idade dos personagens femininos\n"
   ],
   "execution_count": null,
   "outputs": []
  },
  {
   "cell_type": "code",
   "metadata": {
    "id": "SxM2wWLWWBIT"
   },
   "source": [
    "# Exercício: Inclua uma coluna 'Peso' no DataFrame teste1\n",
    "# Scooby - 40 kg\n",
    "# Salsicha - 55 kg\n",
    "# Fred  - 70 Kg\n",
    "#\n",
    "# Velma = None\n",
    "# Daphne = 50 Kg\n"
   ],
   "execution_count": null,
   "outputs": []
  },
  {
   "cell_type": "code",
   "metadata": {
    "id": "P2TJKcyJWBIY"
   },
   "source": [
    "# Exercício: Inclua uma coluna 'Altura' no DataFrame teste1\n",
    "# Scooby - 1.5m\n",
    "# Salsicha - 1.75m\n",
    "# Fred  - 1.80m\n",
    "#\n",
    "# Velma = 1.60m\n",
    "# Daphne = 1.65m"
   ],
   "execution_count": null,
   "outputs": []
  },
  {
   "cell_type": "code",
   "metadata": {
    "id": "1YunwzfXWBIc"
   },
   "source": [
    "# Exercício: Inclua uma coluna 'IMC' no DataFrame teste1\n",
    "# Preencha essa coluna com o valor de Índice de Massa Corporea dos personagens\n",
    "# Obtenha o personagem que tem a menor IMC"
   ],
   "execution_count": null,
   "outputs": []
  },
  {
   "cell_type": "markdown",
   "metadata": {
    "id": "NoR_8du_WBIe"
   },
   "source": [
    "### 3.2. Lendo arquivos via URL"
   ]
  },
  {
   "cell_type": "code",
   "metadata": {
    "id": "Y7hk_vB6WBIe"
   },
   "source": [
    "# arquivo do GitHub - Livro Handbook of data Science\n",
    "Estados_USA = pd.read_csv('https://raw.githubusercontent.com/jakevdp/PythonDataScienceHandbook/master/notebooks/data/state-population.csv')"
   ],
   "execution_count": null,
   "outputs": []
  },
  {
   "cell_type": "code",
   "metadata": {
    "id": "BwqnVeH5WBIg"
   },
   "source": [
    "Estados_USA"
   ],
   "execution_count": null,
   "outputs": []
  },
  {
   "cell_type": "markdown",
   "metadata": {
    "id": "bEDTOvRPWBIi"
   },
   "source": [
    "### 3.3. Salvando DataFrames como arquivos .csv, .xlx, etc"
   ]
  },
  {
   "cell_type": "code",
   "metadata": {
    "id": "_2xVh7XWWBIj"
   },
   "source": [
    "teste1.to_csv('teste4.csv')"
   ],
   "execution_count": null,
   "outputs": []
  },
  {
   "cell_type": "code",
   "metadata": {
    "id": "iNH0XCAlWBIl"
   },
   "source": [
    "#dataF.to_excel('nome_do_arquivo.xlsx', index=False)"
   ],
   "execution_count": null,
   "outputs": []
  },
  {
   "cell_type": "code",
   "metadata": {
    "id": "fL5uHJQxxB8a"
   },
   "source": [
    "from google.colab import files\n",
    "\n",
    "uploaded = files.upload()\n",
    "\n",
    "for fn in uploaded.keys():\n",
    "  print('User uploaded file \"{name}\" with length {length} bytes'.format(\n",
    "      name=fn, length=len(uploaded[fn])))"
   ],
   "execution_count": null,
   "outputs": []
  },
  {
   "cell_type": "code",
   "metadata": {
    "id": "r1c-wia0xWvs"
   },
   "source": [
    "import pandas as pd\n",
    "df = (pd.read_csv(\"births.csv\"))\n",
    "serie = pd.Series(df)\n",
    "serie"
   ],
   "execution_count": null,
   "outputs": []
  }
 ]
}
