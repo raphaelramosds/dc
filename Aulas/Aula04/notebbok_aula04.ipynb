{
 "nbformat": 4,
 "nbformat_minor": 0,
 "metadata": {
  "colab": {
   "provenance": []
  },
  "kernelspec": {
   "display_name": "Python 3",
   "language": "python",
   "name": "python3"
  }
 },
 "cells": [
  {
   "cell_type": "markdown",
   "metadata": {
    "id": "N-mTzCHbWA7U"
   },
   "source": [
    "# Disciplina: Ciência de Dados (DCA-0131)\n",
    "Prof. Luiz Affonso Guedes\n",
    "\n",
    "### Departamento de Engenharia de Computação e Automação - DCA\n",
    "\n",
    "UFRN - 2024\n",
    "\n",
    "*OBS: Favor fazer cópia do notebook antes de alterá-lo.\n"
   ]
  },
  {
   "cell_type": "markdown",
   "metadata": {
    "id": "zUEd2WcTWA7Y"
   },
   "source": [
    "## Aula 4 - Pacote Pandas - Parte I\n",
    "\n",
    "O pacote Pandas é construído sobre os pacotes Numpy e MathPlotLib. Porém, diferentemente dos arrays de NumPy, variáveis manipuladas pelo Pandas podem ser de tipos diversos (não homogêneos). Assim, uma determinada variável pode contém elementos de diversos tipos. DataFrame e Series são exemplos de dados complexo de Pandas.\n",
    "\n",
    "- DataFrames são dados \"retangulares\", usualmente utilizados para representar informação em formato de planilha, por exemplo. Assim, as colunas devem ter as mesmas dimensões e cada coluna contém elementos de um mesmo tipo de dado.\n",
    "\n",
    "- Series são objetos tipo array uni-dimensional contendo um array de dados (equivalente ao array uni-dimensional NumPy) e um array de labels do array de dados (denominados de index da Serie). Na sua forma mais simples, Series podem conter apenas os arrays de dados. Neste caso, os indexes segue o padrão dos arrays NumPy (índices de zero a n-1).\n",
    "\n",
    "Pandas implementa uma série de operações sobre dados para usuários familiarizados com banco de dados e planilhas."
   ]
  },
  {
   "cell_type": "markdown",
   "source": [],
   "metadata": {
    "id": "iPXYs9p5NkaF"
   }
  },
  {
   "cell_type": "markdown",
   "metadata": {
    "id": "bWEQaqiEWA7b"
   },
   "source": [
    "\n",
    "\n",
    "\n",
    "### Convensão de notação:\n",
    "- from pandas import Series, DataFrame\n",
    "- import pandas as pd"
   ]
  },
  {
   "cell_type": "code",
   "metadata": {
    "id": "kTpx8Vf1WA7g",
    "ExecuteTime": {
     "end_time": "2025-04-09T20:29:40.176708Z",
     "start_time": "2025-04-09T20:29:38.885918Z"
    }
   },
   "source": [
    "# Exemplo: Importando Pandas\n",
    "\n",
    "from pandas import Series, DataFrame\n",
    "import pandas as pd\n"
   ],
   "outputs": [],
   "execution_count": 1
  },
  {
   "cell_type": "markdown",
   "metadata": {
    "id": "R4lSoiT7WA8G"
   },
   "source": [
    "## 1. Objeto do tipo Serie em Pandas"
   ]
  },
  {
   "cell_type": "code",
   "metadata": {
    "id": "skZUe9VFWA8I",
    "colab": {
     "base_uri": "https://localhost:8080/"
    },
    "executionInfo": {
     "status": "ok",
     "timestamp": 1684499413178,
     "user_tz": 180,
     "elapsed": 39,
     "user": {
      "displayName": "KEVEN BEZERRA",
      "userId": "00923506308034410447"
     }
    },
    "outputId": "1867b72b-a740-410b-fc04-9601104e80b3",
    "ExecuteTime": {
     "end_time": "2025-04-09T20:29:40.222957Z",
     "start_time": "2025-04-09T20:29:40.195668Z"
    }
   },
   "source": [
    "# Exemplo: criação de um objeto Pandas do tipo Series\n",
    "# - sem especificar os seus índices\n",
    "\n",
    "dado = pd.Series([0.25, 0.5, 0.75, 1.0])\n",
    "dado"
   ],
   "outputs": [
    {
     "data": {
      "text/plain": [
       "0    0.25\n",
       "1    0.50\n",
       "2    0.75\n",
       "3    1.00\n",
       "dtype: float64"
      ]
     },
     "execution_count": 2,
     "metadata": {},
     "output_type": "execute_result"
    }
   ],
   "execution_count": 2
  },
  {
   "cell_type": "code",
   "metadata": {
    "id": "OtylEOIKVuyl",
    "colab": {
     "base_uri": "https://localhost:8080/"
    },
    "executionInfo": {
     "status": "ok",
     "timestamp": 1684499413178,
     "user_tz": 180,
     "elapsed": 35,
     "user": {
      "displayName": "KEVEN BEZERRA",
      "userId": "00923506308034410447"
     }
    },
    "outputId": "7c54270b-854a-43ff-b4a7-068ad1ad2748",
    "ExecuteTime": {
     "end_time": "2025-04-09T20:29:40.441685Z",
     "start_time": "2025-04-09T20:29:40.437353Z"
    }
   },
   "source": [
    "type(dado)"
   ],
   "outputs": [
    {
     "data": {
      "text/plain": [
       "pandas.core.series.Series"
      ]
     },
     "execution_count": 3,
     "metadata": {},
     "output_type": "execute_result"
    }
   ],
   "execution_count": 3
  },
  {
   "cell_type": "code",
   "metadata": {
    "id": "TXh4sntbWA8R",
    "colab": {
     "base_uri": "https://localhost:8080/"
    },
    "executionInfo": {
     "status": "ok",
     "timestamp": 1684499413179,
     "user_tz": 180,
     "elapsed": 33,
     "user": {
      "displayName": "KEVEN BEZERRA",
      "userId": "00923506308034410447"
     }
    },
    "outputId": "ababcb90-ada6-4ad3-a366-48043c0d118d",
    "ExecuteTime": {
     "end_time": "2025-04-09T20:29:40.502848Z",
     "start_time": "2025-04-09T20:29:40.496463Z"
    }
   },
   "source": [
    "# Exemplo: criação de um objeto Pandas do tipo Series\n",
    "# - sem especificar os seus índices\n",
    "\n",
    "obj_Serie = Series([4, 7, -5, 3])\n",
    "print(obj_Serie)\n",
    "type(obj_Serie)"
   ],
   "outputs": [
    {
     "name": "stdout",
     "output_type": "stream",
     "text": [
      "0    4\n",
      "1    7\n",
      "2   -5\n",
      "3    3\n",
      "dtype: int64\n"
     ]
    },
    {
     "data": {
      "text/plain": [
       "pandas.core.series.Series"
      ]
     },
     "execution_count": 4,
     "metadata": {},
     "output_type": "execute_result"
    }
   ],
   "execution_count": 4
  },
  {
   "cell_type": "code",
   "metadata": {
    "id": "Dpmum7NEWA8d",
    "colab": {
     "base_uri": "https://localhost:8080/"
    },
    "executionInfo": {
     "status": "ok",
     "timestamp": 1684499413179,
     "user_tz": 180,
     "elapsed": 29,
     "user": {
      "displayName": "KEVEN BEZERRA",
      "userId": "00923506308034410447"
     }
    },
    "outputId": "d3a83769-f26c-49fb-d078-069b81328806",
    "ExecuteTime": {
     "end_time": "2025-04-09T20:29:40.946233Z",
     "start_time": "2025-04-09T20:29:40.940912Z"
    }
   },
   "source": [
    "# Exemplo: Acessando valores de um objeto do tipo Serie - Pandas\n",
    "print(obj_Serie.values)\n",
    "type(obj_Serie.values)\n"
   ],
   "outputs": [
    {
     "name": "stdout",
     "output_type": "stream",
     "text": [
      "[ 4  7 -5  3]\n"
     ]
    },
    {
     "data": {
      "text/plain": [
       "numpy.ndarray"
      ]
     },
     "execution_count": 5,
     "metadata": {},
     "output_type": "execute_result"
    }
   ],
   "execution_count": 5
  },
  {
   "cell_type": "code",
   "metadata": {
    "id": "MQJ1mfVDWA8w",
    "colab": {
     "base_uri": "https://localhost:8080/"
    },
    "executionInfo": {
     "status": "ok",
     "timestamp": 1684499413179,
     "user_tz": 180,
     "elapsed": 27,
     "user": {
      "displayName": "KEVEN BEZERRA",
      "userId": "00923506308034410447"
     }
    },
    "outputId": "ec337c1c-7918-4c4e-f7b4-9c8e6fcb001b",
    "ExecuteTime": {
     "end_time": "2025-04-09T20:29:41.618646Z",
     "start_time": "2025-04-09T20:29:41.613357Z"
    }
   },
   "source": [
    "# Exemplo: Acessando indexes de um objeto do tipo Serie - Pandas\n",
    "\n",
    "print(obj_Serie.index)\n",
    "type(obj_Serie.index)"
   ],
   "outputs": [
    {
     "name": "stdout",
     "output_type": "stream",
     "text": [
      "RangeIndex(start=0, stop=4, step=1)\n"
     ]
    },
    {
     "data": {
      "text/plain": [
       "pandas.core.indexes.range.RangeIndex"
      ]
     },
     "execution_count": 6,
     "metadata": {},
     "output_type": "execute_result"
    }
   ],
   "execution_count": 6
  },
  {
   "cell_type": "markdown",
   "metadata": {
    "id": "kGtdRel3WA8-"
   },
   "source": [
    "### Observação:\n",
    "Pelo que vimos até agora, pode parecer que o objeto Series é basicamente intercambiável com um array NumPy unidimensional. A diferença essencial é a presença do índice: enquanto o array NumPy possui um índice inteiro implícito definido para acessar os valores, a Serie Pandas possui um índice explicitamente definido associado aos valores.\n",
    "\n",
    "Esta definição explícita de índice fornece recursos adicionais do objeto Series. Por exemplo, o índice não precisa ser um número inteiro, mas pode consistir em valores de qualquer tipo desejado. Por exemplo, se quisermos, podemos usar Strings como um índice."
   ]
  },
  {
   "cell_type": "code",
   "metadata": {
    "id": "mgVI1CjoWA9E",
    "colab": {
     "base_uri": "https://localhost:8080/"
    },
    "executionInfo": {
     "status": "ok",
     "timestamp": 1684499413179,
     "user_tz": 180,
     "elapsed": 24,
     "user": {
      "displayName": "KEVEN BEZERRA",
      "userId": "00923506308034410447"
     }
    },
    "outputId": "3231638e-0caf-433d-fdf5-e457b9320917",
    "ExecuteTime": {
     "end_time": "2025-04-09T20:29:41.803288Z",
     "start_time": "2025-04-09T20:29:41.796730Z"
    }
   },
   "source": [
    "# Exemplo: criação de um objeto pandas do tipo Series - Pandas\n",
    "# - com especificação dos seus índices\n",
    "\n",
    "obj_Serie2 = Series([4, 7, -5, 3], index=['d', 'b', 'a', 'c'])\n",
    "obj_Serie2"
   ],
   "outputs": [
    {
     "data": {
      "text/plain": [
       "d    4\n",
       "b    7\n",
       "a   -5\n",
       "c    3\n",
       "dtype: int64"
      ]
     },
     "execution_count": 7,
     "metadata": {},
     "output_type": "execute_result"
    }
   ],
   "execution_count": 7
  },
  {
   "cell_type": "code",
   "metadata": {
    "id": "y1Pkk9uOWA9O",
    "colab": {
     "base_uri": "https://localhost:8080/"
    },
    "executionInfo": {
     "status": "ok",
     "timestamp": 1684499413179,
     "user_tz": 180,
     "elapsed": 21,
     "user": {
      "displayName": "KEVEN BEZERRA",
      "userId": "00923506308034410447"
     }
    },
    "outputId": "274f956c-659d-4604-997b-1dab1b0b3a92",
    "ExecuteTime": {
     "end_time": "2025-04-09T20:29:41.938599Z",
     "start_time": "2025-04-09T20:29:41.923267Z"
    }
   },
   "source": [
    "# Exemplo: Acessando elementos de Series via especificação do índice ou conjunto de índices\n",
    "print(\"O acesso a elemento de Series é similar ao de arrays NumPy\")\n",
    "print(obj_Serie2['a'])\n",
    "print(obj_Serie2[2])\n",
    "print(obj_Serie2[-2])\n",
    "print(obj_Serie2[['b', 'd', 'a']])"
   ],
   "outputs": [
    {
     "name": "stdout",
     "output_type": "stream",
     "text": [
      "O acesso a elemento de Series é similar ao de arrays NumPy\n",
      "-5\n",
      "-5\n",
      "-5\n",
      "b    7\n",
      "d    4\n",
      "a   -5\n",
      "dtype: int64\n"
     ]
    },
    {
     "name": "stderr",
     "output_type": "stream",
     "text": [
      "/tmp/ipykernel_46745/4128724960.py:4: FutureWarning: Series.__getitem__ treating keys as positions is deprecated. In a future version, integer keys will always be treated as labels (consistent with DataFrame behavior). To access a value by position, use `ser.iloc[pos]`\n",
      "  print(obj_Serie2[2])\n",
      "/tmp/ipykernel_46745/4128724960.py:5: FutureWarning: Series.__getitem__ treating keys as positions is deprecated. In a future version, integer keys will always be treated as labels (consistent with DataFrame behavior). To access a value by position, use `ser.iloc[pos]`\n",
      "  print(obj_Serie2[-2])\n"
     ]
    }
   ],
   "execution_count": 8
  },
  {
   "cell_type": "code",
   "metadata": {
    "id": "yJVbkIGGWA9d",
    "colab": {
     "base_uri": "https://localhost:8080/"
    },
    "executionInfo": {
     "status": "ok",
     "timestamp": 1684499413180,
     "user_tz": 180,
     "elapsed": 20,
     "user": {
      "displayName": "KEVEN BEZERRA",
      "userId": "00923506308034410447"
     }
    },
    "outputId": "a7fab0d8-2263-4615-d5ea-a1c0b10d425b",
    "ExecuteTime": {
     "end_time": "2025-04-09T20:29:42.004230Z",
     "start_time": "2025-04-09T20:29:41.995531Z"
    }
   },
   "source": [
    "# Exemplo: filtros nos índices em Pandas são similares aos Arrays Numpy\n",
    "\n",
    "obj_Serie2 > 0"
   ],
   "outputs": [
    {
     "data": {
      "text/plain": [
       "d     True\n",
       "b     True\n",
       "a    False\n",
       "c     True\n",
       "dtype: bool"
      ]
     },
     "execution_count": 9,
     "metadata": {},
     "output_type": "execute_result"
    }
   ],
   "execution_count": 9
  },
  {
   "cell_type": "code",
   "metadata": {
    "id": "jq95KuJkWA9p",
    "colab": {
     "base_uri": "https://localhost:8080/"
    },
    "executionInfo": {
     "status": "ok",
     "timestamp": 1684499413180,
     "user_tz": 180,
     "elapsed": 17,
     "user": {
      "displayName": "KEVEN BEZERRA",
      "userId": "00923506308034410447"
     }
    },
    "outputId": "2a611fad-e80b-44d1-da3a-fd9e92031108",
    "ExecuteTime": {
     "end_time": "2025-04-09T20:29:42.155290Z",
     "start_time": "2025-04-09T20:29:42.148930Z"
    }
   },
   "source": [
    "# Exemplo: filtros nos índices em Pandas são similares aos Arrays Numpy\n",
    "\n",
    "obj_Serie2[obj_Serie2 > 0]"
   ],
   "outputs": [
    {
     "data": {
      "text/plain": [
       "d    4\n",
       "b    7\n",
       "c    3\n",
       "dtype: int64"
      ]
     },
     "execution_count": 10,
     "metadata": {},
     "output_type": "execute_result"
    }
   ],
   "execution_count": 10
  },
  {
   "cell_type": "code",
   "metadata": {
    "id": "DLG27sIVWA91",
    "colab": {
     "base_uri": "https://localhost:8080/"
    },
    "executionInfo": {
     "status": "ok",
     "timestamp": 1684499413180,
     "user_tz": 180,
     "elapsed": 14,
     "user": {
      "displayName": "KEVEN BEZERRA",
      "userId": "00923506308034410447"
     }
    },
    "outputId": "6b51dc72-2aaf-4c32-e1a2-527a05648343",
    "ExecuteTime": {
     "end_time": "2025-04-09T20:29:42.320032Z",
     "start_time": "2025-04-09T20:29:42.314584Z"
    }
   },
   "source": [
    "# Exemplo: filtro nos índices de Arrays Numpy\n",
    "\n",
    "import numpy as np\n",
    "A = np.array([1, 4, 2, 5, 3])\n",
    "A[A>2]"
   ],
   "outputs": [
    {
     "data": {
      "text/plain": [
       "array([4, 5, 3])"
      ]
     },
     "execution_count": 11,
     "metadata": {},
     "output_type": "execute_result"
    }
   ],
   "execution_count": 11
  },
  {
   "cell_type": "code",
   "metadata": {
    "id": "6j7tSu8XWA98",
    "colab": {
     "base_uri": "https://localhost:8080/"
    },
    "executionInfo": {
     "status": "ok",
     "timestamp": 1684499413180,
     "user_tz": 180,
     "elapsed": 12,
     "user": {
      "displayName": "KEVEN BEZERRA",
      "userId": "00923506308034410447"
     }
    },
    "outputId": "eb9b08cf-4232-4752-942c-139add9ddffd",
    "ExecuteTime": {
     "end_time": "2025-04-09T20:29:42.399970Z",
     "start_time": "2025-04-09T20:29:42.394881Z"
    }
   },
   "source": [
    "# Exemplo: As operações preservam os índices dos objetos Series - Pandas\n",
    "print(obj_Serie2*3)\n",
    "print()\n",
    "print(obj_Serie2**2)"
   ],
   "outputs": [
    {
     "name": "stdout",
     "output_type": "stream",
     "text": [
      "d    12\n",
      "b    21\n",
      "a   -15\n",
      "c     9\n",
      "dtype: int64\n",
      "\n",
      "d    16\n",
      "b    49\n",
      "a    25\n",
      "c     9\n",
      "dtype: int64\n"
     ]
    }
   ],
   "execution_count": 12
  },
  {
   "cell_type": "markdown",
   "metadata": {
    "id": "Ya_o3___WA-J"
   },
   "source": [
    "### Observação:\n",
    "Também é  possível passar dados do tipo dictionaries como parâmetros para Series Pandas, como no exemplo abaixo.\n"
   ]
  },
  {
   "cell_type": "code",
   "metadata": {
    "id": "jTdej3TdWA-K",
    "colab": {
     "base_uri": "https://localhost:8080/"
    },
    "executionInfo": {
     "status": "ok",
     "timestamp": 1684499413181,
     "user_tz": 180,
     "elapsed": 9,
     "user": {
      "displayName": "KEVEN BEZERRA",
      "userId": "00923506308034410447"
     }
    },
    "outputId": "4a8fe386-7d29-473e-b074-69d72ecf59df",
    "ExecuteTime": {
     "end_time": "2025-04-09T20:29:42.607321Z",
     "start_time": "2025-04-09T20:29:42.601763Z"
    }
   },
   "source": [
    "# Exemplo de Series - Pandas usando tipos dictioneries\n",
    "\n",
    "idadeD = {'Maria': 24, 'Pedro': 22, 'Mariana': 21, 'Joao': 20}\n",
    "idadeSerie = Series(idadeD)\n",
    "idadeSerie"
   ],
   "outputs": [
    {
     "data": {
      "text/plain": [
       "Maria      24\n",
       "Pedro      22\n",
       "Mariana    21\n",
       "Joao       20\n",
       "dtype: int64"
      ]
     },
     "execution_count": 13,
     "metadata": {},
     "output_type": "execute_result"
    }
   ],
   "execution_count": 13
  },
  {
   "cell_type": "code",
   "metadata": {
    "id": "CPZy2SqtWA-P",
    "colab": {
     "base_uri": "https://localhost:8080/"
    },
    "executionInfo": {
     "status": "ok",
     "timestamp": 1684499413840,
     "user_tz": 180,
     "elapsed": 665,
     "user": {
      "displayName": "KEVEN BEZERRA",
      "userId": "00923506308034410447"
     }
    },
    "outputId": "3416f76d-698d-40f6-e3a6-71afd2dcde01",
    "ExecuteTime": {
     "end_time": "2025-04-09T20:29:42.761510Z",
     "start_time": "2025-04-09T20:29:42.753879Z"
    }
   },
   "source": [
    "# Exemplo de Series - Pandas usando tipos dictionaries\n",
    "\n",
    "idadeLista = ['Alice', 'Pedro', 'Mariana', 'Joao']\n",
    "idadeSerie = Series(idadeD, index=idadeLista)\n",
    "idadeSerie"
   ],
   "outputs": [
    {
     "data": {
      "text/plain": [
       "Alice       NaN\n",
       "Pedro      22.0\n",
       "Mariana    21.0\n",
       "Joao       20.0\n",
       "dtype: float64"
      ]
     },
     "execution_count": 14,
     "metadata": {},
     "output_type": "execute_result"
    }
   ],
   "execution_count": 14
  },
  {
   "cell_type": "code",
   "metadata": {
    "id": "vZyP5szbWA-W",
    "colab": {
     "base_uri": "https://localhost:8080/"
    },
    "executionInfo": {
     "status": "ok",
     "timestamp": 1684499413840,
     "user_tz": 180,
     "elapsed": 71,
     "user": {
      "displayName": "KEVEN BEZERRA",
      "userId": "00923506308034410447"
     }
    },
    "outputId": "8da874d7-13b2-4381-ccd3-9c4784dfa186",
    "ExecuteTime": {
     "end_time": "2025-04-09T20:29:42.872882Z",
     "start_time": "2025-04-09T20:29:42.867111Z"
    }
   },
   "source": [
    "print(\"Por que o valor do índice Alice é NaN?, O que significa isto?\")\n",
    "\n",
    "print(\"Dicionário de idades: \")\n",
    "print(idadeD)\n",
    "\n",
    "print(\"Novos índices:\")\n",
    "print(idadeLista)\n",
    "\n",
    "print(\"Como é possível ver, Alice não é um índice do dicionário, portanto, Series não consegue atribuir um valor inteiro ao índice Alice.\")"
   ],
   "outputs": [
    {
     "name": "stdout",
     "output_type": "stream",
     "text": [
      "Por que o valor do índice Alice é NaN?, O que significa isto?\n",
      "Dicionário de idades: \n",
      "{'Maria': 24, 'Pedro': 22, 'Mariana': 21, 'Joao': 20}\n",
      "Novos índices:\n",
      "['Alice', 'Pedro', 'Mariana', 'Joao']\n",
      "Como é possível ver, Alice não é um índice do dicionário, portanto, Series não consegue atribuir um valor inteiro ao índice Alice.\n"
     ]
    }
   ],
   "execution_count": 15
  },
  {
   "cell_type": "code",
   "metadata": {
    "id": "2DHybIMsWA-p",
    "colab": {
     "base_uri": "https://localhost:8080/"
    },
    "executionInfo": {
     "status": "ok",
     "timestamp": 1684499413841,
     "user_tz": 180,
     "elapsed": 69,
     "user": {
      "displayName": "KEVEN BEZERRA",
      "userId": "00923506308034410447"
     }
    },
    "outputId": "5b2fb194-cfdd-46d6-a64b-f05e23ab6222",
    "ExecuteTime": {
     "end_time": "2025-04-09T20:29:43.030532Z",
     "start_time": "2025-04-09T20:29:43.024107Z"
    }
   },
   "source": [
    "# Execute este comando e verifique o resultado\n",
    "\n",
    "idadeSerie.isnull()"
   ],
   "outputs": [
    {
     "data": {
      "text/plain": [
       "Alice       True\n",
       "Pedro      False\n",
       "Mariana    False\n",
       "Joao       False\n",
       "dtype: bool"
      ]
     },
     "execution_count": 16,
     "metadata": {},
     "output_type": "execute_result"
    }
   ],
   "execution_count": 16
  },
  {
   "cell_type": "code",
   "metadata": {
    "id": "4952M1rSWA_A",
    "colab": {
     "base_uri": "https://localhost:8080/"
    },
    "executionInfo": {
     "status": "ok",
     "timestamp": 1684499413841,
     "user_tz": 180,
     "elapsed": 66,
     "user": {
      "displayName": "KEVEN BEZERRA",
      "userId": "00923506308034410447"
     }
    },
    "outputId": "61a3d0ba-a808-466d-d83d-eb48af0981c2",
    "ExecuteTime": {
     "end_time": "2025-04-09T20:29:43.250870Z",
     "start_time": "2025-04-09T20:29:43.245596Z"
    }
   },
   "source": [
    "# Execute este comando e verifique o resultado\n",
    "\n",
    "idadeSerie.notnull()"
   ],
   "outputs": [
    {
     "data": {
      "text/plain": [
       "Alice      False\n",
       "Pedro       True\n",
       "Mariana     True\n",
       "Joao        True\n",
       "dtype: bool"
      ]
     },
     "execution_count": 17,
     "metadata": {},
     "output_type": "execute_result"
    }
   ],
   "execution_count": 17
  },
  {
   "cell_type": "markdown",
   "metadata": {
    "id": "_fMXQF75W18Z"
   },
   "source": [
    "### Exercício:\n",
    "Explique o funcionamento dos métodos .isnull() e .notnull(). Para que servem esses métodos?"
   ]
  },
  {
   "cell_type": "markdown",
   "metadata": {
    "id": "1hjwnVzWWA_M"
   },
   "source": [
    "### Dados não declarados - Missing Data\n",
    "- indicar a falta de dados de diferentes maneiras.\n",
    "- NaN (Not a Number).\n",
    "- None.\n",
    "\n",
    "Há diversos métodos em Pandas para tratar Missing Data.\n",
    "- técnicas de eliminação\n",
    "- técnicas de preenchimento"
   ]
  },
  {
   "cell_type": "code",
   "metadata": {
    "id": "LsVq1fn7WA_O",
    "colab": {
     "base_uri": "https://localhost:8080/"
    },
    "executionInfo": {
     "status": "ok",
     "timestamp": 1684499413841,
     "user_tz": 180,
     "elapsed": 63,
     "user": {
      "displayName": "KEVEN BEZERRA",
      "userId": "00923506308034410447"
     }
    },
    "outputId": "1ddf3eb5-1187-4bd4-b370-340985c53665",
    "ExecuteTime": {
     "end_time": "2025-04-09T20:29:43.301871Z",
     "start_time": "2025-04-09T20:29:43.295846Z"
    }
   },
   "source": [
    "# Exemplo: Eliminando missing data\n",
    "\n",
    "idadeSerie[idadeSerie.notnull()]"
   ],
   "outputs": [
    {
     "data": {
      "text/plain": [
       "Pedro      22.0\n",
       "Mariana    21.0\n",
       "Joao       20.0\n",
       "dtype: float64"
      ]
     },
     "execution_count": 18,
     "metadata": {},
     "output_type": "execute_result"
    }
   ],
   "execution_count": 18
  },
  {
   "cell_type": "code",
   "metadata": {
    "id": "_OA4qTD7WA_T",
    "colab": {
     "base_uri": "https://localhost:8080/"
    },
    "executionInfo": {
     "status": "ok",
     "timestamp": 1684499413841,
     "user_tz": 180,
     "elapsed": 60,
     "user": {
      "displayName": "KEVEN BEZERRA",
      "userId": "00923506308034410447"
     }
    },
    "outputId": "c92a601e-0fdd-4d0b-bd9c-b78296fa3b25",
    "ExecuteTime": {
     "end_time": "2025-04-09T20:29:43.450601Z",
     "start_time": "2025-04-09T20:29:43.445035Z"
    }
   },
   "source": [
    "# Exemplo: Eliminando missing data\n",
    "\n",
    "idadeSerie"
   ],
   "outputs": [
    {
     "data": {
      "text/plain": [
       "Alice       NaN\n",
       "Pedro      22.0\n",
       "Mariana    21.0\n",
       "Joao       20.0\n",
       "dtype: float64"
      ]
     },
     "execution_count": 19,
     "metadata": {},
     "output_type": "execute_result"
    }
   ],
   "execution_count": 19
  },
  {
   "cell_type": "code",
   "metadata": {
    "id": "OHytYSddWA_d",
    "colab": {
     "base_uri": "https://localhost:8080/"
    },
    "executionInfo": {
     "status": "ok",
     "timestamp": 1684499413842,
     "user_tz": 180,
     "elapsed": 58,
     "user": {
      "displayName": "KEVEN BEZERRA",
      "userId": "00923506308034410447"
     }
    },
    "outputId": "d2181bc5-28f1-464c-cf86-03a7f9089ab0",
    "ExecuteTime": {
     "end_time": "2025-04-09T20:29:43.675974Z",
     "start_time": "2025-04-09T20:29:43.668333Z"
    }
   },
   "source": [
    "# Exemplo: Eliminando missing data\n",
    "print( \"O que faz o método .dropna()?\\n\\n\")\n",
    "\n",
    "idadeSerie.dropna()"
   ],
   "outputs": [
    {
     "name": "stdout",
     "output_type": "stream",
     "text": [
      "O que faz o método .dropna()?\n",
      "\n",
      "\n"
     ]
    },
    {
     "data": {
      "text/plain": [
       "Pedro      22.0\n",
       "Mariana    21.0\n",
       "Joao       20.0\n",
       "dtype: float64"
      ]
     },
     "execution_count": 20,
     "metadata": {},
     "output_type": "execute_result"
    }
   ],
   "execution_count": 20
  },
  {
   "cell_type": "code",
   "metadata": {
    "id": "VM5kmx6QWA_t",
    "colab": {
     "base_uri": "https://localhost:8080/"
    },
    "executionInfo": {
     "status": "ok",
     "timestamp": 1684499413842,
     "user_tz": 180,
     "elapsed": 55,
     "user": {
      "displayName": "KEVEN BEZERRA",
      "userId": "00923506308034410447"
     }
    },
    "outputId": "4e0635c6-be27-4aaf-bb5f-fe6e8a977b4c",
    "ExecuteTime": {
     "end_time": "2025-04-09T20:29:43.936042Z",
     "start_time": "2025-04-09T20:29:43.927671Z"
    }
   },
   "source": [
    "# Exemplo: Preenchimento de missing data\n",
    "print( \"O que faz o método .fillna()?\\n\\n\")\n",
    "idadeSerie.fillna(-1)"
   ],
   "outputs": [
    {
     "name": "stdout",
     "output_type": "stream",
     "text": [
      "O que faz o método .fillna()?\n",
      "\n",
      "\n"
     ]
    },
    {
     "data": {
      "text/plain": [
       "Alice      -1.0\n",
       "Pedro      22.0\n",
       "Mariana    21.0\n",
       "Joao       20.0\n",
       "dtype: float64"
      ]
     },
     "execution_count": 21,
     "metadata": {},
     "output_type": "execute_result"
    }
   ],
   "execution_count": 21
  },
  {
   "cell_type": "code",
   "metadata": {
    "id": "lqtZXNb_WA_0",
    "colab": {
     "base_uri": "https://localhost:8080/"
    },
    "executionInfo": {
     "status": "ok",
     "timestamp": 1684499413842,
     "user_tz": 180,
     "elapsed": 51,
     "user": {
      "displayName": "KEVEN BEZERRA",
      "userId": "00923506308034410447"
     }
    },
    "outputId": "8c43a9d6-c0a0-45ea-922b-5185893274ef",
    "ExecuteTime": {
     "end_time": "2025-04-09T20:29:44.157803Z",
     "start_time": "2025-04-09T20:29:44.147905Z"
    }
   },
   "source": [
    "# Operações sobre Series - Pandas\n",
    "\n",
    "turmaLista1 = ['Alice', 'Pedro', 'Mariana', 'Joao']\n",
    "turmaLista2 = ['Maria', 'Pedro', 'Mariana', 'Joao']\n",
    "\n",
    "turmaSerie1 = Series([2,1,0.5,1], index=turmaLista1)\n",
    "turmaSerie2 = Series([2,2,2,2], index=turmaLista2)\n",
    "\n",
    "turmaSerie1 + turmaSerie2"
   ],
   "outputs": [
    {
     "data": {
      "text/plain": [
       "Alice      NaN\n",
       "Joao       3.0\n",
       "Maria      NaN\n",
       "Mariana    2.5\n",
       "Pedro      3.0\n",
       "dtype: float64"
      ]
     },
     "execution_count": 22,
     "metadata": {},
     "output_type": "execute_result"
    }
   ],
   "execution_count": 22
  },
  {
   "cell_type": "code",
   "metadata": {
    "id": "qieq4qRDWA_2",
    "colab": {
     "base_uri": "https://localhost:8080/"
    },
    "executionInfo": {
     "status": "ok",
     "timestamp": 1684499413843,
     "user_tz": 180,
     "elapsed": 48,
     "user": {
      "displayName": "KEVEN BEZERRA",
      "userId": "00923506308034410447"
     }
    },
    "outputId": "f2b80793-5f44-4a00-9a5e-07c323c0e7d0",
    "ExecuteTime": {
     "end_time": "2025-04-09T20:29:44.307007Z",
     "start_time": "2025-04-09T20:29:44.300611Z"
    }
   },
   "source": [
    "# Exemplo - Rotulando índices e nomes de Series - Pandas\n",
    "\n",
    "turmaSerie1.name = 'Turma de Ciência de Dados'\n",
    "turmaSerie1.index.name = 'Alunos'\n",
    "turmaSerie1"
   ],
   "outputs": [
    {
     "data": {
      "text/plain": [
       "Alunos\n",
       "Alice      2.0\n",
       "Pedro      1.0\n",
       "Mariana    0.5\n",
       "Joao       1.0\n",
       "Name: Turma de Ciência de Dados, dtype: float64"
      ]
     },
     "execution_count": 23,
     "metadata": {},
     "output_type": "execute_result"
    }
   ],
   "execution_count": 23
  },
  {
   "cell_type": "markdown",
   "metadata": {
    "id": "nt3mT2LDWA_6"
   },
   "source": [
    "### Observação:\n",
    "Series Pandas podem ser vistas como o equivalente ao tipo básico dictionaries. Porém, assim como operações em arrays NumPy são mais eficientes que em Listas, operar em Series é bem mais eficiente que operarar sobre variáveis do tipo Dictonarie."
   ]
  },
  {
   "cell_type": "code",
   "metadata": {
    "id": "Nxre3rO-WA_-",
    "ExecuteTime": {
     "end_time": "2025-04-09T20:29:44.617111Z",
     "start_time": "2025-04-09T20:29:44.526439Z"
    }
   },
   "source": [
    "? Series"
   ],
   "outputs": [],
   "execution_count": 24
  },
  {
   "cell_type": "code",
   "metadata": {
    "id": "_zJXEzXGWBAJ",
    "ExecuteTime": {
     "end_time": "2025-04-09T20:29:44.900466Z",
     "start_time": "2025-04-09T20:29:44.896748Z"
    }
   },
   "source": [
    "# Exemplo: População de alguns estados dos Estados Unidos\n",
    "# Utilizando-se tipo Dictonarie\n",
    "\n",
    "pop_dict = {'California': 38332521,\n",
    "'Texas': 26448193,\n",
    "'New York': 19651127,\n",
    "'Florida': 19552860,\n",
    "'Illinois': 12882135}"
   ],
   "outputs": [],
   "execution_count": 25
  },
  {
   "cell_type": "code",
   "metadata": {
    "id": "E1LYJ7-uWBAP",
    "ExecuteTime": {
     "end_time": "2025-04-09T20:29:45.106495Z",
     "start_time": "2025-04-09T20:29:45.103219Z"
    }
   },
   "source": [
    "# Exemplo: Área de alguns estados dos Estados Unidos\n",
    "area_dict = {'California': 423967, 'Texas': 695662, 'New York': 141297,\n",
    "'Florida': 170312, 'Illinois': 149995}"
   ],
   "outputs": [],
   "execution_count": 26
  },
  {
   "cell_type": "code",
   "metadata": {
    "id": "jQYa_aryWBAZ",
    "colab": {
     "base_uri": "https://localhost:8080/"
    },
    "executionInfo": {
     "status": "ok",
     "timestamp": 1684499413873,
     "user_tz": 180,
     "elapsed": 73,
     "user": {
      "displayName": "KEVEN BEZERRA",
      "userId": "00923506308034410447"
     }
    },
    "outputId": "0647f8b7-fe51-495a-d847-4a8f9f6ff41f",
    "ExecuteTime": {
     "end_time": "2025-04-09T20:29:45.177061Z",
     "start_time": "2025-04-09T20:29:45.171353Z"
    }
   },
   "source": [
    "dict.values(pop_dict)"
   ],
   "outputs": [
    {
     "data": {
      "text/plain": [
       "dict_values([38332521, 26448193, 19651127, 19552860, 12882135])"
      ]
     },
     "execution_count": 27,
     "metadata": {},
     "output_type": "execute_result"
    }
   ],
   "execution_count": 27
  },
  {
   "cell_type": "code",
   "metadata": {
    "id": "goPOzUm3WBAf",
    "colab": {
     "base_uri": "https://localhost:8080/"
    },
    "executionInfo": {
     "status": "ok",
     "timestamp": 1684499413873,
     "user_tz": 180,
     "elapsed": 69,
     "user": {
      "displayName": "KEVEN BEZERRA",
      "userId": "00923506308034410447"
     }
    },
    "outputId": "bdb22f2b-1486-4820-c3d3-2f9735f4163e",
    "ExecuteTime": {
     "end_time": "2025-04-09T20:29:45.285287Z",
     "start_time": "2025-04-09T20:29:45.280736Z"
    }
   },
   "source": [
    "dict.keys(pop_dict)"
   ],
   "outputs": [
    {
     "data": {
      "text/plain": [
       "dict_keys(['California', 'Texas', 'New York', 'Florida', 'Illinois'])"
      ]
     },
     "execution_count": 28,
     "metadata": {},
     "output_type": "execute_result"
    }
   ],
   "execution_count": 28
  },
  {
   "cell_type": "code",
   "metadata": {
    "id": "pesIhi5KWBAn",
    "colab": {
     "base_uri": "https://localhost:8080/"
    },
    "executionInfo": {
     "status": "ok",
     "timestamp": 1684499413878,
     "user_tz": 180,
     "elapsed": 70,
     "user": {
      "displayName": "KEVEN BEZERRA",
      "userId": "00923506308034410447"
     }
    },
    "outputId": "a43b37eb-dfee-4686-bfd1-ffcc7953a2ac",
    "ExecuteTime": {
     "end_time": "2025-04-09T20:29:45.352701Z",
     "start_time": "2025-04-09T20:29:45.343044Z"
    }
   },
   "source": [
    "#Exercício: Transformando variáveis de Dictonarie para Series Panda\n",
    "#           - Transforme a variável dicionario 'pop_dict' em uma Serie-Pandas\n",
    "\n",
    "\n",
    "pop_dict = Series(pop_dict)\n",
    "#           - Transforme a variável dicionario 'area_dict' em uma Serie-Pandas\n",
    "area_dict = Series(area_dict)\n",
    "#           - Obtenha os estados com mais de 20 milhões de habitantes.\n",
    "pop_dict[pop_dict.values > 20000000]\n",
    "#           - Obtenha o número de habitantes da California\n",
    "pop_dict[\"California\"]\n",
    "#           - Obtenha o estado com mais habitantes\n",
    "pop_dict[pop_dict == pop_dict.max()]\n",
    "#           - Obtenha o estado com menos habitantes\n",
    "pop_dict[pop_dict == pop_dict.min()]\n",
    "#           - Obtenha a lista dos estados com área entre 400.000 e 500.000\n",
    "area_dict[(area_dict > 400000) & (area_dict < 500000)]\n",
    "#           - A densidade (número de habitantes por área) desses estados\n",
    "\n",
    "print(\"Densidade populacional de 5 cidades dos EUA\\n\")\n",
    "pop_dict/area_dict\n",
    "\n"
   ],
   "outputs": [
    {
     "name": "stdout",
     "output_type": "stream",
     "text": [
      "Densidade populacional de 5 cidades dos EUA\n",
      "\n"
     ]
    },
    {
     "data": {
      "text/plain": [
       "California     90.413926\n",
       "Texas          38.018740\n",
       "New York      139.076746\n",
       "Florida       114.806121\n",
       "Illinois       85.883763\n",
       "dtype: float64"
      ]
     },
     "execution_count": 29,
     "metadata": {},
     "output_type": "execute_result"
    }
   ],
   "execution_count": 29
  },
  {
   "cell_type": "code",
   "metadata": {
    "id": "bYOjtoxaYTbL",
    "colab": {
     "base_uri": "https://localhost:8080/"
    },
    "executionInfo": {
     "status": "ok",
     "timestamp": 1684499413878,
     "user_tz": 180,
     "elapsed": 65,
     "user": {
      "displayName": "KEVEN BEZERRA",
      "userId": "00923506308034410447"
     }
    },
    "outputId": "89165b4e-370f-4b0e-fdb8-82f33a49c5df",
    "ExecuteTime": {
     "end_time": "2025-04-09T20:29:45.474952Z",
     "start_time": "2025-04-09T20:29:45.470178Z"
    }
   },
   "source": [
    "type(pop_dict)"
   ],
   "outputs": [
    {
     "data": {
      "text/plain": [
       "pandas.core.series.Series"
      ]
     },
     "execution_count": 30,
     "metadata": {},
     "output_type": "execute_result"
    }
   ],
   "execution_count": 30
  },
  {
   "cell_type": "markdown",
   "metadata": {
    "id": "z7982z3WWBAt"
   },
   "source": [
    "### Acesso a índices em objetos Pandas\n",
    "Há várias formas de se acessar índices nos objetos Pandas:\n",
    "- indicação de índice específico. --> dado[3]\n",
    "- indicação de intervalo de índices. --> dado[1:3]. Segue o padrão de Lista.\n",
    "- métodos .loc(), .iloc() e  .ix()"
   ]
  },
  {
   "cell_type": "code",
   "metadata": {
    "id": "tJep4F9qWBAv",
    "colab": {
     "base_uri": "https://localhost:8080/"
    },
    "executionInfo": {
     "status": "ok",
     "timestamp": 1684499413879,
     "user_tz": 180,
     "elapsed": 60,
     "user": {
      "displayName": "KEVEN BEZERRA",
      "userId": "00923506308034410447"
     }
    },
    "outputId": "13dcac62-f92d-413b-a3a0-2bfd6897c122",
    "ExecuteTime": {
     "end_time": "2025-04-09T20:29:45.530407Z",
     "start_time": "2025-04-09T20:29:45.523038Z"
    }
   },
   "source": [
    "# Exemplo de indicação de índice em Pandas\n",
    "\n",
    "data = pd.Series(['a', 'b', 'c', 'd'], index=[1,3,5,7])\n",
    "data"
   ],
   "outputs": [
    {
     "data": {
      "text/plain": [
       "1    a\n",
       "3    b\n",
       "5    c\n",
       "7    d\n",
       "dtype: object"
      ]
     },
     "execution_count": 31,
     "metadata": {},
     "output_type": "execute_result"
    }
   ],
   "execution_count": 31
  },
  {
   "cell_type": "code",
   "metadata": {
    "id": "JEiwCcjgWBA5",
    "colab": {
     "base_uri": "https://localhost:8080/",
     "height": 36
    },
    "executionInfo": {
     "status": "ok",
     "timestamp": 1684499413879,
     "user_tz": 180,
     "elapsed": 57,
     "user": {
      "displayName": "KEVEN BEZERRA",
      "userId": "00923506308034410447"
     }
    },
    "outputId": "ecfb29cc-a37c-4d50-bbf4-2884e53c7d42",
    "ExecuteTime": {
     "end_time": "2025-04-09T20:29:45.666366Z",
     "start_time": "2025-04-09T20:29:45.660546Z"
    }
   },
   "source": [
    "# Exemplo de indicação específica de índice em Pandas\n",
    "data[1]\n",
    "#data[0]"
   ],
   "outputs": [
    {
     "data": {
      "text/plain": [
       "'a'"
      ]
     },
     "execution_count": 32,
     "metadata": {},
     "output_type": "execute_result"
    }
   ],
   "execution_count": 32
  },
  {
   "cell_type": "code",
   "metadata": {
    "id": "Ez3aekcIWBBD",
    "colab": {
     "base_uri": "https://localhost:8080/"
    },
    "executionInfo": {
     "status": "ok",
     "timestamp": 1684499413879,
     "user_tz": 180,
     "elapsed": 56,
     "user": {
      "displayName": "KEVEN BEZERRA",
      "userId": "00923506308034410447"
     }
    },
    "outputId": "d48407af-8fb3-4d79-9c1d-460ac1219843",
    "ExecuteTime": {
     "end_time": "2025-04-09T20:29:45.805182Z",
     "start_time": "2025-04-09T20:29:45.798239Z"
    }
   },
   "source": [
    "# Exemplo de indicação de intervalo de índice em Pandas\n",
    "data[1:3]\n",
    "#data[0:2]"
   ],
   "outputs": [
    {
     "data": {
      "text/plain": [
       "3    b\n",
       "5    c\n",
       "dtype: object"
      ]
     },
     "execution_count": 33,
     "metadata": {},
     "output_type": "execute_result"
    }
   ],
   "execution_count": 33
  },
  {
   "cell_type": "code",
   "metadata": {
    "id": "h2SW81kdWBBJ",
    "colab": {
     "base_uri": "https://localhost:8080/"
    },
    "executionInfo": {
     "status": "ok",
     "timestamp": 1684499413879,
     "user_tz": 180,
     "elapsed": 53,
     "user": {
      "displayName": "KEVEN BEZERRA",
      "userId": "00923506308034410447"
     }
    },
    "outputId": "f3e87f62-e7a4-4ee7-85a7-1aca7a24e46b",
    "ExecuteTime": {
     "end_time": "2025-04-09T20:29:45.868777Z",
     "start_time": "2025-04-09T20:29:45.864163Z"
    }
   },
   "source": [
    "# Exemplo de indicação de índice em Pandas usando o método .loc()\n",
    "print(data.loc[1])\n",
    "print()\n",
    "print(data.loc[1:3])"
   ],
   "outputs": [
    {
     "name": "stdout",
     "output_type": "stream",
     "text": [
      "a\n",
      "\n",
      "1    a\n",
      "3    b\n",
      "dtype: object\n"
     ]
    }
   ],
   "execution_count": 34
  },
  {
   "cell_type": "code",
   "metadata": {
    "id": "wiDaNTrWWBBM",
    "colab": {
     "base_uri": "https://localhost:8080/"
    },
    "executionInfo": {
     "status": "ok",
     "timestamp": 1684499413879,
     "user_tz": 180,
     "elapsed": 50,
     "user": {
      "displayName": "KEVEN BEZERRA",
      "userId": "00923506308034410447"
     }
    },
    "outputId": "8a7b50e9-740f-4fbe-a205-7c62c4701b31",
    "ExecuteTime": {
     "end_time": "2025-04-09T20:29:45.994198Z",
     "start_time": "2025-04-09T20:29:45.989533Z"
    }
   },
   "source": [
    "# Exemplo de indicação de índice em Pandas usando o método .iloc()\n",
    "print(data.iloc[1])\n",
    "print()\n",
    "print(data.iloc[1:3])"
   ],
   "outputs": [
    {
     "name": "stdout",
     "output_type": "stream",
     "text": [
      "b\n",
      "\n",
      "3    b\n",
      "5    c\n",
      "dtype: object\n"
     ]
    }
   ],
   "execution_count": 35
  },
  {
   "cell_type": "code",
   "metadata": {
    "id": "OiCaco7zWBBT",
    "colab": {
     "base_uri": "https://localhost:8080/",
     "height": 373
    },
    "executionInfo": {
     "status": "error",
     "timestamp": 1684499413880,
     "user_tz": 180,
     "elapsed": 49,
     "user": {
      "displayName": "KEVEN BEZERRA",
      "userId": "00923506308034410447"
     }
    },
    "outputId": "1828b6e3-b11d-460f-b400-1c39508049ef",
    "ExecuteTime": {
     "end_time": "2025-04-09T20:29:46.271798Z",
     "start_time": "2025-04-09T20:29:46.097335Z"
    }
   },
   "source": [
    "# Exemplo de indicação de índice em Pandas usando o método .ix()\n",
    "# Warning: o método está em desuso a aprtir da versão 0.20.0 do Pandas.\n",
    "\n",
    "print(data.ix[1])\n",
    "print()\n",
    "print(data.ix[1:3])"
   ],
   "outputs": [
    {
     "ename": "AttributeError",
     "evalue": "'Series' object has no attribute 'ix'",
     "output_type": "error",
     "traceback": [
      "\u001B[31m---------------------------------------------------------------------------\u001B[39m",
      "\u001B[31mAttributeError\u001B[39m                            Traceback (most recent call last)",
      "\u001B[32m/tmp/ipykernel_46745/4127972959.py\u001B[39m in \u001B[36m?\u001B[39m\u001B[34m()\u001B[39m\n\u001B[32m      1\u001B[39m \u001B[38;5;66;03m# Exemplo de indicação de índice em Pandas usando o método .ix()\u001B[39;00m\n\u001B[32m      2\u001B[39m \u001B[38;5;66;03m# Warning: o método está em desuso a aprtir da versão 0.20.0 do Pandas.\u001B[39;00m\n\u001B[32m      3\u001B[39m \n\u001B[32m----> \u001B[39m\u001B[32m4\u001B[39m print(data.ix[\u001B[32m1\u001B[39m])\n\u001B[32m      5\u001B[39m print()\n\u001B[32m      6\u001B[39m print(data.ix[\u001B[32m1\u001B[39m:\u001B[32m3\u001B[39m])\n",
      "\u001B[32m~/.virtualenvs/dc/lib/python3.12/site-packages/pandas/core/generic.py\u001B[39m in \u001B[36m?\u001B[39m\u001B[34m(self, name)\u001B[39m\n\u001B[32m   6295\u001B[39m             \u001B[38;5;28;01mand\u001B[39;00m name \u001B[38;5;28;01mnot\u001B[39;00m \u001B[38;5;28;01min\u001B[39;00m self._accessors\n\u001B[32m   6296\u001B[39m             \u001B[38;5;28;01mand\u001B[39;00m self._info_axis._can_hold_identifiers_and_holds_name(name)\n\u001B[32m   6297\u001B[39m         ):\n\u001B[32m   6298\u001B[39m             \u001B[38;5;28;01mreturn\u001B[39;00m self[name]\n\u001B[32m-> \u001B[39m\u001B[32m6299\u001B[39m         \u001B[38;5;28;01mreturn\u001B[39;00m object.__getattribute__(self, name)\n",
      "\u001B[31mAttributeError\u001B[39m: 'Series' object has no attribute 'ix'"
     ]
    }
   ],
   "execution_count": 36
  },
  {
   "cell_type": "markdown",
   "metadata": {
    "id": "TdjbtVxraSzH"
   },
   "source": [
    "### Exercício:\n",
    "Qual é a diferença dos métodos .loc() e .iloc()? Explique e faça um exemplo demonstrando a diferença."
   ]
  },
  {
   "cell_type": "code",
   "source": [
    "# Exercício\n",
    "\n",
    "# R: loc acessa dados pelo rótulo do objecto Series, enquanto iloc acessa-os por posição\n",
    "\n",
    "print(\"Dado o objeto Series\")\n",
    "dataAlt = pd.Series(data.values, index = ['first', 'second', 'third', 'fourth'])\n",
    "print(dataAlt)\n",
    "\n",
    "print(\"Acessar o índice 'second'\")\n",
    "print(dataAlt.loc['second'])\n",
    "\n",
    "print(\"Acessar a segunda posição da série\")\n",
    "print(dataAlt.iloc[2])\n",
    "\n",
    "print(\"Acessar todos os índices a partir de 'second' (incluso)\")\n",
    "print(dataAlt.loc['second':])\n",
    "print(dataAlt.iloc[1:])\n",
    "\n",
    "print(\"Acessar todos os índices entre 'first' e 'third'\")\n",
    "print(dataAlt.loc['first':'third'])\n",
    "print(dataAlt.iloc[0:3])"
   ],
   "metadata": {
    "id": "hSTUJiqdVtIf",
    "ExecuteTime": {
     "end_time": "2025-04-09T20:29:46.317526300Z",
     "start_time": "2025-04-08T00:10:01.007639Z"
    }
   },
   "outputs": [
    {
     "name": "stdout",
     "output_type": "stream",
     "text": [
      "Dado o objeto Series\n",
      "first     a\n",
      "second    b\n",
      "third     c\n",
      "fourth    d\n",
      "dtype: object\n",
      "Acessar o índice 'second'\n",
      "b\n",
      "Acessar a segunda posição da série\n",
      "c\n",
      "Acessar todos os índices a partir de 'second' (incluso)\n",
      "second    b\n",
      "third     c\n",
      "fourth    d\n",
      "dtype: object\n",
      "second    b\n",
      "third     c\n",
      "fourth    d\n",
      "dtype: object\n",
      "Acessar todos os índices entre 'first' e 'third'\n",
      "first     a\n",
      "second    b\n",
      "third     c\n",
      "dtype: object\n",
      "first     a\n",
      "second    b\n",
      "third     c\n",
      "dtype: object\n"
     ]
    }
   ],
   "execution_count": 87
  },
  {
   "cell_type": "markdown",
   "metadata": {
    "id": "114Y1eUsWBBY"
   },
   "source": [
    "## 2. Objeto do tipo DataFrame em Pandas"
   ]
  },
  {
   "cell_type": "markdown",
   "metadata": {
    "id": "h-iszyZ8WBBb"
   },
   "source": [
    "Se uma Serie-Pandas é um análogo de um array NumPy unidimensional com índices explícitos e flexíveis, então um DataFrame é um análogo de array NumPy bidimensional com índices de linha e de colunas flexíveis.\n",
    "\n",
    "Assim, DataFrame Pandas equivale a uma Matriz com índices explícitos, porém, diferentemenete dos arrays NumPy, os elementos podem ser de tipos diferentes.\n",
    "\n",
    "DataFrames podem ser vistos como uma sequência de objetos Series-Pandas alinhados por índices."
   ]
  },
  {
   "cell_type": "code",
   "metadata": {
    "id": "B8tSEkwMWBBg",
    "colab": {
     "base_uri": "https://localhost:8080/"
    },
    "executionInfo": {
     "status": "ok",
     "timestamp": 1684499972296,
     "user_tz": 180,
     "elapsed": 1,
     "user": {
      "displayName": "KEVEN BEZERRA",
      "userId": "00923506308034410447"
     }
    },
    "outputId": "9a1e0771-8232-4e61-cc24-363d2f059d30",
    "ExecuteTime": {
     "end_time": "2025-04-09T20:41:02.471415Z",
     "start_time": "2025-04-09T20:41:02.462734Z"
    }
   },
   "source": [
    "# Exemplo - Transformação de dict em Serie-Pandas\n",
    "populacao = pd.Series(pop_dict)\n",
    "populacao"
   ],
   "outputs": [
    {
     "data": {
      "text/plain": [
       "California    38332521\n",
       "Texas         26448193\n",
       "New York      19651127\n",
       "Florida       19552860\n",
       "Illinois      12882135\n",
       "dtype: int64"
      ]
     },
     "execution_count": 37,
     "metadata": {},
     "output_type": "execute_result"
    }
   ],
   "execution_count": 37
  },
  {
   "cell_type": "code",
   "metadata": {
    "id": "1unLPNAlWBBk",
    "colab": {
     "base_uri": "https://localhost:8080/"
    },
    "executionInfo": {
     "status": "ok",
     "timestamp": 1684499977972,
     "user_tz": 180,
     "elapsed": 2,
     "user": {
      "displayName": "KEVEN BEZERRA",
      "userId": "00923506308034410447"
     }
    },
    "outputId": "58973a52-d813-48b8-e891-8447f13fc487",
    "ExecuteTime": {
     "end_time": "2025-04-09T20:41:14.599866Z",
     "start_time": "2025-04-09T20:41:14.593996Z"
    }
   },
   "source": [
    "# Exemplo - Transformação de dict em Serie-Pandas\n",
    "area = pd.Series(area_dict)\n",
    "area"
   ],
   "outputs": [
    {
     "data": {
      "text/plain": [
       "California    423967\n",
       "Texas         695662\n",
       "New York      141297\n",
       "Florida       170312\n",
       "Illinois      149995\n",
       "dtype: int64"
      ]
     },
     "execution_count": 38,
     "metadata": {},
     "output_type": "execute_result"
    }
   ],
   "execution_count": 38
  },
  {
   "cell_type": "code",
   "metadata": {
    "id": "w5seGeB0WBBr",
    "colab": {
     "base_uri": "https://localhost:8080/",
     "height": 206
    },
    "executionInfo": {
     "status": "ok",
     "timestamp": 1684499992854,
     "user_tz": 180,
     "elapsed": 307,
     "user": {
      "displayName": "KEVEN BEZERRA",
      "userId": "00923506308034410447"
     }
    },
    "outputId": "a6e08762-7f53-438b-f761-b11142a8e703",
    "ExecuteTime": {
     "end_time": "2025-04-09T20:41:57.843734Z",
     "start_time": "2025-04-09T20:41:57.829176Z"
    }
   },
   "source": [
    "# Exemplo - Criação de um DataFrame Pandas\n",
    "\n",
    "estados = pd.DataFrame({'população': populacao,'área': area})\n",
    "estados"
   ],
   "outputs": [
    {
     "data": {
      "text/plain": [
       "            população    área\n",
       "California   38332521  423967\n",
       "Texas        26448193  695662\n",
       "New York     19651127  141297\n",
       "Florida      19552860  170312\n",
       "Illinois     12882135  149995"
      ],
      "text/html": [
       "<div>\n",
       "<style scoped>\n",
       "    .dataframe tbody tr th:only-of-type {\n",
       "        vertical-align: middle;\n",
       "    }\n",
       "\n",
       "    .dataframe tbody tr th {\n",
       "        vertical-align: top;\n",
       "    }\n",
       "\n",
       "    .dataframe thead th {\n",
       "        text-align: right;\n",
       "    }\n",
       "</style>\n",
       "<table border=\"1\" class=\"dataframe\">\n",
       "  <thead>\n",
       "    <tr style=\"text-align: right;\">\n",
       "      <th></th>\n",
       "      <th>população</th>\n",
       "      <th>área</th>\n",
       "    </tr>\n",
       "  </thead>\n",
       "  <tbody>\n",
       "    <tr>\n",
       "      <th>California</th>\n",
       "      <td>38332521</td>\n",
       "      <td>423967</td>\n",
       "    </tr>\n",
       "    <tr>\n",
       "      <th>Texas</th>\n",
       "      <td>26448193</td>\n",
       "      <td>695662</td>\n",
       "    </tr>\n",
       "    <tr>\n",
       "      <th>New York</th>\n",
       "      <td>19651127</td>\n",
       "      <td>141297</td>\n",
       "    </tr>\n",
       "    <tr>\n",
       "      <th>Florida</th>\n",
       "      <td>19552860</td>\n",
       "      <td>170312</td>\n",
       "    </tr>\n",
       "    <tr>\n",
       "      <th>Illinois</th>\n",
       "      <td>12882135</td>\n",
       "      <td>149995</td>\n",
       "    </tr>\n",
       "  </tbody>\n",
       "</table>\n",
       "</div>"
      ]
     },
     "execution_count": 39,
     "metadata": {},
     "output_type": "execute_result"
    }
   ],
   "execution_count": 39
  },
  {
   "cell_type": "code",
   "metadata": {
    "id": "xYLsynxIWBBy",
    "ExecuteTime": {
     "end_time": "2025-04-09T20:42:01.679842Z",
     "start_time": "2025-04-09T20:42:01.675093Z"
    }
   },
   "source": [
    "type(estados)"
   ],
   "outputs": [
    {
     "data": {
      "text/plain": [
       "pandas.core.frame.DataFrame"
      ]
     },
     "execution_count": 40,
     "metadata": {},
     "output_type": "execute_result"
    }
   ],
   "execution_count": 40
  },
  {
   "cell_type": "code",
   "metadata": {
    "id": "upkZTaU2WBB3",
    "ExecuteTime": {
     "end_time": "2025-04-09T20:42:03.171559Z",
     "start_time": "2025-04-09T20:42:03.165594Z"
    }
   },
   "source": [
    "estados.index"
   ],
   "outputs": [
    {
     "data": {
      "text/plain": [
       "Index(['California', 'Texas', 'New York', 'Florida', 'Illinois'], dtype='object')"
      ]
     },
     "execution_count": 41,
     "metadata": {},
     "output_type": "execute_result"
    }
   ],
   "execution_count": 41
  },
  {
   "cell_type": "code",
   "metadata": {
    "id": "VPaViqGJWBB8",
    "ExecuteTime": {
     "end_time": "2025-04-09T20:42:05.354322Z",
     "start_time": "2025-04-09T20:42:05.348783Z"
    }
   },
   "source": [
    "estados.columns"
   ],
   "outputs": [
    {
     "data": {
      "text/plain": [
       "Index(['população', 'área'], dtype='object')"
      ]
     },
     "execution_count": 42,
     "metadata": {},
     "output_type": "execute_result"
    }
   ],
   "execution_count": 42
  },
  {
   "cell_type": "markdown",
   "metadata": {
    "id": "iHu0fgsSWBCG"
   },
   "source": [
    "### Observação:\n",
    "Da mesma forma como Series, também podemos pensar em um DataFrame como uma especialização de um dicionário. Onde um dicionário mapeia uma chave para um valor, um DataFrame mapeia um nome de coluna para uma série de dados de coluna. Por exemplo, pedir o atributo 'área' retorna o objeto Series que contém as áreas que vimos anteriormente:"
   ]
  },
  {
   "cell_type": "code",
   "metadata": {
    "id": "SSZVH0kMWBCG",
    "ExecuteTime": {
     "end_time": "2025-04-09T20:42:17.138773Z",
     "start_time": "2025-04-09T20:42:17.132677Z"
    }
   },
   "source": [
    "estados['área']"
   ],
   "outputs": [
    {
     "data": {
      "text/plain": [
       "California    423967\n",
       "Texas         695662\n",
       "New York      141297\n",
       "Florida       170312\n",
       "Illinois      149995\n",
       "Name: área, dtype: int64"
      ]
     },
     "execution_count": 43,
     "metadata": {},
     "output_type": "execute_result"
    }
   ],
   "execution_count": 43
  },
  {
   "cell_type": "markdown",
   "metadata": {
    "id": "HsCXZ6GHWBCN"
   },
   "source": [
    "### 2.1 Criação de DataFrames Pandas\n",
    "DataFrame Pandas podem ser criados de diversas formas.\n",
    "- A partir de objetos Series\n",
    "- A partir de Listas de Dicionários\n",
    "- A partir de Dicionários de objetos Series\n",
    "- A partir de arrays NumPy bidimensionais\n",
    "- A partir de array NumPy estruturado"
   ]
  },
  {
   "cell_type": "code",
   "metadata": {
    "id": "FsgriOROWBCR",
    "ExecuteTime": {
     "end_time": "2025-04-09T20:42:45.100027Z",
     "start_time": "2025-04-09T20:42:45.092796Z"
    }
   },
   "source": [
    "# Exemplo: Criação de DataFrame Pandas a partir de objetos Series\n",
    "pd.DataFrame(populacao, columns=['população'])"
   ],
   "outputs": [
    {
     "data": {
      "text/plain": [
       "            população\n",
       "California   38332521\n",
       "Texas        26448193\n",
       "New York     19651127\n",
       "Florida      19552860\n",
       "Illinois     12882135"
      ],
      "text/html": [
       "<div>\n",
       "<style scoped>\n",
       "    .dataframe tbody tr th:only-of-type {\n",
       "        vertical-align: middle;\n",
       "    }\n",
       "\n",
       "    .dataframe tbody tr th {\n",
       "        vertical-align: top;\n",
       "    }\n",
       "\n",
       "    .dataframe thead th {\n",
       "        text-align: right;\n",
       "    }\n",
       "</style>\n",
       "<table border=\"1\" class=\"dataframe\">\n",
       "  <thead>\n",
       "    <tr style=\"text-align: right;\">\n",
       "      <th></th>\n",
       "      <th>população</th>\n",
       "    </tr>\n",
       "  </thead>\n",
       "  <tbody>\n",
       "    <tr>\n",
       "      <th>California</th>\n",
       "      <td>38332521</td>\n",
       "    </tr>\n",
       "    <tr>\n",
       "      <th>Texas</th>\n",
       "      <td>26448193</td>\n",
       "    </tr>\n",
       "    <tr>\n",
       "      <th>New York</th>\n",
       "      <td>19651127</td>\n",
       "    </tr>\n",
       "    <tr>\n",
       "      <th>Florida</th>\n",
       "      <td>19552860</td>\n",
       "    </tr>\n",
       "    <tr>\n",
       "      <th>Illinois</th>\n",
       "      <td>12882135</td>\n",
       "    </tr>\n",
       "  </tbody>\n",
       "</table>\n",
       "</div>"
      ]
     },
     "execution_count": 44,
     "metadata": {},
     "output_type": "execute_result"
    }
   ],
   "execution_count": 44
  },
  {
   "cell_type": "code",
   "metadata": {
    "id": "ShwYfYsRWBCW",
    "ExecuteTime": {
     "end_time": "2025-04-09T20:43:03.357165Z",
     "start_time": "2025-04-09T20:43:03.350113Z"
    }
   },
   "source": [
    "# Exemplo: Criação de DataFrame Pandas a partir de Lista de Dicionário\n",
    "data = [{'a': i, 'b': 2 * i} for i in range(3)]\n",
    "pd.DataFrame(data)\n",
    "#data"
   ],
   "outputs": [
    {
     "data": {
      "text/plain": [
       "   a  b\n",
       "0  0  0\n",
       "1  1  2\n",
       "2  2  4"
      ],
      "text/html": [
       "<div>\n",
       "<style scoped>\n",
       "    .dataframe tbody tr th:only-of-type {\n",
       "        vertical-align: middle;\n",
       "    }\n",
       "\n",
       "    .dataframe tbody tr th {\n",
       "        vertical-align: top;\n",
       "    }\n",
       "\n",
       "    .dataframe thead th {\n",
       "        text-align: right;\n",
       "    }\n",
       "</style>\n",
       "<table border=\"1\" class=\"dataframe\">\n",
       "  <thead>\n",
       "    <tr style=\"text-align: right;\">\n",
       "      <th></th>\n",
       "      <th>a</th>\n",
       "      <th>b</th>\n",
       "    </tr>\n",
       "  </thead>\n",
       "  <tbody>\n",
       "    <tr>\n",
       "      <th>0</th>\n",
       "      <td>0</td>\n",
       "      <td>0</td>\n",
       "    </tr>\n",
       "    <tr>\n",
       "      <th>1</th>\n",
       "      <td>1</td>\n",
       "      <td>2</td>\n",
       "    </tr>\n",
       "    <tr>\n",
       "      <th>2</th>\n",
       "      <td>2</td>\n",
       "      <td>4</td>\n",
       "    </tr>\n",
       "  </tbody>\n",
       "</table>\n",
       "</div>"
      ]
     },
     "execution_count": 45,
     "metadata": {},
     "output_type": "execute_result"
    }
   ],
   "execution_count": 45
  },
  {
   "cell_type": "code",
   "metadata": {
    "id": "JYb5FGn1WBCZ",
    "ExecuteTime": {
     "end_time": "2025-04-09T20:43:09.047826Z",
     "start_time": "2025-04-09T20:43:09.034177Z"
    }
   },
   "source": [
    "# Exemplo: Criação de DataFrame Pandas a partir de Lista de Dicionário\n",
    "# Data Missing (Dados perdidos) - similar ao objeto Serie\n",
    "\n",
    "pd.DataFrame([{'a': 1, 'b': 2}, {'b': 3, 'c': 4}])"
   ],
   "outputs": [
    {
     "data": {
      "text/plain": [
       "     a  b    c\n",
       "0  1.0  2  NaN\n",
       "1  NaN  3  4.0"
      ],
      "text/html": [
       "<div>\n",
       "<style scoped>\n",
       "    .dataframe tbody tr th:only-of-type {\n",
       "        vertical-align: middle;\n",
       "    }\n",
       "\n",
       "    .dataframe tbody tr th {\n",
       "        vertical-align: top;\n",
       "    }\n",
       "\n",
       "    .dataframe thead th {\n",
       "        text-align: right;\n",
       "    }\n",
       "</style>\n",
       "<table border=\"1\" class=\"dataframe\">\n",
       "  <thead>\n",
       "    <tr style=\"text-align: right;\">\n",
       "      <th></th>\n",
       "      <th>a</th>\n",
       "      <th>b</th>\n",
       "      <th>c</th>\n",
       "    </tr>\n",
       "  </thead>\n",
       "  <tbody>\n",
       "    <tr>\n",
       "      <th>0</th>\n",
       "      <td>1.0</td>\n",
       "      <td>2</td>\n",
       "      <td>NaN</td>\n",
       "    </tr>\n",
       "    <tr>\n",
       "      <th>1</th>\n",
       "      <td>NaN</td>\n",
       "      <td>3</td>\n",
       "      <td>4.0</td>\n",
       "    </tr>\n",
       "  </tbody>\n",
       "</table>\n",
       "</div>"
      ]
     },
     "execution_count": 46,
     "metadata": {},
     "output_type": "execute_result"
    }
   ],
   "execution_count": 46
  },
  {
   "cell_type": "code",
   "metadata": {
    "id": "OIl2vIY1WBCe",
    "ExecuteTime": {
     "end_time": "2025-04-09T20:43:24.209707Z",
     "start_time": "2025-04-09T20:43:24.201127Z"
    }
   },
   "source": [
    "# Exercício: Troque os índices do DataFrame acima\n",
    "#            para linha1 e linha2, respecitvamente\n",
    "\n",
    "pd.DataFrame([{'a': 1, 'b': 2}, {'b': 3, 'c': 4}], index=['linha1', 'linha2'])"
   ],
   "outputs": [
    {
     "data": {
      "text/plain": [
       "          a  b    c\n",
       "linha1  1.0  2  NaN\n",
       "linha2  NaN  3  4.0"
      ],
      "text/html": [
       "<div>\n",
       "<style scoped>\n",
       "    .dataframe tbody tr th:only-of-type {\n",
       "        vertical-align: middle;\n",
       "    }\n",
       "\n",
       "    .dataframe tbody tr th {\n",
       "        vertical-align: top;\n",
       "    }\n",
       "\n",
       "    .dataframe thead th {\n",
       "        text-align: right;\n",
       "    }\n",
       "</style>\n",
       "<table border=\"1\" class=\"dataframe\">\n",
       "  <thead>\n",
       "    <tr style=\"text-align: right;\">\n",
       "      <th></th>\n",
       "      <th>a</th>\n",
       "      <th>b</th>\n",
       "      <th>c</th>\n",
       "    </tr>\n",
       "  </thead>\n",
       "  <tbody>\n",
       "    <tr>\n",
       "      <th>linha1</th>\n",
       "      <td>1.0</td>\n",
       "      <td>2</td>\n",
       "      <td>NaN</td>\n",
       "    </tr>\n",
       "    <tr>\n",
       "      <th>linha2</th>\n",
       "      <td>NaN</td>\n",
       "      <td>3</td>\n",
       "      <td>4.0</td>\n",
       "    </tr>\n",
       "  </tbody>\n",
       "</table>\n",
       "</div>"
      ]
     },
     "execution_count": 47,
     "metadata": {},
     "output_type": "execute_result"
    }
   ],
   "execution_count": 47
  },
  {
   "cell_type": "markdown",
   "metadata": {
    "id": "8Gbtbf94WBCh"
   },
   "source": [
    "#### 2.2 Tratando Missing Data em DataFrame\n",
    "De forma similar a Series, podemos tratar missing data em DataFrame\n",
    "- técnicas de eliminação\n",
    "    - df.dropna(parametros)\n",
    "- técnicas de preenchimento\n",
    "    - df.fillna(parametros)"
   ]
  },
  {
   "cell_type": "code",
   "metadata": {
    "id": "fCD1zcIYWBCj",
    "ExecuteTime": {
     "end_time": "2025-04-09T20:44:11.344684Z",
     "start_time": "2025-04-09T20:44:11.335535Z"
    }
   },
   "source": [
    "# Exemplo: Eliminando missing data em DataFrames\n",
    "# Eliminar as linhas com NaN\n",
    "# Eliminar as colunas com NaN\n",
    "# Eliminar as linhas e colunas com NaN\n",
    "import numpy as np\n",
    "df = pd.DataFrame([[1, np.nan, 2],\n",
    "[2, 3, 5],\n",
    "[np.nan, 4, 6]])\n",
    "print(\"df com NaN \\n\", df)\n",
    "\n",
    "print(\"\\n df sem NaN - com eliminação de linhas \\n\", df.dropna())\n",
    "\n",
    "print(\"\\n df sem NaN - com eliminação de colunas \\n\", df.dropna(axis='columns'))\n"
   ],
   "outputs": [
    {
     "name": "stdout",
     "output_type": "stream",
     "text": [
      "df com NaN \n",
      "      0    1  2\n",
      "0  1.0  NaN  2\n",
      "1  2.0  3.0  5\n",
      "2  NaN  4.0  6\n",
      "\n",
      " df sem NaN - com eliminação de linhas \n",
      "      0    1  2\n",
      "1  2.0  3.0  5\n",
      "\n",
      " df sem NaN - com eliminação de colunas \n",
      "    2\n",
      "0  2\n",
      "1  5\n",
      "2  6\n"
     ]
    }
   ],
   "execution_count": 50
  },
  {
   "cell_type": "code",
   "metadata": {
    "id": "232j_TUuWBCl",
    "ExecuteTime": {
     "end_time": "2025-04-09T20:44:22.932623Z",
     "start_time": "2025-04-09T20:44:22.925196Z"
    }
   },
   "source": [
    "# Exemplo: Eliminando missing data em DataFrames\n",
    "# Eliminar as linhas com NaN\n",
    "# Eliminar as colunas com NaN\n",
    "# Eliminar as linhas e colunas com NaN\n",
    "\n",
    "dataF = DataFrame([[1., 6.5, 3.], [1., None, None], [None, None, None], [None, 6.5, 3.]])\n",
    "dataF"
   ],
   "outputs": [
    {
     "data": {
      "text/plain": [
       "     0    1    2\n",
       "0  1.0  6.5  3.0\n",
       "1  1.0  NaN  NaN\n",
       "2  NaN  NaN  NaN\n",
       "3  NaN  6.5  3.0"
      ],
      "text/html": [
       "<div>\n",
       "<style scoped>\n",
       "    .dataframe tbody tr th:only-of-type {\n",
       "        vertical-align: middle;\n",
       "    }\n",
       "\n",
       "    .dataframe tbody tr th {\n",
       "        vertical-align: top;\n",
       "    }\n",
       "\n",
       "    .dataframe thead th {\n",
       "        text-align: right;\n",
       "    }\n",
       "</style>\n",
       "<table border=\"1\" class=\"dataframe\">\n",
       "  <thead>\n",
       "    <tr style=\"text-align: right;\">\n",
       "      <th></th>\n",
       "      <th>0</th>\n",
       "      <th>1</th>\n",
       "      <th>2</th>\n",
       "    </tr>\n",
       "  </thead>\n",
       "  <tbody>\n",
       "    <tr>\n",
       "      <th>0</th>\n",
       "      <td>1.0</td>\n",
       "      <td>6.5</td>\n",
       "      <td>3.0</td>\n",
       "    </tr>\n",
       "    <tr>\n",
       "      <th>1</th>\n",
       "      <td>1.0</td>\n",
       "      <td>NaN</td>\n",
       "      <td>NaN</td>\n",
       "    </tr>\n",
       "    <tr>\n",
       "      <th>2</th>\n",
       "      <td>NaN</td>\n",
       "      <td>NaN</td>\n",
       "      <td>NaN</td>\n",
       "    </tr>\n",
       "    <tr>\n",
       "      <th>3</th>\n",
       "      <td>NaN</td>\n",
       "      <td>6.5</td>\n",
       "      <td>3.0</td>\n",
       "    </tr>\n",
       "  </tbody>\n",
       "</table>\n",
       "</div>"
      ]
     },
     "execution_count": 51,
     "metadata": {},
     "output_type": "execute_result"
    }
   ],
   "execution_count": 51
  },
  {
   "cell_type": "code",
   "metadata": {
    "id": "WfR1Ro5FWBCn",
    "ExecuteTime": {
     "end_time": "2025-04-09T20:44:35.881531Z",
     "start_time": "2025-04-09T20:44:35.873795Z"
    }
   },
   "source": "dataF.dropna(how='all')",
   "outputs": [
    {
     "data": {
      "text/plain": [
       "     0    1    2\n",
       "0  1.0  6.5  3.0\n",
       "1  1.0  NaN  NaN\n",
       "3  NaN  6.5  3.0"
      ],
      "text/html": [
       "<div>\n",
       "<style scoped>\n",
       "    .dataframe tbody tr th:only-of-type {\n",
       "        vertical-align: middle;\n",
       "    }\n",
       "\n",
       "    .dataframe tbody tr th {\n",
       "        vertical-align: top;\n",
       "    }\n",
       "\n",
       "    .dataframe thead th {\n",
       "        text-align: right;\n",
       "    }\n",
       "</style>\n",
       "<table border=\"1\" class=\"dataframe\">\n",
       "  <thead>\n",
       "    <tr style=\"text-align: right;\">\n",
       "      <th></th>\n",
       "      <th>0</th>\n",
       "      <th>1</th>\n",
       "      <th>2</th>\n",
       "    </tr>\n",
       "  </thead>\n",
       "  <tbody>\n",
       "    <tr>\n",
       "      <th>0</th>\n",
       "      <td>1.0</td>\n",
       "      <td>6.5</td>\n",
       "      <td>3.0</td>\n",
       "    </tr>\n",
       "    <tr>\n",
       "      <th>1</th>\n",
       "      <td>1.0</td>\n",
       "      <td>NaN</td>\n",
       "      <td>NaN</td>\n",
       "    </tr>\n",
       "    <tr>\n",
       "      <th>3</th>\n",
       "      <td>NaN</td>\n",
       "      <td>6.5</td>\n",
       "      <td>3.0</td>\n",
       "    </tr>\n",
       "  </tbody>\n",
       "</table>\n",
       "</div>"
      ]
     },
     "execution_count": 53,
     "metadata": {},
     "output_type": "execute_result"
    }
   ],
   "execution_count": 53
  },
  {
   "cell_type": "code",
   "metadata": {
    "id": "9tu3bQ6sWBCz",
    "ExecuteTime": {
     "end_time": "2025-04-09T20:44:54.927010Z",
     "start_time": "2025-04-09T20:44:54.915568Z"
    }
   },
   "source": [
    "# Exemplo: Preenchimento de missing data em DataFrames\n",
    "df = DataFrame(np.random.randn(7, 3))\n",
    "df"
   ],
   "outputs": [
    {
     "data": {
      "text/plain": [
       "          0         1         2\n",
       "0 -0.201548  2.600943 -0.098377\n",
       "1 -1.153987 -0.877107  0.927807\n",
       "2  0.358726 -0.692906 -3.295423\n",
       "3  0.896281 -1.710760  0.719209\n",
       "4  1.662603  0.735593  0.764883\n",
       "5  2.514701 -0.196854 -1.232522\n",
       "6 -1.622033 -1.777785  0.541326"
      ],
      "text/html": [
       "<div>\n",
       "<style scoped>\n",
       "    .dataframe tbody tr th:only-of-type {\n",
       "        vertical-align: middle;\n",
       "    }\n",
       "\n",
       "    .dataframe tbody tr th {\n",
       "        vertical-align: top;\n",
       "    }\n",
       "\n",
       "    .dataframe thead th {\n",
       "        text-align: right;\n",
       "    }\n",
       "</style>\n",
       "<table border=\"1\" class=\"dataframe\">\n",
       "  <thead>\n",
       "    <tr style=\"text-align: right;\">\n",
       "      <th></th>\n",
       "      <th>0</th>\n",
       "      <th>1</th>\n",
       "      <th>2</th>\n",
       "    </tr>\n",
       "  </thead>\n",
       "  <tbody>\n",
       "    <tr>\n",
       "      <th>0</th>\n",
       "      <td>-0.201548</td>\n",
       "      <td>2.600943</td>\n",
       "      <td>-0.098377</td>\n",
       "    </tr>\n",
       "    <tr>\n",
       "      <th>1</th>\n",
       "      <td>-1.153987</td>\n",
       "      <td>-0.877107</td>\n",
       "      <td>0.927807</td>\n",
       "    </tr>\n",
       "    <tr>\n",
       "      <th>2</th>\n",
       "      <td>0.358726</td>\n",
       "      <td>-0.692906</td>\n",
       "      <td>-3.295423</td>\n",
       "    </tr>\n",
       "    <tr>\n",
       "      <th>3</th>\n",
       "      <td>0.896281</td>\n",
       "      <td>-1.710760</td>\n",
       "      <td>0.719209</td>\n",
       "    </tr>\n",
       "    <tr>\n",
       "      <th>4</th>\n",
       "      <td>1.662603</td>\n",
       "      <td>0.735593</td>\n",
       "      <td>0.764883</td>\n",
       "    </tr>\n",
       "    <tr>\n",
       "      <th>5</th>\n",
       "      <td>2.514701</td>\n",
       "      <td>-0.196854</td>\n",
       "      <td>-1.232522</td>\n",
       "    </tr>\n",
       "    <tr>\n",
       "      <th>6</th>\n",
       "      <td>-1.622033</td>\n",
       "      <td>-1.777785</td>\n",
       "      <td>0.541326</td>\n",
       "    </tr>\n",
       "  </tbody>\n",
       "</table>\n",
       "</div>"
      ]
     },
     "execution_count": 54,
     "metadata": {},
     "output_type": "execute_result"
    }
   ],
   "execution_count": 54
  },
  {
   "cell_type": "code",
   "metadata": {
    "id": "XoaGIoXCWBC6",
    "ExecuteTime": {
     "end_time": "2025-04-09T20:45:05.052918Z",
     "start_time": "2025-04-09T20:45:05.043106Z"
    }
   },
   "source": [
    "df.iloc[:4, 1] = None; df.iloc[:2, 2] = None\n",
    "df"
   ],
   "outputs": [
    {
     "data": {
      "text/plain": [
       "          0         1         2\n",
       "0 -0.201548       NaN       NaN\n",
       "1 -1.153987       NaN       NaN\n",
       "2  0.358726       NaN -3.295423\n",
       "3  0.896281       NaN  0.719209\n",
       "4  1.662603  0.735593  0.764883\n",
       "5  2.514701 -0.196854 -1.232522\n",
       "6 -1.622033 -1.777785  0.541326"
      ],
      "text/html": [
       "<div>\n",
       "<style scoped>\n",
       "    .dataframe tbody tr th:only-of-type {\n",
       "        vertical-align: middle;\n",
       "    }\n",
       "\n",
       "    .dataframe tbody tr th {\n",
       "        vertical-align: top;\n",
       "    }\n",
       "\n",
       "    .dataframe thead th {\n",
       "        text-align: right;\n",
       "    }\n",
       "</style>\n",
       "<table border=\"1\" class=\"dataframe\">\n",
       "  <thead>\n",
       "    <tr style=\"text-align: right;\">\n",
       "      <th></th>\n",
       "      <th>0</th>\n",
       "      <th>1</th>\n",
       "      <th>2</th>\n",
       "    </tr>\n",
       "  </thead>\n",
       "  <tbody>\n",
       "    <tr>\n",
       "      <th>0</th>\n",
       "      <td>-0.201548</td>\n",
       "      <td>NaN</td>\n",
       "      <td>NaN</td>\n",
       "    </tr>\n",
       "    <tr>\n",
       "      <th>1</th>\n",
       "      <td>-1.153987</td>\n",
       "      <td>NaN</td>\n",
       "      <td>NaN</td>\n",
       "    </tr>\n",
       "    <tr>\n",
       "      <th>2</th>\n",
       "      <td>0.358726</td>\n",
       "      <td>NaN</td>\n",
       "      <td>-3.295423</td>\n",
       "    </tr>\n",
       "    <tr>\n",
       "      <th>3</th>\n",
       "      <td>0.896281</td>\n",
       "      <td>NaN</td>\n",
       "      <td>0.719209</td>\n",
       "    </tr>\n",
       "    <tr>\n",
       "      <th>4</th>\n",
       "      <td>1.662603</td>\n",
       "      <td>0.735593</td>\n",
       "      <td>0.764883</td>\n",
       "    </tr>\n",
       "    <tr>\n",
       "      <th>5</th>\n",
       "      <td>2.514701</td>\n",
       "      <td>-0.196854</td>\n",
       "      <td>-1.232522</td>\n",
       "    </tr>\n",
       "    <tr>\n",
       "      <th>6</th>\n",
       "      <td>-1.622033</td>\n",
       "      <td>-1.777785</td>\n",
       "      <td>0.541326</td>\n",
       "    </tr>\n",
       "  </tbody>\n",
       "</table>\n",
       "</div>"
      ]
     },
     "execution_count": 55,
     "metadata": {},
     "output_type": "execute_result"
    }
   ],
   "execution_count": 55
  },
  {
   "cell_type": "code",
   "metadata": {
    "id": "a0rKsuK6WBC9",
    "ExecuteTime": {
     "end_time": "2025-04-09T20:45:25.779965Z",
     "start_time": "2025-04-09T20:45:25.772548Z"
    }
   },
   "source": [
    "# Exemplo: Preenchimento de missing data em DataFrames\n",
    "#          com valor ZERO\n",
    "\n",
    "df.fillna(0)"
   ],
   "outputs": [
    {
     "data": {
      "text/plain": [
       "          0         1         2\n",
       "0 -0.201548  0.000000  0.000000\n",
       "1 -1.153987  0.000000  0.000000\n",
       "2  0.358726  0.000000 -3.295423\n",
       "3  0.896281  0.000000  0.719209\n",
       "4  1.662603  0.735593  0.764883\n",
       "5  2.514701 -0.196854 -1.232522\n",
       "6 -1.622033 -1.777785  0.541326"
      ],
      "text/html": [
       "<div>\n",
       "<style scoped>\n",
       "    .dataframe tbody tr th:only-of-type {\n",
       "        vertical-align: middle;\n",
       "    }\n",
       "\n",
       "    .dataframe tbody tr th {\n",
       "        vertical-align: top;\n",
       "    }\n",
       "\n",
       "    .dataframe thead th {\n",
       "        text-align: right;\n",
       "    }\n",
       "</style>\n",
       "<table border=\"1\" class=\"dataframe\">\n",
       "  <thead>\n",
       "    <tr style=\"text-align: right;\">\n",
       "      <th></th>\n",
       "      <th>0</th>\n",
       "      <th>1</th>\n",
       "      <th>2</th>\n",
       "    </tr>\n",
       "  </thead>\n",
       "  <tbody>\n",
       "    <tr>\n",
       "      <th>0</th>\n",
       "      <td>-0.201548</td>\n",
       "      <td>0.000000</td>\n",
       "      <td>0.000000</td>\n",
       "    </tr>\n",
       "    <tr>\n",
       "      <th>1</th>\n",
       "      <td>-1.153987</td>\n",
       "      <td>0.000000</td>\n",
       "      <td>0.000000</td>\n",
       "    </tr>\n",
       "    <tr>\n",
       "      <th>2</th>\n",
       "      <td>0.358726</td>\n",
       "      <td>0.000000</td>\n",
       "      <td>-3.295423</td>\n",
       "    </tr>\n",
       "    <tr>\n",
       "      <th>3</th>\n",
       "      <td>0.896281</td>\n",
       "      <td>0.000000</td>\n",
       "      <td>0.719209</td>\n",
       "    </tr>\n",
       "    <tr>\n",
       "      <th>4</th>\n",
       "      <td>1.662603</td>\n",
       "      <td>0.735593</td>\n",
       "      <td>0.764883</td>\n",
       "    </tr>\n",
       "    <tr>\n",
       "      <th>5</th>\n",
       "      <td>2.514701</td>\n",
       "      <td>-0.196854</td>\n",
       "      <td>-1.232522</td>\n",
       "    </tr>\n",
       "    <tr>\n",
       "      <th>6</th>\n",
       "      <td>-1.622033</td>\n",
       "      <td>-1.777785</td>\n",
       "      <td>0.541326</td>\n",
       "    </tr>\n",
       "  </tbody>\n",
       "</table>\n",
       "</div>"
      ]
     },
     "execution_count": 56,
     "metadata": {},
     "output_type": "execute_result"
    }
   ],
   "execution_count": 56
  },
  {
   "cell_type": "code",
   "metadata": {
    "id": "mDKZp7A0WBC_",
    "ExecuteTime": {
     "end_time": "2025-04-09T20:45:29.463169Z",
     "start_time": "2025-04-09T20:45:29.455276Z"
    }
   },
   "source": [
    "df.iloc[3:4,0:1] = None\n",
    "df\n"
   ],
   "outputs": [
    {
     "data": {
      "text/plain": [
       "          0         1         2\n",
       "0 -0.201548       NaN       NaN\n",
       "1 -1.153987       NaN       NaN\n",
       "2  0.358726       NaN -3.295423\n",
       "3       NaN       NaN  0.719209\n",
       "4  1.662603  0.735593  0.764883\n",
       "5  2.514701 -0.196854 -1.232522\n",
       "6 -1.622033 -1.777785  0.541326"
      ],
      "text/html": [
       "<div>\n",
       "<style scoped>\n",
       "    .dataframe tbody tr th:only-of-type {\n",
       "        vertical-align: middle;\n",
       "    }\n",
       "\n",
       "    .dataframe tbody tr th {\n",
       "        vertical-align: top;\n",
       "    }\n",
       "\n",
       "    .dataframe thead th {\n",
       "        text-align: right;\n",
       "    }\n",
       "</style>\n",
       "<table border=\"1\" class=\"dataframe\">\n",
       "  <thead>\n",
       "    <tr style=\"text-align: right;\">\n",
       "      <th></th>\n",
       "      <th>0</th>\n",
       "      <th>1</th>\n",
       "      <th>2</th>\n",
       "    </tr>\n",
       "  </thead>\n",
       "  <tbody>\n",
       "    <tr>\n",
       "      <th>0</th>\n",
       "      <td>-0.201548</td>\n",
       "      <td>NaN</td>\n",
       "      <td>NaN</td>\n",
       "    </tr>\n",
       "    <tr>\n",
       "      <th>1</th>\n",
       "      <td>-1.153987</td>\n",
       "      <td>NaN</td>\n",
       "      <td>NaN</td>\n",
       "    </tr>\n",
       "    <tr>\n",
       "      <th>2</th>\n",
       "      <td>0.358726</td>\n",
       "      <td>NaN</td>\n",
       "      <td>-3.295423</td>\n",
       "    </tr>\n",
       "    <tr>\n",
       "      <th>3</th>\n",
       "      <td>NaN</td>\n",
       "      <td>NaN</td>\n",
       "      <td>0.719209</td>\n",
       "    </tr>\n",
       "    <tr>\n",
       "      <th>4</th>\n",
       "      <td>1.662603</td>\n",
       "      <td>0.735593</td>\n",
       "      <td>0.764883</td>\n",
       "    </tr>\n",
       "    <tr>\n",
       "      <th>5</th>\n",
       "      <td>2.514701</td>\n",
       "      <td>-0.196854</td>\n",
       "      <td>-1.232522</td>\n",
       "    </tr>\n",
       "    <tr>\n",
       "      <th>6</th>\n",
       "      <td>-1.622033</td>\n",
       "      <td>-1.777785</td>\n",
       "      <td>0.541326</td>\n",
       "    </tr>\n",
       "  </tbody>\n",
       "</table>\n",
       "</div>"
      ]
     },
     "execution_count": 57,
     "metadata": {},
     "output_type": "execute_result"
    }
   ],
   "execution_count": 57
  },
  {
   "cell_type": "code",
   "metadata": {
    "id": "tlZdB6lXWBDC",
    "ExecuteTime": {
     "end_time": "2025-04-09T20:45:33.017391Z",
     "start_time": "2025-04-09T20:45:33.004311Z"
    }
   },
   "source": [
    "# Exemplo: Preenchimento de missing data em DataFrames\n",
    "df.fillna(method='ffill')"
   ],
   "outputs": [
    {
     "name": "stderr",
     "output_type": "stream",
     "text": [
      "/tmp/ipykernel_46745/3125097072.py:2: FutureWarning: DataFrame.fillna with 'method' is deprecated and will raise in a future version. Use obj.ffill() or obj.bfill() instead.\n",
      "  df.fillna(method='ffill')\n"
     ]
    },
    {
     "data": {
      "text/plain": [
       "          0         1         2\n",
       "0 -0.201548       NaN       NaN\n",
       "1 -1.153987       NaN       NaN\n",
       "2  0.358726       NaN -3.295423\n",
       "3  0.358726       NaN  0.719209\n",
       "4  1.662603  0.735593  0.764883\n",
       "5  2.514701 -0.196854 -1.232522\n",
       "6 -1.622033 -1.777785  0.541326"
      ],
      "text/html": [
       "<div>\n",
       "<style scoped>\n",
       "    .dataframe tbody tr th:only-of-type {\n",
       "        vertical-align: middle;\n",
       "    }\n",
       "\n",
       "    .dataframe tbody tr th {\n",
       "        vertical-align: top;\n",
       "    }\n",
       "\n",
       "    .dataframe thead th {\n",
       "        text-align: right;\n",
       "    }\n",
       "</style>\n",
       "<table border=\"1\" class=\"dataframe\">\n",
       "  <thead>\n",
       "    <tr style=\"text-align: right;\">\n",
       "      <th></th>\n",
       "      <th>0</th>\n",
       "      <th>1</th>\n",
       "      <th>2</th>\n",
       "    </tr>\n",
       "  </thead>\n",
       "  <tbody>\n",
       "    <tr>\n",
       "      <th>0</th>\n",
       "      <td>-0.201548</td>\n",
       "      <td>NaN</td>\n",
       "      <td>NaN</td>\n",
       "    </tr>\n",
       "    <tr>\n",
       "      <th>1</th>\n",
       "      <td>-1.153987</td>\n",
       "      <td>NaN</td>\n",
       "      <td>NaN</td>\n",
       "    </tr>\n",
       "    <tr>\n",
       "      <th>2</th>\n",
       "      <td>0.358726</td>\n",
       "      <td>NaN</td>\n",
       "      <td>-3.295423</td>\n",
       "    </tr>\n",
       "    <tr>\n",
       "      <th>3</th>\n",
       "      <td>0.358726</td>\n",
       "      <td>NaN</td>\n",
       "      <td>0.719209</td>\n",
       "    </tr>\n",
       "    <tr>\n",
       "      <th>4</th>\n",
       "      <td>1.662603</td>\n",
       "      <td>0.735593</td>\n",
       "      <td>0.764883</td>\n",
       "    </tr>\n",
       "    <tr>\n",
       "      <th>5</th>\n",
       "      <td>2.514701</td>\n",
       "      <td>-0.196854</td>\n",
       "      <td>-1.232522</td>\n",
       "    </tr>\n",
       "    <tr>\n",
       "      <th>6</th>\n",
       "      <td>-1.622033</td>\n",
       "      <td>-1.777785</td>\n",
       "      <td>0.541326</td>\n",
       "    </tr>\n",
       "  </tbody>\n",
       "</table>\n",
       "</div>"
      ]
     },
     "execution_count": 58,
     "metadata": {},
     "output_type": "execute_result"
    }
   ],
   "execution_count": 58
  },
  {
   "cell_type": "code",
   "metadata": {
    "id": "A8ftof5IWBDH",
    "ExecuteTime": {
     "end_time": "2025-04-09T20:45:36.227518Z",
     "start_time": "2025-04-09T20:45:36.220025Z"
    }
   },
   "source": [
    "# Exemplo: Preenchimento de missing data em DataFrames\n",
    "# Chamendo .fillna() com um tipo 'dict',\n",
    "# pode-se usar um valor diferente de preenchimento para cada coluna\n",
    "\n",
    "df.fillna({1: 0.5, 2: -1})"
   ],
   "outputs": [
    {
     "data": {
      "text/plain": [
       "          0         1         2\n",
       "0 -0.201548  0.500000 -1.000000\n",
       "1 -1.153987  0.500000 -1.000000\n",
       "2  0.358726  0.500000 -3.295423\n",
       "3       NaN  0.500000  0.719209\n",
       "4  1.662603  0.735593  0.764883\n",
       "5  2.514701 -0.196854 -1.232522\n",
       "6 -1.622033 -1.777785  0.541326"
      ],
      "text/html": [
       "<div>\n",
       "<style scoped>\n",
       "    .dataframe tbody tr th:only-of-type {\n",
       "        vertical-align: middle;\n",
       "    }\n",
       "\n",
       "    .dataframe tbody tr th {\n",
       "        vertical-align: top;\n",
       "    }\n",
       "\n",
       "    .dataframe thead th {\n",
       "        text-align: right;\n",
       "    }\n",
       "</style>\n",
       "<table border=\"1\" class=\"dataframe\">\n",
       "  <thead>\n",
       "    <tr style=\"text-align: right;\">\n",
       "      <th></th>\n",
       "      <th>0</th>\n",
       "      <th>1</th>\n",
       "      <th>2</th>\n",
       "    </tr>\n",
       "  </thead>\n",
       "  <tbody>\n",
       "    <tr>\n",
       "      <th>0</th>\n",
       "      <td>-0.201548</td>\n",
       "      <td>0.500000</td>\n",
       "      <td>-1.000000</td>\n",
       "    </tr>\n",
       "    <tr>\n",
       "      <th>1</th>\n",
       "      <td>-1.153987</td>\n",
       "      <td>0.500000</td>\n",
       "      <td>-1.000000</td>\n",
       "    </tr>\n",
       "    <tr>\n",
       "      <th>2</th>\n",
       "      <td>0.358726</td>\n",
       "      <td>0.500000</td>\n",
       "      <td>-3.295423</td>\n",
       "    </tr>\n",
       "    <tr>\n",
       "      <th>3</th>\n",
       "      <td>NaN</td>\n",
       "      <td>0.500000</td>\n",
       "      <td>0.719209</td>\n",
       "    </tr>\n",
       "    <tr>\n",
       "      <th>4</th>\n",
       "      <td>1.662603</td>\n",
       "      <td>0.735593</td>\n",
       "      <td>0.764883</td>\n",
       "    </tr>\n",
       "    <tr>\n",
       "      <th>5</th>\n",
       "      <td>2.514701</td>\n",
       "      <td>-0.196854</td>\n",
       "      <td>-1.232522</td>\n",
       "    </tr>\n",
       "    <tr>\n",
       "      <th>6</th>\n",
       "      <td>-1.622033</td>\n",
       "      <td>-1.777785</td>\n",
       "      <td>0.541326</td>\n",
       "    </tr>\n",
       "  </tbody>\n",
       "</table>\n",
       "</div>"
      ]
     },
     "execution_count": 59,
     "metadata": {},
     "output_type": "execute_result"
    }
   ],
   "execution_count": 59
  },
  {
   "cell_type": "code",
   "metadata": {
    "id": "Xu30NwKGWBDJ",
    "ExecuteTime": {
     "end_time": "2025-04-09T20:45:44.178419Z",
     "start_time": "2025-04-09T20:45:44.171373Z"
    }
   },
   "source": [
    "# Exemplo: Criação de DataFrame Pandas\n",
    "#          a partir Dicionários de objetos Series\n",
    "\n",
    "pd.DataFrame({'população1': populacao,'área1': area})\n"
   ],
   "outputs": [
    {
     "data": {
      "text/plain": [
       "            população1   área1\n",
       "California    38332521  423967\n",
       "Texas         26448193  695662\n",
       "New York      19651127  141297\n",
       "Florida       19552860  170312\n",
       "Illinois      12882135  149995"
      ],
      "text/html": [
       "<div>\n",
       "<style scoped>\n",
       "    .dataframe tbody tr th:only-of-type {\n",
       "        vertical-align: middle;\n",
       "    }\n",
       "\n",
       "    .dataframe tbody tr th {\n",
       "        vertical-align: top;\n",
       "    }\n",
       "\n",
       "    .dataframe thead th {\n",
       "        text-align: right;\n",
       "    }\n",
       "</style>\n",
       "<table border=\"1\" class=\"dataframe\">\n",
       "  <thead>\n",
       "    <tr style=\"text-align: right;\">\n",
       "      <th></th>\n",
       "      <th>população1</th>\n",
       "      <th>área1</th>\n",
       "    </tr>\n",
       "  </thead>\n",
       "  <tbody>\n",
       "    <tr>\n",
       "      <th>California</th>\n",
       "      <td>38332521</td>\n",
       "      <td>423967</td>\n",
       "    </tr>\n",
       "    <tr>\n",
       "      <th>Texas</th>\n",
       "      <td>26448193</td>\n",
       "      <td>695662</td>\n",
       "    </tr>\n",
       "    <tr>\n",
       "      <th>New York</th>\n",
       "      <td>19651127</td>\n",
       "      <td>141297</td>\n",
       "    </tr>\n",
       "    <tr>\n",
       "      <th>Florida</th>\n",
       "      <td>19552860</td>\n",
       "      <td>170312</td>\n",
       "    </tr>\n",
       "    <tr>\n",
       "      <th>Illinois</th>\n",
       "      <td>12882135</td>\n",
       "      <td>149995</td>\n",
       "    </tr>\n",
       "  </tbody>\n",
       "</table>\n",
       "</div>"
      ]
     },
     "execution_count": 60,
     "metadata": {},
     "output_type": "execute_result"
    }
   ],
   "execution_count": 60
  },
  {
   "cell_type": "code",
   "metadata": {
    "id": "MauMnQblWBDS",
    "ExecuteTime": {
     "end_time": "2025-04-09T20:45:46.179359Z",
     "start_time": "2025-04-09T20:45:46.171074Z"
    }
   },
   "source": [
    "# Exemplo: Criação de DataFrame Pandas\n",
    "#          a partir de arrays NumPy bidimensionais\n",
    "\n",
    "import numpy as np\n",
    "\n",
    "pd.DataFrame(np.random.rand(3, 2),\n",
    "             columns=['coluna 1', 'coluna 2'],\n",
    "             index=['linha 1', 'linha 2', 'linha 3'])"
   ],
   "outputs": [
    {
     "data": {
      "text/plain": [
       "         coluna 1  coluna 2\n",
       "linha 1  0.135251  0.815854\n",
       "linha 2  0.748831  0.924001\n",
       "linha 3  0.783409  0.166078"
      ],
      "text/html": [
       "<div>\n",
       "<style scoped>\n",
       "    .dataframe tbody tr th:only-of-type {\n",
       "        vertical-align: middle;\n",
       "    }\n",
       "\n",
       "    .dataframe tbody tr th {\n",
       "        vertical-align: top;\n",
       "    }\n",
       "\n",
       "    .dataframe thead th {\n",
       "        text-align: right;\n",
       "    }\n",
       "</style>\n",
       "<table border=\"1\" class=\"dataframe\">\n",
       "  <thead>\n",
       "    <tr style=\"text-align: right;\">\n",
       "      <th></th>\n",
       "      <th>coluna 1</th>\n",
       "      <th>coluna 2</th>\n",
       "    </tr>\n",
       "  </thead>\n",
       "  <tbody>\n",
       "    <tr>\n",
       "      <th>linha 1</th>\n",
       "      <td>0.135251</td>\n",
       "      <td>0.815854</td>\n",
       "    </tr>\n",
       "    <tr>\n",
       "      <th>linha 2</th>\n",
       "      <td>0.748831</td>\n",
       "      <td>0.924001</td>\n",
       "    </tr>\n",
       "    <tr>\n",
       "      <th>linha 3</th>\n",
       "      <td>0.783409</td>\n",
       "      <td>0.166078</td>\n",
       "    </tr>\n",
       "  </tbody>\n",
       "</table>\n",
       "</div>"
      ]
     },
     "execution_count": 61,
     "metadata": {},
     "output_type": "execute_result"
    }
   ],
   "execution_count": 61
  },
  {
   "cell_type": "code",
   "metadata": {
    "id": "8qqK_i2GWBDW",
    "ExecuteTime": {
     "end_time": "2025-04-09T20:45:49.881245Z",
     "start_time": "2025-04-09T20:45:49.874860Z"
    }
   },
   "source": [
    "# Exemplo: Criação de DataFrame Pandas\n",
    "#          a partir de array NumPy estruturado\n",
    "Resultado = np.zeros(3, dtype=[('A', 'i8'), ('B', 'f8')])\n",
    "Resultado"
   ],
   "outputs": [
    {
     "data": {
      "text/plain": [
       "array([(0, 0.), (0, 0.), (0, 0.)], dtype=[('A', '<i8'), ('B', '<f8')])"
      ]
     },
     "execution_count": 62,
     "metadata": {},
     "output_type": "execute_result"
    }
   ],
   "execution_count": 62
  },
  {
   "cell_type": "code",
   "metadata": {
    "id": "Uxn6lMeAWBDj",
    "ExecuteTime": {
     "end_time": "2025-04-09T20:45:51.238633Z",
     "start_time": "2025-04-09T20:45:51.231517Z"
    }
   },
   "source": [
    "pd.DataFrame(Resultado)"
   ],
   "outputs": [
    {
     "data": {
      "text/plain": [
       "   A    B\n",
       "0  0  0.0\n",
       "1  0  0.0\n",
       "2  0  0.0"
      ],
      "text/html": [
       "<div>\n",
       "<style scoped>\n",
       "    .dataframe tbody tr th:only-of-type {\n",
       "        vertical-align: middle;\n",
       "    }\n",
       "\n",
       "    .dataframe tbody tr th {\n",
       "        vertical-align: top;\n",
       "    }\n",
       "\n",
       "    .dataframe thead th {\n",
       "        text-align: right;\n",
       "    }\n",
       "</style>\n",
       "<table border=\"1\" class=\"dataframe\">\n",
       "  <thead>\n",
       "    <tr style=\"text-align: right;\">\n",
       "      <th></th>\n",
       "      <th>A</th>\n",
       "      <th>B</th>\n",
       "    </tr>\n",
       "  </thead>\n",
       "  <tbody>\n",
       "    <tr>\n",
       "      <th>0</th>\n",
       "      <td>0</td>\n",
       "      <td>0.0</td>\n",
       "    </tr>\n",
       "    <tr>\n",
       "      <th>1</th>\n",
       "      <td>0</td>\n",
       "      <td>0.0</td>\n",
       "    </tr>\n",
       "    <tr>\n",
       "      <th>2</th>\n",
       "      <td>0</td>\n",
       "      <td>0.0</td>\n",
       "    </tr>\n",
       "  </tbody>\n",
       "</table>\n",
       "</div>"
      ]
     },
     "execution_count": 63,
     "metadata": {},
     "output_type": "execute_result"
    }
   ],
   "execution_count": 63
  },
  {
   "cell_type": "markdown",
   "metadata": {
    "id": "52rnow9pWBDw"
   },
   "source": [
    "### Exemplos de Acesso a Elementos de DataFrames\n",
    "A seguir, são apresentados alguns exemplos de como acessar DataFrames e elementos de DataFrames"
   ]
  },
  {
   "cell_type": "code",
   "metadata": {
    "id": "FdSQzV7WWBDy",
    "ExecuteTime": {
     "end_time": "2025-04-09T20:46:05.933173Z",
     "start_time": "2025-04-09T20:46:05.925137Z"
    }
   },
   "source": [
    "estados"
   ],
   "outputs": [
    {
     "data": {
      "text/plain": [
       "            população    área\n",
       "California   38332521  423967\n",
       "Texas        26448193  695662\n",
       "New York     19651127  141297\n",
       "Florida      19552860  170312\n",
       "Illinois     12882135  149995"
      ],
      "text/html": [
       "<div>\n",
       "<style scoped>\n",
       "    .dataframe tbody tr th:only-of-type {\n",
       "        vertical-align: middle;\n",
       "    }\n",
       "\n",
       "    .dataframe tbody tr th {\n",
       "        vertical-align: top;\n",
       "    }\n",
       "\n",
       "    .dataframe thead th {\n",
       "        text-align: right;\n",
       "    }\n",
       "</style>\n",
       "<table border=\"1\" class=\"dataframe\">\n",
       "  <thead>\n",
       "    <tr style=\"text-align: right;\">\n",
       "      <th></th>\n",
       "      <th>população</th>\n",
       "      <th>área</th>\n",
       "    </tr>\n",
       "  </thead>\n",
       "  <tbody>\n",
       "    <tr>\n",
       "      <th>California</th>\n",
       "      <td>38332521</td>\n",
       "      <td>423967</td>\n",
       "    </tr>\n",
       "    <tr>\n",
       "      <th>Texas</th>\n",
       "      <td>26448193</td>\n",
       "      <td>695662</td>\n",
       "    </tr>\n",
       "    <tr>\n",
       "      <th>New York</th>\n",
       "      <td>19651127</td>\n",
       "      <td>141297</td>\n",
       "    </tr>\n",
       "    <tr>\n",
       "      <th>Florida</th>\n",
       "      <td>19552860</td>\n",
       "      <td>170312</td>\n",
       "    </tr>\n",
       "    <tr>\n",
       "      <th>Illinois</th>\n",
       "      <td>12882135</td>\n",
       "      <td>149995</td>\n",
       "    </tr>\n",
       "  </tbody>\n",
       "</table>\n",
       "</div>"
      ]
     },
     "execution_count": 64,
     "metadata": {},
     "output_type": "execute_result"
    }
   ],
   "execution_count": 64
  },
  {
   "cell_type": "code",
   "metadata": {
    "id": "vP59c-NWWBD1",
    "ExecuteTime": {
     "end_time": "2025-04-09T20:46:07.823780Z",
     "start_time": "2025-04-09T20:46:07.817885Z"
    }
   },
   "source": [
    "estados['área']"
   ],
   "outputs": [
    {
     "data": {
      "text/plain": [
       "California    423967\n",
       "Texas         695662\n",
       "New York      141297\n",
       "Florida       170312\n",
       "Illinois      149995\n",
       "Name: área, dtype: int64"
      ]
     },
     "execution_count": 65,
     "metadata": {},
     "output_type": "execute_result"
    }
   ],
   "execution_count": 65
  },
  {
   "cell_type": "code",
   "metadata": {
    "id": "PXCyJipnWBD3",
    "ExecuteTime": {
     "end_time": "2025-04-09T20:46:09.307517Z",
     "start_time": "2025-04-09T20:46:09.300736Z"
    }
   },
   "source": [
    "estados[['área','população']]"
   ],
   "outputs": [
    {
     "data": {
      "text/plain": [
       "              área  população\n",
       "California  423967   38332521\n",
       "Texas       695662   26448193\n",
       "New York    141297   19651127\n",
       "Florida     170312   19552860\n",
       "Illinois    149995   12882135"
      ],
      "text/html": [
       "<div>\n",
       "<style scoped>\n",
       "    .dataframe tbody tr th:only-of-type {\n",
       "        vertical-align: middle;\n",
       "    }\n",
       "\n",
       "    .dataframe tbody tr th {\n",
       "        vertical-align: top;\n",
       "    }\n",
       "\n",
       "    .dataframe thead th {\n",
       "        text-align: right;\n",
       "    }\n",
       "</style>\n",
       "<table border=\"1\" class=\"dataframe\">\n",
       "  <thead>\n",
       "    <tr style=\"text-align: right;\">\n",
       "      <th></th>\n",
       "      <th>área</th>\n",
       "      <th>população</th>\n",
       "    </tr>\n",
       "  </thead>\n",
       "  <tbody>\n",
       "    <tr>\n",
       "      <th>California</th>\n",
       "      <td>423967</td>\n",
       "      <td>38332521</td>\n",
       "    </tr>\n",
       "    <tr>\n",
       "      <th>Texas</th>\n",
       "      <td>695662</td>\n",
       "      <td>26448193</td>\n",
       "    </tr>\n",
       "    <tr>\n",
       "      <th>New York</th>\n",
       "      <td>141297</td>\n",
       "      <td>19651127</td>\n",
       "    </tr>\n",
       "    <tr>\n",
       "      <th>Florida</th>\n",
       "      <td>170312</td>\n",
       "      <td>19552860</td>\n",
       "    </tr>\n",
       "    <tr>\n",
       "      <th>Illinois</th>\n",
       "      <td>149995</td>\n",
       "      <td>12882135</td>\n",
       "    </tr>\n",
       "  </tbody>\n",
       "</table>\n",
       "</div>"
      ]
     },
     "execution_count": 66,
     "metadata": {},
     "output_type": "execute_result"
    }
   ],
   "execution_count": 66
  },
  {
   "cell_type": "code",
   "metadata": {
    "id": "SuGBASeAWBD7",
    "ExecuteTime": {
     "end_time": "2025-04-09T20:46:11.150154Z",
     "start_time": "2025-04-09T20:46:11.137112Z"
    }
   },
   "source": [
    "estados.área"
   ],
   "outputs": [
    {
     "data": {
      "text/plain": [
       "California    423967\n",
       "Texas         695662\n",
       "New York      141297\n",
       "Florida       170312\n",
       "Illinois      149995\n",
       "Name: área, dtype: int64"
      ]
     },
     "execution_count": 67,
     "metadata": {},
     "output_type": "execute_result"
    }
   ],
   "execution_count": 67
  },
  {
   "cell_type": "markdown",
   "metadata": {
    "id": "Yd3xPOjyWBD_"
   },
   "source": [
    "### 2.3 - Incluir e modificar colunas no DataFrame Pandas\n",
    "- Uma das formas de se fazer isto pode ser usando uma sintaxe similar à sintaxe de dicionários com objetos Series Pandas.\n"
   ]
  },
  {
   "cell_type": "code",
   "metadata": {
    "id": "MCar90GQWBD_",
    "ExecuteTime": {
     "end_time": "2025-04-09T20:46:34.856232Z",
     "start_time": "2025-04-09T20:46:34.848471Z"
    }
   },
   "source": [
    "# Exemplo - Inclusão de uma nova coluna no DataFrame Pandas\n",
    "\n",
    "estados['densidade'] = estados['população'] / estados['área']\n",
    "estados"
   ],
   "outputs": [
    {
     "data": {
      "text/plain": [
       "            população    área   densidade\n",
       "California   38332521  423967   90.413926\n",
       "Texas        26448193  695662   38.018740\n",
       "New York     19651127  141297  139.076746\n",
       "Florida      19552860  170312  114.806121\n",
       "Illinois     12882135  149995   85.883763"
      ],
      "text/html": [
       "<div>\n",
       "<style scoped>\n",
       "    .dataframe tbody tr th:only-of-type {\n",
       "        vertical-align: middle;\n",
       "    }\n",
       "\n",
       "    .dataframe tbody tr th {\n",
       "        vertical-align: top;\n",
       "    }\n",
       "\n",
       "    .dataframe thead th {\n",
       "        text-align: right;\n",
       "    }\n",
       "</style>\n",
       "<table border=\"1\" class=\"dataframe\">\n",
       "  <thead>\n",
       "    <tr style=\"text-align: right;\">\n",
       "      <th></th>\n",
       "      <th>população</th>\n",
       "      <th>área</th>\n",
       "      <th>densidade</th>\n",
       "    </tr>\n",
       "  </thead>\n",
       "  <tbody>\n",
       "    <tr>\n",
       "      <th>California</th>\n",
       "      <td>38332521</td>\n",
       "      <td>423967</td>\n",
       "      <td>90.413926</td>\n",
       "    </tr>\n",
       "    <tr>\n",
       "      <th>Texas</th>\n",
       "      <td>26448193</td>\n",
       "      <td>695662</td>\n",
       "      <td>38.018740</td>\n",
       "    </tr>\n",
       "    <tr>\n",
       "      <th>New York</th>\n",
       "      <td>19651127</td>\n",
       "      <td>141297</td>\n",
       "      <td>139.076746</td>\n",
       "    </tr>\n",
       "    <tr>\n",
       "      <th>Florida</th>\n",
       "      <td>19552860</td>\n",
       "      <td>170312</td>\n",
       "      <td>114.806121</td>\n",
       "    </tr>\n",
       "    <tr>\n",
       "      <th>Illinois</th>\n",
       "      <td>12882135</td>\n",
       "      <td>149995</td>\n",
       "      <td>85.883763</td>\n",
       "    </tr>\n",
       "  </tbody>\n",
       "</table>\n",
       "</div>"
      ]
     },
     "execution_count": 68,
     "metadata": {},
     "output_type": "execute_result"
    }
   ],
   "execution_count": 68
  },
  {
   "cell_type": "markdown",
   "metadata": {
    "id": "5VN84uToWBEJ"
   },
   "source": [
    "### Observação:\n",
    "Como DataFrames podem ser conciderados como uma especetipo de arrays bidimensionais, então podemos utilizar operações similares de arrays bidimencionais a eles."
   ]
  },
  {
   "cell_type": "code",
   "metadata": {
    "id": "m9sPYXhvWBEP",
    "ExecuteTime": {
     "end_time": "2025-04-09T20:46:36.499563Z",
     "start_time": "2025-04-09T20:46:36.490275Z"
    }
   },
   "source": [
    "# Exemplo - Como inverter a representação do DataFrame Pandas - Similar a uma matriz transposta\n",
    "estados.T"
   ],
   "outputs": [
    {
     "data": {
      "text/plain": [
       "             California         Texas      New York       Florida  \\\n",
       "população  3.833252e+07  2.644819e+07  1.965113e+07  1.955286e+07   \n",
       "área       4.239670e+05  6.956620e+05  1.412970e+05  1.703120e+05   \n",
       "densidade  9.041393e+01  3.801874e+01  1.390767e+02  1.148061e+02   \n",
       "\n",
       "               Illinois  \n",
       "população  1.288214e+07  \n",
       "área       1.499950e+05  \n",
       "densidade  8.588376e+01  "
      ],
      "text/html": [
       "<div>\n",
       "<style scoped>\n",
       "    .dataframe tbody tr th:only-of-type {\n",
       "        vertical-align: middle;\n",
       "    }\n",
       "\n",
       "    .dataframe tbody tr th {\n",
       "        vertical-align: top;\n",
       "    }\n",
       "\n",
       "    .dataframe thead th {\n",
       "        text-align: right;\n",
       "    }\n",
       "</style>\n",
       "<table border=\"1\" class=\"dataframe\">\n",
       "  <thead>\n",
       "    <tr style=\"text-align: right;\">\n",
       "      <th></th>\n",
       "      <th>California</th>\n",
       "      <th>Texas</th>\n",
       "      <th>New York</th>\n",
       "      <th>Florida</th>\n",
       "      <th>Illinois</th>\n",
       "    </tr>\n",
       "  </thead>\n",
       "  <tbody>\n",
       "    <tr>\n",
       "      <th>população</th>\n",
       "      <td>3.833252e+07</td>\n",
       "      <td>2.644819e+07</td>\n",
       "      <td>1.965113e+07</td>\n",
       "      <td>1.955286e+07</td>\n",
       "      <td>1.288214e+07</td>\n",
       "    </tr>\n",
       "    <tr>\n",
       "      <th>área</th>\n",
       "      <td>4.239670e+05</td>\n",
       "      <td>6.956620e+05</td>\n",
       "      <td>1.412970e+05</td>\n",
       "      <td>1.703120e+05</td>\n",
       "      <td>1.499950e+05</td>\n",
       "    </tr>\n",
       "    <tr>\n",
       "      <th>densidade</th>\n",
       "      <td>9.041393e+01</td>\n",
       "      <td>3.801874e+01</td>\n",
       "      <td>1.390767e+02</td>\n",
       "      <td>1.148061e+02</td>\n",
       "      <td>8.588376e+01</td>\n",
       "    </tr>\n",
       "  </tbody>\n",
       "</table>\n",
       "</div>"
      ]
     },
     "execution_count": 69,
     "metadata": {},
     "output_type": "execute_result"
    }
   ],
   "execution_count": 69
  },
  {
   "cell_type": "code",
   "metadata": {
    "id": "-9ypObs3WBEU",
    "ExecuteTime": {
     "end_time": "2025-04-09T20:46:38.334034Z",
     "start_time": "2025-04-09T20:46:38.328038Z"
    }
   },
   "source": [
    "# Exemplo - Obtendo índicers de DataFrames Pandas\n",
    "estados.values"
   ],
   "outputs": [
    {
     "data": {
      "text/plain": [
       "array([[3.83325210e+07, 4.23967000e+05, 9.04139261e+01],\n",
       "       [2.64481930e+07, 6.95662000e+05, 3.80187404e+01],\n",
       "       [1.96511270e+07, 1.41297000e+05, 1.39076746e+02],\n",
       "       [1.95528600e+07, 1.70312000e+05, 1.14806121e+02],\n",
       "       [1.28821350e+07, 1.49995000e+05, 8.58837628e+01]])"
      ]
     },
     "execution_count": 70,
     "metadata": {},
     "output_type": "execute_result"
    }
   ],
   "execution_count": 70
  },
  {
   "cell_type": "code",
   "metadata": {
    "id": "PddhZE1dWBEX",
    "ExecuteTime": {
     "end_time": "2025-04-09T20:46:40.498185Z",
     "start_time": "2025-04-09T20:46:40.492803Z"
    }
   },
   "source": [
    "# Exemplo - Obtendo índices de DataFrames Pandas\n",
    "estados.values[0]"
   ],
   "outputs": [
    {
     "data": {
      "text/plain": [
       "array([3.83325210e+07, 4.23967000e+05, 9.04139261e+01])"
      ]
     },
     "execution_count": 71,
     "metadata": {},
     "output_type": "execute_result"
    }
   ],
   "execution_count": 71
  },
  {
   "cell_type": "code",
   "metadata": {
    "id": "X8qov6NOWBEa",
    "ExecuteTime": {
     "end_time": "2025-04-09T20:46:41.966192Z",
     "start_time": "2025-04-09T20:46:41.960242Z"
    }
   },
   "source": [
    "# Exemplo - Obtendo índices de DataFrames Pandas\n",
    "estados.values[0][:]"
   ],
   "outputs": [
    {
     "data": {
      "text/plain": [
       "array([3.83325210e+07, 4.23967000e+05, 9.04139261e+01])"
      ]
     },
     "execution_count": 72,
     "metadata": {},
     "output_type": "execute_result"
    }
   ],
   "execution_count": 72
  },
  {
   "cell_type": "code",
   "metadata": {
    "id": "O9FznBERWBEd",
    "ExecuteTime": {
     "end_time": "2025-04-09T20:46:45.034314Z",
     "start_time": "2025-04-09T20:46:45.024832Z"
    }
   },
   "source": [
    "print(\"Explique o funcionamento desse comando. \\\\n\\n\")\n",
    "estados[estados.densidade > 100]"
   ],
   "outputs": [
    {
     "name": "stdout",
     "output_type": "stream",
     "text": [
      "Explique o funcionamento desse comando. \\n\n",
      "\n"
     ]
    },
    {
     "data": {
      "text/plain": [
       "          população    área   densidade\n",
       "New York   19651127  141297  139.076746\n",
       "Florida    19552860  170312  114.806121"
      ],
      "text/html": [
       "<div>\n",
       "<style scoped>\n",
       "    .dataframe tbody tr th:only-of-type {\n",
       "        vertical-align: middle;\n",
       "    }\n",
       "\n",
       "    .dataframe tbody tr th {\n",
       "        vertical-align: top;\n",
       "    }\n",
       "\n",
       "    .dataframe thead th {\n",
       "        text-align: right;\n",
       "    }\n",
       "</style>\n",
       "<table border=\"1\" class=\"dataframe\">\n",
       "  <thead>\n",
       "    <tr style=\"text-align: right;\">\n",
       "      <th></th>\n",
       "      <th>população</th>\n",
       "      <th>área</th>\n",
       "      <th>densidade</th>\n",
       "    </tr>\n",
       "  </thead>\n",
       "  <tbody>\n",
       "    <tr>\n",
       "      <th>New York</th>\n",
       "      <td>19651127</td>\n",
       "      <td>141297</td>\n",
       "      <td>139.076746</td>\n",
       "    </tr>\n",
       "    <tr>\n",
       "      <th>Florida</th>\n",
       "      <td>19552860</td>\n",
       "      <td>170312</td>\n",
       "      <td>114.806121</td>\n",
       "    </tr>\n",
       "  </tbody>\n",
       "</table>\n",
       "</div>"
      ]
     },
     "execution_count": 73,
     "metadata": {},
     "output_type": "execute_result"
    }
   ],
   "execution_count": 73
  },
  {
   "cell_type": "code",
   "metadata": {
    "id": "znbKz7FkWBEg",
    "ExecuteTime": {
     "end_time": "2025-04-09T20:46:58.845Z",
     "start_time": "2025-04-09T20:46:58.838635Z"
    }
   },
   "source": [
    "print(\"Explique o funcionamento desse comando. \\\\n\\n\")\n",
    "estados.densidade > 100"
   ],
   "outputs": [
    {
     "name": "stdout",
     "output_type": "stream",
     "text": [
      "Explique o funcionamento desse comando. \\n\n",
      "\n"
     ]
    },
    {
     "data": {
      "text/plain": [
       "California    False\n",
       "Texas         False\n",
       "New York       True\n",
       "Florida        True\n",
       "Illinois      False\n",
       "Name: densidade, dtype: bool"
      ]
     },
     "execution_count": 74,
     "metadata": {},
     "output_type": "execute_result"
    }
   ],
   "execution_count": 74
  },
  {
   "cell_type": "code",
   "metadata": {
    "id": "hKAQfIi2WBEo",
    "ExecuteTime": {
     "end_time": "2025-04-09T20:47:05.257234Z",
     "start_time": "2025-04-09T20:47:05.250142Z"
    }
   },
   "source": [
    "print(\"Explique o funcionamento desse comando. \\\\n\\n\")\n",
    "estados[estados.densidade > 100].densidade"
   ],
   "outputs": [
    {
     "name": "stdout",
     "output_type": "stream",
     "text": [
      "Explique o funcionamento desse comando. \\n\n",
      "\n"
     ]
    },
    {
     "data": {
      "text/plain": [
       "New York    139.076746\n",
       "Florida     114.806121\n",
       "Name: densidade, dtype: float64"
      ]
     },
     "execution_count": 75,
     "metadata": {},
     "output_type": "execute_result"
    }
   ],
   "execution_count": 75
  },
  {
   "cell_type": "code",
   "metadata": {
    "id": "i4ypMrpiWBEw",
    "ExecuteTime": {
     "end_time": "2025-04-09T20:47:17.467512Z",
     "start_time": "2025-04-09T20:47:17.458310Z"
    }
   },
   "source": [
    "print(\"Lista das populações e densidades das Cidades com densidade maior de 100. \\\\n\\n\")\n",
    "estados[estados.densidade > 100][['população', 'densidade']]"
   ],
   "outputs": [
    {
     "name": "stdout",
     "output_type": "stream",
     "text": [
      "Lista das populações e densidades das Cidades com densidade maior de 100. \\n\n",
      "\n"
     ]
    },
    {
     "data": {
      "text/plain": [
       "          população   densidade\n",
       "New York   19651127  139.076746\n",
       "Florida    19552860  114.806121"
      ],
      "text/html": [
       "<div>\n",
       "<style scoped>\n",
       "    .dataframe tbody tr th:only-of-type {\n",
       "        vertical-align: middle;\n",
       "    }\n",
       "\n",
       "    .dataframe tbody tr th {\n",
       "        vertical-align: top;\n",
       "    }\n",
       "\n",
       "    .dataframe thead th {\n",
       "        text-align: right;\n",
       "    }\n",
       "</style>\n",
       "<table border=\"1\" class=\"dataframe\">\n",
       "  <thead>\n",
       "    <tr style=\"text-align: right;\">\n",
       "      <th></th>\n",
       "      <th>população</th>\n",
       "      <th>densidade</th>\n",
       "    </tr>\n",
       "  </thead>\n",
       "  <tbody>\n",
       "    <tr>\n",
       "      <th>New York</th>\n",
       "      <td>19651127</td>\n",
       "      <td>139.076746</td>\n",
       "    </tr>\n",
       "    <tr>\n",
       "      <th>Florida</th>\n",
       "      <td>19552860</td>\n",
       "      <td>114.806121</td>\n",
       "    </tr>\n",
       "  </tbody>\n",
       "</table>\n",
       "</div>"
      ]
     },
     "execution_count": 76,
     "metadata": {},
     "output_type": "execute_result"
    }
   ],
   "execution_count": 76
  },
  {
   "cell_type": "code",
   "metadata": {
    "id": "0vdoBXLCWBEz",
    "collapsed": true,
    "ExecuteTime": {
     "end_time": "2025-04-09T20:48:29.897162Z",
     "start_time": "2025-04-09T20:48:29.890356Z"
    }
   },
   "source": [
    "# Exercício: Liste o atributo 'densidade'\n",
    "#           dos estados da Florida e Illinois\n",
    "estados.loc[['Florida', 'Illinois']].densidade"
   ],
   "outputs": [
    {
     "data": {
      "text/plain": [
       "Florida     114.806121\n",
       "Illinois     85.883763\n",
       "Name: densidade, dtype: float64"
      ]
     },
     "execution_count": 79,
     "metadata": {},
     "output_type": "execute_result"
    }
   ],
   "execution_count": 79
  },
  {
   "cell_type": "code",
   "metadata": {
    "id": "Qg7glfSpWBE2",
    "ExecuteTime": {
     "end_time": "2025-04-09T20:48:47.049998Z",
     "start_time": "2025-04-09T20:48:47.042036Z"
    }
   },
   "source": [
    "# Exemplo de listagem de sub-DataFrame em Pandas\n",
    "# O método .iloc() pemite acesso por numeração - localicação\n",
    "\n",
    "estados.iloc[:3, :2]\n",
    "\n",
    "#estados[:3,:2]"
   ],
   "outputs": [
    {
     "data": {
      "text/plain": [
       "            população    área\n",
       "California   38332521  423967\n",
       "Texas        26448193  695662\n",
       "New York     19651127  141297"
      ],
      "text/html": [
       "<div>\n",
       "<style scoped>\n",
       "    .dataframe tbody tr th:only-of-type {\n",
       "        vertical-align: middle;\n",
       "    }\n",
       "\n",
       "    .dataframe tbody tr th {\n",
       "        vertical-align: top;\n",
       "    }\n",
       "\n",
       "    .dataframe thead th {\n",
       "        text-align: right;\n",
       "    }\n",
       "</style>\n",
       "<table border=\"1\" class=\"dataframe\">\n",
       "  <thead>\n",
       "    <tr style=\"text-align: right;\">\n",
       "      <th></th>\n",
       "      <th>população</th>\n",
       "      <th>área</th>\n",
       "    </tr>\n",
       "  </thead>\n",
       "  <tbody>\n",
       "    <tr>\n",
       "      <th>California</th>\n",
       "      <td>38332521</td>\n",
       "      <td>423967</td>\n",
       "    </tr>\n",
       "    <tr>\n",
       "      <th>Texas</th>\n",
       "      <td>26448193</td>\n",
       "      <td>695662</td>\n",
       "    </tr>\n",
       "    <tr>\n",
       "      <th>New York</th>\n",
       "      <td>19651127</td>\n",
       "      <td>141297</td>\n",
       "    </tr>\n",
       "  </tbody>\n",
       "</table>\n",
       "</div>"
      ]
     },
     "execution_count": 80,
     "metadata": {},
     "output_type": "execute_result"
    }
   ],
   "execution_count": 80
  },
  {
   "cell_type": "code",
   "metadata": {
    "id": "cHrx9hHJWBE4",
    "ExecuteTime": {
     "end_time": "2025-04-09T20:48:53.676945Z",
     "start_time": "2025-04-09T20:48:53.670130Z"
    }
   },
   "source": [
    "# Exemplo de listagem de sub-DataFrame em Pandas\n",
    "# O método .loc() permite acesso por labels\n",
    "\n",
    "estados.loc[:'Illinois', :'população']"
   ],
   "outputs": [
    {
     "data": {
      "text/plain": [
       "            população\n",
       "California   38332521\n",
       "Texas        26448193\n",
       "New York     19651127\n",
       "Florida      19552860\n",
       "Illinois     12882135"
      ],
      "text/html": [
       "<div>\n",
       "<style scoped>\n",
       "    .dataframe tbody tr th:only-of-type {\n",
       "        vertical-align: middle;\n",
       "    }\n",
       "\n",
       "    .dataframe tbody tr th {\n",
       "        vertical-align: top;\n",
       "    }\n",
       "\n",
       "    .dataframe thead th {\n",
       "        text-align: right;\n",
       "    }\n",
       "</style>\n",
       "<table border=\"1\" class=\"dataframe\">\n",
       "  <thead>\n",
       "    <tr style=\"text-align: right;\">\n",
       "      <th></th>\n",
       "      <th>população</th>\n",
       "    </tr>\n",
       "  </thead>\n",
       "  <tbody>\n",
       "    <tr>\n",
       "      <th>California</th>\n",
       "      <td>38332521</td>\n",
       "    </tr>\n",
       "    <tr>\n",
       "      <th>Texas</th>\n",
       "      <td>26448193</td>\n",
       "    </tr>\n",
       "    <tr>\n",
       "      <th>New York</th>\n",
       "      <td>19651127</td>\n",
       "    </tr>\n",
       "    <tr>\n",
       "      <th>Florida</th>\n",
       "      <td>19552860</td>\n",
       "    </tr>\n",
       "    <tr>\n",
       "      <th>Illinois</th>\n",
       "      <td>12882135</td>\n",
       "    </tr>\n",
       "  </tbody>\n",
       "</table>\n",
       "</div>"
      ]
     },
     "execution_count": 81,
     "metadata": {},
     "output_type": "execute_result"
    }
   ],
   "execution_count": 81
  },
  {
   "cell_type": "code",
   "metadata": {
    "id": "WBeL_sbOWBFP",
    "ExecuteTime": {
     "end_time": "2025-04-09T20:49:06.702211Z",
     "start_time": "2025-04-09T20:49:06.694125Z"
    }
   },
   "source": [
    "# Exemplo de listagem de sub-DataFrame em Pandas\n",
    "# Uso do estilo NumPy para acessar sub Arrays\n",
    "# Formato:\n",
    "# dataFrame.loc[LINHAS, COLUNAS]\n",
    "\n",
    "estados.loc[estados.densidade > 100, ['população', 'densidade']]"
   ],
   "outputs": [
    {
     "data": {
      "text/plain": [
       "          população   densidade\n",
       "New York   19651127  139.076746\n",
       "Florida    19552860  114.806121"
      ],
      "text/html": [
       "<div>\n",
       "<style scoped>\n",
       "    .dataframe tbody tr th:only-of-type {\n",
       "        vertical-align: middle;\n",
       "    }\n",
       "\n",
       "    .dataframe tbody tr th {\n",
       "        vertical-align: top;\n",
       "    }\n",
       "\n",
       "    .dataframe thead th {\n",
       "        text-align: right;\n",
       "    }\n",
       "</style>\n",
       "<table border=\"1\" class=\"dataframe\">\n",
       "  <thead>\n",
       "    <tr style=\"text-align: right;\">\n",
       "      <th></th>\n",
       "      <th>população</th>\n",
       "      <th>densidade</th>\n",
       "    </tr>\n",
       "  </thead>\n",
       "  <tbody>\n",
       "    <tr>\n",
       "      <th>New York</th>\n",
       "      <td>19651127</td>\n",
       "      <td>139.076746</td>\n",
       "    </tr>\n",
       "    <tr>\n",
       "      <th>Florida</th>\n",
       "      <td>19552860</td>\n",
       "      <td>114.806121</td>\n",
       "    </tr>\n",
       "  </tbody>\n",
       "</table>\n",
       "</div>"
      ]
     },
     "execution_count": 82,
     "metadata": {},
     "output_type": "execute_result"
    }
   ],
   "execution_count": 82
  },
  {
   "cell_type": "code",
   "metadata": {
    "id": "V8e4fis1WBFa",
    "collapsed": true,
    "ExecuteTime": {
     "end_time": "2025-04-09T20:50:20.556912Z",
     "start_time": "2025-04-09T20:50:20.548377Z"
    }
   },
   "source": [
    "# Exercício:\n",
    "# Obenha apenas os Estados com população acima de 20 milhões.\n",
    "# Exiba as colunas 'população'e 'densidade'\n",
    "\n",
    "estados.loc[estados['população'] > 20000000, ['população', 'densidade']]\n"
   ],
   "outputs": [
    {
     "data": {
      "text/plain": [
       "            população  densidade\n",
       "California   38332521  90.413926\n",
       "Texas        26448193  38.018740"
      ],
      "text/html": [
       "<div>\n",
       "<style scoped>\n",
       "    .dataframe tbody tr th:only-of-type {\n",
       "        vertical-align: middle;\n",
       "    }\n",
       "\n",
       "    .dataframe tbody tr th {\n",
       "        vertical-align: top;\n",
       "    }\n",
       "\n",
       "    .dataframe thead th {\n",
       "        text-align: right;\n",
       "    }\n",
       "</style>\n",
       "<table border=\"1\" class=\"dataframe\">\n",
       "  <thead>\n",
       "    <tr style=\"text-align: right;\">\n",
       "      <th></th>\n",
       "      <th>população</th>\n",
       "      <th>densidade</th>\n",
       "    </tr>\n",
       "  </thead>\n",
       "  <tbody>\n",
       "    <tr>\n",
       "      <th>California</th>\n",
       "      <td>38332521</td>\n",
       "      <td>90.413926</td>\n",
       "    </tr>\n",
       "    <tr>\n",
       "      <th>Texas</th>\n",
       "      <td>26448193</td>\n",
       "      <td>38.018740</td>\n",
       "    </tr>\n",
       "  </tbody>\n",
       "</table>\n",
       "</div>"
      ]
     },
     "execution_count": 89,
     "metadata": {},
     "output_type": "execute_result"
    }
   ],
   "execution_count": 89
  },
  {
   "cell_type": "markdown",
   "metadata": {
    "id": "flMyRrnGWBFh"
   },
   "source": [
    "### Alguns Métodos Úteis:\n",
    "    - pd.head(x)  --> lista as x primeiras linhas do DataFrame\n",
    "    - pd.tail(x)  --> lista as x últimas linhas do DataFrame\n",
    "    - pd.info()   --> resume o conteúdo do DataFrame"
   ]
  },
  {
   "cell_type": "code",
   "metadata": {
    "id": "T-TwRNHpWBFk",
    "ExecuteTime": {
     "end_time": "2025-04-09T20:50:32.598970Z",
     "start_time": "2025-04-09T20:50:32.591962Z"
    }
   },
   "source": [
    "# Exemplo de uso do método pd.head()\n",
    "estados.head(2)\n",
    "#estados.head()"
   ],
   "outputs": [
    {
     "data": {
      "text/plain": [
       "            população    área  densidade\n",
       "California   38332521  423967  90.413926\n",
       "Texas        26448193  695662  38.018740"
      ],
      "text/html": [
       "<div>\n",
       "<style scoped>\n",
       "    .dataframe tbody tr th:only-of-type {\n",
       "        vertical-align: middle;\n",
       "    }\n",
       "\n",
       "    .dataframe tbody tr th {\n",
       "        vertical-align: top;\n",
       "    }\n",
       "\n",
       "    .dataframe thead th {\n",
       "        text-align: right;\n",
       "    }\n",
       "</style>\n",
       "<table border=\"1\" class=\"dataframe\">\n",
       "  <thead>\n",
       "    <tr style=\"text-align: right;\">\n",
       "      <th></th>\n",
       "      <th>população</th>\n",
       "      <th>área</th>\n",
       "      <th>densidade</th>\n",
       "    </tr>\n",
       "  </thead>\n",
       "  <tbody>\n",
       "    <tr>\n",
       "      <th>California</th>\n",
       "      <td>38332521</td>\n",
       "      <td>423967</td>\n",
       "      <td>90.413926</td>\n",
       "    </tr>\n",
       "    <tr>\n",
       "      <th>Texas</th>\n",
       "      <td>26448193</td>\n",
       "      <td>695662</td>\n",
       "      <td>38.018740</td>\n",
       "    </tr>\n",
       "  </tbody>\n",
       "</table>\n",
       "</div>"
      ]
     },
     "execution_count": 90,
     "metadata": {},
     "output_type": "execute_result"
    }
   ],
   "execution_count": 90
  },
  {
   "cell_type": "code",
   "metadata": {
    "id": "sUQ5UJjqWBFo",
    "ExecuteTime": {
     "end_time": "2025-04-09T20:50:34.896579Z",
     "start_time": "2025-04-09T20:50:34.889916Z"
    }
   },
   "source": [
    "# Exemplo de uso do método pd.tail()\n",
    "estados.tail(2)\n",
    "#estados.tail()"
   ],
   "outputs": [
    {
     "data": {
      "text/plain": [
       "          população    área   densidade\n",
       "Florida    19552860  170312  114.806121\n",
       "Illinois   12882135  149995   85.883763"
      ],
      "text/html": [
       "<div>\n",
       "<style scoped>\n",
       "    .dataframe tbody tr th:only-of-type {\n",
       "        vertical-align: middle;\n",
       "    }\n",
       "\n",
       "    .dataframe tbody tr th {\n",
       "        vertical-align: top;\n",
       "    }\n",
       "\n",
       "    .dataframe thead th {\n",
       "        text-align: right;\n",
       "    }\n",
       "</style>\n",
       "<table border=\"1\" class=\"dataframe\">\n",
       "  <thead>\n",
       "    <tr style=\"text-align: right;\">\n",
       "      <th></th>\n",
       "      <th>população</th>\n",
       "      <th>área</th>\n",
       "      <th>densidade</th>\n",
       "    </tr>\n",
       "  </thead>\n",
       "  <tbody>\n",
       "    <tr>\n",
       "      <th>Florida</th>\n",
       "      <td>19552860</td>\n",
       "      <td>170312</td>\n",
       "      <td>114.806121</td>\n",
       "    </tr>\n",
       "    <tr>\n",
       "      <th>Illinois</th>\n",
       "      <td>12882135</td>\n",
       "      <td>149995</td>\n",
       "      <td>85.883763</td>\n",
       "    </tr>\n",
       "  </tbody>\n",
       "</table>\n",
       "</div>"
      ]
     },
     "execution_count": 91,
     "metadata": {},
     "output_type": "execute_result"
    }
   ],
   "execution_count": 91
  },
  {
   "cell_type": "code",
   "metadata": {
    "id": "6muotZjTWBFv",
    "ExecuteTime": {
     "end_time": "2025-04-09T20:50:37.148253Z",
     "start_time": "2025-04-09T20:50:37.127630Z"
    }
   },
   "source": [
    "# Exemplo de uso do método pd.info()\n",
    "estados.info()"
   ],
   "outputs": [
    {
     "name": "stdout",
     "output_type": "stream",
     "text": [
      "<class 'pandas.core.frame.DataFrame'>\n",
      "Index: 5 entries, California to Illinois\n",
      "Data columns (total 3 columns):\n",
      " #   Column     Non-Null Count  Dtype  \n",
      "---  ------     --------------  -----  \n",
      " 0   população  5 non-null      int64  \n",
      " 1   área       5 non-null      int64  \n",
      " 2   densidade  5 non-null      float64\n",
      "dtypes: float64(1), int64(2)\n",
      "memory usage: 332.0+ bytes\n"
     ]
    }
   ],
   "execution_count": 92
  },
  {
   "cell_type": "markdown",
   "metadata": {
    "id": "K3-FoLvlWBF3"
   },
   "source": [
    "### Pergunta:\n",
    "Como se pode alterar os valores de elementos de DataFrames?\n"
   ]
  },
  {
   "cell_type": "code",
   "metadata": {
    "id": "xH6uhHkNWBF3",
    "collapsed": true,
    "ExecuteTime": {
     "end_time": "2025-04-09T20:50:39.736546Z",
     "start_time": "2025-04-09T20:50:39.727950Z"
    }
   },
   "source": [
    "# Verifique uma forma de alterar valores de elementos do DataFrame estados\n",
    "estados.loc['Texas', 'população'] = 40000000\n",
    "estados"
   ],
   "outputs": [
    {
     "data": {
      "text/plain": [
       "            população    área   densidade\n",
       "California   38332521  423967   90.413926\n",
       "Texas        40000000  695662   38.018740\n",
       "New York     19651127  141297  139.076746\n",
       "Florida      19552860  170312  114.806121\n",
       "Illinois     12882135  149995   85.883763"
      ],
      "text/html": [
       "<div>\n",
       "<style scoped>\n",
       "    .dataframe tbody tr th:only-of-type {\n",
       "        vertical-align: middle;\n",
       "    }\n",
       "\n",
       "    .dataframe tbody tr th {\n",
       "        vertical-align: top;\n",
       "    }\n",
       "\n",
       "    .dataframe thead th {\n",
       "        text-align: right;\n",
       "    }\n",
       "</style>\n",
       "<table border=\"1\" class=\"dataframe\">\n",
       "  <thead>\n",
       "    <tr style=\"text-align: right;\">\n",
       "      <th></th>\n",
       "      <th>população</th>\n",
       "      <th>área</th>\n",
       "      <th>densidade</th>\n",
       "    </tr>\n",
       "  </thead>\n",
       "  <tbody>\n",
       "    <tr>\n",
       "      <th>California</th>\n",
       "      <td>38332521</td>\n",
       "      <td>423967</td>\n",
       "      <td>90.413926</td>\n",
       "    </tr>\n",
       "    <tr>\n",
       "      <th>Texas</th>\n",
       "      <td>40000000</td>\n",
       "      <td>695662</td>\n",
       "      <td>38.018740</td>\n",
       "    </tr>\n",
       "    <tr>\n",
       "      <th>New York</th>\n",
       "      <td>19651127</td>\n",
       "      <td>141297</td>\n",
       "      <td>139.076746</td>\n",
       "    </tr>\n",
       "    <tr>\n",
       "      <th>Florida</th>\n",
       "      <td>19552860</td>\n",
       "      <td>170312</td>\n",
       "      <td>114.806121</td>\n",
       "    </tr>\n",
       "    <tr>\n",
       "      <th>Illinois</th>\n",
       "      <td>12882135</td>\n",
       "      <td>149995</td>\n",
       "      <td>85.883763</td>\n",
       "    </tr>\n",
       "  </tbody>\n",
       "</table>\n",
       "</div>"
      ]
     },
     "execution_count": 93,
     "metadata": {},
     "output_type": "execute_result"
    }
   ],
   "execution_count": 93
  },
  {
   "cell_type": "markdown",
   "metadata": {
    "id": "hxkNV9r9WBF7"
   },
   "source": [
    "### Observação:\n",
    "Pandas foi desenvolvido sobre o NumPy e manteve a compatibilidade das operações NumPy.\n",
    "- dados Pandas (Series, DataFrame) aceitam as operações NumPy"
   ]
  },
  {
   "cell_type": "code",
   "metadata": {
    "id": "m-vU-T8DWBF7",
    "ExecuteTime": {
     "end_time": "2025-04-09T20:50:52.576521Z",
     "start_time": "2025-04-09T20:50:52.569300Z"
    }
   },
   "source": [
    "# Exemplo de operação NumPy sobre dados Pandas\n",
    "# Definindo o objeto ser - Tipo Series Pandas\n",
    "import pandas as pd\n",
    "import numpy as np\n",
    "\n",
    "rng = np.random.RandomState(42)\n",
    "ser = pd.Series(rng.randint(0, 10, 4))\n",
    "ser"
   ],
   "outputs": [
    {
     "data": {
      "text/plain": [
       "0    6\n",
       "1    3\n",
       "2    7\n",
       "3    4\n",
       "dtype: int64"
      ]
     },
     "execution_count": 94,
     "metadata": {},
     "output_type": "execute_result"
    }
   ],
   "execution_count": 94
  },
  {
   "cell_type": "code",
   "metadata": {
    "id": "WmXnyU7yWBF-",
    "ExecuteTime": {
     "end_time": "2025-04-09T20:51:00.202126Z",
     "start_time": "2025-04-09T20:51:00.194809Z"
    }
   },
   "source": [
    "# Exemplo de operação NumPy sobre dados Pandas\n",
    "# Operação exponencial sobre um objeto Series Pandas\n",
    "\n",
    "np.exp(ser)"
   ],
   "outputs": [
    {
     "data": {
      "text/plain": [
       "0     403.428793\n",
       "1      20.085537\n",
       "2    1096.633158\n",
       "3      54.598150\n",
       "dtype: float64"
      ]
     },
     "execution_count": 95,
     "metadata": {},
     "output_type": "execute_result"
    }
   ],
   "execution_count": 95
  },
  {
   "cell_type": "code",
   "metadata": {
    "id": "x9VHgubKWBF_",
    "ExecuteTime": {
     "end_time": "2025-04-09T20:51:01.742991Z",
     "start_time": "2025-04-09T20:51:01.735226Z"
    }
   },
   "source": [
    "# Exemplo de operação NumPy sobre dados Pandas\n",
    "# Definindo o objeto df - Tipo DataFrame Pandas\n",
    "\n",
    "df = pd.DataFrame(rng.randint(0, 10, (3, 4)),\n",
    "columns=['A', 'B', 'C', 'D'])\n",
    "df"
   ],
   "outputs": [
    {
     "data": {
      "text/plain": [
       "   A  B  C  D\n",
       "0  6  9  2  6\n",
       "1  7  4  3  7\n",
       "2  7  2  5  4"
      ],
      "text/html": [
       "<div>\n",
       "<style scoped>\n",
       "    .dataframe tbody tr th:only-of-type {\n",
       "        vertical-align: middle;\n",
       "    }\n",
       "\n",
       "    .dataframe tbody tr th {\n",
       "        vertical-align: top;\n",
       "    }\n",
       "\n",
       "    .dataframe thead th {\n",
       "        text-align: right;\n",
       "    }\n",
       "</style>\n",
       "<table border=\"1\" class=\"dataframe\">\n",
       "  <thead>\n",
       "    <tr style=\"text-align: right;\">\n",
       "      <th></th>\n",
       "      <th>A</th>\n",
       "      <th>B</th>\n",
       "      <th>C</th>\n",
       "      <th>D</th>\n",
       "    </tr>\n",
       "  </thead>\n",
       "  <tbody>\n",
       "    <tr>\n",
       "      <th>0</th>\n",
       "      <td>6</td>\n",
       "      <td>9</td>\n",
       "      <td>2</td>\n",
       "      <td>6</td>\n",
       "    </tr>\n",
       "    <tr>\n",
       "      <th>1</th>\n",
       "      <td>7</td>\n",
       "      <td>4</td>\n",
       "      <td>3</td>\n",
       "      <td>7</td>\n",
       "    </tr>\n",
       "    <tr>\n",
       "      <th>2</th>\n",
       "      <td>7</td>\n",
       "      <td>2</td>\n",
       "      <td>5</td>\n",
       "      <td>4</td>\n",
       "    </tr>\n",
       "  </tbody>\n",
       "</table>\n",
       "</div>"
      ]
     },
     "execution_count": 96,
     "metadata": {},
     "output_type": "execute_result"
    }
   ],
   "execution_count": 96
  },
  {
   "cell_type": "code",
   "metadata": {
    "id": "w98tZ5-qWBGC",
    "ExecuteTime": {
     "end_time": "2025-04-09T20:51:03.604126Z",
     "start_time": "2025-04-09T20:51:03.592341Z"
    }
   },
   "source": [
    "# Exemplo de operação NumPy sobre dados Pandas\n",
    "# Operação seno sobre um objeto DataFrame Pandas\n",
    "\n",
    "np.sin(df * np.pi / 4)"
   ],
   "outputs": [
    {
     "data": {
      "text/plain": [
       "          A             B         C             D\n",
       "0 -1.000000  7.071068e-01  1.000000 -1.000000e+00\n",
       "1 -0.707107  1.224647e-16  0.707107 -7.071068e-01\n",
       "2 -0.707107  1.000000e+00 -0.707107  1.224647e-16"
      ],
      "text/html": [
       "<div>\n",
       "<style scoped>\n",
       "    .dataframe tbody tr th:only-of-type {\n",
       "        vertical-align: middle;\n",
       "    }\n",
       "\n",
       "    .dataframe tbody tr th {\n",
       "        vertical-align: top;\n",
       "    }\n",
       "\n",
       "    .dataframe thead th {\n",
       "        text-align: right;\n",
       "    }\n",
       "</style>\n",
       "<table border=\"1\" class=\"dataframe\">\n",
       "  <thead>\n",
       "    <tr style=\"text-align: right;\">\n",
       "      <th></th>\n",
       "      <th>A</th>\n",
       "      <th>B</th>\n",
       "      <th>C</th>\n",
       "      <th>D</th>\n",
       "    </tr>\n",
       "  </thead>\n",
       "  <tbody>\n",
       "    <tr>\n",
       "      <th>0</th>\n",
       "      <td>-1.000000</td>\n",
       "      <td>7.071068e-01</td>\n",
       "      <td>1.000000</td>\n",
       "      <td>-1.000000e+00</td>\n",
       "    </tr>\n",
       "    <tr>\n",
       "      <th>1</th>\n",
       "      <td>-0.707107</td>\n",
       "      <td>1.224647e-16</td>\n",
       "      <td>0.707107</td>\n",
       "      <td>-7.071068e-01</td>\n",
       "    </tr>\n",
       "    <tr>\n",
       "      <th>2</th>\n",
       "      <td>-0.707107</td>\n",
       "      <td>1.000000e+00</td>\n",
       "      <td>-0.707107</td>\n",
       "      <td>1.224647e-16</td>\n",
       "    </tr>\n",
       "  </tbody>\n",
       "</table>\n",
       "</div>"
      ]
     },
     "execution_count": 97,
     "metadata": {},
     "output_type": "execute_result"
    }
   ],
   "execution_count": 97
  },
  {
   "cell_type": "markdown",
   "metadata": {
    "id": "7g84IcYzWBGE"
   },
   "source": [
    "### 2.4 - Alinhamento de índices em Pandas:\n",
    "\n",
    "Para operações binárias em dois objetos Series ou DataFrame, Pandas alinhará índices no processo de execução da operação. Isso é muito conveniente quando você está trabalhando com dados incompletos, como veremos em alguns dos exemplos que se seguem."
   ]
  },
  {
   "cell_type": "code",
   "metadata": {
    "id": "PCTZtVRGWBGF",
    "ExecuteTime": {
     "end_time": "2025-04-09T21:04:19.496398Z",
     "start_time": "2025-04-09T21:04:19.474482Z"
    }
   },
   "source": [
    "# Exemplo: Alinhamento automático de índices em Pandas\n",
    "# Criação das Series Pandas - area e population\n",
    "\n",
    "area = pd.Series({'Alaska': 1723337, 'Texas': 695662,\n",
    "'California': 423967}, name='área')\n",
    "\n",
    "population = pd.Series({'California': 38332521, 'Texas': 26448193,\n",
    "'New York': 19651127}, name='população')\n",
    "\n",
    "\n",
    "# Pandas irá completar com NaN os dados incompletos (data missing)\n",
    "population / area"
   ],
   "outputs": [
    {
     "data": {
      "text/plain": [
       "Alaska              NaN\n",
       "California    90.413926\n",
       "New York            NaN\n",
       "Texas         38.018740\n",
       "dtype: float64"
      ]
     },
     "execution_count": 98,
     "metadata": {},
     "output_type": "execute_result"
    }
   ],
   "execution_count": 98
  },
  {
   "cell_type": "markdown",
   "metadata": {
    "id": "M4H-mgcOWBGI"
   },
   "source": [
    "### Observação:\n",
    "O Array resultante é a união união de índices dos dois arrays de entrada.\n",
    "- Equivale a fazer a união explícita no padrão Python:\n",
    "    - area.index | population.index\n",
    "- Os índices resultantes da união que não tiverem entradas são marcados com NaN (data missing)."
   ]
  },
  {
   "cell_type": "code",
   "metadata": {
    "id": "xaKbNSv-WBGU",
    "ExecuteTime": {
     "end_time": "2025-04-09T21:04:22.594154Z",
     "start_time": "2025-04-09T21:04:22.455986Z"
    }
   },
   "source": [
    "area.index | population.index"
   ],
   "outputs": [
    {
     "ename": "TypeError",
     "evalue": "unsupported operand type(s) for |: 'str' and 'str'",
     "output_type": "error",
     "traceback": [
      "\u001B[31m---------------------------------------------------------------------------\u001B[39m",
      "\u001B[31mTypeError\u001B[39m                                 Traceback (most recent call last)",
      "\u001B[36mFile \u001B[39m\u001B[32m~/.virtualenvs/dc/lib/python3.12/site-packages/pandas/core/ops/array_ops.py:362\u001B[39m, in \u001B[36mna_logical_op\u001B[39m\u001B[34m(x, y, op)\u001B[39m\n\u001B[32m    353\u001B[39m \u001B[38;5;28;01mtry\u001B[39;00m:\n\u001B[32m    354\u001B[39m     \u001B[38;5;66;03m# For exposition, write:\u001B[39;00m\n\u001B[32m    355\u001B[39m     \u001B[38;5;66;03m#  yarr = isinstance(y, np.ndarray)\u001B[39;00m\n\u001B[32m   (...)\u001B[39m\u001B[32m    360\u001B[39m     \u001B[38;5;66;03m# Then Cases where this goes through without raising include:\u001B[39;00m\n\u001B[32m    361\u001B[39m     \u001B[38;5;66;03m#  (xint or xbool) and (yint or bool)\u001B[39;00m\n\u001B[32m--> \u001B[39m\u001B[32m362\u001B[39m     result = \u001B[43mop\u001B[49m\u001B[43m(\u001B[49m\u001B[43mx\u001B[49m\u001B[43m,\u001B[49m\u001B[43m \u001B[49m\u001B[43my\u001B[49m\u001B[43m)\u001B[49m\n\u001B[32m    363\u001B[39m \u001B[38;5;28;01mexcept\u001B[39;00m \u001B[38;5;167;01mTypeError\u001B[39;00m:\n",
      "\u001B[31mTypeError\u001B[39m: unsupported operand type(s) for |: 'str' and 'str'",
      "\nDuring handling of the above exception, another exception occurred:\n",
      "\u001B[31mTypeError\u001B[39m                                 Traceback (most recent call last)",
      "\u001B[36mCell\u001B[39m\u001B[36m \u001B[39m\u001B[32mIn[99]\u001B[39m\u001B[32m, line 1\u001B[39m\n\u001B[32m----> \u001B[39m\u001B[32m1\u001B[39m \u001B[43marea\u001B[49m\u001B[43m.\u001B[49m\u001B[43mindex\u001B[49m\u001B[43m \u001B[49m\u001B[43m|\u001B[49m\u001B[43m \u001B[49m\u001B[43mpopulation\u001B[49m\u001B[43m.\u001B[49m\u001B[43mindex\u001B[49m\n",
      "\u001B[36mFile \u001B[39m\u001B[32m~/.virtualenvs/dc/lib/python3.12/site-packages/pandas/core/ops/common.py:76\u001B[39m, in \u001B[36m_unpack_zerodim_and_defer.<locals>.new_method\u001B[39m\u001B[34m(self, other)\u001B[39m\n\u001B[32m     72\u001B[39m             \u001B[38;5;28;01mreturn\u001B[39;00m \u001B[38;5;28mNotImplemented\u001B[39m\n\u001B[32m     74\u001B[39m other = item_from_zerodim(other)\n\u001B[32m---> \u001B[39m\u001B[32m76\u001B[39m \u001B[38;5;28;01mreturn\u001B[39;00m \u001B[43mmethod\u001B[49m\u001B[43m(\u001B[49m\u001B[38;5;28;43mself\u001B[39;49m\u001B[43m,\u001B[49m\u001B[43m \u001B[49m\u001B[43mother\u001B[49m\u001B[43m)\u001B[49m\n",
      "\u001B[36mFile \u001B[39m\u001B[32m~/.virtualenvs/dc/lib/python3.12/site-packages/pandas/core/arraylike.py:78\u001B[39m, in \u001B[36mOpsMixin.__or__\u001B[39m\u001B[34m(self, other)\u001B[39m\n\u001B[32m     76\u001B[39m \u001B[38;5;129m@unpack_zerodim_and_defer\u001B[39m(\u001B[33m\"\u001B[39m\u001B[33m__or__\u001B[39m\u001B[33m\"\u001B[39m)\n\u001B[32m     77\u001B[39m \u001B[38;5;28;01mdef\u001B[39;00m\u001B[38;5;250m \u001B[39m\u001B[34m__or__\u001B[39m(\u001B[38;5;28mself\u001B[39m, other):\n\u001B[32m---> \u001B[39m\u001B[32m78\u001B[39m     \u001B[38;5;28;01mreturn\u001B[39;00m \u001B[38;5;28;43mself\u001B[39;49m\u001B[43m.\u001B[49m\u001B[43m_logical_method\u001B[49m\u001B[43m(\u001B[49m\u001B[43mother\u001B[49m\u001B[43m,\u001B[49m\u001B[43m \u001B[49m\u001B[43moperator\u001B[49m\u001B[43m.\u001B[49m\u001B[43mor_\u001B[49m\u001B[43m)\u001B[49m\n",
      "\u001B[36mFile \u001B[39m\u001B[32m~/.virtualenvs/dc/lib/python3.12/site-packages/pandas/core/indexes/base.py:7215\u001B[39m, in \u001B[36mIndex._logical_method\u001B[39m\u001B[34m(self, other, op)\u001B[39m\n\u001B[32m   7212\u001B[39m lvalues = \u001B[38;5;28mself\u001B[39m._values\n\u001B[32m   7213\u001B[39m rvalues = extract_array(other, extract_numpy=\u001B[38;5;28;01mTrue\u001B[39;00m, extract_range=\u001B[38;5;28;01mTrue\u001B[39;00m)\n\u001B[32m-> \u001B[39m\u001B[32m7215\u001B[39m res_values = \u001B[43mops\u001B[49m\u001B[43m.\u001B[49m\u001B[43mlogical_op\u001B[49m\u001B[43m(\u001B[49m\u001B[43mlvalues\u001B[49m\u001B[43m,\u001B[49m\u001B[43m \u001B[49m\u001B[43mrvalues\u001B[49m\u001B[43m,\u001B[49m\u001B[43m \u001B[49m\u001B[43mop\u001B[49m\u001B[43m)\u001B[49m\n\u001B[32m   7216\u001B[39m \u001B[38;5;28;01mreturn\u001B[39;00m \u001B[38;5;28mself\u001B[39m._construct_result(res_values, name=res_name)\n",
      "\u001B[36mFile \u001B[39m\u001B[32m~/.virtualenvs/dc/lib/python3.12/site-packages/pandas/core/ops/array_ops.py:454\u001B[39m, in \u001B[36mlogical_op\u001B[39m\u001B[34m(left, right, op)\u001B[39m\n\u001B[32m    450\u001B[39m \u001B[38;5;28;01melse\u001B[39;00m:\n\u001B[32m    451\u001B[39m     \u001B[38;5;66;03m# i.e. scalar\u001B[39;00m\n\u001B[32m    452\u001B[39m     is_other_int_dtype = lib.is_integer(rvalues)\n\u001B[32m--> \u001B[39m\u001B[32m454\u001B[39m res_values = \u001B[43mna_logical_op\u001B[49m\u001B[43m(\u001B[49m\u001B[43mlvalues\u001B[49m\u001B[43m,\u001B[49m\u001B[43m \u001B[49m\u001B[43mrvalues\u001B[49m\u001B[43m,\u001B[49m\u001B[43m \u001B[49m\u001B[43mop\u001B[49m\u001B[43m)\u001B[49m\n\u001B[32m    456\u001B[39m \u001B[38;5;66;03m# For int vs int `^`, `|`, `&` are bitwise operators and return\u001B[39;00m\n\u001B[32m    457\u001B[39m \u001B[38;5;66;03m#   integer dtypes.  Otherwise these are boolean ops\u001B[39;00m\n\u001B[32m    458\u001B[39m \u001B[38;5;28;01mif\u001B[39;00m \u001B[38;5;129;01mnot\u001B[39;00m (left.dtype.kind \u001B[38;5;129;01min\u001B[39;00m \u001B[33m\"\u001B[39m\u001B[33miu\u001B[39m\u001B[33m\"\u001B[39m \u001B[38;5;129;01mand\u001B[39;00m is_other_int_dtype):\n",
      "\u001B[36mFile \u001B[39m\u001B[32m~/.virtualenvs/dc/lib/python3.12/site-packages/pandas/core/ops/array_ops.py:369\u001B[39m, in \u001B[36mna_logical_op\u001B[39m\u001B[34m(x, y, op)\u001B[39m\n\u001B[32m    367\u001B[39m     x = ensure_object(x)\n\u001B[32m    368\u001B[39m     y = ensure_object(y)\n\u001B[32m--> \u001B[39m\u001B[32m369\u001B[39m     result = \u001B[43mlibops\u001B[49m\u001B[43m.\u001B[49m\u001B[43mvec_binop\u001B[49m\u001B[43m(\u001B[49m\u001B[43mx\u001B[49m\u001B[43m.\u001B[49m\u001B[43mravel\u001B[49m\u001B[43m(\u001B[49m\u001B[43m)\u001B[49m\u001B[43m,\u001B[49m\u001B[43m \u001B[49m\u001B[43my\u001B[49m\u001B[43m.\u001B[49m\u001B[43mravel\u001B[49m\u001B[43m(\u001B[49m\u001B[43m)\u001B[49m\u001B[43m,\u001B[49m\u001B[43m \u001B[49m\u001B[43mop\u001B[49m\u001B[43m)\u001B[49m\n\u001B[32m    370\u001B[39m \u001B[38;5;28;01melse\u001B[39;00m:\n\u001B[32m    371\u001B[39m     \u001B[38;5;66;03m# let null fall thru\u001B[39;00m\n\u001B[32m    372\u001B[39m     \u001B[38;5;28;01massert\u001B[39;00m lib.is_scalar(y)\n",
      "\u001B[36mFile \u001B[39m\u001B[32mops.pyx:252\u001B[39m, in \u001B[36mpandas._libs.ops.vec_binop\u001B[39m\u001B[34m()\u001B[39m\n",
      "\u001B[36mFile \u001B[39m\u001B[32mops.pyx:245\u001B[39m, in \u001B[36mpandas._libs.ops.vec_binop\u001B[39m\u001B[34m()\u001B[39m\n",
      "\u001B[31mTypeError\u001B[39m: unsupported operand type(s) for |: 'str' and 'str'"
     ]
    }
   ],
   "execution_count": 99
  },
  {
   "cell_type": "code",
   "metadata": {
    "id": "r2DL0fCxWBGX",
    "ExecuteTime": {
     "end_time": "2025-04-09T21:04:29.608526Z",
     "start_time": "2025-04-09T21:04:29.595133Z"
    }
   },
   "source": [
    "# Exemplo de alinhamento automático em Pandas\n",
    "\n",
    "A = pd.Series([2, 4, 6], index=[0, 1, 2])\n",
    "B = pd.Series([1, 3, 5], index=[1, 2, 3])\n",
    "A + B"
   ],
   "outputs": [
    {
     "data": {
      "text/plain": [
       "0    NaN\n",
       "1    5.0\n",
       "2    9.0\n",
       "3    NaN\n",
       "dtype: float64"
      ]
     },
     "execution_count": 100,
     "metadata": {},
     "output_type": "execute_result"
    }
   ],
   "execution_count": 100
  },
  {
   "cell_type": "code",
   "metadata": {
    "id": "4Q3ps2igWBGa",
    "ExecuteTime": {
     "end_time": "2025-04-09T21:04:33.165895Z",
     "start_time": "2025-04-09T21:04:33.159394Z"
    }
   },
   "source": [
    "# Exemplo: Similar ao exemplo anterior,\n",
    "#          mas preenchendo os data missing com valor ZERO\n",
    "# Uso do estilo de operadores-métodos no NumPY\n",
    "\n",
    "A.add(B, fill_value=0)\n"
   ],
   "outputs": [
    {
     "data": {
      "text/plain": [
       "0    2.0\n",
       "1    5.0\n",
       "2    9.0\n",
       "3    5.0\n",
       "dtype: float64"
      ]
     },
     "execution_count": 101,
     "metadata": {},
     "output_type": "execute_result"
    }
   ],
   "execution_count": 101
  },
  {
   "cell_type": "markdown",
   "metadata": {
    "id": "EEdTCp74JYcC"
   },
   "source": [
    "### 2.5. Gráficos com Pandas\n",
    "Como Pandas foi construído sobre o MatPlotLib, podemo sutilizar os métodos desse pacote sobre os tipos Serie e Dataframe.\n",
    "\n"
   ]
  },
  {
   "cell_type": "code",
   "metadata": {
    "id": "U_6LomCdJVnQ",
    "ExecuteTime": {
     "end_time": "2025-04-09T21:04:34.989803Z",
     "start_time": "2025-04-09T21:04:34.982974Z"
    }
   },
   "source": [
    "# Exemplo de uso de métodos de traçado de gráficos em Pandas\n",
    "print(\"Impressão do DataFrame estados\\n\\n\")\n",
    "estados"
   ],
   "outputs": [
    {
     "name": "stdout",
     "output_type": "stream",
     "text": [
      "Impressão do DataFrame estados\n",
      "\n",
      "\n"
     ]
    },
    {
     "data": {
      "text/plain": [
       "            população    área   densidade\n",
       "California   38332521  423967   90.413926\n",
       "Texas        40000000  695662   38.018740\n",
       "New York     19651127  141297  139.076746\n",
       "Florida      19552860  170312  114.806121\n",
       "Illinois     12882135  149995   85.883763"
      ],
      "text/html": [
       "<div>\n",
       "<style scoped>\n",
       "    .dataframe tbody tr th:only-of-type {\n",
       "        vertical-align: middle;\n",
       "    }\n",
       "\n",
       "    .dataframe tbody tr th {\n",
       "        vertical-align: top;\n",
       "    }\n",
       "\n",
       "    .dataframe thead th {\n",
       "        text-align: right;\n",
       "    }\n",
       "</style>\n",
       "<table border=\"1\" class=\"dataframe\">\n",
       "  <thead>\n",
       "    <tr style=\"text-align: right;\">\n",
       "      <th></th>\n",
       "      <th>população</th>\n",
       "      <th>área</th>\n",
       "      <th>densidade</th>\n",
       "    </tr>\n",
       "  </thead>\n",
       "  <tbody>\n",
       "    <tr>\n",
       "      <th>California</th>\n",
       "      <td>38332521</td>\n",
       "      <td>423967</td>\n",
       "      <td>90.413926</td>\n",
       "    </tr>\n",
       "    <tr>\n",
       "      <th>Texas</th>\n",
       "      <td>40000000</td>\n",
       "      <td>695662</td>\n",
       "      <td>38.018740</td>\n",
       "    </tr>\n",
       "    <tr>\n",
       "      <th>New York</th>\n",
       "      <td>19651127</td>\n",
       "      <td>141297</td>\n",
       "      <td>139.076746</td>\n",
       "    </tr>\n",
       "    <tr>\n",
       "      <th>Florida</th>\n",
       "      <td>19552860</td>\n",
       "      <td>170312</td>\n",
       "      <td>114.806121</td>\n",
       "    </tr>\n",
       "    <tr>\n",
       "      <th>Illinois</th>\n",
       "      <td>12882135</td>\n",
       "      <td>149995</td>\n",
       "      <td>85.883763</td>\n",
       "    </tr>\n",
       "  </tbody>\n",
       "</table>\n",
       "</div>"
      ]
     },
     "execution_count": 102,
     "metadata": {},
     "output_type": "execute_result"
    }
   ],
   "execution_count": 102
  },
  {
   "cell_type": "code",
   "metadata": {
    "id": "hRym_FAKKDoH",
    "ExecuteTime": {
     "end_time": "2025-04-09T21:04:37.909663Z",
     "start_time": "2025-04-09T21:04:36.823442Z"
    }
   },
   "source": [
    "print(\"Traçado dos gráficos das variáveis, Series, do DataFrame estados\\n\\n\")\n",
    "estados.plot()"
   ],
   "outputs": [
    {
     "name": "stdout",
     "output_type": "stream",
     "text": [
      "Traçado dos gráficos das variáveis, Series, do DataFrame estados\n",
      "\n",
      "\n"
     ]
    },
    {
     "data": {
      "text/plain": [
       "<Axes: >"
      ]
     },
     "execution_count": 103,
     "metadata": {},
     "output_type": "execute_result"
    },
    {
     "data": {
      "text/plain": [
       "<Figure size 640x480 with 1 Axes>"
      ],
      "image/png": "[encoded data removed]"
     },
     "metadata": {},
     "output_type": "display_data"
    }
   ],
   "execution_count": 103
  },
  {
   "cell_type": "markdown",
   "metadata": {
    "id": "bDrSHHVuWBGd"
   },
   "source": [
    "### 2.6 - Métodos de operadores binários em Pandas:\n",
    "- add() --> Adição\n",
    "- sub(), subtract() --> Subtração\n",
    "- mul(), multiply() --> Multiplicação\n",
    "- truediv(), div(), divide() --> Divição\n",
    "- floordiv()  --> (parte inteira da divisão)\n",
    "- mod()     ---> (resto da divisão)\n",
    "- pow()   --> potência"
   ]
  },
  {
   "cell_type": "markdown",
   "metadata": {
    "id": "TgnyF6RgWBGd"
   },
   "source": [
    "### Exercício: Escreva o seguinte programa\n",
    "    - df1 - Dataframe com 3 linhas e 2 colunas (col1, col2). Inicie o DataFrame de forma ra\n",
    "    - df2 - Dataframe com 2 linhas e 3 colunas (col1, col2, col3)\n",
    "    - df3 = df1 + df2\n",
    "    - df4 = df1 / df2\n",
    "    - o quadrado de df1\n",
    "    - Inicie os DataFrames df1 e df2 de forma randômica."
   ]
  },
  {
   "cell_type": "code",
   "metadata": {
    "id": "8jxCdt0QWBGe",
    "collapsed": true
   },
   "source": [
    "# Exercício:\n",
    ""
   ],
   "execution_count": null,
   "outputs": []
  },
  {
   "cell_type": "markdown",
   "metadata": {
    "id": "LcEmRHL3WBGj"
   },
   "source": [
    "### Observação:\n",
    "Não podemos esquecer que operações sobre Series e DataFrames Pandas opera por linhas, como nos arrays NumPy."
   ]
  },
  {
   "cell_type": "code",
   "metadata": {
    "id": "XyWVTXpkWBGk",
    "ExecuteTime": {
     "end_time": "2025-04-09T21:10:06.102283Z",
     "start_time": "2025-04-09T21:10:06.095034Z"
    }
   },
   "source": [
    "# Criação de um Array NumPy\n",
    "\n",
    "A = rng.randint(10, size=(3, 4))\n",
    "A"
   ],
   "outputs": [
    {
     "data": {
      "text/plain": [
       "array([[6, 3, 8, 2],\n",
       "       [4, 2, 6, 4],\n",
       "       [8, 6, 1, 3]])"
      ]
     },
     "execution_count": 113,
     "metadata": {},
     "output_type": "execute_result"
    }
   ],
   "execution_count": 113
  },
  {
   "cell_type": "code",
   "metadata": {
    "id": "vj_FFhLcWBGn",
    "ExecuteTime": {
     "end_time": "2025-04-09T21:10:08.391562Z",
     "start_time": "2025-04-09T21:10:08.386563Z"
    }
   },
   "source": [
    "# Operação por linha entre arrays NumPy\n",
    "A - A[0]"
   ],
   "outputs": [
    {
     "data": {
      "text/plain": [
       "array([[ 0,  0,  0,  0],\n",
       "       [-2, -1, -2,  2],\n",
       "       [ 2,  3, -7,  1]])"
      ]
     },
     "execution_count": 114,
     "metadata": {},
     "output_type": "execute_result"
    }
   ],
   "execution_count": 114
  },
  {
   "cell_type": "code",
   "metadata": {
    "id": "0KSA44fjWBGp",
    "ExecuteTime": {
     "end_time": "2025-04-09T21:10:09.836997Z",
     "start_time": "2025-04-09T21:10:09.829609Z"
    }
   },
   "source": [
    "# Criação de uma DataFrame Pandas\n",
    "\n",
    "df = pd.DataFrame(A, columns=list('QRST'))\n",
    "df"
   ],
   "outputs": [
    {
     "data": {
      "text/plain": [
       "   Q  R  S  T\n",
       "0  6  3  8  2\n",
       "1  4  2  6  4\n",
       "2  8  6  1  3"
      ],
      "text/html": [
       "<div>\n",
       "<style scoped>\n",
       "    .dataframe tbody tr th:only-of-type {\n",
       "        vertical-align: middle;\n",
       "    }\n",
       "\n",
       "    .dataframe tbody tr th {\n",
       "        vertical-align: top;\n",
       "    }\n",
       "\n",
       "    .dataframe thead th {\n",
       "        text-align: right;\n",
       "    }\n",
       "</style>\n",
       "<table border=\"1\" class=\"dataframe\">\n",
       "  <thead>\n",
       "    <tr style=\"text-align: right;\">\n",
       "      <th></th>\n",
       "      <th>Q</th>\n",
       "      <th>R</th>\n",
       "      <th>S</th>\n",
       "      <th>T</th>\n",
       "    </tr>\n",
       "  </thead>\n",
       "  <tbody>\n",
       "    <tr>\n",
       "      <th>0</th>\n",
       "      <td>6</td>\n",
       "      <td>3</td>\n",
       "      <td>8</td>\n",
       "      <td>2</td>\n",
       "    </tr>\n",
       "    <tr>\n",
       "      <th>1</th>\n",
       "      <td>4</td>\n",
       "      <td>2</td>\n",
       "      <td>6</td>\n",
       "      <td>4</td>\n",
       "    </tr>\n",
       "    <tr>\n",
       "      <th>2</th>\n",
       "      <td>8</td>\n",
       "      <td>6</td>\n",
       "      <td>1</td>\n",
       "      <td>3</td>\n",
       "    </tr>\n",
       "  </tbody>\n",
       "</table>\n",
       "</div>"
      ]
     },
     "execution_count": 115,
     "metadata": {},
     "output_type": "execute_result"
    }
   ],
   "execution_count": 115
  },
  {
   "cell_type": "code",
   "metadata": {
    "id": "G_hnkF6nWBGr",
    "ExecuteTime": {
     "end_time": "2025-04-09T21:10:12.048936Z",
     "start_time": "2025-04-09T21:10:12.042397Z"
    }
   },
   "source": [
    "# Operação por linha com DataFrame Pandas\n",
    "\n",
    "df - df.iloc[0]"
   ],
   "outputs": [
    {
     "data": {
      "text/plain": [
       "   Q  R  S  T\n",
       "0  0  0  0  0\n",
       "1 -2 -1 -2  2\n",
       "2  2  3 -7  1"
      ],
      "text/html": [
       "<div>\n",
       "<style scoped>\n",
       "    .dataframe tbody tr th:only-of-type {\n",
       "        vertical-align: middle;\n",
       "    }\n",
       "\n",
       "    .dataframe tbody tr th {\n",
       "        vertical-align: top;\n",
       "    }\n",
       "\n",
       "    .dataframe thead th {\n",
       "        text-align: right;\n",
       "    }\n",
       "</style>\n",
       "<table border=\"1\" class=\"dataframe\">\n",
       "  <thead>\n",
       "    <tr style=\"text-align: right;\">\n",
       "      <th></th>\n",
       "      <th>Q</th>\n",
       "      <th>R</th>\n",
       "      <th>S</th>\n",
       "      <th>T</th>\n",
       "    </tr>\n",
       "  </thead>\n",
       "  <tbody>\n",
       "    <tr>\n",
       "      <th>0</th>\n",
       "      <td>0</td>\n",
       "      <td>0</td>\n",
       "      <td>0</td>\n",
       "      <td>0</td>\n",
       "    </tr>\n",
       "    <tr>\n",
       "      <th>1</th>\n",
       "      <td>-2</td>\n",
       "      <td>-1</td>\n",
       "      <td>-2</td>\n",
       "      <td>2</td>\n",
       "    </tr>\n",
       "    <tr>\n",
       "      <th>2</th>\n",
       "      <td>2</td>\n",
       "      <td>3</td>\n",
       "      <td>-7</td>\n",
       "      <td>1</td>\n",
       "    </tr>\n",
       "  </tbody>\n",
       "</table>\n",
       "</div>"
      ]
     },
     "execution_count": 116,
     "metadata": {},
     "output_type": "execute_result"
    }
   ],
   "execution_count": 116
  },
  {
   "cell_type": "code",
   "metadata": {
    "id": "OjCvjMNNWBGv",
    "ExecuteTime": {
     "end_time": "2025-04-09T21:14:56.792613Z",
     "start_time": "2025-04-09T21:14:56.783509Z"
    }
   },
   "source": [
    "# Operação de subtração por coluna sobre DataFrame Pandas\n",
    "\n",
    "print(df)\n",
    "df.subtract(df['R'], axis=0)"
   ],
   "outputs": [
    {
     "name": "stdout",
     "output_type": "stream",
     "text": [
      "   Q  R  S  T\n",
      "0  6  3  8  2\n",
      "1  4  2  6  4\n",
      "2  8  6  1  3\n"
     ]
    },
    {
     "data": {
      "text/plain": [
       "   Q  R  S  T\n",
       "0  3  0  5 -1\n",
       "1  2  0  4  2\n",
       "2  2  0 -5 -3"
      ],
      "text/html": [
       "<div>\n",
       "<style scoped>\n",
       "    .dataframe tbody tr th:only-of-type {\n",
       "        vertical-align: middle;\n",
       "    }\n",
       "\n",
       "    .dataframe tbody tr th {\n",
       "        vertical-align: top;\n",
       "    }\n",
       "\n",
       "    .dataframe thead th {\n",
       "        text-align: right;\n",
       "    }\n",
       "</style>\n",
       "<table border=\"1\" class=\"dataframe\">\n",
       "  <thead>\n",
       "    <tr style=\"text-align: right;\">\n",
       "      <th></th>\n",
       "      <th>Q</th>\n",
       "      <th>R</th>\n",
       "      <th>S</th>\n",
       "      <th>T</th>\n",
       "    </tr>\n",
       "  </thead>\n",
       "  <tbody>\n",
       "    <tr>\n",
       "      <th>0</th>\n",
       "      <td>3</td>\n",
       "      <td>0</td>\n",
       "      <td>5</td>\n",
       "      <td>-1</td>\n",
       "    </tr>\n",
       "    <tr>\n",
       "      <th>1</th>\n",
       "      <td>2</td>\n",
       "      <td>0</td>\n",
       "      <td>4</td>\n",
       "      <td>2</td>\n",
       "    </tr>\n",
       "    <tr>\n",
       "      <th>2</th>\n",
       "      <td>2</td>\n",
       "      <td>0</td>\n",
       "      <td>-5</td>\n",
       "      <td>-3</td>\n",
       "    </tr>\n",
       "  </tbody>\n",
       "</table>\n",
       "</div>"
      ]
     },
     "execution_count": 134,
     "metadata": {},
     "output_type": "execute_result"
    }
   ],
   "execution_count": 134
  },
  {
   "metadata": {
    "id": "TdNQsQtBWBG1",
    "ExecuteTime": {
     "end_time": "2025-04-09T21:15:00.280041Z",
     "start_time": "2025-04-09T21:15:00.273816Z"
    }
   },
   "cell_type": "code",
   "source": [
    "# Exercício\n",
    "# Explique o que a linha de código abaixo executa.\n",
    "# R: Acessa as colunas com passo 2 da primeira linha do DataFrame, e retorna uma Serie em que as colunas se tornam os índices\n",
    "\n",
    "halfrow = df.iloc[0, ::2]\n",
    "\n",
    "# Caso queira que o retorno seja um DataFrame\n",
    "# halfrow = df.iloc[[0], ::2]\n",
    "\n",
    "halfrow\n",
    "# df - halfrow"
   ],
   "outputs": [
    {
     "data": {
      "text/plain": [
       "Q    6\n",
       "S    8\n",
       "Name: 0, dtype: int64"
      ]
     },
     "execution_count": 135,
     "metadata": {},
     "output_type": "execute_result"
    }
   ],
   "execution_count": 135
  },
  {
   "metadata": {
    "id": "iRAE8iGZWBG7"
   },
   "cell_type": "markdown",
   "source": "### 2.7 - Concatenação de Series e DataFrames Pandas"
  },
  {
   "cell_type": "code",
   "metadata": {
    "id": "pDrQwYtAWBG9",
    "ExecuteTime": {
     "end_time": "2025-04-09T21:15:03.055644Z",
     "start_time": "2025-04-09T21:15:03.048642Z"
    }
   },
   "source": [
    "# Concatenação de Series Pandas\n",
    "\n",
    "ser1 = pd.Series(['A', 'B', 'C'], index=[1, 2, 3])\n",
    "ser2 = pd.Series(['D', 'E', 'F'], index=[4, 5, 6])\n",
    "pd.concat([ser1, ser2])"
   ],
   "outputs": [
    {
     "data": {
      "text/plain": [
       "1    A\n",
       "2    B\n",
       "3    C\n",
       "4    D\n",
       "5    E\n",
       "6    F\n",
       "dtype: object"
      ]
     },
     "execution_count": 136,
     "metadata": {},
     "output_type": "execute_result"
    }
   ],
   "execution_count": 136
  },
  {
   "cell_type": "code",
   "metadata": {
    "id": "OyhkT4_2WBHC",
    "ExecuteTime": {
     "end_time": "2025-04-09T21:15:05.044580Z",
     "start_time": "2025-04-09T21:15:05.034751Z"
    }
   },
   "source": [
    "# Função para preencher um DataFrame Pandas\n",
    "\n",
    "def make_df(cols, ind):\n",
    "  data = {c: [str(c) + str(i) for i in ind]\n",
    "  for c in cols}\n",
    "  return pd.DataFrame(data, ind)\n",
    "\n",
    "# exemplo de uso da função DataFrame\n",
    "make_df('ABC', range(3))"
   ],
   "outputs": [
    {
     "data": {
      "text/plain": [
       "    A   B   C\n",
       "0  A0  B0  C0\n",
       "1  A1  B1  C1\n",
       "2  A2  B2  C2"
      ],
      "text/html": [
       "<div>\n",
       "<style scoped>\n",
       "    .dataframe tbody tr th:only-of-type {\n",
       "        vertical-align: middle;\n",
       "    }\n",
       "\n",
       "    .dataframe tbody tr th {\n",
       "        vertical-align: top;\n",
       "    }\n",
       "\n",
       "    .dataframe thead th {\n",
       "        text-align: right;\n",
       "    }\n",
       "</style>\n",
       "<table border=\"1\" class=\"dataframe\">\n",
       "  <thead>\n",
       "    <tr style=\"text-align: right;\">\n",
       "      <th></th>\n",
       "      <th>A</th>\n",
       "      <th>B</th>\n",
       "      <th>C</th>\n",
       "    </tr>\n",
       "  </thead>\n",
       "  <tbody>\n",
       "    <tr>\n",
       "      <th>0</th>\n",
       "      <td>A0</td>\n",
       "      <td>B0</td>\n",
       "      <td>C0</td>\n",
       "    </tr>\n",
       "    <tr>\n",
       "      <th>1</th>\n",
       "      <td>A1</td>\n",
       "      <td>B1</td>\n",
       "      <td>C1</td>\n",
       "    </tr>\n",
       "    <tr>\n",
       "      <th>2</th>\n",
       "      <td>A2</td>\n",
       "      <td>B2</td>\n",
       "      <td>C2</td>\n",
       "    </tr>\n",
       "  </tbody>\n",
       "</table>\n",
       "</div>"
      ]
     },
     "execution_count": 137,
     "metadata": {},
     "output_type": "execute_result"
    }
   ],
   "execution_count": 137
  },
  {
   "cell_type": "code",
   "metadata": {
    "id": "b6TYtFB-WBHH",
    "ExecuteTime": {
     "end_time": "2025-04-09T21:15:13.845630Z",
     "start_time": "2025-04-09T21:15:13.838951Z"
    }
   },
   "source": [
    "# Concatenação de DataFrames Pandas\n",
    "\n",
    "df1 = make_df('AB', [1, 2])\n",
    "df2 = make_df('AB', [3, 4])\n",
    "print(df1);\n",
    "print()\n",
    "print(df2)\n",
    "print()\n",
    "print(pd.concat([df1, df2]))"
   ],
   "outputs": [
    {
     "name": "stdout",
     "output_type": "stream",
     "text": [
      "    A   B\n",
      "1  A1  B1\n",
      "2  A2  B2\n",
      "\n",
      "    A   B\n",
      "3  A3  B3\n",
      "4  A4  B4\n",
      "\n",
      "    A   B\n",
      "1  A1  B1\n",
      "2  A2  B2\n",
      "3  A3  B3\n",
      "4  A4  B4\n"
     ]
    }
   ],
   "execution_count": 138
  },
  {
   "cell_type": "code",
   "metadata": {
    "id": "9i1cXrYvWBHO",
    "ExecuteTime": {
     "end_time": "2025-04-09T21:15:22.544267Z",
     "start_time": "2025-04-09T21:15:22.459959Z"
    }
   },
   "source": [
    "# Anexação de DataFrame Pandas\n",
    "\n",
    "print(df1.append(df2))"
   ],
   "outputs": [
    {
     "ename": "AttributeError",
     "evalue": "'DataFrame' object has no attribute 'append'",
     "output_type": "error",
     "traceback": [
      "\u001B[31m---------------------------------------------------------------------------\u001B[39m",
      "\u001B[31mAttributeError\u001B[39m                            Traceback (most recent call last)",
      "\u001B[32m/tmp/ipykernel_46745/1677310188.py\u001B[39m in \u001B[36m?\u001B[39m\u001B[34m()\u001B[39m\n\u001B[32m      1\u001B[39m \u001B[38;5;66;03m# Anexação de DataFrame Pandas\u001B[39;00m\n\u001B[32m      2\u001B[39m \n\u001B[32m----> \u001B[39m\u001B[32m3\u001B[39m print(df1.append(df2))\n",
      "\u001B[32m~/.virtualenvs/dc/lib/python3.12/site-packages/pandas/core/generic.py\u001B[39m in \u001B[36m?\u001B[39m\u001B[34m(self, name)\u001B[39m\n\u001B[32m   6295\u001B[39m             \u001B[38;5;28;01mand\u001B[39;00m name \u001B[38;5;28;01mnot\u001B[39;00m \u001B[38;5;28;01min\u001B[39;00m self._accessors\n\u001B[32m   6296\u001B[39m             \u001B[38;5;28;01mand\u001B[39;00m self._info_axis._can_hold_identifiers_and_holds_name(name)\n\u001B[32m   6297\u001B[39m         ):\n\u001B[32m   6298\u001B[39m             \u001B[38;5;28;01mreturn\u001B[39;00m self[name]\n\u001B[32m-> \u001B[39m\u001B[32m6299\u001B[39m         \u001B[38;5;28;01mreturn\u001B[39;00m object.__getattribute__(self, name)\n",
      "\u001B[31mAttributeError\u001B[39m: 'DataFrame' object has no attribute 'append'"
     ]
    }
   ],
   "execution_count": 140
  },
  {
   "cell_type": "markdown",
   "metadata": {
    "id": "BTA2T9nEWBHU"
   },
   "source": [
    "### 2.8 - Objeto Index em Pandas\n",
    "\n",
    "> Bloco com recuo\n",
    "\n",
    "\n",
    "É uma classe em Pandas que possui métodos próprios para operar sobre os índices de objetos Pandas, como Series e DataFrames.\n",
    "Index pode ser:\n",
    "- Array imutável\n",
    "- Conjunto ordenado"
   ]
  },
  {
   "cell_type": "code",
   "metadata": {
    "id": "KpR0ENx2WBHV",
    "ExecuteTime": {
     "end_time": "2025-04-09T21:16:02.812847Z",
     "start_time": "2025-04-09T21:16:02.808196Z"
    }
   },
   "source": [
    "# Criação de um objeto Index como Array Imutável\n",
    "# No caso, uma lista de inteiros\n",
    "\n",
    "ind = pd.Index([2, 3, 5, 7, 11])\n",
    "print(ind)\n",
    "print(ind[1])\n",
    "print(ind[::2])\n",
    "print(\"\\nObjeto Index possui métodos similares aos dos arrays NumPy\")\n",
    "print(ind.size, ind.shape, ind.ndim, ind.dtype)"
   ],
   "outputs": [
    {
     "name": "stdout",
     "output_type": "stream",
     "text": [
      "Index([2, 3, 5, 7, 11], dtype='int64')\n",
      "3\n",
      "Index([2, 5, 11], dtype='int64')\n",
      "\n",
      "Objeto Index possui métodos similares aos dos arrays NumPy\n",
      "5 (5,) 1 int64\n"
     ]
    }
   ],
   "execution_count": 143
  },
  {
   "cell_type": "code",
   "metadata": {
    "id": "Hg-KL66BWBHX",
    "ExecuteTime": {
     "end_time": "2025-04-09T21:16:09.850702Z",
     "start_time": "2025-04-09T21:16:09.824102Z"
    }
   },
   "source": [
    "# Index não podem ser modificados - Eles são imutáveis\n",
    "ind[1] = 0"
   ],
   "outputs": [
    {
     "ename": "TypeError",
     "evalue": "Index does not support mutable operations",
     "output_type": "error",
     "traceback": [
      "\u001B[31m---------------------------------------------------------------------------\u001B[39m",
      "\u001B[31mTypeError\u001B[39m                                 Traceback (most recent call last)",
      "\u001B[36mCell\u001B[39m\u001B[36m \u001B[39m\u001B[32mIn[145]\u001B[39m\u001B[32m, line 2\u001B[39m\n\u001B[32m      1\u001B[39m \u001B[38;5;66;03m# Index não podem ser modificados - Eles são imutáveis\u001B[39;00m\n\u001B[32m----> \u001B[39m\u001B[32m2\u001B[39m \u001B[43mind\u001B[49m\u001B[43m[\u001B[49m\u001B[32;43m1\u001B[39;49m\u001B[43m]\u001B[49m = \u001B[32m0\u001B[39m\n",
      "\u001B[36mFile \u001B[39m\u001B[32m~/.virtualenvs/dc/lib/python3.12/site-packages/pandas/core/indexes/base.py:5371\u001B[39m, in \u001B[36mIndex.__setitem__\u001B[39m\u001B[34m(self, key, value)\u001B[39m\n\u001B[32m   5369\u001B[39m \u001B[38;5;129m@final\u001B[39m\n\u001B[32m   5370\u001B[39m \u001B[38;5;28;01mdef\u001B[39;00m\u001B[38;5;250m \u001B[39m\u001B[34m__setitem__\u001B[39m(\u001B[38;5;28mself\u001B[39m, key, value) -> \u001B[38;5;28;01mNone\u001B[39;00m:\n\u001B[32m-> \u001B[39m\u001B[32m5371\u001B[39m     \u001B[38;5;28;01mraise\u001B[39;00m \u001B[38;5;167;01mTypeError\u001B[39;00m(\u001B[33m\"\u001B[39m\u001B[33mIndex does not support mutable operations\u001B[39m\u001B[33m\"\u001B[39m)\n",
      "\u001B[31mTypeError\u001B[39m: Index does not support mutable operations"
     ]
    }
   ],
   "execution_count": 145
  },
  {
   "cell_type": "code",
   "metadata": {
    "id": "JK3FhYfZWBHb",
    "collapsed": true,
    "ExecuteTime": {
     "end_time": "2025-04-09T21:16:16.061935Z",
     "start_time": "2025-04-09T21:16:16.058607Z"
    }
   },
   "source": [
    "# Criação de um objeto Index conjunto ordenado\n"
   ],
   "outputs": [],
   "execution_count": 146
  },
  {
   "cell_type": "code",
   "metadata": {
    "id": "YQWkU9D1WBHe",
    "ExecuteTime": {
     "end_time": "2025-04-09T21:16:18.319547Z",
     "start_time": "2025-04-09T21:16:18.312120Z"
    }
   },
   "source": [
    "indA = pd.Index([1, 3, 5, 7, 9])\n",
    "indB = pd.Index([2, 3, 5, 7, 11])\n",
    "\n",
    "print(\"interseção --> \", indA & indB)\n",
    "\n",
    "print(\"união -->  \", indA | indB)\n",
    "\n",
    "print(\"diferença simétrica --> \",  indA ^ indB)\n"
   ],
   "outputs": [
    {
     "name": "stdout",
     "output_type": "stream",
     "text": [
      "interseção -->  Index([0, 3, 5, 7, 9], dtype='int64')\n",
      "união -->   Index([3, 3, 5, 7, 11], dtype='int64')\n",
      "diferença simétrica -->  Index([3, 0, 0, 0, 2], dtype='int64')\n"
     ]
    }
   ],
   "execution_count": 147
  },
  {
   "cell_type": "markdown",
   "metadata": {
    "id": "lvz_6a2TWBHh"
   },
   "source": [
    "### 3. Carregar, armazenar e formatar DataFrames\n",
    "\n"
   ]
  },
  {
   "cell_type": "markdown",
   "metadata": {
    "id": "bNXEWvrLWBHh"
   },
   "source": [
    "### 3.1. Métodos para carregar/ler/importar dados tipo DataFrame Pandas\n",
    "\n",
    "Pandas possui vários métodos para ler dados tabulados.\n",
    "- pd.read_csv('arquivo.csv', parametros). Carrega dado com formato .csv delimitado a partir de um arquivo, URL ou objeto tipo arquivo. Usa vígula como delimitador padrão.\n",
    "\n",
    "\n",
    "- pd.read_table(árquivo.txt', parametros) -  Carrega dado delimitado a partir de arquivo, URL, ou objeto tipo arquivo. Usa tab ('\\t') como delimitador padrão.\n"
   ]
  },
  {
   "cell_type": "code",
   "metadata": {
    "id": "Uv09oG7rWBHi",
    "ExecuteTime": {
     "end_time": "2025-04-09T21:16:22.556535Z",
     "start_time": "2025-04-09T21:16:22.407747Z"
    }
   },
   "source": [
    "# Precisa fazer o download do arquivo ScoobyDoo.csv para a área do colab antes carregá-lo no ambiente\n",
    "teste1 = pd.read_csv('ScoobyDoo.csv')"
   ],
   "outputs": [
    {
     "ename": "FileNotFoundError",
     "evalue": "[Errno 2] No such file or directory: 'ScoobyDoo.csv'",
     "output_type": "error",
     "traceback": [
      "\u001B[31m---------------------------------------------------------------------------\u001B[39m",
      "\u001B[31mFileNotFoundError\u001B[39m                         Traceback (most recent call last)",
      "\u001B[36mCell\u001B[39m\u001B[36m \u001B[39m\u001B[32mIn[148]\u001B[39m\u001B[32m, line 2\u001B[39m\n\u001B[32m      1\u001B[39m \u001B[38;5;66;03m# Precisa fazer o download do arquivo ScoobyDoo.csv para a área do colab antes carregá-lo no ambiente\u001B[39;00m\n\u001B[32m----> \u001B[39m\u001B[32m2\u001B[39m teste1 = \u001B[43mpd\u001B[49m\u001B[43m.\u001B[49m\u001B[43mread_csv\u001B[49m\u001B[43m(\u001B[49m\u001B[33;43m'\u001B[39;49m\u001B[33;43mScoobyDoo.csv\u001B[39;49m\u001B[33;43m'\u001B[39;49m\u001B[43m)\u001B[49m\n",
      "\u001B[36mFile \u001B[39m\u001B[32m~/.virtualenvs/dc/lib/python3.12/site-packages/pandas/io/parsers/readers.py:1026\u001B[39m, in \u001B[36mread_csv\u001B[39m\u001B[34m(filepath_or_buffer, sep, delimiter, header, names, index_col, usecols, dtype, engine, converters, true_values, false_values, skipinitialspace, skiprows, skipfooter, nrows, na_values, keep_default_na, na_filter, verbose, skip_blank_lines, parse_dates, infer_datetime_format, keep_date_col, date_parser, date_format, dayfirst, cache_dates, iterator, chunksize, compression, thousands, decimal, lineterminator, quotechar, quoting, doublequote, escapechar, comment, encoding, encoding_errors, dialect, on_bad_lines, delim_whitespace, low_memory, memory_map, float_precision, storage_options, dtype_backend)\u001B[39m\n\u001B[32m   1013\u001B[39m kwds_defaults = _refine_defaults_read(\n\u001B[32m   1014\u001B[39m     dialect,\n\u001B[32m   1015\u001B[39m     delimiter,\n\u001B[32m   (...)\u001B[39m\u001B[32m   1022\u001B[39m     dtype_backend=dtype_backend,\n\u001B[32m   1023\u001B[39m )\n\u001B[32m   1024\u001B[39m kwds.update(kwds_defaults)\n\u001B[32m-> \u001B[39m\u001B[32m1026\u001B[39m \u001B[38;5;28;01mreturn\u001B[39;00m \u001B[43m_read\u001B[49m\u001B[43m(\u001B[49m\u001B[43mfilepath_or_buffer\u001B[49m\u001B[43m,\u001B[49m\u001B[43m \u001B[49m\u001B[43mkwds\u001B[49m\u001B[43m)\u001B[49m\n",
      "\u001B[36mFile \u001B[39m\u001B[32m~/.virtualenvs/dc/lib/python3.12/site-packages/pandas/io/parsers/readers.py:620\u001B[39m, in \u001B[36m_read\u001B[39m\u001B[34m(filepath_or_buffer, kwds)\u001B[39m\n\u001B[32m    617\u001B[39m _validate_names(kwds.get(\u001B[33m\"\u001B[39m\u001B[33mnames\u001B[39m\u001B[33m\"\u001B[39m, \u001B[38;5;28;01mNone\u001B[39;00m))\n\u001B[32m    619\u001B[39m \u001B[38;5;66;03m# Create the parser.\u001B[39;00m\n\u001B[32m--> \u001B[39m\u001B[32m620\u001B[39m parser = \u001B[43mTextFileReader\u001B[49m\u001B[43m(\u001B[49m\u001B[43mfilepath_or_buffer\u001B[49m\u001B[43m,\u001B[49m\u001B[43m \u001B[49m\u001B[43m*\u001B[49m\u001B[43m*\u001B[49m\u001B[43mkwds\u001B[49m\u001B[43m)\u001B[49m\n\u001B[32m    622\u001B[39m \u001B[38;5;28;01mif\u001B[39;00m chunksize \u001B[38;5;129;01mor\u001B[39;00m iterator:\n\u001B[32m    623\u001B[39m     \u001B[38;5;28;01mreturn\u001B[39;00m parser\n",
      "\u001B[36mFile \u001B[39m\u001B[32m~/.virtualenvs/dc/lib/python3.12/site-packages/pandas/io/parsers/readers.py:1620\u001B[39m, in \u001B[36mTextFileReader.__init__\u001B[39m\u001B[34m(self, f, engine, **kwds)\u001B[39m\n\u001B[32m   1617\u001B[39m     \u001B[38;5;28mself\u001B[39m.options[\u001B[33m\"\u001B[39m\u001B[33mhas_index_names\u001B[39m\u001B[33m\"\u001B[39m] = kwds[\u001B[33m\"\u001B[39m\u001B[33mhas_index_names\u001B[39m\u001B[33m\"\u001B[39m]\n\u001B[32m   1619\u001B[39m \u001B[38;5;28mself\u001B[39m.handles: IOHandles | \u001B[38;5;28;01mNone\u001B[39;00m = \u001B[38;5;28;01mNone\u001B[39;00m\n\u001B[32m-> \u001B[39m\u001B[32m1620\u001B[39m \u001B[38;5;28mself\u001B[39m._engine = \u001B[38;5;28;43mself\u001B[39;49m\u001B[43m.\u001B[49m\u001B[43m_make_engine\u001B[49m\u001B[43m(\u001B[49m\u001B[43mf\u001B[49m\u001B[43m,\u001B[49m\u001B[43m \u001B[49m\u001B[38;5;28;43mself\u001B[39;49m\u001B[43m.\u001B[49m\u001B[43mengine\u001B[49m\u001B[43m)\u001B[49m\n",
      "\u001B[36mFile \u001B[39m\u001B[32m~/.virtualenvs/dc/lib/python3.12/site-packages/pandas/io/parsers/readers.py:1880\u001B[39m, in \u001B[36mTextFileReader._make_engine\u001B[39m\u001B[34m(self, f, engine)\u001B[39m\n\u001B[32m   1878\u001B[39m     \u001B[38;5;28;01mif\u001B[39;00m \u001B[33m\"\u001B[39m\u001B[33mb\u001B[39m\u001B[33m\"\u001B[39m \u001B[38;5;129;01mnot\u001B[39;00m \u001B[38;5;129;01min\u001B[39;00m mode:\n\u001B[32m   1879\u001B[39m         mode += \u001B[33m\"\u001B[39m\u001B[33mb\u001B[39m\u001B[33m\"\u001B[39m\n\u001B[32m-> \u001B[39m\u001B[32m1880\u001B[39m \u001B[38;5;28mself\u001B[39m.handles = \u001B[43mget_handle\u001B[49m\u001B[43m(\u001B[49m\n\u001B[32m   1881\u001B[39m \u001B[43m    \u001B[49m\u001B[43mf\u001B[49m\u001B[43m,\u001B[49m\n\u001B[32m   1882\u001B[39m \u001B[43m    \u001B[49m\u001B[43mmode\u001B[49m\u001B[43m,\u001B[49m\n\u001B[32m   1883\u001B[39m \u001B[43m    \u001B[49m\u001B[43mencoding\u001B[49m\u001B[43m=\u001B[49m\u001B[38;5;28;43mself\u001B[39;49m\u001B[43m.\u001B[49m\u001B[43moptions\u001B[49m\u001B[43m.\u001B[49m\u001B[43mget\u001B[49m\u001B[43m(\u001B[49m\u001B[33;43m\"\u001B[39;49m\u001B[33;43mencoding\u001B[39;49m\u001B[33;43m\"\u001B[39;49m\u001B[43m,\u001B[49m\u001B[43m \u001B[49m\u001B[38;5;28;43;01mNone\u001B[39;49;00m\u001B[43m)\u001B[49m\u001B[43m,\u001B[49m\n\u001B[32m   1884\u001B[39m \u001B[43m    \u001B[49m\u001B[43mcompression\u001B[49m\u001B[43m=\u001B[49m\u001B[38;5;28;43mself\u001B[39;49m\u001B[43m.\u001B[49m\u001B[43moptions\u001B[49m\u001B[43m.\u001B[49m\u001B[43mget\u001B[49m\u001B[43m(\u001B[49m\u001B[33;43m\"\u001B[39;49m\u001B[33;43mcompression\u001B[39;49m\u001B[33;43m\"\u001B[39;49m\u001B[43m,\u001B[49m\u001B[43m \u001B[49m\u001B[38;5;28;43;01mNone\u001B[39;49;00m\u001B[43m)\u001B[49m\u001B[43m,\u001B[49m\n\u001B[32m   1885\u001B[39m \u001B[43m    \u001B[49m\u001B[43mmemory_map\u001B[49m\u001B[43m=\u001B[49m\u001B[38;5;28;43mself\u001B[39;49m\u001B[43m.\u001B[49m\u001B[43moptions\u001B[49m\u001B[43m.\u001B[49m\u001B[43mget\u001B[49m\u001B[43m(\u001B[49m\u001B[33;43m\"\u001B[39;49m\u001B[33;43mmemory_map\u001B[39;49m\u001B[33;43m\"\u001B[39;49m\u001B[43m,\u001B[49m\u001B[43m \u001B[49m\u001B[38;5;28;43;01mFalse\u001B[39;49;00m\u001B[43m)\u001B[49m\u001B[43m,\u001B[49m\n\u001B[32m   1886\u001B[39m \u001B[43m    \u001B[49m\u001B[43mis_text\u001B[49m\u001B[43m=\u001B[49m\u001B[43mis_text\u001B[49m\u001B[43m,\u001B[49m\n\u001B[32m   1887\u001B[39m \u001B[43m    \u001B[49m\u001B[43merrors\u001B[49m\u001B[43m=\u001B[49m\u001B[38;5;28;43mself\u001B[39;49m\u001B[43m.\u001B[49m\u001B[43moptions\u001B[49m\u001B[43m.\u001B[49m\u001B[43mget\u001B[49m\u001B[43m(\u001B[49m\u001B[33;43m\"\u001B[39;49m\u001B[33;43mencoding_errors\u001B[39;49m\u001B[33;43m\"\u001B[39;49m\u001B[43m,\u001B[49m\u001B[43m \u001B[49m\u001B[33;43m\"\u001B[39;49m\u001B[33;43mstrict\u001B[39;49m\u001B[33;43m\"\u001B[39;49m\u001B[43m)\u001B[49m\u001B[43m,\u001B[49m\n\u001B[32m   1888\u001B[39m \u001B[43m    \u001B[49m\u001B[43mstorage_options\u001B[49m\u001B[43m=\u001B[49m\u001B[38;5;28;43mself\u001B[39;49m\u001B[43m.\u001B[49m\u001B[43moptions\u001B[49m\u001B[43m.\u001B[49m\u001B[43mget\u001B[49m\u001B[43m(\u001B[49m\u001B[33;43m\"\u001B[39;49m\u001B[33;43mstorage_options\u001B[39;49m\u001B[33;43m\"\u001B[39;49m\u001B[43m,\u001B[49m\u001B[43m \u001B[49m\u001B[38;5;28;43;01mNone\u001B[39;49;00m\u001B[43m)\u001B[49m\u001B[43m,\u001B[49m\n\u001B[32m   1889\u001B[39m \u001B[43m\u001B[49m\u001B[43m)\u001B[49m\n\u001B[32m   1890\u001B[39m \u001B[38;5;28;01massert\u001B[39;00m \u001B[38;5;28mself\u001B[39m.handles \u001B[38;5;129;01mis\u001B[39;00m \u001B[38;5;129;01mnot\u001B[39;00m \u001B[38;5;28;01mNone\u001B[39;00m\n\u001B[32m   1891\u001B[39m f = \u001B[38;5;28mself\u001B[39m.handles.handle\n",
      "\u001B[36mFile \u001B[39m\u001B[32m~/.virtualenvs/dc/lib/python3.12/site-packages/pandas/io/common.py:873\u001B[39m, in \u001B[36mget_handle\u001B[39m\u001B[34m(path_or_buf, mode, encoding, compression, memory_map, is_text, errors, storage_options)\u001B[39m\n\u001B[32m    868\u001B[39m \u001B[38;5;28;01melif\u001B[39;00m \u001B[38;5;28misinstance\u001B[39m(handle, \u001B[38;5;28mstr\u001B[39m):\n\u001B[32m    869\u001B[39m     \u001B[38;5;66;03m# Check whether the filename is to be opened in binary mode.\u001B[39;00m\n\u001B[32m    870\u001B[39m     \u001B[38;5;66;03m# Binary mode does not support 'encoding' and 'newline'.\u001B[39;00m\n\u001B[32m    871\u001B[39m     \u001B[38;5;28;01mif\u001B[39;00m ioargs.encoding \u001B[38;5;129;01mand\u001B[39;00m \u001B[33m\"\u001B[39m\u001B[33mb\u001B[39m\u001B[33m\"\u001B[39m \u001B[38;5;129;01mnot\u001B[39;00m \u001B[38;5;129;01min\u001B[39;00m ioargs.mode:\n\u001B[32m    872\u001B[39m         \u001B[38;5;66;03m# Encoding\u001B[39;00m\n\u001B[32m--> \u001B[39m\u001B[32m873\u001B[39m         handle = \u001B[38;5;28;43mopen\u001B[39;49m\u001B[43m(\u001B[49m\n\u001B[32m    874\u001B[39m \u001B[43m            \u001B[49m\u001B[43mhandle\u001B[49m\u001B[43m,\u001B[49m\n\u001B[32m    875\u001B[39m \u001B[43m            \u001B[49m\u001B[43mioargs\u001B[49m\u001B[43m.\u001B[49m\u001B[43mmode\u001B[49m\u001B[43m,\u001B[49m\n\u001B[32m    876\u001B[39m \u001B[43m            \u001B[49m\u001B[43mencoding\u001B[49m\u001B[43m=\u001B[49m\u001B[43mioargs\u001B[49m\u001B[43m.\u001B[49m\u001B[43mencoding\u001B[49m\u001B[43m,\u001B[49m\n\u001B[32m    877\u001B[39m \u001B[43m            \u001B[49m\u001B[43merrors\u001B[49m\u001B[43m=\u001B[49m\u001B[43merrors\u001B[49m\u001B[43m,\u001B[49m\n\u001B[32m    878\u001B[39m \u001B[43m            \u001B[49m\u001B[43mnewline\u001B[49m\u001B[43m=\u001B[49m\u001B[33;43m\"\u001B[39;49m\u001B[33;43m\"\u001B[39;49m\u001B[43m,\u001B[49m\n\u001B[32m    879\u001B[39m \u001B[43m        \u001B[49m\u001B[43m)\u001B[49m\n\u001B[32m    880\u001B[39m     \u001B[38;5;28;01melse\u001B[39;00m:\n\u001B[32m    881\u001B[39m         \u001B[38;5;66;03m# Binary mode\u001B[39;00m\n\u001B[32m    882\u001B[39m         handle = \u001B[38;5;28mopen\u001B[39m(handle, ioargs.mode)\n",
      "\u001B[31mFileNotFoundError\u001B[39m: [Errno 2] No such file or directory: 'ScoobyDoo.csv'"
     ]
    }
   ],
   "execution_count": 148
  },
  {
   "cell_type": "code",
   "metadata": {
    "id": "44SyyeaiWBHn"
   },
   "source": [
    "teste1"
   ],
   "execution_count": null,
   "outputs": []
  },
  {
   "cell_type": "code",
   "metadata": {
    "id": "P8p6XNqvWBHp"
   },
   "source": [
    "teste2 = pd.read_csv('ScoobyDoo.csv', header=None)"
   ],
   "execution_count": null,
   "outputs": []
  },
  {
   "cell_type": "code",
   "metadata": {
    "id": "yQsK-QfdWBHr"
   },
   "source": [
    "teste2"
   ],
   "execution_count": null,
   "outputs": []
  },
  {
   "cell_type": "code",
   "metadata": {
    "id": "_NP5z-NHWBHw"
   },
   "source": [
    "# Exemplo: Obtendo informação do DataFrame\n",
    "teste1.info()"
   ],
   "execution_count": null,
   "outputs": []
  },
  {
   "cell_type": "code",
   "metadata": {
    "id": "zFVtATWgWBH0"
   },
   "source": [
    "teste3 = pd.read_csv('ScoobyDoo.csv', names=['Coluna 1', 'Coluna 2'])\n",
    "teste3"
   ],
   "execution_count": null,
   "outputs": []
  },
  {
   "cell_type": "code",
   "metadata": {
    "id": "KtONRktiWBH4"
   },
   "source": [
    "teste3.describe()"
   ],
   "execution_count": null,
   "outputs": []
  },
  {
   "cell_type": "markdown",
   "metadata": {
    "id": "Hyw9A08SWBH6"
   },
   "source": [
    "Exemplos de algumas possibilidades de cálculo com DataFrame"
   ]
  },
  {
   "cell_type": "code",
   "metadata": {
    "id": "XX_LzqaJWBH9"
   },
   "source": [
    "teste1['idade'].sum()"
   ],
   "execution_count": null,
   "outputs": []
  },
  {
   "cell_type": "code",
   "metadata": {
    "id": "yIZFrX3QWBIA"
   },
   "source": [
    "teste1['idade']>19"
   ],
   "execution_count": null,
   "outputs": []
  },
  {
   "cell_type": "code",
   "metadata": {
    "id": "p-fPGOdOWBII"
   },
   "source": [
    "# Exercício: Inclua uma coluna 'Sexo'no DataFrame teste1\n",
    "# Atribua o sexo adequadamente para os personagens\n",
    "# ('M'- masculino, 'F' - Feminino')\n",
    "# Calcule a média de idade dos personagens femininos\n"
   ],
   "execution_count": null,
   "outputs": []
  },
  {
   "cell_type": "code",
   "metadata": {
    "id": "SxM2wWLWWBIT"
   },
   "source": [
    "# Exercício: Inclua uma coluna 'Peso' no DataFrame teste1\n",
    "# Scooby - 40 kg\n",
    "# Salsicha - 55 kg\n",
    "# Fred  - 70 Kg\n",
    "#\n",
    "# Velma = None\n",
    "# Daphne = 50 Kg\n"
   ],
   "execution_count": null,
   "outputs": []
  },
  {
   "cell_type": "code",
   "metadata": {
    "id": "P2TJKcyJWBIY"
   },
   "source": [
    "# Exercício: Inclua uma coluna 'Altura' no DataFrame teste1\n",
    "# Scooby - 1.5m\n",
    "# Salsicha - 1.75m\n",
    "# Fred  - 1.80m\n",
    "#\n",
    "# Velma = 1.60m\n",
    "# Daphne = 1.65m"
   ],
   "execution_count": null,
   "outputs": []
  },
  {
   "cell_type": "code",
   "metadata": {
    "id": "1YunwzfXWBIc"
   },
   "source": [
    "# Exercício: Inclua uma coluna 'IMC' no DataFrame teste1\n",
    "# Preencha essa coluna com o valor de Índice de Massa Corporea dos personagens\n",
    "# Obtenha o personagem que tem a menor IMC"
   ],
   "execution_count": null,
   "outputs": []
  },
  {
   "cell_type": "markdown",
   "metadata": {
    "id": "NoR_8du_WBIe"
   },
   "source": [
    "### 3.2. Lendo arquivos via URL"
   ]
  },
  {
   "cell_type": "code",
   "metadata": {
    "id": "Y7hk_vB6WBIe"
   },
   "source": [
    "# arquivo do GitHub - Livro Handbook of data Science\n",
    "Estados_USA = pd.read_csv('https://raw.githubusercontent.com/jakevdp/PythonDataScienceHandbook/master/notebooks/data/state-population.csv')"
   ],
   "execution_count": null,
   "outputs": []
  },
  {
   "cell_type": "code",
   "metadata": {
    "id": "BwqnVeH5WBIg"
   },
   "source": [
    "Estados_USA"
   ],
   "execution_count": null,
   "outputs": []
  },
  {
   "cell_type": "markdown",
   "metadata": {
    "id": "bEDTOvRPWBIi"
   },
   "source": [
    "### 3.3. Salvando DataFrames como arquivos .csv, .xlx, etc"
   ]
  },
  {
   "cell_type": "code",
   "metadata": {
    "id": "_2xVh7XWWBIj"
   },
   "source": [
    "teste1.to_csv('teste4.csv')"
   ],
   "execution_count": null,
   "outputs": []
  },
  {
   "cell_type": "code",
   "metadata": {
    "id": "iNH0XCAlWBIl"
   },
   "source": [
    "#dataF.to_excel('nome_do_arquivo.xlsx', index=False)"
   ],
   "execution_count": null,
   "outputs": []
  },
  {
   "cell_type": "code",
   "metadata": {
    "id": "fL5uHJQxxB8a"
   },
   "source": [
    "from google.colab import files\n",
    "\n",
    "uploaded = files.upload()\n",
    "\n",
    "for fn in uploaded.keys():\n",
    "  print('User uploaded file \"{name}\" with length {length} bytes'.format(\n",
    "      name=fn, length=len(uploaded[fn])))"
   ],
   "execution_count": null,
   "outputs": []
  },
  {
   "cell_type": "code",
   "metadata": {
    "id": "r1c-wia0xWvs"
   },
   "source": [
    "import pandas as pd\n",
    "df = (pd.read_csv(\"births.csv\"))\n",
    "serie = pd.Series(df)\n",
    "serie"
   ],
   "execution_count": null,
   "outputs": []
  }
 ]
}
